{
  "cells": [
    {
      "cell_type": "markdown",
      "metadata": {
        "id": "view-in-github",
        "colab_type": "text"
      },
      "source": [
        "<a href=\"https://colab.research.google.com/github/digwit678/Can-Language-Models-Follow-Discussions/blob/main/probing_sw4_v5.ipynb\" target=\"_parent\"><img src=\"https://colab.research.google.com/assets/colab-badge.svg\" alt=\"Open In Colab\"/></a>"
      ]
    },
    {
      "cell_type": "code",
      "execution_count": null,
      "outputs": [],
      "source": [
        "# local path\n",
        "#pickle_file_path = \"../../../data_preparation/kialo_data/3_parsed_node_data/parsed_discussion_graphs.pickle\"\n",
        "#with open(pickle_file_path, 'rb') as f:\n",
        "   # parsed_discussion_graphs = pickle.load(f)"
      ],
      "metadata": {
        "ExecuteTime": {
          "end_time": "2023-10-02T18:51:38.884515800Z",
          "start_time": "2023-10-02T18:51:37.596275600Z"
        },
        "id": "initial_id"
      },
      "id": "initial_id"
    },
    {
      "cell_type": "code",
      "source": [
        "!pip install igraph"
      ],
      "metadata": {
        "colab": {
          "base_uri": "https://localhost:8080/"
        },
        "id": "m1x2K91QBpzr",
        "outputId": "b3435090-6069-469b-bd81-0da149a56791"
      },
      "id": "m1x2K91QBpzr",
      "execution_count": 1,
      "outputs": [
        {
          "output_type": "stream",
          "name": "stdout",
          "text": [
            "Collecting igraph\n",
            "  Downloading igraph-0.10.8-cp39-abi3-manylinux_2_17_x86_64.manylinux2014_x86_64.whl (3.3 MB)\n",
            "\u001b[2K     \u001b[90m━━━━━━━━━━━━━━━━━━━━━━━━━━━━━━━━━━━━━━━━\u001b[0m \u001b[32m3.3/3.3 MB\u001b[0m \u001b[31m19.2 MB/s\u001b[0m eta \u001b[36m0:00:00\u001b[0m\n",
            "\u001b[?25hCollecting texttable>=1.6.2 (from igraph)\n",
            "  Downloading texttable-1.7.0-py2.py3-none-any.whl (10 kB)\n",
            "Installing collected packages: texttable, igraph\n",
            "Successfully installed igraph-0.10.8 texttable-1.7.0\n"
          ]
        }
      ]
    },
    {
      "cell_type": "code",
      "source": [
        "from google.colab import drive\n",
        "\n",
        "drive.mount('/content/drive')\n"
      ],
      "metadata": {
        "colab": {
          "base_uri": "https://localhost:8080/"
        },
        "id": "KzcPYeYJPBuM",
        "outputId": "e0921e56-a561-4f98-fc52-117f2bf03dc4"
      },
      "id": "KzcPYeYJPBuM",
      "execution_count": 2,
      "outputs": [
        {
          "output_type": "stream",
          "name": "stdout",
          "text": [
            "Mounted at /content/drive\n"
          ]
        }
      ]
    },
    {
      "cell_type": "code",
      "execution_count": 3,
      "outputs": [],
      "source": [
        "import pickle\n",
        "import igraph as ig\n",
        "import numpy as np\n",
        "import matplotlib.pyplot as plt\n",
        "import pandas as pd"
      ],
      "metadata": {
        "ExecuteTime": {
          "end_time": "2023-10-03T10:31:33.992485Z",
          "start_time": "2023-10-03T10:31:31.717020400Z"
        },
        "id": "cddf4a4757c2bff2"
      },
      "id": "cddf4a4757c2bff2"
    },
    {
      "cell_type": "code",
      "source": [
        "base_path_gdrive = \"/content/drive/MyDrive/Can Language Models Follow Discussions?/\""
      ],
      "metadata": {
        "id": "RVyG4yH0_Nie"
      },
      "id": "RVyG4yH0_Nie",
      "execution_count": 60,
      "outputs": []
    },
    {
      "cell_type": "code",
      "source": [
        "def load_file(path_end, file_type):\n",
        "  \"\"\"\n",
        "  - path_end: provide number + file name\n",
        "\n",
        "  \"\"\"\n",
        "  base_path_gdrive = \"/content/drive/MyDrive/Can Language Models Follow Discussions?/\"\n",
        "  if file_type == \"p\":\n",
        "    with open (base_path_gdrive + path_end , 'rb') as f:\n",
        "        file_out = all_node_info = pickle.load(f)\n",
        "  else:\n",
        "        file_out = pd.read_csv(base_path_gdrive + path_end)\n",
        "  return file_out"
      ],
      "metadata": {
        "id": "Fe7JqQOHN25p"
      },
      "id": "Fe7JqQOHN25p",
      "execution_count": 101,
      "outputs": []
    },
    {
      "cell_type": "code",
      "source": [
        "def save_dataframe_to_drive(probing_example_nr, df, file_type='e', task_name='task'):\n",
        "    # Set the base path\n",
        "    base_path = f\"/content/drive/MyDrive/Can Language Models Follow Discussions?/{probing_example_nr}/final probing files/\"\n",
        "\n",
        "    # Create the filename\n",
        "    filename = f\"{probing_example_nr}_{task_name}_data\"\n",
        "\n",
        "    # Full file path\n",
        "    if file_type == 'p':\n",
        "        full_file_path = f\"{base_path}{filename}.pkl\"\n",
        "        df.to_pickle(full_file_path)\n",
        "    else:\n",
        "        full_file_path = f\"{base_path}{filename}.xlsx\"\n",
        "        df.to_excel(full_file_path, index=False)\n",
        "\n",
        "    print(f\"File saved at {full_file_path}\")\n",
        "\n",
        "# Example usage:\n",
        "# save_dataframe_to_drive(1, df, file_type='e', task_name='my_task')\n"
      ],
      "metadata": {
        "id": "1zE2Z9kSvT2Q"
      },
      "id": "1zE2Z9kSvT2Q",
      "execution_count": 4,
      "outputs": []
    },
    {
      "cell_type": "code",
      "source": [
        "def print_first_n_entries(dictionary, n, max_inner_items=5):\n",
        "    \"\"\"\n",
        "    Print the first 'n' entries of a nested dictionary, showing only the first 'max_inner_items' key-value pairs of the inner dictionary at each depth level.\n",
        "\n",
        "    Args:\n",
        "        dictionary (dict): The nested dictionary to print.\n",
        "        n (int): The number of entries to print.\n",
        "        max_inner_items (int): The maximum number of key-value pairs to print from the inner dictionary at each depth level.\n",
        "\n",
        "    Returns:\n",
        "        None\n",
        "    \"\"\"\n",
        "    def print_nested_dict(d, depth):\n",
        "        if depth >= max_depth:\n",
        "            return\n",
        "\n",
        "        for key, value in d.items():\n",
        "            if len(entries) >= n:\n",
        "                return\n",
        "\n",
        "            entries.append((key, value))\n",
        "            print(f\"Entry {len(entries)}:\")\n",
        "            print(f\"Key: {key}\")\n",
        "            print(\"Value:\")\n",
        "\n",
        "            if isinstance(value, dict):\n",
        "                sub_dict = {k: value[k] for k in list(value)[:max_inner_items]}\n",
        "                print_nested_dict(sub_dict, depth + 1)\n",
        "            else:\n",
        "                print(f\"  {value}\\n\")\n",
        "\n",
        "    max_depth = max_inner_items\n",
        "    entries = []\n",
        "\n",
        "    print_nested_dict(dictionary, 0)\n",
        "\n"
      ],
      "metadata": {
        "colab": {
          "base_uri": "https://localhost:8080/"
        },
        "id": "XoYn-ExmBoXG",
        "outputId": "8357a8e1-7a5f-476c-b2c6-b250d8b52f4f"
      },
      "id": "XoYn-ExmBoXG",
      "execution_count": 77,
      "outputs": [
        {
          "output_type": "stream",
          "name": "stdout",
          "text": [
            "Entry 1:\n",
            "Key: 0\n",
            "Value:\n",
            "Entry 2:\n",
            "Key: 0\n",
            "Value:\n",
            "Entry 3:\n",
            "Key: outgoing_nodes\n",
            "Value:\n",
            "  [151]\n",
            "\n",
            "Entry 4:\n",
            "Key: relations\n",
            "Value:\n",
            "  [0]\n",
            "\n",
            "Entry 5:\n",
            "Key: 1\n",
            "Value:\n",
            "Entry 6:\n",
            "Key: outgoing_nodes\n",
            "Value:\n",
            "  [2, 3, 10, 14, 29, 59, 100, 150, 154, 65]\n",
            "\n",
            "Entry 7:\n",
            "Key: relations\n",
            "Value:\n",
            "  [1, -1, -1, 1, 1, -1, -1, -1, 1, 1]\n",
            "\n",
            "Entry 8:\n",
            "Key: 2\n",
            "Value:\n",
            "Entry 9:\n",
            "Key: outgoing_nodes\n",
            "Value:\n",
            "  [151, 496, 497, 72, 79, 24]\n",
            "\n",
            "Entry 10:\n",
            "Key: relations\n",
            "Value:\n",
            "  [1, 1, 1, -1, -1, 1]\n",
            "\n"
          ]
        }
      ]
    },
    {
      "cell_type": "code",
      "execution_count": null,
      "outputs": [
        {
          "name": "stdout",
          "output_type": "stream",
          "text": [
            "total number of discussion graphs  17832\n"
          ]
        }
      ],
      "source": [
        "print(\"total number of discussion graphs \", len(parsed_discussion_graphs))"
      ],
      "metadata": {
        "ExecuteTime": {
          "end_time": "2023-10-02T18:51:38.911548400Z",
          "start_time": "2023-10-02T18:51:38.886548600Z"
        },
        "id": "b225c0c9d833cf49",
        "outputId": "b3982266-af40-4d05-f1f1-1f92506ebe23"
      },
      "id": "b225c0c9d833cf49"
    },
    {
      "cell_type": "code",
      "execution_count": null,
      "outputs": [],
      "source": [
        "print(\"First Discussion: Overview\", parsed_discussion_graphs[0][0:5])\n"
      ],
      "metadata": {
        "ExecuteTime": {
          "end_time": "2023-10-02T18:51:39.088758500Z",
          "start_time": "2023-10-02T18:51:38.900517100Z"
        },
        "id": "b74ef1402ab1ffd3"
      },
      "id": "b74ef1402ab1ffd3"
    },
    {
      "cell_type": "code",
      "execution_count": null,
      "outputs": [
        {
          "name": "stdout",
          "output_type": "stream",
          "text": [
            "each discussion is a sequential igraph object storing edges (relations) and nodes (content) per claim:  <igraph.seq.VertexSeq object at 0x000001F4CA8670B0>\n"
          ]
        }
      ],
      "source": [
        "print(\"each discussion is a sequential igraph object storing edges (relations) and nodes (content) per claim: \",\n",
        "      parsed_discussion_graphs[0].vs)"
      ],
      "metadata": {
        "ExecuteTime": {
          "end_time": "2023-10-02T18:51:39.109798600Z",
          "start_time": "2023-10-02T18:51:39.087763700Z"
        },
        "id": "6747f419eb9a929a",
        "outputId": "8b64944d-a267-4fde-facf-9891961c6398"
      },
      "id": "6747f419eb9a929a"
    },
    {
      "cell_type": "markdown",
      "source": [
        "# Data Structure"
      ],
      "metadata": {
        "id": "jX7HOI1DIgDo"
      },
      "id": "jX7HOI1DIgDo"
    },
    {
      "cell_type": "markdown",
      "source": [
        "General ID-Structure: [DiscussionID . ClaimID], claim_ids are not always in chronological order (so it not always follows 0.2 on 0.1)\n",
        "Some ID´s are also skipped / missing / deleted\n"
      ],
      "metadata": {
        "collapsed": false,
        "id": "5030846be76c5b86"
      },
      "id": "5030846be76c5b86"
    },
    {
      "cell_type": "markdown",
      "source": [
        "## Claim Level\n",
        "\n",
        "Claims are accessed on the igraph object by the \".vs\" - attribute.\n",
        "\n",
        "For each claim it is possible to access its node-attributes (claim id and content) and its edge-attribute (relation)\n",
        "\n",
        "For each claim-node 2 attributes are stored:\n",
        "- id : the claims id\n",
        "- text : the claims content\n"
      ],
      "metadata": {
        "collapsed": false,
        "id": "8853aa8cb0718b57"
      },
      "id": "8853aa8cb0718b57"
    },
    {
      "cell_type": "code",
      "execution_count": null,
      "outputs": [
        {
          "name": "stdout",
          "output_type": "stream",
          "text": [
            "to see the objects more clearly let´s print the first discussion´s nodes in readable format with the help of the name attribute (selected number= 20 ) : \n",
            "\n",
            " [{'id': '333.0', 'text': 'Anonymous currency discussions'}, {'id': '333.1', 'text': 'An anonymous untrackable digital currency \\\\(ADC\\\\), like Bitcoin, is beneficial for civilized societies.'}, {'id': '333.2', 'text': \"Cash is a necessary part of any functional society's economic model and cryptocurrencies are an easier and online-ready form of cash. They are the natural progression of what money is becoming in the digital age.\"}, {'id': '333.3', 'text': 'Most ordinary citizens would not use such a currency anyway, rendering all potential benefits moot.'}, {'id': '333.4', 'text': 'Most people pay taxes and banks report all their in/outflows above certain limits.'}, {'id': '333.5', 'text': 'Cryptocurrencies are not like cash.'}, {'id': '333.7', 'text': 'If people really wanted anonymity, they would use more cash and make less use of credit and debit cards.'}, {'id': '333.9', 'text': 'Cryptocurrencies make money laundering much easier.'}, {'id': '333.10', 'text': 'Civilized societies try to exterminate money laundering.'}, {'id': '333.11', 'text': 'Cryptocurrencies make black market labor much easier.'}, {'id': '333.12', 'text': 'Cryptocurrencies enable or encourage illegal activities.'}, {'id': '333.14', 'text': 'Today illegal activities are mostly paid for using cash or anonymous bank accounts in shady places, which is costly and complicated - cryptocurrencies make this much simpler.'}, {'id': '333.15', 'text': 'Handling large stashes of cash is cumbersome and it is difficult to use this money in the normal economy.'}, {'id': '333.16', 'text': 'Money in anonymous bank accounts is very difficult to use legally. It first has to be laundered, which is complex and costly.'}, {'id': '333.17', 'text': 'Cryptocurrencies allow for the purchase of items or services that are not forbidden, but are perhaps embarrassing or confidential.'}, {'id': '333.18', 'text': 'Given the social stigma attached to some mental health issues such as depression or bipolar disorder, people might prefer to buy relevant medication anonymously to avoid social repercussions.'}, {'id': '333.19', 'text': 'Buying porn online is legal, yet many people might prefer there not being a record of it since it can be considered embarassing.'}, {'id': '333.20', 'text': 'In countries where sex work is legal, there might still be [social stigma](https://theconversation.com/the-stigma-of-sex-work-comes-with-a-high-cost-79657) attached to it. Hence, both sex workers and their customers might prefer to not have their transactions tracked.'}, {'id': '333.21', 'text': 'This market exists, not because it is shameful to buy Prozac regularly, which you can, with a prescription, but because people who do not need it want to use Prozac.'}, {'id': '333.22', 'text': 'It is not necessary to pay money to watch porn online.'}]\n"
          ]
        }
      ],
      "source": [
        "print(\n",
        "    \"to see the objects more clearly let´s print the first discussion´s nodes in readable format with the help of the name attribute (selected number=\",\n",
        "    len(parsed_discussion_graphs[0].vs[\"name\"][0:20]), \") : \\n\\n\",\n",
        "    parsed_discussion_graphs[0].vs[\"name\"][0:20])"
      ],
      "metadata": {
        "ExecuteTime": {
          "end_time": "2023-10-02T18:51:39.208206700Z",
          "start_time": "2023-10-02T18:51:39.102758400Z"
        },
        "id": "169ede346c6659a7",
        "outputId": "769a9fc0-4de7-43d7-8522-7ff91ff15f0c"
      },
      "id": "169ede346c6659a7"
    },
    {
      "cell_type": "code",
      "execution_count": null,
      "outputs": [
        {
          "name": "stdout",
          "output_type": "stream",
          "text": [
            "333.0\n"
          ]
        }
      ],
      "source": [
        "# accessing id\n",
        "print(parsed_discussion_graphs[0].vs[\"name\"][0][\"id\"])"
      ],
      "metadata": {
        "ExecuteTime": {
          "end_time": "2023-10-02T18:51:39.256245200Z",
          "start_time": "2023-10-02T18:51:39.165207100Z"
        },
        "id": "e9bd3eb50bbd500b",
        "outputId": "5913ca24-062d-452a-cdf1-2ce494867269"
      },
      "id": "e9bd3eb50bbd500b"
    },
    {
      "cell_type": "code",
      "execution_count": null,
      "outputs": [
        {
          "name": "stdout",
          "output_type": "stream",
          "text": [
            "Anonymous currency discussions\n"
          ]
        }
      ],
      "source": [
        "# accessing text\n",
        "print(parsed_discussion_graphs[0].vs[\"name\"][0][\"text\"])"
      ],
      "metadata": {
        "ExecuteTime": {
          "end_time": "2023-10-02T18:51:39.380929800Z",
          "start_time": "2023-10-02T18:51:39.228207600Z"
        },
        "id": "c6a1f0500a14facc",
        "outputId": "33ea9cd1-24ff-41a7-c024-74ac3289f9d8"
      },
      "id": "c6a1f0500a14facc"
    },
    {
      "cell_type": "markdown",
      "source": [
        "For each edge (relation) we can access its target and source nodes , its relation type and its edge_id.\n",
        "One edge is always a relation between 2 claims."
      ],
      "metadata": {
        "collapsed": false,
        "id": "87dffbdb619ca627"
      },
      "id": "87dffbdb619ca627"
    },
    {
      "cell_type": "code",
      "execution_count": null,
      "outputs": [
        {
          "name": "stdout",
          "output_type": "stream",
          "text": [
            "1st edge (edge 0)  igraph.Edge(<igraph.Graph object at 0x000001F4C6A1EB40>, 0, {'relation': 1})\n",
            "2nd edge (edge 1)  igraph.Edge(<igraph.Graph object at 0x000001F4C6A1EB40>, 1, {'relation': -1})\n"
          ]
        }
      ],
      "source": [
        "edge_example = parsed_discussion_graphs[0].es[0]\n",
        "print(\"1st edge (edge 0) \", edge_example)\n",
        "print(\"2nd edge (edge 1) \", parsed_discussion_graphs[0].es[1])"
      ],
      "metadata": {
        "ExecuteTime": {
          "end_time": "2023-10-02T18:51:39.390965100Z",
          "start_time": "2023-10-02T18:51:39.293519100Z"
        },
        "id": "33e3827b09444a4f",
        "outputId": "c4d1a802-122c-4fb0-833a-06d0073c51ff"
      },
      "id": "33e3827b09444a4f"
    },
    {
      "cell_type": "code",
      "execution_count": null,
      "outputs": [
        {
          "name": "stdout",
          "output_type": "stream",
          "text": [
            "The type of the 1st relation. 1 is pro and -1 is con: 1\n"
          ]
        }
      ],
      "source": [
        "print(\"The type of the 1st relation. 1 is pro and -1 is con:\", parsed_discussion_graphs[0].es[0][\"relation\"])"
      ],
      "metadata": {
        "ExecuteTime": {
          "end_time": "2023-10-02T18:51:39.538388500Z",
          "start_time": "2023-10-02T18:51:39.353915500Z"
        },
        "id": "a3ad6e81bbc655d3",
        "outputId": "79f3e552-bf05-4a95-a009-b429bbd685ed"
      },
      "id": "a3ad6e81bbc655d3"
    },
    {
      "cell_type": "code",
      "execution_count": null,
      "outputs": [
        {
          "name": "stdout",
          "output_type": "stream",
          "text": [
            "the node/claim, from where the 1st relation comes from: igraph.Vertex(<igraph.Graph object at 0x000001F4C6A1EB40>, 1, {'name': {'id': '333.1', 'text': 'An anonymous untrackable digital currency \\\\(ADC\\\\), like Bitcoin, is beneficial for civilized societies.'}})\n",
            "\n",
            "access only claim_id of the source_claim (so claim id of 222.5 is 5):  1\n",
            "access full id of the source claim: 333.1\n"
          ]
        }
      ],
      "source": [
        "# the node/vertex, where the relation comes from\n",
        "print(\"the node/claim, from where the 1st relation comes from: \\n\", edge_example.source_vertex)\n",
        "print()\n",
        "print(\"access only claim_id of the source_claim (so claim id of 222.5 is 5): \\n\", edge_example.source)\n",
        "print(\"access full id of the source claim: \\n\", edge_example.source_vertex[\"name\"][\"id\"])"
      ],
      "metadata": {
        "ExecuteTime": {
          "end_time": "2023-10-02T18:51:39.578014900Z",
          "start_time": "2023-10-02T18:51:39.415962300Z"
        },
        "id": "b4775823f5b36429",
        "outputId": "e3dca2e3-9fdc-4194-b132-a6d0bae79547"
      },
      "id": "b4775823f5b36429"
    },
    {
      "cell_type": "code",
      "execution_count": null,
      "outputs": [
        {
          "name": "stdout",
          "output_type": "stream",
          "text": [
            "the node, to where the 1st relation goes to  igraph.Vertex(<igraph.Graph object at 0x000001F4C6A1EB40>, 2, {'name': {'id': '333.2', 'text': \"Cash is a necessary part of any functional society's economic model and cryptocurrencies are an easier and online-ready form of cash. They are the natural progression of what money is becoming in the digital age.\"}})\n",
            "\n",
            "claim id of the target claim:  2\n",
            "access full id of the target claim: 333.1\n"
          ]
        }
      ],
      "source": [
        "''  # the node where the relation goes to\n",
        "print(\"the node, to where the 1st relation goes to \\n\", edge_example.target_vertex)\n",
        "print()\n",
        "print(\"claim id of the target claim: \", edge_example.target)\n",
        "print(\"access full id of the target claim:\", edge_example.source_vertex[\"name\"][\"id\"])"
      ],
      "metadata": {
        "ExecuteTime": {
          "end_time": "2023-10-02T18:51:39.579008500Z",
          "start_time": "2023-10-02T18:51:39.462971200Z"
        },
        "id": "2a62de55e39f71c1",
        "outputId": "0f9f1c29-8a75-4112-eded-92adfed7d3ae"
      },
      "id": "2a62de55e39f71c1"
    },
    {
      "cell_type": "code",
      "execution_count": null,
      "outputs": [
        {
          "name": "stdout",
          "output_type": "stream",
          "text": [
            "access claim_id tuple of source and target claim (source,target):  (1, 2)\n"
          ]
        }
      ],
      "source": [
        "print(\"access claim_id tuple of source and target claim (source,target): \", edge_example.tuple)"
      ],
      "metadata": {
        "ExecuteTime": {
          "end_time": "2023-10-02T18:51:39.738273900Z",
          "start_time": "2023-10-02T18:51:39.526391800Z"
        },
        "id": "15d102ef77603201",
        "outputId": "d4141813-79c1-416d-d92e-b982775498a9"
      },
      "id": "15d102ef77603201"
    },
    {
      "cell_type": "markdown",
      "source": [
        "## Data Cleaning 2: Removing empty nodes & duplicates\n",
        "\n",
        "### Further investigating the .0 claim id\n",
        "\n",
        "- already known by random sample inspection: a lot of claims have the text 'Please enter the multiple choice question.' as their first claim (in .0 position) and this claim can be removed since it is not a real claim"
      ],
      "metadata": {
        "collapsed": false,
        "id": "f0579b62e77eac7"
      },
      "id": "f0579b62e77eac7"
    },
    {
      "cell_type": "code",
      "execution_count": null,
      "outputs": [
        {
          "data": {
            "text/plain": "{'id': '444.0', 'text': 'Please enter the multiple choice question.'}"
          },
          "execution_count": 14,
          "metadata": {},
          "output_type": "execute_result"
        }
      ],
      "source": [
        "{'id': '444.0', 'text': 'Please enter the multiple choice question.'}"
      ],
      "metadata": {
        "ExecuteTime": {
          "end_time": "2023-10-02T18:51:39.751312800Z",
          "start_time": "2023-10-02T18:51:39.590010100Z"
        },
        "id": "402604467f44132",
        "outputId": "4ef26897-6dea-43d7-aaeb-0ac95dd3c76e"
      },
      "id": "402604467f44132"
    },
    {
      "cell_type": "code",
      "execution_count": null,
      "outputs": [],
      "source": [
        "noise_start_claim_texts = []\n",
        "errors = []"
      ],
      "metadata": {
        "ExecuteTime": {
          "end_time": "2023-10-02T18:51:39.802864100Z",
          "start_time": "2023-10-02T18:51:39.651701Z"
        },
        "id": "cb1f222019ea3aa0"
      },
      "id": "cb1f222019ea3aa0"
    },
    {
      "cell_type": "code",
      "execution_count": null,
      "outputs": [],
      "source": [
        "for i in range(len(parsed_discussion_graphs)):\n",
        "    graph = parsed_discussion_graphs[i]\n",
        "\n",
        "    if graph is not None:\n",
        "        if hasattr(graph, 'vs') and len(graph.vs) > 0:\n",
        "            try:\n",
        "                if graph.vs[\"name\"][0][\"text\"] == 'Please enter the multiple choice question.' or graph.vs[\"name\"][0][\n",
        "                    \"text\"] == '' or graph.vs[\"name\"][0][\"text\"] is None:\n",
        "                    print(graph.vs[\"name\"][0][\"text\"])\n",
        "                    print(\"--------------------------------------------------\")\n",
        "                    noise_start_claim_texts.append((graph.vs[\"name\"][0][\"id\"],\n",
        "                                                    graph.vs[\"name\"][0][\"text\"],\n",
        "                                                    graph))\n",
        "            except KeyError:\n",
        "                print(f\"KeyError encountered for graph at index {i}\")\n",
        "                errors.append((parsed_discussion_graphs[i], \"KeyError\"))\n",
        "        else:\n",
        "            print(f\"Graph at index {i} has no vertices.\")\n",
        "            errors.append((parsed_discussion_graphs[i], \"has no vertices\"))\n",
        "    else:\n",
        "        print(f\"Graph at index {i} is None.\")\n",
        "        errors.append((parsed_discussion_graphs[i], \"None\"))\n"
      ],
      "metadata": {
        "ExecuteTime": {
          "end_time": "2023-10-02T18:51:40.027136100Z",
          "start_time": "2023-10-02T18:51:39.702272200Z"
        },
        "id": "e26fbb15f6b59882"
      },
      "id": "e26fbb15f6b59882"
    },
    {
      "cell_type": "code",
      "execution_count": null,
      "outputs": [
        {
          "name": "stdout",
          "output_type": "stream",
          "text": [
            "Number of discussions with noise ('' or Multiple Choice Question) at position vs[name][0] for claim content and claim id:  14637\n",
            "Number of discussions with Errors (KeyError,None,No Vertices):  851\n"
          ]
        }
      ],
      "source": [
        "print(\n",
        "    \"Number of discussions with noise ('' or Multiple Choice Question) at position vs[\"\"name\"\"][0] for claim content and claim id: \",\n",
        "    len(noise_start_claim_texts))\n",
        "print(\"Number of discussions with Errors (KeyError,None,No Vertices): \", len(errors))"
      ],
      "metadata": {
        "ExecuteTime": {
          "end_time": "2023-10-02T18:51:40.027136100Z",
          "start_time": "2023-10-02T18:51:39.961451500Z"
        },
        "id": "55689ac6391943f2",
        "outputId": "8b2f0b1a-a183-4575-85d6-a5eba3bc40e4"
      },
      "id": "55689ac6391943f2"
    },
    {
      "cell_type": "markdown",
      "source": [
        "since graphs in errors folder have no further use, all graphs in errors can be entirely removed"
      ],
      "metadata": {
        "collapsed": false,
        "id": "60bcd15149f4e77e"
      },
      "id": "60bcd15149f4e77e"
    },
    {
      "cell_type": "markdown",
      "source": [
        "for the noisy .0 positions we just remove this position"
      ],
      "metadata": {
        "collapsed": false,
        "id": "440057b925a2d504"
      },
      "id": "440057b925a2d504"
    },
    {
      "cell_type": "code",
      "execution_count": null,
      "outputs": [
        {
          "name": "stdout",
          "output_type": "stream",
          "text": [
            "631841 17832\n"
          ]
        }
      ],
      "source": [
        "# Length before cleaning\n",
        "original_len_nodes = sum(len(graph.vs) if graph is not None else 0 for graph in parsed_discussion_graphs)\n",
        "original_len_graphs = len(parsed_discussion_graphs)\n",
        "print(original_len_nodes, original_len_graphs)"
      ],
      "metadata": {
        "ExecuteTime": {
          "end_time": "2023-10-02T18:51:48.414147300Z",
          "start_time": "2023-10-02T18:51:48.289561600Z"
        },
        "id": "f4b71be8d374088c",
        "outputId": "ea241e55-313e-419d-ff75-0194c0f545fe"
      },
      "id": "f4b71be8d374088c"
    },
    {
      "cell_type": "code",
      "execution_count": null,
      "outputs": [],
      "source": [
        "import pickle\n",
        "\n",
        "# Step 1: Identify IDs and Indices to Remove\n",
        "ids_to_remove = set([entry[0] for entry in noise_start_claim_texts])\n",
        "indices_to_remove = set([parsed_discussion_graphs.index(entry[0]) for entry in errors if entry[0] is not None])\n",
        "\n",
        "# Step 2: Iterate Through Graphs and Remove Noise and Errors\n",
        "cleaned_graphs = []\n",
        "for i, graph in enumerate(parsed_discussion_graphs):\n",
        "    if i in indices_to_remove:\n",
        "        continue  # Skip graphs that are in the errors list\n",
        "    if graph is not None:\n",
        "        if hasattr(graph, 'vs') and len(graph.vs) > 0:\n",
        "            try:\n",
        "                node_id = graph.vs[\"name\"][0][\"id\"]\n",
        "                if node_id in ids_to_remove:\n",
        "                    graph.delete_vertices(0)\n",
        "                cleaned_graphs.append(graph)\n",
        "            except KeyError:\n",
        "                continue\n",
        "\n",
        "# Step 3: Save Cleaned Data\n",
        "with open(\"cleaned_parsed_discussion_graphs.pkl\", \"wb\") as f:\n",
        "    pickle.dump(cleaned_graphs, f)\n"
      ],
      "metadata": {
        "ExecuteTime": {
          "end_time": "2023-10-02T18:51:50.464942700Z",
          "start_time": "2023-10-02T18:51:48.354558700Z"
        },
        "id": "f2dc4b1368e1f2ad"
      },
      "id": "f2dc4b1368e1f2ad"
    },
    {
      "cell_type": "code",
      "execution_count": null,
      "outputs": [
        {
          "name": "stdout",
          "output_type": "stream",
          "text": [
            "Removed graphs: 851, should be around 800\n",
            "Removed nodes: 14637, should be around 14000\n"
          ]
        }
      ],
      "source": [
        "# Length after cleaning\n",
        "cleaned_len_graphs = len(cleaned_graphs)\n",
        "cleaned_len_nodes = sum(len(graph.vs) for graph in cleaned_graphs)\n",
        "\n",
        "# Calculate the number of removed graphs and nodes\n",
        "removed_graphs = original_len_graphs - cleaned_len_graphs\n",
        "removed_nodes = original_len_nodes - cleaned_len_nodes\n",
        "\n",
        "print(f\"Removed graphs: {removed_graphs}, should be around 800\")\n",
        "print(f\"Removed nodes: {removed_nodes}, should be around 14000\")"
      ],
      "metadata": {
        "ExecuteTime": {
          "end_time": "2023-10-02T18:51:50.483475500Z",
          "start_time": "2023-10-02T18:51:50.467953300Z"
        },
        "id": "9d6cc38864729715",
        "outputId": "8c7427c9-1d27-4dc8-92a4-30e432c8f031"
      },
      "id": "9d6cc38864729715"
    },
    {
      "cell_type": "code",
      "execution_count": null,
      "outputs": [
        {
          "name": "stdout",
          "output_type": "stream",
          "text": [
            "number of empty nodes removed): 16981\n"
          ]
        }
      ],
      "source": [
        "# remove empty graphs (v1)\n",
        "\n",
        "# Initialize a list to keep track of cleaned graphs\n",
        "cleaned_graphs_v2 = []\n",
        "\n",
        "# Traverse through each graph in the cleaned_graphs list\n",
        "for graph in cleaned_graphs:\n",
        "    if graph is None:\n",
        "        cleaned_graphs_v2.append(None)\n",
        "        continue\n",
        "\n",
        "    # Identify vertices to remove based on empty or None 'id' and 'text'\n",
        "    remove_indices = [v.index for v in graph.vs if\n",
        "                      not graph.vs[\"name\"][v.index][\"id\"] or graph.vs[\"name\"][v.index][\"id\"] == '' or\n",
        "                      not graph.vs[\"name\"][v.index][\"text\"] or graph.vs[\"name\"][v.index][\"text\"] == '']\n",
        "\n",
        "    # Create a new graph with the vertices removed\n",
        "    new_graph = graph.subgraph([v.index for v in graph.vs if v.index not in remove_indices])\n",
        "\n",
        "    cleaned_graphs_v2.append(new_graph)\n",
        "\n",
        "# Now cleaned_graphs_v2 contains graphs with empty or None 'id' and 'text' vertices removed\n",
        "print(\"number of nodes remaining:\", len(cleaned_graphs_v2),\"/\",original_len_graphs) # todo reexectute\n"
      ],
      "metadata": {
        "ExecuteTime": {
          "end_time": "2023-10-02T18:52:16.585026500Z",
          "start_time": "2023-10-02T18:51:50.483475500Z"
        },
        "id": "83286b3eda3de86a",
        "outputId": "0ae23ca3-d6a8-4410-cdf9-95bd885692f9"
      },
      "id": "83286b3eda3de86a"
    },
    {
      "cell_type": "markdown",
      "source": [
        "Save the cleaned_graphs_v2 list to a pickle file for future use  \n",
        "\n",
        "\n",
        "\n",
        "```\n",
        "import pickle\n",
        "\n",
        "cleaned_graphs_path_v2 = \"cleaned_graphs_v2.pkl\"\n",
        "\n",
        "with open(cleaned_graphs_path_v2, \"wb\") as f:\n",
        "    pickle.dump(cleaned_graphs_v2, f)\n",
        "\n",
        "cleaned_graphs_path_v2\n",
        "```\n",
        "\n",
        "\n"
      ],
      "metadata": {
        "collapsed": false,
        "id": "b6644b2372e08e32"
      },
      "id": "b6644b2372e08e32"
    },
    {
      "cell_type": "code",
      "execution_count": null,
      "outputs": [],
      "source": [
        "# local code\n",
        "cleaned_graphs_path_v3 = \"cleaned_graphs_v3.pkl\"\n",
        "with open(cleaned_graphs_path_v3, 'rb') as f:\n",
        "    cleaned_graphs_v3 = pickle.load(f)\n"
      ],
      "metadata": {
        "ExecuteTime": {
          "start_time": "2023-10-03T11:22:23.589857200Z"
        },
        "id": "b282aa90d05f18f9"
      },
      "id": "b282aa90d05f18f9"
    },
    {
      "cell_type": "code",
      "source": [
        "# colab\n",
        "import pickle\n",
        "with open('/content/drive/MyDrive/Can Language Models Follow Discussions?/Data - kialo.com/cleaned_graphs_v3.pkl', 'rb') as f:\n",
        "    cleaned_graphs_v3 = pickle.load(f)"
      ],
      "metadata": {
        "id": "bV1ACsfK2QjU"
      },
      "id": "bV1ACsfK2QjU",
      "execution_count": null,
      "outputs": []
    },
    {
      "cell_type": "markdown",
      "source": [
        "Converting text ids to float numbers for faster access"
      ],
      "metadata": {
        "id": "kMdkqnxSOYAg"
      },
      "id": "kMdkqnxSOYAg"
    },
    {
      "cell_type": "code",
      "execution_count": null,
      "outputs": [
        {
          "name": "stdout",
          "output_type": "stream",
          "text": [
            "claim id:  <class 'str'> edges :  <class 'igraph.Edge'>  relation type :  <class 'int'> source vertex id:  <class 'str'> target vertex id:   <class 'str'>\n"
          ]
        }
      ],
      "source": [
        "# examine datatypes\n",
        "print(\"claim id: \", type(cleaned_graphs_v3[0].vs[\"name\"][0][\"id\"]), \"edges : \", type(cleaned_graphs_v3[0].es[0]),\n",
        "      \" relation type : \", type(cleaned_graphs_v3[0].es[0][\"relation\"]), \"source vertex id: \",\n",
        "      type(cleaned_graphs_v3[0].es[0].source_vertex[\"name\"][\"id\"]), \"target vertex id:  \",\n",
        "      type(cleaned_graphs_v3[0].es[0].target_vertex[\"name\"][\"id\"]))"
      ],
      "metadata": {
        "ExecuteTime": {
          "end_time": "2023-10-03T11:54:36.867275400Z",
          "start_time": "2023-10-03T11:54:36.410752Z"
        },
        "id": "8826b6cc6cf2a301",
        "outputId": "fd02578c-357f-45c1-e3b8-ee4e8a136765"
      },
      "id": "8826b6cc6cf2a301"
    },
    {
      "cell_type": "code",
      "source": [
        "\"\"\"def convert_ids_to_float(graphs):\n",
        "    for graph in graphs:\n",
        "        # Convert vertex IDs\n",
        "        for vertex in graph.vs:\n",
        "            vertex[\"name\"][\"id\"] = float(vertex[\"name\"][\"id\"])\n",
        "\n",
        "        # Convert edge source and target IDs\n",
        "        for edge in graph.es:\n",
        "            source_idx = edge.source\n",
        "            target_idx = edge.target\n",
        "            graph.es[source_idx].source_vertex[\"name\"][\"id\"] = float(graph.es[source_idx].source_vertex[\"name\"][\"id\"])\n",
        "            if (graph.es[target_idx] and graph.es[target_idx]):\n",
        "              graph.es[target_idx].target_vertex[\"name\"][\"id\"] = float(graph.es[target_idx].target_vertex[\"name\"][\"id\"])\n",
        "              graph.vs[source_idx][\"name\"][\"id\"] = float(graph.vs[source_idx][\"name\"][\"id\"])\n",
        "              graph.vs[target_idx][\"name\"][\"id\"] = float(graph.vs[target_idx][\"name\"][\"id\"])\n",
        "    return graphs\n",
        "\n",
        "\n",
        "# Assuming cleaned_graphs_v2 contains your list of graphs\n",
        "cleaned_graphs_v4 = convert_ids_to_float(cleaned_graphs_v3) \"\"\""
      ],
      "metadata": {
        "id": "WuW51-l443KC",
        "colab": {
          "base_uri": "https://localhost:8080/",
          "height": 332
        },
        "outputId": "f77eebd6-6277-4bdd-c01c-f673073bcaba"
      },
      "id": "WuW51-l443KC",
      "execution_count": 41,
      "outputs": [
        {
          "output_type": "error",
          "ename": "IndexError",
          "evalue": "ignored",
          "traceback": [
            "\u001b[0;31m---------------------------------------------------------------------------\u001b[0m",
            "\u001b[0;31mIndexError\u001b[0m                                Traceback (most recent call last)",
            "\u001b[0;32m<ipython-input-41-6512d69a1b6d>\u001b[0m in \u001b[0;36m<cell line: 20>\u001b[0;34m()\u001b[0m\n\u001b[1;32m     18\u001b[0m \u001b[0;34m\u001b[0m\u001b[0m\n\u001b[1;32m     19\u001b[0m \u001b[0;31m# Assuming cleaned_graphs_v2 contains your list of graphs\u001b[0m\u001b[0;34m\u001b[0m\u001b[0;34m\u001b[0m\u001b[0m\n\u001b[0;32m---> 20\u001b[0;31m \u001b[0mcleaned_graphs_v4\u001b[0m \u001b[0;34m=\u001b[0m \u001b[0mconvert_ids_to_float\u001b[0m\u001b[0;34m(\u001b[0m\u001b[0mcleaned_graphs_v3\u001b[0m\u001b[0;34m)\u001b[0m\u001b[0;34m\u001b[0m\u001b[0;34m\u001b[0m\u001b[0m\n\u001b[0m",
            "\u001b[0;32m<ipython-input-41-6512d69a1b6d>\u001b[0m in \u001b[0;36mconvert_ids_to_float\u001b[0;34m(graphs)\u001b[0m\n\u001b[1;32m     10\u001b[0m             \u001b[0mtarget_idx\u001b[0m \u001b[0;34m=\u001b[0m \u001b[0medge\u001b[0m\u001b[0;34m.\u001b[0m\u001b[0mtarget\u001b[0m\u001b[0;34m\u001b[0m\u001b[0;34m\u001b[0m\u001b[0m\n\u001b[1;32m     11\u001b[0m             \u001b[0mgraph\u001b[0m\u001b[0;34m.\u001b[0m\u001b[0mes\u001b[0m\u001b[0;34m[\u001b[0m\u001b[0msource_idx\u001b[0m\u001b[0;34m]\u001b[0m\u001b[0;34m.\u001b[0m\u001b[0msource_vertex\u001b[0m\u001b[0;34m[\u001b[0m\u001b[0;34m\"name\"\u001b[0m\u001b[0;34m]\u001b[0m\u001b[0;34m[\u001b[0m\u001b[0;34m\"id\"\u001b[0m\u001b[0;34m]\u001b[0m \u001b[0;34m=\u001b[0m \u001b[0mfloat\u001b[0m\u001b[0;34m(\u001b[0m\u001b[0mgraph\u001b[0m\u001b[0;34m.\u001b[0m\u001b[0mes\u001b[0m\u001b[0;34m[\u001b[0m\u001b[0msource_idx\u001b[0m\u001b[0;34m]\u001b[0m\u001b[0;34m.\u001b[0m\u001b[0msource_vertex\u001b[0m\u001b[0;34m[\u001b[0m\u001b[0;34m\"name\"\u001b[0m\u001b[0;34m]\u001b[0m\u001b[0;34m[\u001b[0m\u001b[0;34m\"id\"\u001b[0m\u001b[0;34m]\u001b[0m\u001b[0;34m)\u001b[0m\u001b[0;34m\u001b[0m\u001b[0;34m\u001b[0m\u001b[0m\n\u001b[0;32m---> 12\u001b[0;31m             \u001b[0;32mif\u001b[0m \u001b[0;34m(\u001b[0m\u001b[0mgraph\u001b[0m\u001b[0;34m.\u001b[0m\u001b[0mes\u001b[0m\u001b[0;34m[\u001b[0m\u001b[0mtarget_idx\u001b[0m\u001b[0;34m]\u001b[0m \u001b[0;32mand\u001b[0m \u001b[0mgraph\u001b[0m\u001b[0;34m.\u001b[0m\u001b[0mes\u001b[0m\u001b[0;34m[\u001b[0m\u001b[0mtarget_idx\u001b[0m\u001b[0;34m]\u001b[0m\u001b[0;34m)\u001b[0m\u001b[0;34m:\u001b[0m\u001b[0;34m\u001b[0m\u001b[0;34m\u001b[0m\u001b[0m\n\u001b[0m\u001b[1;32m     13\u001b[0m               \u001b[0mgraph\u001b[0m\u001b[0;34m.\u001b[0m\u001b[0mes\u001b[0m\u001b[0;34m[\u001b[0m\u001b[0mtarget_idx\u001b[0m\u001b[0;34m]\u001b[0m\u001b[0;34m.\u001b[0m\u001b[0mtarget_vertex\u001b[0m\u001b[0;34m[\u001b[0m\u001b[0;34m\"name\"\u001b[0m\u001b[0;34m]\u001b[0m\u001b[0;34m[\u001b[0m\u001b[0;34m\"id\"\u001b[0m\u001b[0;34m]\u001b[0m \u001b[0;34m=\u001b[0m \u001b[0mfloat\u001b[0m\u001b[0;34m(\u001b[0m\u001b[0mgraph\u001b[0m\u001b[0;34m.\u001b[0m\u001b[0mes\u001b[0m\u001b[0;34m[\u001b[0m\u001b[0mtarget_idx\u001b[0m\u001b[0;34m]\u001b[0m\u001b[0;34m.\u001b[0m\u001b[0mtarget_vertex\u001b[0m\u001b[0;34m[\u001b[0m\u001b[0;34m\"name\"\u001b[0m\u001b[0;34m]\u001b[0m\u001b[0;34m[\u001b[0m\u001b[0;34m\"id\"\u001b[0m\u001b[0;34m]\u001b[0m\u001b[0;34m)\u001b[0m\u001b[0;34m\u001b[0m\u001b[0;34m\u001b[0m\u001b[0m\n\u001b[1;32m     14\u001b[0m               \u001b[0mgraph\u001b[0m\u001b[0;34m.\u001b[0m\u001b[0mvs\u001b[0m\u001b[0;34m[\u001b[0m\u001b[0msource_idx\u001b[0m\u001b[0;34m]\u001b[0m\u001b[0;34m[\u001b[0m\u001b[0;34m\"name\"\u001b[0m\u001b[0;34m]\u001b[0m\u001b[0;34m[\u001b[0m\u001b[0;34m\"id\"\u001b[0m\u001b[0;34m]\u001b[0m \u001b[0;34m=\u001b[0m \u001b[0mfloat\u001b[0m\u001b[0;34m(\u001b[0m\u001b[0mgraph\u001b[0m\u001b[0;34m.\u001b[0m\u001b[0mvs\u001b[0m\u001b[0;34m[\u001b[0m\u001b[0msource_idx\u001b[0m\u001b[0;34m]\u001b[0m\u001b[0;34m[\u001b[0m\u001b[0;34m\"name\"\u001b[0m\u001b[0;34m]\u001b[0m\u001b[0;34m[\u001b[0m\u001b[0;34m\"id\"\u001b[0m\u001b[0;34m]\u001b[0m\u001b[0;34m)\u001b[0m\u001b[0;34m\u001b[0m\u001b[0;34m\u001b[0m\u001b[0m\n",
            "\u001b[0;31mIndexError\u001b[0m: edge index out of range"
          ]
        }
      ]
    },
    {
      "cell_type": "code",
      "source": [
        "def convert_ids_to_float(graphs):\n",
        "    for graph in graphs:\n",
        "        # Convert vertex IDs\n",
        "        for vertex in graph.vs:\n",
        "            vertex[\"name\"][\"id\"] = float(vertex[\"name\"][\"id\"])\n",
        "\n",
        "        # Convert edge source and target IDs\n",
        "        for edge in graph.es:\n",
        "            source_vertex = edge.source_vertex  # Source vertex object\n",
        "            target_vertex = edge.target_vertex  # Target vertex object\n",
        "\n",
        "            # Convert to float\n",
        "            source_vertex[\"name\"][\"id\"] = float(source_vertex[\"name\"][\"id\"])\n",
        "            target_vertex[\"name\"][\"id\"] = float(target_vertex[\"name\"][\"id\"])\n",
        "\n",
        "    return graphs\n",
        "\n",
        "# Assuming cleaned_graphs_v3 contains your list of graphs\n",
        "cleaned_graphs_v4 = convert_ids_to_float(cleaned_graphs_v3)\n"
      ],
      "metadata": {
        "id": "s9iS10YN4N2G"
      },
      "id": "s9iS10YN4N2G",
      "execution_count": 42,
      "outputs": []
    },
    {
      "cell_type": "code",
      "execution_count": 35,
      "outputs": [
        {
          "output_type": "stream",
          "name": "stdout",
          "text": [
            "claim id:  <class 'float'> edges :  <class 'igraph.Edge'>  relation type :  <class 'int'> source vertex id:  <class 'float'> target vertex id:   <class 'float'>\n"
          ]
        }
      ],
      "source": [
        "\n",
        "print(\"claim id: \", type(cleaned_graphs_v4[0].vs[\"name\"][0][\"id\"]), \"edges : \", type(cleaned_graphs_v4[0].es[0]),\n",
        "      \" relation type : \", type(cleaned_graphs_v4[0].es[0][\"relation\"]), \"source vertex id: \",\n",
        "      type(cleaned_graphs_v4[0].es[0].source_vertex[\"name\"][\"id\"]), \"target vertex id:  \",\n",
        "      type(cleaned_graphs_v4[0].es[0].target_vertex[\"name\"][\"id\"]))"
      ],
      "metadata": {
        "ExecuteTime": {
          "end_time": "2023-10-03T11:58:31.400587400Z",
          "start_time": "2023-10-03T11:58:31.202524Z"
        },
        "id": "d084a42d390e6eed",
        "outputId": "63d76075-93bd-4136-c866-14cd822e3da2",
        "colab": {
          "base_uri": "https://localhost:8080/"
        }
      },
      "id": "d084a42d390e6eed"
    },
    {
      "cell_type": "code",
      "source": [
        "cleaned_graphs_v4[0].es[0].target_vertex[\"name\"][\"id\"]"
      ],
      "metadata": {
        "colab": {
          "base_uri": "https://localhost:8080/"
        },
        "id": "uymkAj3vxIGy",
        "outputId": "a31e2c71-e6f5-4ad8-c84d-199a079540ed"
      },
      "id": "uymkAj3vxIGy",
      "execution_count": 25,
      "outputs": [
        {
          "output_type": "execute_result",
          "data": {
            "text/plain": [
              "333.2"
            ]
          },
          "metadata": {},
          "execution_count": 25
        }
      ]
    },
    {
      "cell_type": "code",
      "execution_count": null,
      "outputs": [],
      "source": [
        "example_graph = cleaned_graphs_v4[0]"
      ],
      "metadata": {
        "ExecuteTime": {
          "end_time": "2023-10-03T13:02:49.327398100Z",
          "start_time": "2023-10-03T13:02:48.990305Z"
        },
        "id": "bd0ff9e6e64cdfab"
      },
      "id": "bd0ff9e6e64cdfab"
    },
    {
      "cell_type": "markdown",
      "source": [
        "Is the source claim on edges(idx) the same claim as the claim on nodes (idx) where idx is the same ?"
      ],
      "metadata": {
        "id": "Ns7Bx8OpOsNl"
      },
      "id": "Ns7Bx8OpOsNl"
    },
    {
      "cell_type": "code",
      "execution_count": null,
      "outputs": [
        {
          "name": "stdout",
          "output_type": "stream",
          "text": [
            "claim 1 with id =  333.1 has the following target vertex:  333.3 it can be verified that the source vertex to this target vertex is the claim 1 with id =  333.1\n"
          ]
        }
      ],
      "source": [
        "print(\"claim 1 with id = \", cleaned_graphs_v4[0].vs[\"name\"][1][\"id\"], \"has the following target vertex: \",\n",
        "      cleaned_graphs_v4[0].es[1].target_vertex[\"name\"][\"id\"],\n",
        "      \"it can be verified that the source vertex to this target vertex is the claim 1 with id = \",\n",
        "      cleaned_graphs_v4[0].es[1].source_vertex[\"name\"][\"id\"])\n",
        "#cleaned_graphs_v4[0].es[1]"
      ],
      "metadata": {
        "ExecuteTime": {
          "end_time": "2023-10-03T12:08:56.384643400Z",
          "start_time": "2023-10-03T12:08:56.002186400Z"
        },
        "id": "91dd2410f00428ee",
        "outputId": "b2c0836f-c44e-4cb6-b3a2-ad8923392de1"
      },
      "id": "91dd2410f00428ee"
    },
    {
      "cell_type": "markdown",
      "source": [
        "## Data Cleaning pt 3: Duplicate Discussions + Spam Removal\n",
        "\n",
        "set random seed ?\n",
        "methods should be validated, reproducible and transparent\n",
        "\n",
        "Refined Data Cleaning Plan\n",
        "Goals\n",
        "1.\tRemove duplicates\n",
        "2.\tConvert IDs to numeric format\n",
        "3.\tRemove or flag spam comments\n",
        "4.\tEnsure base claims are not mislabeled Steps\n"
      ],
      "metadata": {
        "collapsed": false,
        "id": "9ca8ec94985f29c9"
      },
      "id": "9ca8ec94985f29c9"
    },
    {
      "cell_type": "code",
      "source": [
        "from google.colab import drive\n",
        "\n",
        "drive.mount('/content/drive')"
      ],
      "metadata": {
        "colab": {
          "base_uri": "https://localhost:8080/"
        },
        "id": "yVeZj_H7yrlJ",
        "outputId": "3c3dddaa-8b4b-412d-8199-7f04d95d9858"
      },
      "id": "yVeZj_H7yrlJ",
      "execution_count": null,
      "outputs": [
        {
          "output_type": "stream",
          "name": "stdout",
          "text": [
            "Mounted at /content/drive\n"
          ]
        }
      ]
    },
    {
      "cell_type": "code",
      "source": [
        "!pip install igraph"
      ],
      "metadata": {
        "colab": {
          "base_uri": "https://localhost:8080/"
        },
        "id": "LntbDsOP0hTU",
        "outputId": "b00c1f23-51f7-4052-c0da-0b096957d95a"
      },
      "id": "LntbDsOP0hTU",
      "execution_count": null,
      "outputs": [
        {
          "output_type": "stream",
          "name": "stdout",
          "text": [
            "Collecting igraph\n",
            "  Downloading igraph-0.10.8-cp39-abi3-manylinux_2_17_x86_64.manylinux2014_x86_64.whl (3.3 MB)\n",
            "\u001b[?25l     \u001b[90m━━━━━━━━━━━━━━━━━━━━━━━━━━━━━━━━━━━━━━━━\u001b[0m \u001b[32m0.0/3.3 MB\u001b[0m \u001b[31m?\u001b[0m eta \u001b[36m-:--:--\u001b[0m\r\u001b[2K     \u001b[91m━━━\u001b[0m\u001b[90m╺\u001b[0m\u001b[90m━━━━━━━━━━━━━━━━━━━━━━━━━━━━━━━━━━━━\u001b[0m \u001b[32m0.3/3.3 MB\u001b[0m \u001b[31m7.5 MB/s\u001b[0m eta \u001b[36m0:00:01\u001b[0m\r\u001b[2K     \u001b[91m━━━━━━━━━━\u001b[0m\u001b[90m╺\u001b[0m\u001b[90m━━━━━━━━━━━━━━━━━━━━━━━━━━━━━\u001b[0m \u001b[32m0.9/3.3 MB\u001b[0m \u001b[31m12.6 MB/s\u001b[0m eta \u001b[36m0:00:01\u001b[0m\r\u001b[2K     \u001b[91m━━━━━━━━━━━━━━━━━━━━\u001b[0m\u001b[91m╸\u001b[0m\u001b[90m━━━━━━━━━━━━━━━━━━━\u001b[0m \u001b[32m1.7/3.3 MB\u001b[0m \u001b[31m16.5 MB/s\u001b[0m eta \u001b[36m0:00:01\u001b[0m\r\u001b[2K     \u001b[91m━━━━━━━━━━━━━━━━━━━━━━━━━━━━━━━━━━━\u001b[0m\u001b[91m╸\u001b[0m\u001b[90m━━━━\u001b[0m \u001b[32m2.9/3.3 MB\u001b[0m \u001b[31m21.4 MB/s\u001b[0m eta \u001b[36m0:00:01\u001b[0m\r\u001b[2K     \u001b[90m━━━━━━━━━━━━━━━━━━━━━━━━━━━━━━━━━━━━━━━━\u001b[0m \u001b[32m3.3/3.3 MB\u001b[0m \u001b[31m20.3 MB/s\u001b[0m eta \u001b[36m0:00:00\u001b[0m\n",
            "\u001b[?25hCollecting texttable>=1.6.2 (from igraph)\n",
            "  Downloading texttable-1.7.0-py2.py3-none-any.whl (10 kB)\n",
            "Installing collected packages: texttable, igraph\n",
            "Successfully installed igraph-0.10.8 texttable-1.7.0\n"
          ]
        }
      ]
    },
    {
      "cell_type": "code",
      "source": [
        "import pickle\n",
        "\n",
        "with open('/content/drive/MyDrive/Can Language Models Follow Discussions?/Data - kialo.com/cleaned_graphs_v3.pkl', 'rb') as f:\n",
        "    cleaned_graphs_v3 = pickle.load(f)"
      ],
      "metadata": {
        "id": "H6iljmDHzQJM"
      },
      "id": "H6iljmDHzQJM",
      "execution_count": null,
      "outputs": []
    },
    {
      "cell_type": "markdown",
      "source": [
        "### Duplicate Removal"
      ],
      "metadata": {
        "collapsed": false,
        "id": "1929368ec202cd8a"
      },
      "id": "1929368ec202cd8a"
    },
    {
      "cell_type": "code",
      "execution_count": null,
      "outputs": [],
      "source": [
        "cleaned_graphs_v2"
      ],
      "metadata": {
        "id": "577b30f568527f44"
      },
      "id": "577b30f568527f44"
    },
    {
      "cell_type": "code",
      "execution_count": null,
      "outputs": [
        {
          "data": {
            "text/plain": "(333.0, 333.0, True)"
          },
          "execution_count": 53,
          "metadata": {},
          "output_type": "execute_result"
        }
      ],
      "source": [
        "# Assuming that cleaned_graphs_v2 is a list of igraph objects and that the first graph has vertices\n",
        "# Here is how you would retrieve the \"id\" attribute of the first vertex in the first graph in both notations:\n",
        "\n",
        "# First Notation\n",
        "first_id_notation1 = cleaned_graphs_v2[0].vs[\"name\"][0][\"id\"]\n",
        "\n",
        "# Second Notation (within a loop, but just picking the first vertex for demonstration)\n",
        "first_graph = cleaned_graphs_v2[0]\n",
        "first_vertex = first_graph.vs[0]\n",
        "first_id_notation2 = first_vertex[\"name\"][\"id\"]\n",
        "\n",
        "first_id_notation1, first_id_notation2, first_id_notation1 == first_id_notation2\n"
      ],
      "metadata": {
        "ExecuteTime": {
          "end_time": "2023-10-02T21:38:19.069163400Z",
          "start_time": "2023-10-02T21:38:18.271290600Z"
        },
        "id": "417569b5bcc04c4a",
        "outputId": "52cfd1be-3c97-4413-e46f-1a4a1e31ce4b"
      },
      "id": "417569b5bcc04c4a"
    },
    {
      "cell_type": "markdown",
      "source": [
        "check for spam at position 0.3 since we observed a  lot of those in the data ( # probing 1 data preparation)"
      ],
      "metadata": {
        "collapsed": false,
        "id": "b3b7d16c7ee22497"
      },
      "id": "b3b7d16c7ee22497"
    },
    {
      "cell_type": "code",
      "execution_count": null,
      "outputs": [],
      "source": [
        "import pickle\n",
        "import re\n",
        "\n",
        "# Initialize counters and lists\n",
        "spam_at_03_count = 0\n",
        "total_spam_count = 0\n",
        "\n",
        "# Loop through each graph in your parsed_discussion_graphs list\n",
        "for graph in cleaned_graphs_v2:\n",
        "    for vertex in graph.vs:\n",
        "        # Convert Claim IDs to float\n",
        "        claim_id = float(vertex[\"name\"][\"id\"])\n",
        "        claim_text = vertex[\"name\"][\"text\"]\n",
        "\n",
        "        # Update the vertex with the float ID\n",
        "        vertex[\"name\"][\"id\"] = claim_id\n",
        "\n",
        "        # Check for spam keywords\n",
        "        if re.search(r'\\b(Dumps|Coupon Code|Discount|Exam|Pass)\\b', claim_text, re.IGNORECASE):\n",
        "            total_spam_count += 1\n",
        "            print(f\"Debug - Claim ID: {claim_id}, Decimal Part: {claim_id % 1}\")  # Debugging line\n",
        "            tolerance = 1e-10  # 0.3000000000029104, which is very close to 0.3 but not exactly equal.\n",
        "            # Check if ID has a decimal part close to .3\n",
        "            if abs(claim_id % 1 - 0.3) < tolerance:\n",
        "                spam_at_03_count += 1\n",
        "\n",
        "print(f\"Total spam count: {total_spam_count}\")\n",
        "print(f\"Spam at position 0.3: {spam_at_03_count}\")\n"
      ],
      "metadata": {
        "ExecuteTime": {
          "end_time": "2023-10-02T21:48:17.891581100Z",
          "start_time": "2023-10-02T21:48:09.675819400Z"
        },
        "id": "bc48ecbf022542b7"
      },
      "id": "bc48ecbf022542b7"
    },
    {
      "cell_type": "markdown",
      "source": [
        "**OUTPUT**  \n",
        "...  \n",
        "Debug - Claim ID: 46606.3, Decimal Part: 0.3000000000029104\n",
        "Debug - Claim ID: 46607.3, Decimal Part: 0.3000000000029104\n",
        "Debug - Claim ID: 46618.3, Decimal Part: 0.3000000000029104  \n",
        "\n",
        "Total spam count: 2433  \n",
        "Spam at position 0.3: 943  "
      ],
      "metadata": {
        "id": "gX8SGwMekPX7"
      },
      "id": "gX8SGwMekPX7"
    },
    {
      "cell_type": "markdown",
      "source": [
        "TODO: REFACTOR as FCT + ID to FLOAT + SAVE OUTPUTS FOR REPORT"
      ],
      "metadata": {
        "collapsed": false,
        "id": "5c9d30e1a3116815"
      },
      "id": "5c9d30e1a3116815"
    },
    {
      "cell_type": "markdown",
      "source": [
        "### Spam Removal\n",
        "\n"
      ],
      "metadata": {
        "collapsed": false,
        "id": "29ae7d89923c351d"
      },
      "id": "29ae7d89923c351d"
    },
    {
      "cell_type": "markdown",
      "source": [
        "assumptions: spam text is short ( =...), and is written in capitalized letters, contains often some kind of adress/code/number , contains a key word such as \"Discount\", \"Coupon Code\" or something similar.  "
      ],
      "metadata": {
        "id": "FaBl8f73YdGV"
      },
      "id": "FaBl8f73YdGV"
    },
    {
      "cell_type": "code",
      "execution_count": null,
      "outputs": [
        {
          "name": "stdout",
          "output_type": "stream",
          "text": [
            "Total spam count: 694\n",
            "Spam at position 0.3: 694\n",
            "Sample spam entries for verification:\n",
            "[{'Graph Index': 12250, 'Vertex Index': 0, 'Claim ID': 47773.3, 'Claim Text': 'Discount Rate, Reserve Requirements & Money Supply'}, {'Graph Index': 12459, 'Vertex Index': 0, 'Claim ID': 48581.3, 'Claim Text': 'Splunk SPLK-1002 Dumps Study Material | 100% Success Guarantee'}, {'Graph Index': 15551, 'Vertex Index': 0, 'Claim ID': 43811.3, 'Claim Text': 'How Can You Pass Zend ZF-100-500 Exam In First Attempt ?'}, {'Graph Index': 15555, 'Vertex Index': 0, 'Claim ID': 43815.3, 'Claim Text': 'Get 2021 New Year Discount Offer On JN0-348 Exam Dumps | Coupon Code \"PASS30NY21\"'}, {'Graph Index': 15556, 'Vertex Index': 0, 'Claim ID': 43816.3, 'Claim Text': 'Get Christmas Special Offer Huawei H13-321 Dumps Using Coupon Code \"CHRIS30\"'}]\n"
          ]
        }
      ],
      "source": [
        "import re\n",
        "import pickle\n",
        "\n",
        "# Initialize a list to hold sample spam entries for verification\n",
        "sample_spam_entries = []\n",
        "\n",
        "# Initialize counters to track the number of spam entries\n",
        "total_spam_count = 0\n",
        "spam_at_03_count = 0\n",
        "\n",
        "\n",
        "# Function to check if most words in a string start with a capital letter\n",
        "def check_capitalized_words(text):\n",
        "    words = text.split()\n",
        "    capitalized_words = [word for word in words if word.istitle()]\n",
        "    return len(capitalized_words) > len(words) // 2\n",
        "\n",
        "\n",
        "# Loop through each graph\n",
        "for graph_index, graph in enumerate(cleaned_graphs_v2):\n",
        "    for vertex_index, vertex in enumerate(graph.vs):\n",
        "        claim_id = float(vertex[\"name\"][\"id\"])\n",
        "        claim_text = vertex[\"name\"][\"text\"]\n",
        "\n",
        "        # Check for spam keywords\n",
        "        if re.search(r'\\b(Dumps|Coupon Code|Discount|Exam|Pass)\\b', claim_text, re.IGNORECASE):\n",
        "\n",
        "            # Check if ID has a decimal part of .3 (with tolerance)\n",
        "            if abs(claim_id % 1 - 0.3) < 1e-9:\n",
        "\n",
        "                # Additional constraints: Minimum number of words should be greater than 4 and most words should start with capital letters\n",
        "                if len(claim_text.split()) > 4 and check_capitalized_words(claim_text):\n",
        "                    total_spam_count += 1  # Moved this line here\n",
        "                    spam_at_03_count += 1\n",
        "\n",
        "                    sample_spam_entries.append({\n",
        "                        \"Graph Index\": graph_index,\n",
        "                        \"Vertex Index\": vertex_index,\n",
        "                        \"Claim ID\": claim_id,\n",
        "                        \"Claim Text\": claim_text\n",
        "                    })\n",
        "\n",
        "# Limit the sample size to 5 for quick verification\n",
        "sample_spam_entries = sample_spam_entries[:5]\n",
        "\n",
        "# Print spam statistics\n",
        "print(f\"Total spam count: {total_spam_count}\")\n",
        "print(f\"Spam at position 0.3: {spam_at_03_count}\")\n",
        "\n",
        "# Print sample spam entries for verification\n",
        "print(\"Sample spam entries for verification:\")\n",
        "print(sample_spam_entries)\n",
        "\n",
        "\n",
        "#for entry in sample_spam_entries:\n",
        "#graph_index = entry[\"Graph Index\"]\n",
        "#vertex_index = entry[\"Vertex Index\"]\n",
        "#cleaned_graphs_v2[graph_index].delete_vertices(vertex_index)\n"
      ],
      "metadata": {
        "ExecuteTime": {
          "end_time": "2023-10-03T11:19:45.871523300Z",
          "start_time": "2023-10-03T11:19:38.060431800Z"
        },
        "id": "7613c220ae96e0bf",
        "outputId": "3510de55-2b86-487e-b10d-e7ce8fd544ae"
      },
      "id": "7613c220ae96e0bf"
    },
    {
      "cell_type": "markdown",
      "source": [
        "since we verified by inspection that the spams samples are now correctly identified, we can remove them from the data set and save a new version of the data set"
      ],
      "metadata": {
        "collapsed": false,
        "id": "a093cf24efccd634"
      },
      "id": "a093cf24efccd634"
    },
    {
      "cell_type": "code",
      "execution_count": null,
      "outputs": [],
      "source": [
        "# Initialize a list to store cleaned graphs\n",
        "cleaned_graphs_v3 = []\n",
        "\n",
        "\n",
        "# Function to check if most words start with a capital letter\n",
        "def check_capitalized_words(text):\n",
        "    words = text.split()\n",
        "    capitalized_words = [word for word in words if word.istitle()]\n",
        "    return len(capitalized_words) > len(words) // 2\n",
        "\n",
        "\n",
        "# Loop through each graph\n",
        "for graph in cleaned_graphs_v2:\n",
        "    # Initialize a list to store vertices to remove\n",
        "    vertices_to_remove = []\n",
        "\n",
        "    # Loop through each vertex in the graph\n",
        "    for vertex in graph.vs:\n",
        "        claim_id = float(vertex[\"name\"][\"id\"])\n",
        "        claim_text = vertex[\"name\"][\"text\"]\n",
        "\n",
        "        # Check for spam keywords or if most words are capitalized\n",
        "        if re.search(r'\\b(Dumps|Coupon Code|Discount|Exam|Pass)\\b', claim_text,\n",
        "                     re.IGNORECASE) or check_capitalized_words(claim_text):\n",
        "            # Add vertex index to the list of vertices to remove\n",
        "            vertices_to_remove.append(vertex.index)\n",
        "\n",
        "    # Remove spam vertices\n",
        "    graph.delete_vertices(vertices_to_remove)\n",
        "\n",
        "    # Add cleaned graph to the new list\n",
        "    cleaned_graphs_v3.append(graph)"
      ],
      "metadata": {
        "ExecuteTime": {
          "end_time": "2023-10-03T11:20:48.321988700Z",
          "start_time": "2023-10-03T11:20:37.510817900Z"
        },
        "id": "5d58645ba53dff9e"
      },
      "id": "5d58645ba53dff9e"
    },
    {
      "cell_type": "markdown",
      "source": [
        "# Probing 1"
      ],
      "metadata": {
        "id": "7L-0P3lYOJMW"
      },
      "id": "7L-0P3lYOJMW"
    },
    {
      "cell_type": "markdown",
      "source": [
        "Nodes and edges being saved in igraph-sequences"
      ],
      "metadata": {
        "id": "Cjl2GpOMPZE9"
      },
      "id": "Cjl2GpOMPZE9"
    },
    {
      "cell_type": "code",
      "execution_count": null,
      "outputs": [
        {
          "output_type": "stream",
          "name": "stdout",
          "text": [
            "<igraph.seq.EdgeSeq object at 0x7d2a0ba07be0> <igraph.seq.VertexSeq object at 0x7d2a2493bf10>\n"
          ]
        }
      ],
      "source": [
        "example_graph_edges = example_graph.es\n",
        "example_graph_nodes = example_graph.vs\n",
        "print(example_graph_edges, example_graph_nodes)"
      ],
      "metadata": {
        "ExecuteTime": {
          "end_time": "2023-10-03T13:06:44.981349200Z",
          "start_time": "2023-10-03T13:06:44.398951200Z"
        },
        "id": "5177c389e7dc8d96",
        "outputId": "9c13e3c4-43c2-42a1-8cca-0c938e61530f",
        "colab": {
          "base_uri": "https://localhost:8080/"
        }
      },
      "id": "5177c389e7dc8d96"
    },
    {
      "cell_type": "code",
      "execution_count": null,
      "outputs": [
        {
          "output_type": "stream",
          "name": "stdout",
          "text": [
            "source:  333.0\n",
            "target:  333.2\n",
            "-----------------------------------\n",
            "source:  333.1\n",
            "target:  333.3\n",
            "-----------------------------------\n",
            "source:  333.2\n",
            "target:  333.7\n",
            "-----------------------------------\n",
            "source:  333.3\n",
            "target:  333.12\n",
            "-----------------------------------\n",
            "source:  333.4\n",
            "target:  333.17\n",
            "-----------------------------------\n",
            "source:  333.5\n",
            "target:  333.18\n",
            "-----------------------------------\n",
            "source:  333.7\n",
            "target:  333.19\n",
            "-----------------------------------\n",
            "source:  333.9\n",
            "target:  333.2\n",
            "-----------------------------------\n",
            "source:  333.1\n",
            "target:  333.21\n",
            "-----------------------------------\n",
            "source:  333.11\n",
            "target:  333.22\n",
            "-----------------------------------\n"
          ]
        }
      ],
      "source": [
        "for i, node in enumerate(example_graph_nodes):\n",
        "  if i < 10:\n",
        "    print(\"source: \", node[\"name\"][\"id\"])\n",
        "    print(\"target: \", example_graph_edges[i].target_vertex[\"name\"][\"id\"])\n",
        "    print(\"-----------------------------------\")\n",
        "\n"
      ],
      "metadata": {
        "ExecuteTime": {
          "end_time": "2023-10-03T13:18:11.162136600Z",
          "start_time": "2023-10-03T13:18:10.868671Z"
        },
        "id": "36167bd8b9a657f4",
        "colab": {
          "base_uri": "https://localhost:8080/"
        },
        "outputId": "39da75b8-8102-4946-9834-e5183cc2f155"
      },
      "id": "36167bd8b9a657f4"
    },
    {
      "cell_type": "markdown",
      "source": [
        "**Observation**: The same node (see 333.1) is being saved n times, whereas n = number of outgoing edges"
      ],
      "metadata": {
        "id": "-daPXp7BQKwG"
      },
      "id": "-daPXp7BQKwG"
    },
    {
      "cell_type": "code",
      "execution_count": null,
      "outputs": [],
      "source": [
        "\n",
        "# Save as cleaned_graphs_v3.pkl\n",
        "with open('cleaned_graphs_v3.pkl', 'wb') as f:\n",
        "    pickle.dump(cleaned_graphs_v3, f)"
      ],
      "metadata": {
        "ExecuteTime": {
          "end_time": "2023-10-03T11:20:51.527524800Z",
          "start_time": "2023-10-03T11:20:49.908291100Z"
        },
        "id": "c3522d6d4da0b46b"
      },
      "id": "c3522d6d4da0b46b"
    },
    {
      "cell_type": "code",
      "execution_count": null,
      "outputs": [
        {
          "output_type": "execute_result",
          "data": {
            "text/plain": [
              "('total number of edges , nodes in graph/discussion 0', 603, 592)"
            ]
          },
          "metadata": {},
          "execution_count": 16
        }
      ],
      "source": [
        "\"total number of edges , nodes in graph/discussion 0\", len(cleaned_graphs_v4[0].es), len(cleaned_graphs_v4[0].vs)"
      ],
      "metadata": {
        "ExecuteTime": {
          "end_time": "2023-10-03T12:24:56.469949200Z",
          "start_time": "2023-10-03T12:24:56.186769600Z"
        },
        "id": "aba551474a1737d0",
        "outputId": "7571464f-4824-4d86-e5e0-7b5dc109b938",
        "colab": {
          "base_uri": "https://localhost:8080/"
        }
      },
      "id": "aba551474a1737d0"
    },
    {
      "cell_type": "code",
      "execution_count": null,
      "outputs": [],
      "source": [
        "for i, node in enumerate(cleaned_graphs_v4[0].vs[\"name\"][1:]):  # exclude base claim at position 0\n",
        "  # restrict output\n",
        "  if i < 10 :\n",
        "    if len(cleaned_graphs_v4[0].es[i].target_vertex) > 1:  # is there more than one target vertex ? should not according to previous observation\n",
        "        print(\"More than 1 target vertex on the same edge ?!\")"
      ],
      "metadata": {
        "ExecuteTime": {
          "end_time": "2023-10-03T12:58:07.574325800Z",
          "start_time": "2023-10-03T12:58:07.144314500Z"
        },
        "id": "e8ecfc6ad268bb06"
      },
      "id": "e8ecfc6ad268bb06"
    },
    {
      "cell_type": "code",
      "source": [
        "import pickle\n",
        "\n",
        "with open('/content/drive/MyDrive/Can Language Models Follow Discussions?/Data - kialo.com/cleaned_graphs_v3.pkl', 'rb') as f:\n",
        "    cleaned_graphs_v3 = pickle.load(f)"
      ],
      "metadata": {
        "id": "FKzoutD-2IQ6"
      },
      "id": "FKzoutD-2IQ6",
      "execution_count": 16,
      "outputs": []
    },
    {
      "cell_type": "code",
      "execution_count": null,
      "outputs": [
        {
          "output_type": "execute_result",
          "data": {
            "text/plain": [
              "('all nodes (subsampled to 5 examples)/claims in graph/discussion 0',\n",
              " [{'id': 333.0, 'text': 'Anonymous currency discussions'},\n",
              "  {'id': 333.1,\n",
              "   'text': 'An anonymous untrackable digital currency \\\\(ADC\\\\), like Bitcoin, is beneficial for civilized societies.'},\n",
              "  {'id': 333.2,\n",
              "   'text': \"Cash is a necessary part of any functional society's economic model and cryptocurrencies are an easier and online-ready form of cash. They are the natural progression of what money is becoming in the digital age.\"},\n",
              "  {'id': 333.3,\n",
              "   'text': 'Most ordinary citizens would not use such a currency anyway, rendering all potential benefits moot.'},\n",
              "  {'id': 333.4,\n",
              "   'text': 'Most people pay taxes and banks report all their in/outflows above certain limits.'}])"
            ]
          },
          "metadata": {},
          "execution_count": 20
        }
      ],
      "source": [
        "\"all nodes (subsampled to 5 examples)/claims in graph/discussion 0\", cleaned_graphs_v4[0].vs[\"name\"][0:5]"
      ],
      "metadata": {
        "ExecuteTime": {
          "end_time": "2023-10-03T12:28:10.765439800Z",
          "start_time": "2023-10-03T12:28:10.255789900Z"
        },
        "colab": {
          "base_uri": "https://localhost:8080/"
        },
        "id": "c4870330a0396763",
        "outputId": "46b77e60-6152-4dc2-a285-bea9057bae81"
      },
      "id": "c4870330a0396763"
    },
    {
      "cell_type": "code",
      "source": [
        "import pickle\n",
        "\n",
        "def create_outgoing_dict_for_all_graphs(graphs):\n",
        "    \"\"\"\n",
        "    saves for each claim its outgoing claims directly in the same order as interger keys\n",
        "    into a dict such that we can reduce the access time of node´s target nodes to O(1)\n",
        "    \"\"\"\n",
        "    all_outgoing_dicts = {}\n",
        "    for graph_index, graph in enumerate(graphs):\n",
        "        outgoing_dict = {}\n",
        "        for edge in graph.es:\n",
        "            src = edge.source_vertex[\"name\"][\"id\"]\n",
        "            tgt = edge.target_vertex[\"name\"][\"id\"]\n",
        "\n",
        "            if src in outgoing_dict:\n",
        "                outgoing_dict[src].append(tgt)\n",
        "            else:\n",
        "                outgoing_dict[src] = [tgt]\n",
        "\n",
        "        all_outgoing_dicts[graph_index] = outgoing_dict\n",
        "\n",
        "    return all_outgoing_dicts\n",
        "\n",
        "# Create the dictionary\n",
        "all_outgoing_dicts = create_outgoing_dict_for_all_graphs(cleaned_graphs_v4)\n",
        "\n",
        "# Save it using pickle\n",
        "with open(\"all_outgoing_dicts.pkl\", \"wb\") as f:\n",
        "    pickle.dump(all_outgoing_dicts, f)\n"
      ],
      "metadata": {
        "id": "n4DiRiQE30fK"
      },
      "id": "n4DiRiQE30fK",
      "execution_count": null,
      "outputs": []
    },
    {
      "cell_type": "code",
      "source": [
        "len(all_outgoing_dicts)"
      ],
      "metadata": {
        "colab": {
          "base_uri": "https://localhost:8080/"
        },
        "id": "tAjpjeVu5RaC",
        "outputId": "566c48db-ea19-48f8-e296-e67a2c07e5d1"
      },
      "id": "tAjpjeVu5RaC",
      "execution_count": null,
      "outputs": [
        {
          "output_type": "execute_result",
          "data": {
            "text/plain": [
              "16981"
            ]
          },
          "metadata": {},
          "execution_count": 20
        }
      ]
    },
    {
      "cell_type": "code",
      "source": [
        "print(\"Integer Keys: \\n\")\n",
        "print(list(all_outgoing_dicts.keys())[0:5])"
      ],
      "metadata": {
        "colab": {
          "base_uri": "https://localhost:8080/"
        },
        "id": "7WDFO8185cKF",
        "outputId": "c767917c-77f3-4d7d-e6b8-682738552243"
      },
      "id": "7WDFO8185cKF",
      "execution_count": null,
      "outputs": [
        {
          "output_type": "stream",
          "name": "stdout",
          "text": [
            "Integer Keys: \n",
            "\n",
            "[0, 1, 2, 3, 4]\n"
          ]
        }
      ]
    },
    {
      "cell_type": "code",
      "source": [
        "# TODO\n",
        "def verify_base_claims(cleaned_graphs):\n",
        "    duplicates = []\n",
        "    base_claim_ids = set()\n",
        "    for graph_index, graph in enumerate(cleaned_graphs):\n",
        "        if len(graph.vs) == 0:\n",
        "            print(f\"Empty graph found at index {graph_index}. Skipping.\")\n",
        "            continue\n",
        "        first_node_id = graph.vs[0][\"name\"][\"id\"]\n",
        "        if  first_node_id in base_claim_ids:\n",
        "            print(f\"Duplicate base claim ID {first_node_id} found at index {graph_index}.\")\n",
        "            duplicates.append((first_node_id,graph_index))\n",
        "        base_claim_ids.add(first_node_id)\n",
        "    print(f\"Set of all unique base claim IDs: {base_claim_ids}\")\n",
        "    print(\"all duplicates: \", len(duplicates))\n",
        "    return True\n",
        "verify_base_claims(cleaned_graphs_v4)"
      ],
      "metadata": {
        "id": "ltSeV-sW9LUr"
      },
      "id": "ltSeV-sW9LUr",
      "execution_count": null,
      "outputs": []
    },
    {
      "cell_type": "markdown",
      "source": [
        "**OUTPUT**  \n",
        "...   \n",
        "Empty graph found at index 16979. Skipping.\n",
        "Empty graph found at index 16980. Skipping.\n",
        "\n",
        "Set of all unique base claim IDs: {32784.3, 32786.3, 32789.3, 32793.3, 32797.3, 32799.3, ...\n",
        "\n",
        "all duplicates:  966\n",
        "\n",
        "True"
      ],
      "metadata": {
        "id": "-Z9S_nd9jsnO"
      },
      "id": "-Z9S_nd9jsnO"
    },
    {
      "cell_type": "code",
      "source": [
        "\"\"\"def check_for_duplicates(cleaned_graphs):\n",
        "\n",
        "    duplicate_indexes = []  # Store indexes of duplicate ids in the 1st node position\n",
        "    base_claim_dict = {}  # Store base claim IDs and their corresponding indexes\n",
        "\n",
        "    for index, graph in enumerate(cleaned_graphs):\n",
        "        if len(graph.vs) == 0:\n",
        "            continue\n",
        "\n",
        "        first_node_id = graph.vs[0][\"name\"][\"id\"] # floating point id format\n",
        "        if first_node_id in base_claim_dict:\n",
        "            duplicate_indexes.append((base_claim_dict[first_node_id], index))\n",
        "        else:\n",
        "            base_claim_dict[first_node_id] = index\n",
        "\n",
        "    # further check those indexes representative for 1 discussion\n",
        "    true_duplicate_indexes = []\n",
        "    for index1, index2 in duplicate_indexes:\n",
        "        graph1 = cleaned_graphs[index1]\n",
        "        graph2 = cleaned_graphs[index2]\n",
        "        if graph1.es and graph2.es:\n",
        "          #print(graph1.es)\n",
        "        #print(graph1.vs[\"name\"] ,graph1.es[0])\n",
        "        #print(graph1.es[0].target_vertex[\"name\"][\"id\"])\n",
        "        # duplicate if node id, node text and edge target vertex are the same (updated)\n",
        "          #print(graph1.es[0].target_vertex[\"name\"][\"id\"])\n",
        "          if graph1.vs[\"name\"][\"id\"] == graph2.vs[\"name\"][\"id\"] and graph1.es[0].target_vertex[\"name\"][\"id\"] == graph2.es[0].target_vertex[\"name\"][\"id\"]:\n",
        "               print(graph1.vs[\"name\"], \"and\", graph2.vs[\"name\"], \"are duplicates, which point to the same target node, see:\", target_id1, target_id2)\n",
        "                true_duplicate_indexes.append(index2)\n",
        "              #print(f\"Graphs at index {index1} and {index2} are true duplicates.\")\n",
        "              true_duplicate_indexes.append(index2)\n",
        "    print(len(true_duplicate_indexes), \"true duplicates found\")\n",
        "check_for_duplicates(cleaned_graphs_v4)\"\"\""
      ],
      "metadata": {
        "id": "lkHMU3drHFnJ"
      },
      "id": "lkHMU3drHFnJ",
      "execution_count": null,
      "outputs": []
    },
    {
      "cell_type": "code",
      "source": [
        "def check_for_duplicates(cleaned_graphs):\n",
        "    \"\"\"\n",
        "    checks for duplicate values in the first position, where the unique base claim is assumed to be\n",
        "    \"\"\"\n",
        "    duplicate_indexes = []\n",
        "    base_claim_dict = {}\n",
        "\n",
        "    for index, graph in enumerate(cleaned_graphs):\n",
        "        if len(graph.vs) == 0:\n",
        "            continue\n",
        "\n",
        "        first_node_id = graph.vs[0][\"name\"][\"id\"]\n",
        "        if first_node_id in base_claim_dict:\n",
        "            duplicate_indexes.append((base_claim_dict[first_node_id], index))\n",
        "        else:\n",
        "            base_claim_dict[first_node_id] = index\n",
        "\n",
        "    true_duplicate_indexes = []\n",
        "    for index1, index2 in duplicate_indexes:\n",
        "        graph1 = cleaned_graphs[index1]\n",
        "        graph2 = cleaned_graphs[index2]\n",
        "\n",
        "        if graph1.es and graph2.es:\n",
        "            first_node_id1 = graph1.vs[0][\"name\"][\"id\"]\n",
        "            first_node_id2 = graph2.vs[0][\"name\"][\"id\"]\n",
        "\n",
        "            target_id1 = graph1.es[0].target_vertex[\"name\"][\"id\"]\n",
        "            target_id2 = graph2.es[0].target_vertex[\"name\"][\"id\"]\n",
        "\n",
        "            if first_node_id1 == first_node_id2 and target_id1 == target_id2:\n",
        "                print(graph1.vs[\"name\"], \"and\", graph2.vs[\"name\"], \"are duplicates, which point to the same target node, see:\", target_id1, target_id2)\n",
        "                true_duplicate_indexes.append(index2)\n",
        "                #print(f\"Graphs at index {index1} and {index2} are true duplicates.\")\n",
        "                true_duplicate_indexes.append(index2)\n",
        "\n",
        "    print(f\"{len(true_duplicate_indexes)} true duplicates found.\")\n",
        "    check_for_duplicates(cleaned_graphs_v4)\n",
        "\n",
        "    \"\"\" conclusion: no duplicate base claims found \"\"\"\n"
      ],
      "metadata": {
        "id": "5rcv60np5Hl4"
      },
      "id": "5rcv60np5Hl4",
      "execution_count": 46,
      "outputs": []
    },
    {
      "cell_type": "code",
      "source": [
        "def examine_graphs(cleaned_graphs, index1, index2):\n",
        "    \"\"\"\n",
        "    Examine vertices and edges of two graphs based on their indices and print them.\n",
        "    \"\"\"\n",
        "    # Fetching graphs by index\n",
        "    graph1 = cleaned_graphs[index1]\n",
        "    graph2 = cleaned_graphs[index2]\n",
        "\n",
        "    # Extracting vertices' id and text\n",
        "    vertices1 = graph1.vs[\"name\"]\n",
        "    vertices2 = graph2.vs[\"name\"]\n",
        "\n",
        "    # Extracting edges\n",
        "    edges1 = [(edge.source, edge.target) for edge in graph1.es]\n",
        "    edges2 = [(edge.source, edge.target) for edge in graph2.es]\n",
        "\n",
        "    # Printing details\n",
        "    print(f\"Graph at index {index1}\\n{'-'*24}\")\n",
        "    print(f\"Vertices: {vertices1}\\nEdges: {edges1}\")\n",
        "\n",
        "    print(f\"\\nGraph at index {index2}\\n{'-'*24}\")\n",
        "    print(f\"Vertices: {vertices2}\\nEdges: {edges2}\")\n",
        "\n",
        "# Function to check for empty graphs\n",
        "def check_empty_graphs(cleaned_graphs):\n",
        "    \"\"\"\n",
        "    Identify and return indices of empty graphs.\n",
        "    \"\"\"\n",
        "    return [index for index, graph in enumerate(cleaned_graphs) if len(graph.vs) == 0]\n",
        "\n",
        "# Function to remove graphs based on indices\n",
        "def remove_graphs(graphs, indices_to_remove):\n",
        "    \"\"\"\n",
        "    Remove graphs based on a list of indices.\n",
        "    \"\"\"\n",
        "    return [graph for i, graph in enumerate(graphs) if i not in indices_to_remove]\n",
        "\n",
        "# Example usage:\n",
        "# --------------\n",
        "\n",
        "# Examine first duplicate graphs: 10681 and 11022\n",
        "examine_graphs(cleaned_graphs_v4, 10681, 11022)\n",
        "\n",
        "# Examine first empty graphs: 451 and 670\n",
        "examine_graphs(cleaned_graphs_v4, 451, 670)\n",
        "\n",
        "# Identify duplicate and empty graph indices\n",
        "# (Make sure check_for_duplicates returns a list)\n",
        "#duplicate_indices = check_for_duplicates(cleaned_graphs_v4) or []\n",
        "empty_indices = check_empty_graphs(cleaned_graphs_v4)\n",
        "\n",
        "# Merge, sort, and deduplicate indices\n",
        "indices_to_remove = sorted(set(empty_indices))\n",
        "\n",
        "\n",
        "# Merge, sort, and deduplicate indices\n",
        "#indices_to_remove = sorted(set(duplicate_indices + empty_indices))\n",
        "\n",
        "# Remove graphs and verify\n",
        "cleaned_graphs_v5 = remove_graphs(cleaned_graphs_v4, indices_to_remove)\n",
        "\n",
        "# Print length before and after to verify removal\n",
        "print(f\"Length before: {len(cleaned_graphs_v4)}, Length after: {len(cleaned_graphs_v5)}\")\n"
      ],
      "metadata": {
        "colab": {
          "base_uri": "https://localhost:8080/"
        },
        "id": "IZd7esAROc3V",
        "outputId": "19a2062b-0833-4746-c95f-91930cb52e05"
      },
      "id": "IZd7esAROc3V",
      "execution_count": 47,
      "outputs": [
        {
          "output_type": "stream",
          "name": "stdout",
          "text": [
            "Graph at index 10681\n",
            "------------------------\n",
            "Vertices: [{'id': 34419.0, 'text': 'Kialo should provide separate places to debate the following kinds of pros and cons. We would use the outcome of these debates to generate distinct scores.'}, {'id': 34419.3, 'text': '1\\\\) \"Truth\" or \"Veracity.\" This score would combine with \"Importance Scores\" to determine a \"Conclusion Score.\" The Conclusion Score would attempt to identify a belief\\'s value, aside from claims that it supports other conclusions.'}, {'id': 34419.5, 'text': \"Even if two arguments have similar chances of being true, it doesn't mean they will always have the same impact if we assumed they were true. Therefore, truth can't be all that matters, and we must rate the importance of arguments, separate from their truth and Relevance.\"}, {'id': 34419.7, 'text': 'True relevant arguments can be less important than other evidence.'}, {'id': 34419.9, 'text': 'We need to help users organize different parts of debates.'}, {'id': 34419.11, 'text': 'Each argument needs a truth score, outside of its use as a reason to support other beliefs. When used to support other beliefs, arguments need linkage scores. True relevant arguments can be more or less important than other arguments.'}, {'id': 34419.16, 'text': 'The grass may be green in California, but that should not be seen as a valid reason for war with Iran. This is an example of something that is true but should have a poor linkage score.'}, {'id': 34419.18, 'text': 'Something might cost a lot of money, but if the investment pays off in less than six months, the Truth and Relevance of the cost should not be more important than the fact that the investment will pay itself off.'}, {'id': 34419.2, 'text': 'This particular discussion could be better structured with multiple theses. One for the Truth \\\\(Veracity as others call it\\\\), Linkage, and Importance.'}, {'id': 34419.22, 'text': 'The multi-thesis discussion format allows for better organization and focus on the individual main points in the overarching thesis \\\\(in this situation anyway\\\\)'}, {'id': 34419.24, 'text': 'That is what I am trying to support.'}, {'id': 34419.26, 'text': 'This would increase the complexity of kialo discussions three-fold'}, {'id': 34419.28, 'text': '3\\\\) \"Linkage\". This would combine with the \"Unique Score\" to result in a \"Relevance Score\". The Relevance \\\\(Linkage and unique\\\\) Scores would be symbolized by the strength of a rope in a tug of war. Like a rope, it would determine how much strength \\\\(or force\\\\) one argument can transfer to another.'}, {'id': 34419.3, 'text': '2\\\\) \"Important.\" This score would combine with \"Truth Scores\" to determine a \"Conclusion Score.\" This score is similar to how mass combines with speed to determine force. If something were assumed to be true, what impact would it have? Also, is it true?'}, {'id': 34419.34, 'text': '4\\\\) \"Unique.\" Users could tag an argument as saying \"essentially saying the same thing\" as another argument. This action would generate a separate debate used to analyze if the two comments are saying the same thing. If the sub-argument produces 50% pros, then the second argument would only add 50% of its Conclusion Score. We could use this to generate \"better ways of saying the same thing\" by sorting by Conclusion Scores.'}, {'id': 34419.36, 'text': 'Ranked list of \"similar\" or \"better\" ways of saying the same thing, would teach AI how to group and understand what we mean.'}, {'id': 34419.38, 'text': 'The semantic web is a proposed development of the World Wide Web in which data in web pages is structured and tagged in such a way that it can be read directly by computers. Tagging groups of words as \"similar ways of saying the same thing\" helps the AI group and understand what we mean.'}, {'id': 34419.4, 'text': 'The best humans can do is update the likelihood of conclusions being true based on the strength of new evidence. Kialo allows us to evaluate the validity of evidence by analyzing the structure and performance of pro/con arguments. Therefore we should use these pro/con arguments to generate Confidence Intervals \\\\(or levels\\\\) for each conclusion based on their sub-arguments.'}, {'id': 34419.42, 'text': '6\\\\) \"Book Scores\" to identify the relative quality of pro/con books. Each conclusion could have a separate place with pro books on the left and con books on the right. We would have pro/con arguments below each book disputing the Truth and Importance of the things in the book and their Relevance \\\\(linkage and unique values\\\\) to the contested conclusion.'}, {'id': 34419.44, 'text': '5\\\\) \"Scientific Study Score\" to identify the relative quality of pro/con scientific studies. Each conclusion should have a separate place with Pro scientific studies on the left and Con scientific studies on the right. We would have pro/con arguments below each study disputing the Truth and Importance of the things in the study and their Relevance \\\\(Linkage and Unique Scores\\\\) to the contested conclusion.'}, {'id': 34419.46, 'text': 'An argument could have a lot of force or impact if it were assumed to be true. However, like a meteor in the atmosphere, it could fall apart with friction or resistance.'}, {'id': 34419.48, 'text': 'People could tag studies as \"saying essentially the same thing.\" We could use the outcome of these debates to identify Unique Scores for each scientific study and use the result of these debates to produce lists of \"Better studies that strengthen the same belief.\"'}, {'id': 34419.5, 'text': 'Without an Importance Score, there is no way to contextualize or weigh all of the arguments.'}, {'id': 34419.52, 'text': 'Ranked list of \"similar\" or \"better\" studies that support the same conclusions, would teach AI how to sort, group, and understand the likelihood of each truth.'}, {'id': 34419.54, 'text': 'We need creative ways to tie the outcome of scientific studies to our assumed truth likelihood of different beliefs.'}, {'id': 34419.56, 'text': 'The closest humans can get to \"Verified Truth\" is to use processes that update our assumed likelihood of truth based on the strength of new evidence. Kialo allows us to do this by evaluating the validity of evidence by analyzing the structure and performance of pro/con arguments. Therefore we should use these pro/con arguments to generate Confidence Intervals \\\\(or levels\\\\) for each conclusion based on their sub-arguments.'}]\n",
            "Edges: [(0, 1), (1, 4), (4, 5), (2, 4), (2, 6), (2, 7), (8, 9), (8, 10), (1, 11), (0, 12), (0, 13), (3, 13), (2, 13), (0, 14), (14, 15), (15, 16), (1, 17), (0, 18), (0, 19), (1, 20), (19, 21), (2, 22), (21, 23), (21, 24), (1, 25)]\n",
            "\n",
            "Graph at index 11022\n",
            "------------------------\n",
            "Vertices: [{'id': 34419.0, 'text': 'Kialo should provide separate places to debate the following kinds of pros and cons. We would use the outcome of these debates to generate distinct scores.'}, {'id': 34419.3, 'text': '1\\\\) \"Truth\" or \"Veracity.\" This score would combine with \"Importance Scores\" to determine a \"Conclusion Score.\" The Conclusion Score would attempt to identify a belief\\'s value, aside from claims that it supports other conclusions.'}, {'id': 34419.5, 'text': \"Even if two arguments have similar chances of being true, it doesn't mean they will always have the same impact if we assumed they were true. Therefore, truth can't be all that matters, and we must rate the importance of arguments, separate from their truth and Relevance.\"}, {'id': 34419.7, 'text': 'True relevant arguments can be less important than other evidence.'}, {'id': 34419.9, 'text': 'We need to help users organize different parts of debates.'}, {'id': 34419.11, 'text': 'Each argument needs a truth score, outside of its use as a reason to support other beliefs. When used to support other beliefs, arguments need linkage scores. True relevant arguments can be more or less important than other arguments.'}, {'id': 34419.16, 'text': 'The grass may be green in California, but that should not be seen as a valid reason for war with Iran. This is an example of something that is true but should have a poor linkage score.'}, {'id': 34419.18, 'text': 'Something might cost a lot of money, but if the investment pays off in less than six months, the Truth and Relevance of the cost should not be more important than the fact that the investment will pay itself off.'}, {'id': 34419.2, 'text': 'This particular discussion could be better structured with multiple theses. One for the Truth \\\\(Veracity as others call it\\\\), Linkage, and Importance.'}, {'id': 34419.22, 'text': 'The multi-thesis discussion format allows for better organization and focus on the individual main points in the overarching thesis \\\\(in this situation anyway\\\\)'}, {'id': 34419.24, 'text': 'That is what I am trying to support.'}, {'id': 34419.26, 'text': 'This would increase the complexity of kialo discussions three-fold'}, {'id': 34419.28, 'text': '3\\\\) \"Linkage\". This would combine with the \"Unique Score\" to result in a \"Relevance Score\". The Relevance \\\\(Linkage and unique\\\\) Scores would be symbolized by the strength of a rope in a tug of war. Like a rope, it would determine how much strength \\\\(or force\\\\) one argument can transfer to another.'}, {'id': 34419.3, 'text': '2\\\\) \"Important.\" This score would combine with \"Truth Scores\" to determine a \"Conclusion Score.\" This score is similar to how mass combines with speed to determine force. If something were assumed to be true, what impact would it have? Also, is it true?'}, {'id': 34419.34, 'text': '4\\\\) \"Unique.\" Users could tag an argument as saying \"essentially saying the same thing\" as another argument. This action would generate a separate debate used to analyze if the two comments are saying the same thing. If the sub-argument produces 50% pros, then the second argument would only add 50% of its Conclusion Score. We could use this to generate \"better ways of saying the same thing\" by sorting by Conclusion Scores.'}, {'id': 34419.36, 'text': 'Ranked list of \"similar\" or \"better\" ways of saying the same thing, would teach AI how to group and understand what we mean.'}, {'id': 34419.38, 'text': 'The semantic web is a proposed development of the World Wide Web in which data in web pages is structured and tagged in such a way that it can be read directly by computers. Tagging groups of words as \"similar ways of saying the same thing\" helps the AI group and understand what we mean.'}, {'id': 34419.4, 'text': 'The best humans can do is update the likelihood of conclusions being true based on the strength of new evidence. Kialo allows us to evaluate the validity of evidence by analyzing the structure and performance of pro/con arguments. Therefore we should use these pro/con arguments to generate Confidence Intervals \\\\(or levels\\\\) for each conclusion based on their sub-arguments.'}, {'id': 34419.42, 'text': '6\\\\) \"Book Scores\" to identify the relative quality of pro/con books. Each conclusion could have a separate place with pro books on the left and con books on the right. We would have pro/con arguments below each book disputing the Truth and Importance of the things in the book and their Relevance \\\\(linkage and unique values\\\\) to the contested conclusion.'}, {'id': 34419.44, 'text': '5\\\\) \"Scientific Study Score\" to identify the relative quality of pro/con scientific studies. Each conclusion should have a separate place with Pro scientific studies on the left and Con scientific studies on the right. We would have pro/con arguments below each study disputing the Truth and Importance of the things in the study and their Relevance \\\\(Linkage and Unique Scores\\\\) to the contested conclusion.'}, {'id': 34419.46, 'text': 'An argument could have a lot of force or impact if it were assumed to be true. However, like a meteor in the atmosphere, it could fall apart with friction or resistance.'}, {'id': 34419.48, 'text': 'People could tag studies as \"saying essentially the same thing.\" We could use the outcome of these debates to identify Unique Scores for each scientific study and use the result of these debates to produce lists of \"Better studies that strengthen the same belief.\"'}, {'id': 34419.5, 'text': 'Without an Importance Score, there is no way to contextualize or weigh all of the arguments.'}, {'id': 34419.52, 'text': 'Ranked list of \"similar\" or \"better\" studies that support the same conclusions, would teach AI how to sort, group, and understand the likelihood of each truth.'}, {'id': 34419.54, 'text': 'We need creative ways to tie the outcome of scientific studies to our assumed truth likelihood of different beliefs.'}, {'id': 34419.56, 'text': 'The closest humans can get to \"Verified Truth\" is to use processes that update our assumed likelihood of truth based on the strength of new evidence. Kialo allows us to do this by evaluating the validity of evidence by analyzing the structure and performance of pro/con arguments. Therefore we should use these pro/con arguments to generate Confidence Intervals \\\\(or levels\\\\) for each conclusion based on their sub-arguments.'}]\n",
            "Edges: [(0, 1), (1, 4), (4, 5), (2, 4), (2, 6), (2, 7), (8, 9), (8, 10), (1, 11), (0, 12), (0, 13), (3, 13), (2, 13), (0, 14), (14, 15), (15, 16), (1, 17), (0, 18), (0, 19), (1, 20), (19, 21), (2, 22), (21, 23), (21, 24), (1, 25)]\n",
            "Graph at index 451\n",
            "------------------------\n",
            "Vertices: []\n",
            "Edges: []\n",
            "\n",
            "Graph at index 670\n",
            "------------------------\n",
            "Vertices: []\n",
            "Edges: []\n",
            "Length before: 16981, Length after: 15244\n"
          ]
        }
      ]
    },
    {
      "cell_type": "code",
      "source": [
        "print(len(cleaned_graphs_v4) - len(cleaned_graphs_v5), \"empty graphs having len(graph.vs) == 0 (<=> 0 nodes/claims) removed\")"
      ],
      "metadata": {
        "colab": {
          "base_uri": "https://localhost:8080/"
        },
        "id": "51rK5ZbW7fwu",
        "outputId": "b32349ca-861a-48b1-ab05-d795f90246c4"
      },
      "id": "51rK5ZbW7fwu",
      "execution_count": 49,
      "outputs": [
        {
          "output_type": "stream",
          "name": "stdout",
          "text": [
            "1737 empty graphs having len(graph.vs) == 0 (<=> 0 nodes/claims) removed\n"
          ]
        }
      ]
    },
    {
      "cell_type": "code",
      "source": [
        "!pip install langdetect\n",
        "import langdetect"
      ],
      "metadata": {
        "colab": {
          "base_uri": "https://localhost:8080/"
        },
        "id": "LCDJ9kM0Isxf",
        "outputId": "f8bd710c-c76b-4f5c-d7b9-fc1cd680c320"
      },
      "execution_count": 50,
      "outputs": [
        {
          "output_type": "stream",
          "name": "stdout",
          "text": [
            "Collecting langdetect\n",
            "  Downloading langdetect-1.0.9.tar.gz (981 kB)\n",
            "\u001b[?25l     \u001b[90m━━━━━━━━━━━━━━━━━━━━━━━━━━━━━━━━━━━━━━━━\u001b[0m \u001b[32m0.0/981.5 kB\u001b[0m \u001b[31m?\u001b[0m eta \u001b[36m-:--:--\u001b[0m\r\u001b[2K     \u001b[91m━━━━━━━━\u001b[0m\u001b[91m╸\u001b[0m\u001b[90m━━━━━━━━━━━━━━━━━━━━━━━━━━━━━━\u001b[0m \u001b[32m225.3/981.5 kB\u001b[0m \u001b[31m6.9 MB/s\u001b[0m eta \u001b[36m0:00:01\u001b[0m\r\u001b[2K     \u001b[91m━━━━━━━━━━━━━━━━━━━━━━━━━━━━\u001b[0m\u001b[91m╸\u001b[0m\u001b[90m━━━━━━━━━\u001b[0m \u001b[32m737.3/981.5 kB\u001b[0m \u001b[31m11.0 MB/s\u001b[0m eta \u001b[36m0:00:01\u001b[0m\r\u001b[2K     \u001b[90m━━━━━━━━━━━━━━━━━━━━━━━━━━━━━━━━━━━━━━\u001b[0m \u001b[32m981.5/981.5 kB\u001b[0m \u001b[31m10.6 MB/s\u001b[0m eta \u001b[36m0:00:00\u001b[0m\n",
            "\u001b[?25h  Preparing metadata (setup.py) ... \u001b[?25l\u001b[?25hdone\n",
            "Requirement already satisfied: six in /usr/local/lib/python3.10/dist-packages (from langdetect) (1.16.0)\n",
            "Building wheels for collected packages: langdetect\n",
            "  Building wheel for langdetect (setup.py) ... \u001b[?25l\u001b[?25hdone\n",
            "  Created wheel for langdetect: filename=langdetect-1.0.9-py3-none-any.whl size=993224 sha256=81a1254a3afc89e4e74822a628915504324added911e40bbacdb4886ea6870e0\n",
            "  Stored in directory: /root/.cache/pip/wheels/95/03/7d/59ea870c70ce4e5a370638b5462a7711ab78fba2f655d05106\n",
            "Successfully built langdetect\n",
            "Installing collected packages: langdetect\n",
            "Successfully installed langdetect-1.0.9\n"
          ]
        }
      ],
      "id": "LCDJ9kM0Isxf"
    },
    {
      "cell_type": "code",
      "source": [
        "from langdetect import detect\n",
        "import re\n",
        "\n",
        "def clean_text(text):\n",
        "    # Remove URLs and special characters to help detection\n",
        "    return re.sub(r'http\\S+|\\\\|[@#$%^&*()_+={}\\[\\]:;\"\\'<>,.?/`~\\n]', '', text)\n",
        "\n",
        "def is_sentence_english(sentence):\n",
        "    sentence_cleaned = clean_text(sentence)\n",
        "    try:\n",
        "        return detect(sentence_cleaned) == 'en'\n",
        "    except:\n",
        "        return False  # If language detection fails, assume non-English\n",
        "\n",
        "def filter_non_english_discussions(cleaned_graphs):\n",
        "    non_english_graphs = []\n",
        "    english_graphs = []\n",
        "\n",
        "    for graph in cleaned_graphs:\n",
        "        graph_ids = [int(float(node[\"name\"][\"id\"])) for node in graph.vs]\n",
        "        if graph_ids:\n",
        "            base_claim_id = min(graph_ids)\n",
        "            base_claim_text = [node[\"name\"][\"text\"] for node in graph.vs if int(float(node[\"name\"][\"id\"])) == base_claim_id][0]\n",
        "\n",
        "            if is_sentence_english(base_claim_text):\n",
        "                english_graphs.append(graph)\n",
        "            else:\n",
        "                non_english_graphs.append(base_claim_id)  # Save the ID of the base claim of the non-English discussion\n",
        "\n",
        "    print(f\"Total number of non-English graphs: {len(non_english_graphs)}\")\n",
        "    print(f\"IDs of non-English graphs: {non_english_graphs}\")\n",
        "\n",
        "    return english_graphs\n",
        "\n",
        "\n",
        "cleaned_graphs_v6 = filter_non_english_discussions(cleaned_graphs_v5)\n"
      ],
      "metadata": {
        "colab": {
          "base_uri": "https://localhost:8080/"
        },
        "id": "GIYkoxrF9qt6",
        "outputId": "cffb11b9-538b-4a95-ecdd-a4d26f62ba28"
      },
      "id": "GIYkoxrF9qt6",
      "execution_count": 55,
      "outputs": [
        {
          "output_type": "stream",
          "name": "stdout",
          "text": [
            "Total number of non-English graphs: 3907\n",
            "IDs of non-English graphs: [1137, 1232, 2659, 2785, 2823, 2881, 2964, 3344, 3396, 3622, 3782, 4664, 5109, 5306, 5525, 5531, 5604, 5783, 5934, 6067, 6113, 6121, 6124, 6133, 6136, 6142, 6150, 6152, 6155, 6198, 6230, 6298, 6309, 6319, 6354, 6360, 6400, 6663, 6695, 6908, 6912, 6921, 6966, 6968, 6973, 7052, 7163, 7206, 7223, 7265, 7312, 7314, 7343, 7353, 7358, 7368, 7371, 7378, 7383, 7395, 7407, 7438, 7446, 7458, 7469, 7479, 7482, 7535, 7575, 7576, 7577, 7578, 7726, 7727, 7733, 7767, 7769, 7789, 7827, 7832, 7833, 7854, 7856, 7859, 7862, 7866, 7869, 7889, 7894, 7910, 7917, 7966, 7968, 7973, 7981, 7988, 8007, 8010, 8013, 8038, 8040, 8047, 8061, 8095, 8110, 8145, 8179, 8202, 8203, 8207, 8241, 8273, 8313, 8317, 8327, 8330, 8354, 8362, 8365, 8376, 8379, 8389, 8391, 8393, 8396, 8415, 8418, 8444, 8454, 8456, 8459, 8462, 8486, 8519, 8532, 8552, 8553, 8565, 8611, 8632, 8654, 8656, 8663, 8671, 8680, 8683, 8726, 8732, 8760, 8766, 8775, 8801, 8832, 8835, 8861, 8868, 8871, 8884, 8896, 8905, 8930, 8934, 8937, 8954, 8972, 8990, 9016, 9036, 9064, 9069, 9079, 9081, 9082, 9087, 9112, 9116, 9131, 9151, 9153, 9154, 9159, 9163, 9164, 9168, 9175, 9181, 9183, 9205, 9211, 9215, 9220, 9223, 9242, 9275, 9305, 9313, 9346, 9365, 9368, 9379, 9404, 9406, 9413, 9429, 9445, 9449, 9472, 9475, 9477, 9490, 9491, 9493, 9494, 9495, 9498, 9521, 9541, 9554, 9559, 9582, 9653, 9654, 9664, 9676, 9701, 9739, 9740, 9742, 9743, 9757, 9773, 9820, 9826, 9861, 9865, 9923, 9936, 9943, 9957, 10007, 10023, 10024, 10047, 10105, 10111, 10122, 10142, 10147, 10165, 10198, 10249, 10256, 10298, 10336, 10345, 10351, 10365, 10379, 10386, 10409, 10426, 10428, 10439, 10447, 10466, 10473, 10477, 10490, 10495, 10497, 10501, 10502, 10503, 10504, 10511, 10516, 10533, 10535, 10537, 10542, 10551, 10563, 10594, 10597, 10615, 10620, 10630, 10637, 10644, 10656, 10670, 10673, 10693, 10704, 10705, 10708, 10709, 10710, 10714, 10717, 10728, 10733, 10734, 10739, 10742, 10743, 10751, 10757, 10761, 10775, 10778, 10785, 10789, 10791, 10792, 10793, 10800, 10802, 10805, 10810, 10811, 10812, 10813, 10815, 10829, 10835, 10836, 10856, 10860, 10864, 10873, 10879, 10893, 10906, 10907, 10908, 10914, 10921, 10929, 10934, 10943, 10952, 10959, 10961, 10971, 10972, 10984, 10987, 10989, 10992, 10993, 10994, 10997, 11000, 11006, 11007, 11010, 11015, 11019, 11020, 11023, 11027, 11032, 11033, 11038, 11041, 11065, 11066, 11068, 11070, 11071, 11073, 11082, 11090, 11097, 11100, 11102, 11111, 11127, 11129, 11131, 11137, 11138, 11142, 11146, 11147, 11149, 11160, 11169, 11173, 11185, 11190, 11192, 11195, 11196, 11199, 11204, 11207, 11211, 11215, 11217, 11220, 11223, 11224, 11229, 11231, 11235, 11236, 11237, 11239, 11241, 11244, 11245, 11246, 11247, 11249, 11254, 11257, 11259, 11262, 11269, 11280, 11283, 11293, 11298, 11302, 11304, 11314, 11322, 11323, 11326, 11331, 11332, 11333, 11336, 11338, 11345, 11347, 11352, 11359, 11363, 11368, 11389, 11392, 11396, 11404, 11405, 11412, 11421, 11422, 11424, 11426, 11435, 11452, 11459, 11461, 11475, 11477, 11481, 11482, 11484, 11485, 11491, 11498, 11499, 11501, 11520, 11522, 11523, 11524, 11526, 11529, 11536, 11537, 11539, 11549, 11552, 11554, 11555, 11569, 11574, 11575, 11584, 11598, 11601, 11603, 11604, 11607, 11626, 11641, 11654, 11655, 11656, 11661, 11663, 11664, 11667, 11670, 11674, 11676, 11677, 11681, 11703, 11711, 11736, 11742, 11743, 11744, 11753, 11758, 11759, 11764, 11768, 11787, 11789, 11790, 11791, 11793, 11794, 11806, 11819, 11825, 11827, 11829, 11832, 11863, 11871, 11880, 11886, 11887, 11888, 11892, 11900, 11901, 11904, 11911, 11917, 11922, 11948, 11959, 11965, 11967, 11971, 11990, 12003, 12004, 12012, 12022, 12033, 12037, 12044, 12048, 12051, 12053, 12056, 12058, 12059, 12062, 12065, 12066, 12071, 12074, 12083, 12097, 12099, 12105, 12114, 12122, 12125, 12143, 12148, 12149, 12161, 12162, 12167, 12172, 12173, 12175, 12185, 12191, 12192, 12201, 12204, 12205, 12220, 12221, 12242, 12245, 12250, 12252, 12256, 12258, 12262, 12274, 12287, 12292, 12296, 12300, 12302, 12309, 12312, 12315, 12322, 12323, 12336, 12345, 12351, 12362, 12370, 12380, 12381, 12386, 12388, 12396, 12401, 12405, 12409, 12410, 12412, 12418, 12419, 12420, 12425, 12432, 12436, 12445, 12451, 12452, 12455, 12456, 12457, 12468, 12470, 12481, 12484, 12485, 12498, 12499, 12504, 12507, 12508, 12509, 12513, 12523, 12530, 12544, 12547, 12549, 12550, 12561, 12564, 12578, 12584, 12592, 12598, 12607, 12609, 12612, 12624, 12633, 12635, 12642, 12643, 12659, 12662, 12668, 12679, 12682, 12683, 12693, 12694, 12697, 12698, 12701, 12704, 12711, 12714, 12715, 12716, 12719, 12723, 12725, 12728, 12730, 12732, 12733, 12737, 12739, 12751, 12762, 12767, 12770, 12789, 12790, 12794, 12813, 12814, 12816, 12817, 12819, 12823, 12827, 12842, 12853, 12855, 12856, 12857, 12880, 12888, 12890, 12898, 12922, 12928, 12935, 12937, 12938, 12960, 12962, 12974, 12999, 13008, 13010, 13026, 13040, 13041, 13044, 13046, 13101, 13104, 13118, 13190, 13216, 13233, 13243, 13252, 13331, 13368, 13438, 13450, 13470, 13475, 13489, 13490, 13491, 13499, 13510, 13513, 13521, 13541, 13562, 13582, 13607, 13633, 13646, 13653, 13681, 13745, 13746, 13749, 13750, 13752, 13755, 13781, 13815, 13847, 13864, 13871, 13891, 14002, 14020, 14031, 14040, 14065, 14066, 14099, 14130, 14160, 14171, 14174, 14222, 14226, 14239, 14247, 14273, 14277, 14296, 14307, 14308, 14309, 14383, 14384, 14426, 14429, 14455, 14457, 14475, 14611, 14679, 14694, 14703, 14728, 14748, 14749, 14750, 14751, 14772, 14784, 14831, 14863, 14895, 14906, 14933, 14940, 14944, 14961, 15053, 15082, 15105, 15110, 15146, 15150, 15232, 15283, 15343, 15358, 15362, 15364, 15385, 15389, 15425, 15429, 15441, 15444, 15445, 15476, 15478, 15490, 15500, 15531, 15540, 15564, 15580, 15592, 15598, 15622, 15660, 15723, 15737, 15755, 15759, 15782, 15802, 15803, 15806, 15812, 15813, 15815, 15897, 15898, 15935, 15940, 15990, 15995, 15997, 15999, 16046, 16054, 16066, 16085, 16086, 16090, 16097, 16102, 16110, 16118, 16135, 16146, 16149, 16156, 16158, 16187, 16189, 16206, 16243, 16281, 16302, 16366, 16368, 16371, 16375, 16388, 16390, 16451, 16457, 16470, 16471, 16474, 16497, 16498, 16520, 16550, 16570, 16581, 16614, 16623, 16649, 16673, 16693, 16702, 16727, 16767, 16799, 16807, 16822, 16831, 16832, 16835, 16869, 16902, 16916, 16943, 16948, 16949, 16960, 16983, 17015, 17017, 17024, 17031, 17057, 17059, 17118, 17134, 17171, 17187, 17192, 17193, 17194, 17195, 17196, 17197, 17199, 17230, 17271, 17383, 17624, 17636, 17637, 17640, 17647, 17655, 17686, 17705, 17726, 17731, 17752, 17769, 17790, 17809, 17817, 17818, 17823, 17826, 17828, 17853, 17864, 17894, 17906, 17910, 17918, 17927, 17941, 17950, 17966, 17968, 17971, 17976, 17980, 17986, 17987, 17992, 17995, 18008, 18016, 18021, 18070, 18084, 18092, 18093, 18095, 18104, 18137, 18142, 18162, 18167, 18169, 18193, 18204, 18228, 18234, 18245, 18248, 18260, 18281, 18295, 18311, 18320, 18321, 18350, 18365, 18369, 18391, 18397, 18407, 18421, 18439, 18445, 18447, 18448, 18458, 18463, 18464, 18468, 18471, 18499, 18506, 18515, 18525, 18557, 18565, 18628, 18659, 18660, 18662, 18667, 18688, 18693, 18704, 18709, 18736, 18737, 18857, 18860, 18870, 18872, 18887, 18910, 18912, 18916, 18917, 18933, 18960, 18979, 18980, 18987, 19001, 19006, 19009, 19052, 19062, 19063, 19064, 19074, 19097, 19098, 19129, 19133, 19143, 19146, 19148, 19162, 19175, 19194, 19232, 19253, 19255, 19265, 19271, 19339, 19385, 19394, 19401, 19404, 19413, 19428, 19554, 19669, 20986, 20988, 20989, 20998, 21002, 21005, 21010, 21026, 21028, 21042, 21046, 21092, 21108, 21110, 21112, 21113, 21120, 21123, 21149, 21151, 21155, 21158, 21175, 21186, 21188, 21218, 21220, 21228, 21243, 21269, 21278, 21289, 21294, 21317, 21318, 21319, 21386, 21393, 21394, 21400, 21401, 21403, 21404, 21408, 21414, 21417, 21427, 21432, 21438, 21445, 21459, 21461, 21463, 21467, 21475, 21481, 21486, 21487, 21489, 21500, 21505, 21508, 21510, 21514, 21515, 21527, 21530, 21537, 21538, 21544, 21545, 21558, 21559, 21560, 21564, 21569, 21570, 21572, 21576, 21579, 21581, 21585, 21587, 21591, 21599, 21605, 21611, 21623, 21642, 21644, 21649, 21658, 21667, 21669, 21675, 21678, 21681, 21683, 21686, 21689, 21693, 21697, 21698, 21704, 21759, 21762, 21767, 21775, 21776, 21779, 21788, 21801, 21806, 21820, 21821, 21835, 21840, 21841, 21842, 21846, 21858, 21859, 21864, 21872, 21877, 21879, 21881, 21889, 21902, 21904, 21906, 21916, 21919, 21928, 21932, 21935, 21941, 21944, 21961, 21962, 21966, 21969, 21971, 21972, 21989, 21994, 22001, 22006, 22007, 22016, 22018, 22019, 22038, 22040, 22043, 22045, 22058, 22060, 22072, 22073, 22075, 22078, 22080, 22086, 22093, 22094, 22096, 22109, 22114, 22117, 22118, 22119, 22122, 22129, 22131, 22135, 22138, 22140, 22144, 22149, 22151, 22155, 22159, 22161, 22171, 22173, 22175, 22186, 22187, 22197, 22201, 22207, 22208, 22215, 22221, 22223, 22229, 22231, 22235, 22242, 22248, 22254, 22257, 22258, 22264, 22265, 22272, 22283, 22288, 22296, 22301, 22314, 22326, 22332, 22335, 22348, 22358, 22365, 22366, 22370, 22373, 22374, 22376, 22379, 22387, 22394, 22396, 22405, 22409, 22411, 22420, 22422, 22425, 22426, 22433, 22435, 22441, 22449, 22451, 22455, 22460, 22472, 22480, 22495, 22502, 22508, 22514, 22517, 22518, 22525, 22553, 22556, 22563, 22566, 22571, 22573, 22578, 22579, 22598, 22603, 22613, 22619, 22622, 22631, 22633, 22647, 22650, 22652, 22658, 22676, 22678, 22681, 22685, 22694, 22696, 22700, 22702, 22706, 22715, 22720, 22729, 22732, 22740, 22743, 22750, 22760, 22762, 22767, 22769, 22789, 22793, 22794, 22797, 22798, 22799, 22805, 22809, 22813, 22818, 22823, 22824, 22829, 22833, 22836, 22837, 22851, 22855, 22858, 22861, 22864, 22866, 22873, 22879, 22894, 22903, 22904, 22909, 22912, 22915, 22922, 22923, 22926, 22927, 22928, 22940, 22953, 22959, 22968, 22976, 22984, 22995, 23000, 23001, 23035, 23041, 23063, 23065, 23076, 23103, 23143, 23150, 23151, 23152, 23202, 23225, 23246, 23290, 23301, 23302, 23308, 23311, 23319, 23334, 23372, 23376, 23390, 23426, 23434, 23442, 23467, 23478, 23514, 23523, 23535, 23547, 23554, 23576, 23577, 23585, 23598, 23602, 23621, 23642, 23648, 23652, 23657, 23667, 23668, 23671, 23672, 23677, 23684, 23689, 23696, 23697, 23699, 23700, 23702, 23703, 23710, 23745, 23749, 23753, 23765, 23767, 23768, 23775, 23779, 23820, 23822, 23866, 23872, 23875, 23880, 23882, 23883, 23890, 23894, 23896, 23908, 23913, 23916, 23920, 23922, 23924, 23951, 23955, 23971, 23976, 23978, 23991, 24017, 24021, 24027, 24048, 24063, 24076, 24103, 24145, 24161, 24181, 24216, 24235, 24236, 24253, 24257, 24273, 24279, 24312, 24318, 24319, 24377, 24389, 24393, 24421, 24425, 24454, 24456, 24463, 24577, 24600, 24601, 24641, 24645, 24660, 24690, 24725, 24733, 24742, 24747, 24762, 24763, 24802, 24807, 24809, 24812, 24844, 24873, 24880, 24888, 24889, 24891, 24895, 24912, 24945, 24958, 24961, 24963, 24971, 25012, 25016, 25020, 25030, 25031, 25033, 25034, 25043, 25051, 25069, 25079, 25098, 25099, 25115, 25118, 25127, 25138, 25139, 25167, 25176, 25186, 25204, 25213, 25221, 25224, 25227, 25228, 25237, 25238, 25247, 25252, 25253, 25269, 25280, 25292, 25296, 25304, 25313, 25334, 25345, 25351, 25366, 25368, 25371, 25428, 25440, 25456, 25491, 25495, 25514, 25569, 25571, 25576, 25588, 25596, 25608, 25621, 25623, 25627, 25631, 25637, 25645, 25655, 25689, 25698, 25699, 25702, 25703, 25707, 25743, 25744, 25745, 25746, 25747, 25759, 25760, 25779, 25780, 25794, 25812, 25855, 25856, 25881, 25891, 25894, 25895, 25902, 25915, 25917, 25965, 25972, 25977, 25983, 26005, 26012, 26024, 26034, 26035, 26036, 26037, 26038, 26058, 26180, 26182, 26227, 26231, 26270, 26305, 26307, 26312, 26343, 26364, 26379, 26434, 26443, 26448, 26462, 26520, 26521, 26525, 26526, 26532, 26544, 26657, 26661, 26668, 26669, 26670, 26693, 26699, 26718, 26731, 26744, 26752, 26754, 26755, 26779, 26791, 26794, 26799, 26801, 26805, 26806, 26810, 26813, 26815, 26821, 26822, 26827, 26852, 26875, 26909, 26918, 26931, 26932, 26939, 26944, 26952, 26953, 26968, 27015, 27020, 27037, 27056, 27116, 27121, 27126, 27127, 27129, 27143, 27166, 27167, 27169, 27173, 27176, 27191, 27212, 27216, 27237, 27247, 27250, 27273, 27290, 27299, 27300, 27309, 27350, 27353, 27385, 27406, 27410, 27413, 27415, 27436, 27443, 27444, 27457, 27496, 27512, 27525, 27560, 27579, 27585, 27587, 27596, 27621, 27636, 27646, 27649, 27651, 27654, 27655, 27671, 27675, 27684, 27724, 27732, 27734, 27736, 27760, 27784, 27798, 27799, 27838, 27874, 27910, 27912, 27928, 27933, 27960, 27962, 27978, 28004, 28013, 28015, 28016, 28017, 28025, 28060, 28079, 28084, 28085, 28089, 28090, 28094, 28101, 28114, 28156, 28158, 28165, 28172, 28191, 28209, 28216, 28217, 28239, 28248, 28267, 28272, 28295, 28298, 28306, 28389, 28412, 28424, 28436, 28456, 28461, 28476, 28488, 28497, 28512, 28513, 28525, 28543, 28555, 28572, 28573, 28587, 28591, 28607, 28636, 28679, 28691, 28701, 28703, 28713, 28716, 28745, 28775, 28784, 28785, 28786, 28788, 28793, 28796, 28799, 28800, 28808, 28827, 28832, 28847, 28875, 28885, 28913, 28924, 28943, 28968, 28983, 28991, 28995, 29009, 29053, 29058, 29060, 29073, 29085, 29098, 29101, 29103, 29120, 29128, 29161, 29164, 29175, 29176, 29180, 29204, 29210, 29216, 29218, 29219, 29220, 29223, 29228, 29231, 29275, 29284, 29292, 29304, 29324, 29326, 29330, 29331, 29347, 29352, 29353, 29369, 29386, 29419, 29424, 29437, 29463, 29466, 29472, 29474, 29480, 29481, 29482, 29493, 29501, 29515, 29528, 29532, 29533, 29556, 29611, 29621, 29629, 29633, 29648, 29653, 29693, 29730, 29740, 29742, 29746, 29753, 29777, 29778, 29804, 29829, 29859, 29862, 29877, 29881, 29883, 29898, 29910, 29912, 29923, 29926, 29931, 29940, 29942, 29963, 29982, 29983, 29984, 29985, 29986, 29987, 29988, 30006, 30013, 30027, 30048, 30072, 30073, 30107, 30138, 30149, 30165, 30190, 30201, 30214, 30230, 30250, 30253, 30290, 30291, 30297, 30315, 30326, 30370, 30377, 30406, 30421, 30423, 30424, 30444, 30485, 30489, 30492, 30513, 30526, 30552, 30569, 30577, 30614, 30619, 30620, 30622, 30633, 30662, 30671, 30692, 30733, 30749, 30789, 30791, 30815, 30817, 30832, 30833, 30850, 30867, 30911, 30928, 30938, 30940, 30944, 30952, 30962, 30973, 30977, 30997, 31053, 31055, 31074, 31083, 31084, 31088, 31091, 31092, 31110, 31120, 31121, 31122, 31134, 31166, 31187, 31199, 31208, 31209, 31212, 31227, 31229, 31239, 31245, 31251, 31276, 31288, 31319, 31348, 31350, 31355, 31393, 31400, 31535, 31541, 31549, 31566, 31567, 31635, 31636, 31651, 31654, 31666, 31669, 31670, 31672, 31673, 31674, 31690, 31692, 31708, 31709, 31710, 31711, 31723, 31724, 31736, 31753, 31756, 31771, 31774, 31787, 31794, 31799, 31822, 31824, 31844, 31910, 31918, 31919, 31920, 31921, 31929, 31951, 31954, 31966, 31979, 32019, 32027, 32054, 32114, 32126, 32132, 32134, 32138, 32161, 32164, 32182, 32189, 32190, 32194, 32201, 32218, 32226, 32229, 32230, 32231, 32232, 32251, 32260, 32264, 32265, 32274, 32280, 32281, 32282, 32283, 32295, 32298, 32301, 32483, 32501, 32503, 32523, 32524, 32527, 32533, 32554, 32555, 32583, 32584, 32585, 32586, 32587, 32594, 32599, 32603, 32659, 32677, 32682, 32693, 32694, 32697, 32706, 32713, 32735, 32761, 32766, 32793, 32807, 32815, 32817, 32825, 32837, 32840, 32846, 32864, 32870, 32883, 32902, 32962, 33001, 33010, 33043, 33062, 33131, 33132, 33166, 33169, 33172, 33179, 33210, 33271, 33304, 33335, 33340, 33342, 33361, 33401, 33450, 33451, 33462, 33477, 33487, 33493, 33499, 33500, 33506, 33509, 33545, 33564, 33601, 33611, 33698, 33712, 33726, 33727, 33775, 33780, 33807, 33830, 33831, 33832, 33839, 33846, 33883, 33896, 33904, 33922, 33931, 33951, 33965, 33968, 33978, 33991, 33995, 34014, 34030, 34031, 34038, 34039, 34048, 34050, 34086, 34091, 34113, 34133, 34140, 34146, 34167, 34172, 34188, 34189, 34200, 34210, 34230, 34231, 34236, 34237, 34245, 34254, 34266, 34280, 34291, 34339, 34360, 34361, 34370, 34409, 34411, 34427, 34521, 34527, 34537, 34545, 34571, 34604, 34621, 34658, 34661, 34684, 34687, 34712, 34721, 34729, 34747, 34755, 34756, 34763, 34771, 34774, 34807, 34808, 34815, 34841, 34856, 34871, 34889, 34910, 34940, 34966, 34967, 34968, 34970, 34973, 34974, 34975, 34978, 34979, 34984, 34986, 34989, 34993, 35001, 35026, 35031, 35033, 35052, 35082, 35120, 35140, 35203, 35204, 35242, 35249, 35252, 35259, 35320, 35325, 35338, 35345, 35423, 35433, 35442, 35448, 35454, 35460, 35462, 35472, 35483, 35497, 35510, 35538, 35540, 35579, 35590, 35591, 35622, 35652, 35665, 35669, 35687, 35722, 35723, 35729, 35777, 35778, 34200, 34210, 34230, 34231, 34236, 34237, 34245, 34254, 34266, 34280, 34291, 34339, 34360, 34361, 34370, 34409, 34411, 34427, 34521, 34527, 34537, 34545, 34571, 34604, 34621, 34658, 34661, 34684, 34687, 34712, 34721, 34729, 34747, 34755, 34756, 34763, 34771, 34774, 34807, 34808, 34815, 34841, 34856, 34871, 34889, 34910, 34940, 34966, 34967, 34968, 34970, 34973, 34974, 34975, 34978, 34979, 34984, 34986, 34989, 34993, 35001, 35026, 35031, 35033, 35052, 35082, 35120, 35140, 35203, 35204, 35210, 35242, 35249, 35252, 35259, 35320, 35325, 35338, 35345, 35423, 35433, 35442, 35448, 35454, 35460, 35462, 35472, 35483, 35497, 35510, 35538, 35540, 35579, 35590, 35591, 35622, 35652, 35665, 35669, 35687, 35722, 35723, 35729, 35777, 35778, 35844, 35910, 35922, 35933, 35937, 35939, 35942, 35943, 35949, 36064, 36116, 36122, 36175, 36191, 36196, 36229, 36230, 36231, 36232, 36260, 36279, 36319, 36330, 36334, 36338, 36361, 36522, 36523, 36580, 36624, 36639, 36658, 36671, 36685, 36715, 36717, 36734, 36735, 36736, 36737, 36738, 36739, 36740, 36743, 36744, 36745, 36746, 36747, 36748, 36749, 36750, 36751, 36752, 36753, 36754, 36755, 36756, 36758, 36759, 36760, 36761, 36762, 36763, 36765, 36766, 36767, 36768, 36769, 36770, 36771, 36773, 36783, 36788, 36843, 36869, 36895, 36900, 36912, 36922, 36924, 36933, 36947, 36956, 36957, 36959, 36980, 36983, 37000, 37018, 37033, 37052, 37133, 37190, 37229, 37252, 37253, 37262, 37302, 37308, 37312, 37314, 37325, 37371, 37422, 37452, 37473, 37476, 37513, 37532, 37598, 37774, 37775, 37781, 37845, 37859, 37871, 37934, 37957, 37977, 38006, 38025, 38026, 38065, 38069, 38081, 38125, 38147, 38162, 38167, 38186, 38221, 38229, 38263, 38265, 38278, 38327, 38338, 38345, 38361, 38362, 38378, 38382, 38408, 38457, 38469, 38470, 38478, 38502, 38509, 38510, 38512, 38513, 38515, 38523, 38596, 38612, 38613, 38614, 38615, 38616, 38619, 38623, 38626, 38635, 38652, 38660, 38675, 46645, 46665, 46704, 46706, 46757, 46793, 46803, 46808, 46831, 46838, 46850, 46851, 46864, 46873, 46907, 46910, 46923, 46927, 46957, 47044, 47047, 47050, 47053, 47068, 47077, 47081, 47093, 47105, 47114, 47115, 47119, 47134, 47140, 47142, 47144, 47148, 47156, 47164, 47192, 47204, 47205, 47216, 47218, 47228, 47229, 47285, 47298, 47299, 47300, 47312, 47321, 47331, 47334, 47336, 47357, 47373, 47397, 47408, 47411, 47437, 47444, 47449, 47454, 47456, 47457, 47464, 47484, 47534, 47545, 47572, 47599, 47620, 47626, 47628, 47641, 47649, 47651, 47652, 47678, 47682, 47690, 47716, 47720, 47760, 47770, 47776, 47807, 47809, 47835, 47845, 47868, 47876, 47894, 47895, 47899, 47902, 47905, 47911, 47912, 47915, 47916, 47917, 47919, 47921, 47922, 47933, 47937, 47953, 47955, 47956, 47961, 47963, 47967, 48003, 48019, 48023, 48075, 48089, 48108, 48123, 48125, 48126, 48131, 48137, 48138, 48139, 48145, 48147, 48149, 48150, 48162, 48176, 48180, 48186, 48191, 48192, 48200, 48201, 48208, 48219, 48279, 48283, 48305, 48309, 48339, 48351, 48372, 48375, 48404, 48411, 48415, 48447, 48461, 48474, 48486, 48491, 48492, 48510, 48511, 48522, 48547, 48552, 48560, 48562, 48569, 48591, 48596, 48606, 48645, 48654, 48658, 48678, 48680, 48718, 48727, 48728, 48732, 48744, 48754, 48761, 48768, 48777, 48807, 48808, 48811, 48816, 48817, 48823, 48841, 48856, 48862, 48864, 48866, 48870, 48873, 48897, 48899, 48904, 48913, 48914, 48915, 48920, 48950, 48964, 49004, 49006, 49034, 49063, 49072, 49075, 49106, 49107, 49110, 49111, 49123, 49131, 49142, 49184, 49189, 49192, 49197, 49207, 49212, 49226, 49228, 49236, 49241, 49246, 49254, 49267, 49269, 49273, 49306, 49308, 49311, 49340, 49342, 49353, 49367, 49372, 49403, 49420, 49428, 49457, 49460, 49474, 49492, 49510, 49512, 49579, 49586, 49609, 49619, 49620, 49626, 49628, 49636, 49656, 49675, 49716, 49730, 49753, 49766, 49772, 49773, 49774, 49820, 49821, 49824, 49869, 49885, 49894, 49934, 49945, 49960, 49962, 49964, 49970, 49994, 49997, 49998, 50002, 50008, 50009, 50025, 50027, 50034, 50043, 50064, 50094, 50096, 50105, 50116, 50144, 50153, 50180, 50182, 50205, 50209, 50214, 50227, 50233, 50250, 50253, 50275, 50277, 50292, 50295, 50303, 50306, 50307, 50311, 50348, 50354, 50358, 50366, 50377, 50386, 50417, 50419, 50422, 50432, 50433, 50439, 50446, 50448, 50457, 50458, 50459, 50462, 50467, 50486, 50493, 50535, 50548, 50575, 50576, 50605, 50629, 50642, 50645, 50654, 50670, 50716, 50719, 50724, 50732, 50744, 50748, 50751, 50781, 50800, 50814, 50831, 50833, 50845, 50870, 50874, 50905, 50906, 50909, 50929, 50934, 50935, 50940, 50952, 50959, 50987, 50997, 51006, 51030, 51037, 51042, 51063, 51064, 51085, 51087, 51107, 51128, 51152, 51193, 51230, 51271, 51293, 51312, 51323, 51393, 51396, 51417, 51511, 51513, 51516, 51517, 51611, 51637, 51642, 51643, 51644, 51646, 51647, 51658, 51664, 51668, 51669, 51670, 51672, 51730, 51766, 51770, 51796, 51814, 51817, 51826, 51839, 51863, 51869, 51890, 51895, 51904, 51923, 51929, 51950, 51978, 51980, 51988, 51990, 52026, 52029, 52044, 52058, 52103, 52112, 52227, 52245, 52254, 52265, 52324, 52333, 52380, 52387, 52439, 52441, 52568, 52584, 52585, 52608, 52632, 52638, 52684, 52701, 52713, 52721, 52749, 52779, 52787, 52805, 52815, 52816, 52880, 52915, 52924, 52989, 52992, 52993, 53005, 53006, 53013, 53021, 53033, 53036, 53053, 53054, 53062, 53063, 53071, 53169, 53171, 53190, 53196, 53238, 53239, 53240, 53242, 53243, 53260, 53272, 53285, 53286, 53328, 53345, 53348, 53366, 53368, 53370, 53423, 53501, 53502, 53503, 53548, 53651, 53653, 53662, 53666, 53667, 53670, 53701, 53702, 53703, 53705, 53731, 53745, 53748, 53755, 53763, 53766, 53795, 53814, 53822, 53823, 53867, 53881, 53888, 53919, 53941, 53964, 53973, 53996, 53999, 35844, 35910, 35916, 35922, 35933, 35937, 35939, 35942, 35943, 35949, 36007, 36064, 36116, 36122, 36175, 36191, 36196, 36229, 36230, 36231, 36232, 36260, 36279, 36319, 36330, 36334, 36338, 36361, 36448, 36522, 36523, 36580, 36624, 36639, 36658, 36671, 36685, 36715, 36717, 36734, 36735, 36736, 36737, 36738, 36739, 36740, 36743, 36744, 36745, 36746, 36747, 36748, 36749, 36750, 36751, 36752, 36753, 36754, 36755, 36756, 36758, 36759, 36760, 36761, 36762, 36763, 36765, 36766, 36767, 36768, 36769, 36770, 36771, 36773, 36783, 36788, 36843, 36869, 36895, 36900, 36912, 36922, 36924, 36947, 36956, 36957, 36959, 36980, 36983, 37000, 37018, 37033, 37052, 37133, 37190, 37229, 37252, 37253, 37262, 37302, 37308, 37312, 37314, 37325, 37371, 37422, 37452, 37473, 37476, 37499, 37502, 37513, 37532, 37598, 37774, 37775, 37781, 37845, 37859, 37871, 37934, 37957, 37977, 38006, 38025, 38026, 38065, 38069, 38081, 38125, 38147, 38162, 38167, 38186, 38221, 38229, 38263, 38265, 38278, 38327, 38338, 38361, 38362, 38378, 38382, 38408, 38457, 38469, 38470, 38478, 38493, 38502, 38509, 38510, 38512, 38513, 38515, 38523, 38596, 38612, 38614, 38615, 38616, 38619, 38623, 38626, 38635, 38652, 38660, 38675, 38753, 38805, 38821, 38824, 38831, 38855, 38858, 38865, 38868, 38929, 38952, 38959, 38989, 38990, 38993, 39041, 39043, 39072, 39080, 39090, 39125, 39158, 39201, 39204, 39226, 39258, 39264, 39265, 39298, 39328, 39340, 39360, 39371, 39404, 39422, 39431, 39432, 39438, 39480, 39487, 39528, 39529, 39575, 39588, 39592, 39609, 39612, 39616, 39695, 39713, 39736, 39740, 39741, 39767, 39871, 39874, 39875, 39890, 39902, 39925, 39937, 39954, 39972, 39979, 39980, 39990, 40009, 40020, 40097, 40115, 40248, 40250, 40277, 40294, 40297, 40301, 40316, 40382, 40390, 40391, 40423, 40479, 40488, 40491, 40512, 40517, 40554, 40562, 40563, 40577, 40578, 40579, 40580, 40606, 40608, 40614, 40640, 40661, 40663, 40668, 40677, 40703, 40712, 40715, 40722, 40730, 40731, 40732, 40738, 40742, 40744, 40794, 40831, 40832, 40836, 40844, 40852, 40874, 40883, 40890, 40893, 40933, 40950, 40951, 40953, 40980, 40995, 41004, 41051, 41054, 41055, 41082, 41094, 41096, 41099, 41102, 41103, 41114, 41116, 41130, 41131, 41147, 41167, 41181, 41194, 41195, 41203, 41204, 41206, 41209, 41210, 41215, 41216, 41218, 41219, 41221, 41223, 41224, 41225, 41227, 41229, 41231, 41233, 41234, 41235, 41236, 41237, 41240, 41241, 41242, 41244, 41246, 41248, 41249, 41250, 41251, 41252, 41253, 41255, 41256, 41257, 41259, 41260, 41261, 41262, 41265, 41266, 41269, 41270, 41271, 41272, 41273, 41274, 41276, 41277, 41279, 41281, 41282, 41283, 41284, 41286, 41288, 41291, 41293, 41294, 41295, 41297, 41298, 41299, 41300, 41301, 41302, 41303, 41304, 41305, 41320, 41323, 41325, 41340, 41343, 41353, 41372, 41442, 41445, 41453, 41458, 41459, 41461, 41466, 41467, 41468, 41518, 41519, 41522, 41525, 41530, 41531, 41535, 41536, 41537, 41540, 41541, 41546, 41548, 41556, 41558, 41559, 41561, 41585, 41594, 41674, 41713, 41755, 41770, 41783, 41790, 41809, 41818, 41824, 41825, 41852, 41867, 41884, 41933, 41981, 41989, 41991, 41993, 41998, 42003, 42016, 42021, 42039, 42056, 42057, 42058, 42069, 42109, 42110, 42121, 42150, 42154, 42163, 42175, 42179, 42180, 42198, 42200, 42209, 42213, 42237, 42239, 42258, 42262, 42273, 42294, 42339, 42358, 42362, 42375, 42379, 42380, 42382, 42402, 42403, 42404, 42405, 42406, 42407, 42410, 42442, 42463, 42466, 42467, 42470, 42497, 42498, 42500, 42506, 42508, 42509, 42515, 42516, 42520, 42522, 42551, 42558, 42581, 42593, 42597, 42601, 42602, 42606, 42607, 42640, 42650, 42651, 42672, 42674, 42686, 42696, 42698, 42711, 42724, 42725, 42729, 42735, 42739, 42747, 42757, 42758, 42764, 42765, 42780, 42789, 42798, 42800, 42815, 42819, 42824, 42855, 42870, 42892, 42901, 42907, 42912, 42923, 42932, 42964, 42968, 42980, 42994, 43000, 43002, 43007, 43010, 43018, 43033, 43049, 43051, 43052, 43056, 43062, 43065, 43083, 43092, 43102, 43145, 43178, 43187, 43188, 43189, 43202, 43204, 43209, 43218, 43229, 43234, 43237, 43239, 43243, 43244, 43248, 43255, 43264, 43265, 43300, 43301, 43305, 43313, 43338, 43339, 43340, 43346, 43377, 43390, 43401, 43412, 43413, 43414, 43444, 43445, 43458, 43459, 43487, 43510, 43531, 43543, 43553, 43557, 43579, 43587, 43591, 43593, 43596, 43600, 43619, 43620, 43623, 43624, 43625, 43626, 43630, 43631, 43639, 43641, 43643, 43644, 43653, 43654, 43655, 43657, 43664, 43691, 43703, 43706, 43767, 43776, 43834, 43841, 43858, 43866, 43880, 43881, 43891, 43894, 43897, 43969, 43987, 44109, 44117, 44132, 44211, 44257, 44263, 44265, 44295, 44441, 44513, 44527, 44529, 44564, 44624, 44666, 44668, 44712, 44729, 44756, 44782, 44791, 44792, 44802, 44803, 44807, 44809, 44842, 44875, 44896, 44905, 44908, 44944, 44976, 44989, 45051, 45065, 45099, 45100, 45101, 45126, 45129, 45130, 45142, 45198, 45199, 45214, 45247, 45262, 45296, 45306, 45309, 45313, 45333, 45342, 45365, 45366, 45390, 45457, 45464, 45478, 45484, 45524, 45527, 45547, 45608, 45629, 45642, 45653, 45666, 45687, 45693, 45694, 45698, 45745, 45759, 45762, 45775, 45778, 45813, 45866, 45882, 45885, 46003, 46016, 46038, 46041, 46108, 46119, 46129, 46151, 46158, 46173, 46192, 46199, 46221, 46227, 46231, 46237, 46239, 46253, 46260, 46303, 46397, 46439, 46452, 46507, 46516, 46550, 46616]\n"
          ]
        }
      ]
    },
    {
      "cell_type": "code",
      "source": [
        "# Step 3: Save Cleaned Data\n",
        "with open(base_path_gdrive+\"2/cleaned_graphs_v6.pkl\", \"wb\") as f:\n",
        "    pickle.dump(cleaned_graphs_v6, f)"
      ],
      "metadata": {
        "id": "7xWr5fMg_CBo"
      },
      "id": "7xWr5fMg_CBo",
      "execution_count": 61,
      "outputs": []
    },
    {
      "cell_type": "code",
      "source": [
        "def build_node_relations(graph):\n",
        "    \"\"\"\n",
        "    fct that creates a dictionary, that stores for each node its relation\n",
        "    graphs are stored in same order as the cleaned_graphs list\n",
        "    \"\"\"\n",
        "    node_relations = {}\n",
        "    for edge in graph.es:\n",
        "        source_idx = edge.source\n",
        "        relation = edge[\"relation\"]\n",
        "\n",
        "        if source_idx in node_relations:\n",
        "            node_relations[source_idx].append(relation)\n",
        "        else:\n",
        "            node_relations[source_idx] = [relation]\n",
        "\n",
        "    return node_relations\n",
        "\n",
        "# Build node_relations for all graphs\n",
        "all_node_relations_v2 = [build_node_relations(graph) for graph in cleaned_graphs_v6]\n"
      ],
      "metadata": {
        "id": "oenYFKBkfX9B"
      },
      "id": "oenYFKBkfX9B",
      "execution_count": 56,
      "outputs": []
    },
    {
      "cell_type": "code",
      "source": [
        "\n",
        "n = 10\n",
        "print_first_n_entries(all_node_relations, n)"
      ],
      "metadata": {
        "colab": {
          "base_uri": "https://localhost:8080/"
        },
        "id": "l1ZKUd3TfhWO",
        "outputId": "00bdc371-2267-48c8-8b7d-b629190c26d1"
      },
      "id": "l1ZKUd3TfhWO",
      "execution_count": 79,
      "outputs": [
        {
          "output_type": "stream",
          "name": "stdout",
          "text": [
            "Entry 1:\n",
            "Key: 0\n",
            "Value:\n",
            "Entry 2:\n",
            "Key: 0\n",
            "Value:\n",
            "Entry 3:\n",
            "Key: outgoing_nodes\n",
            "Value:\n",
            "  [151]\n",
            "\n",
            "Entry 4:\n",
            "Key: relations\n",
            "Value:\n",
            "  [0]\n",
            "\n",
            "Entry 5:\n",
            "Key: 1\n",
            "Value:\n",
            "Entry 6:\n",
            "Key: outgoing_nodes\n",
            "Value:\n",
            "  [2, 3, 10, 14, 29, 59, 100, 150, 154, 65]\n",
            "\n",
            "Entry 7:\n",
            "Key: relations\n",
            "Value:\n",
            "  [1, -1, -1, 1, 1, -1, -1, -1, 1, 1]\n",
            "\n",
            "Entry 8:\n",
            "Key: 2\n",
            "Value:\n",
            "Entry 9:\n",
            "Key: outgoing_nodes\n",
            "Value:\n",
            "  [151, 496, 497, 72, 79, 24]\n",
            "\n",
            "Entry 10:\n",
            "Key: relations\n",
            "Value:\n",
            "  [1, 1, 1, -1, -1, 1]\n",
            "\n"
          ]
        }
      ]
    },
    {
      "cell_type": "code",
      "source": [
        "NODE_INFO_PATH = base_path_gdrive+\"2/all_node_info_v2.pkl\"\n",
        "with open (NODE_INFO_PATH  , 'rb') as f:\n",
        "    all_node_info = pickle.load(f)"
      ],
      "metadata": {
        "id": "jAJ3q0rnZqMg"
      },
      "id": "jAJ3q0rnZqMg",
      "execution_count": 13,
      "outputs": []
    },
    {
      "cell_type": "code",
      "source": [
        "CLEANED_GRAPHS_V6_PATH = NODE_INFO_PATH = base_path_gdrive+\"/2/cleaned_graphs_v6.pkl\"\n",
        "with open (CLEANED_GRAPHS_V4_PATH, 'rb') as f:\n",
        "    cleaned_graphs_v4 = pickle.load(f)"
      ],
      "metadata": {
        "id": "JBvkEgM5sYXx"
      },
      "id": "JBvkEgM5sYXx",
      "execution_count": null,
      "outputs": []
    },
    {
      "cell_type": "code",
      "source": [
        "def create_node_info(cleaned_graphs):\n",
        "    node_info = {}\n",
        "\n",
        "    for graph_index, graph in enumerate(cleaned_graphs):\n",
        "        node_info[graph_index] = {}\n",
        "\n",
        "        for vertex_index, vertex in enumerate(graph.vs):\n",
        "            outgoing_edges = [edge for edge in graph.es if edge.source == vertex.index]\n",
        "            outgoing_nodes = [edge.target for edge in outgoing_edges]\n",
        "            relations = [edge[\"relation\"] for edge in outgoing_edges]\n",
        "\n",
        "            node_info[graph_index][vertex_index] = {\n",
        "                'outgoing_nodes': outgoing_nodes,\n",
        "                'relations': relations\n",
        "            }\n",
        "\n",
        "    return node_info\n",
        "\n",
        "all_node_info = create_node_info(cleaned_graphs_v6)\n"
      ],
      "metadata": {
        "id": "sFdaq1b1mZ9n"
      },
      "id": "sFdaq1b1mZ9n",
      "execution_count": 63,
      "outputs": []
    },
    {
      "cell_type": "code",
      "source": [
        "# Try saving the sample node_relations dictionary to a pickle file again\n",
        "with open(base_path_gdrive+\"2/all_node_info_v2.pkl\", 'wb') as f:\n",
        "    pickle.dump(all_node_info, f)\n",
        "\n",
        "'all_node_info_v2.pkl'"
      ],
      "metadata": {
        "colab": {
          "base_uri": "https://localhost:8080/",
          "height": 36
        },
        "id": "uEikyvekAri8",
        "outputId": "132a12f5-6951-43a8-a817-86c350cf16fc"
      },
      "id": "uEikyvekAri8",
      "execution_count": 64,
      "outputs": [
        {
          "output_type": "execute_result",
          "data": {
            "text/plain": [
              "'all_node_info_v2.pkl'"
            ],
            "application/vnd.google.colaboratory.intrinsic+json": {
              "type": "string"
            }
          },
          "metadata": {},
          "execution_count": 64
        }
      ]
    },
    {
      "cell_type": "code",
      "source": [
        "# Try saving the sample node_relations dictionary to a pickle file again\n",
        "with open(base_path_gdrive + \"1/cleaned_graphs_v4.pkl\", 'wb') as f:\n",
        "    pickle.dump(cleaned_graphs_v4, f)\n",
        "\n",
        "'cleaned_graphs_v4.pkl has been saved'"
      ],
      "metadata": {
        "id": "iIkGTHnombjc"
      },
      "id": "iIkGTHnombjc",
      "execution_count": null,
      "outputs": []
    },
    {
      "cell_type": "code",
      "source": [
        "\n",
        "n = 10\n",
        "print_first_n_entries(all_node_info, n)"
      ],
      "metadata": {
        "colab": {
          "base_uri": "https://localhost:8080/"
        },
        "id": "ZIjUbg0uqVOk",
        "outputId": "4fd9e675-d384-4cb3-e39c-6c60bd1e4fb3"
      },
      "id": "ZIjUbg0uqVOk",
      "execution_count": 78,
      "outputs": [
        {
          "output_type": "stream",
          "name": "stdout",
          "text": [
            "Entry 1:\n",
            "Key: 0\n",
            "Value:\n",
            "Entry 2:\n",
            "Key: 0\n",
            "Value:\n",
            "Entry 3:\n",
            "Key: outgoing_nodes\n",
            "Value:\n",
            "  [151]\n",
            "\n",
            "Entry 4:\n",
            "Key: relations\n",
            "Value:\n",
            "  [0]\n",
            "\n",
            "Entry 5:\n",
            "Key: 1\n",
            "Value:\n",
            "Entry 6:\n",
            "Key: outgoing_nodes\n",
            "Value:\n",
            "  [2, 3, 10, 14, 29, 59, 100, 150, 154, 65]\n",
            "\n",
            "Entry 7:\n",
            "Key: relations\n",
            "Value:\n",
            "  [1, -1, -1, 1, 1, -1, -1, -1, 1, 1]\n",
            "\n",
            "Entry 8:\n",
            "Key: 2\n",
            "Value:\n",
            "Entry 9:\n",
            "Key: outgoing_nodes\n",
            "Value:\n",
            "  [151, 496, 497, 72, 79, 24]\n",
            "\n",
            "Entry 10:\n",
            "Key: relations\n",
            "Value:\n",
            "  [1, 1, 1, -1, -1, 1]\n",
            "\n"
          ]
        }
      ]
    },
    {
      "cell_type": "code",
      "source": [
        "len(all_node_info)"
      ],
      "metadata": {
        "colab": {
          "base_uri": "https://localhost:8080/"
        },
        "id": "9Eo6uRZR8Y35",
        "outputId": "886b1501-9c51-4a44-b647-d9aecb9a5c88"
      },
      "id": "9Eo6uRZR8Y35",
      "execution_count": 80,
      "outputs": [
        {
          "output_type": "execute_result",
          "data": {
            "text/plain": [
              "11337"
            ]
          },
          "metadata": {},
          "execution_count": 80
        }
      ]
    },
    {
      "cell_type": "code",
      "source": [
        "len(cleaned_graphs_v4)"
      ],
      "metadata": {
        "colab": {
          "base_uri": "https://localhost:8080/"
        },
        "id": "qMtjni4b82qC",
        "outputId": "b89deb99-b190-4ff7-ad2f-d3dc90d1ae07"
      },
      "id": "qMtjni4b82qC",
      "execution_count": 81,
      "outputs": [
        {
          "output_type": "execute_result",
          "data": {
            "text/plain": [
              "16981"
            ]
          },
          "metadata": {},
          "execution_count": 81
        }
      ]
    },
    {
      "cell_type": "code",
      "source": [
        "all_node_info[0][0]"
      ],
      "metadata": {
        "colab": {
          "base_uri": "https://localhost:8080/"
        },
        "id": "Gr5v5dm__zo0",
        "outputId": "c016d307-b0e7-4e3e-f55e-dc349bf41ff0"
      },
      "id": "Gr5v5dm__zo0",
      "execution_count": 82,
      "outputs": [
        {
          "output_type": "execute_result",
          "data": {
            "text/plain": [
              "{'outgoing_nodes': [151], 'relations': [0]}"
            ]
          },
          "metadata": {},
          "execution_count": 82
        }
      ]
    },
    {
      "cell_type": "markdown",
      "source": [
        "## CURRENT POINT"
      ],
      "metadata": {
        "id": "CWiZqB2-Gw1d"
      },
      "id": "CWiZqB2-Gw1d"
    },
    {
      "cell_type": "code",
      "source": [
        "NODE_INFO_PATH = base_path_gdrive+\"1/all_node_info.pkl\"\n",
        "with open (NODE_INFO_PATH , 'rb') as f:\n",
        "    all_node_info = pickle.load(f)"
      ],
      "metadata": {
        "id": "qJWlMr51beeJ"
      },
      "id": "qJWlMr51beeJ",
      "execution_count": null,
      "outputs": []
    },
    {
      "cell_type": "code",
      "source": [
        "import random\n",
        "\n",
        "# Setting random seed for reproducibility\n",
        "random.seed(42)\n",
        "\n",
        "def random_traversal_debugged(cleaned_graphs, node_info):\n",
        "    all_traversal_data = []\n",
        "    duplicate_count = 0\n",
        "    skip_count = 0\n",
        "\n",
        "    for graph_index, graph in enumerate(cleaned_graphs):\n",
        "        #print(f\"Working on graph {graph_index + 1}/{len(cleaned_graphs)}\")\n",
        "\n",
        "        # Initialize\n",
        "        traversal_data = []\n",
        "\n",
        "        # Skip graphs with fewer than 3 nodes\n",
        "        if len(graph.vs) < 3:\n",
        "            #print(\"Skipping graph due to insufficient nodes.\")\n",
        "            skip_count += 1\n",
        "            continue\n",
        "\n",
        "        first_claim_id = None  # To store the first claim ID\n",
        "\n",
        "        for i in range(2):  # We are interested in two claims\n",
        "            current_node_idx = 0  # Start from the base claim\n",
        "            current_stance = 1  # Initialize stance as 1 (Pro)\n",
        "\n",
        "            # Get outgoing nodes and relations\n",
        "            outgoing_nodes = node_info[graph_index].get(current_node_idx, {}).get('outgoing_nodes', [])\n",
        "\n",
        "            if not outgoing_nodes:\n",
        "                #print(\"No outgoing nodes found, breaking loop.\")\n",
        "                break\n",
        "\n",
        "            # Choose a random next node that is not the base claim and not the first claim\n",
        "            next_node_idx = random.choice([node for node in outgoing_nodes if node != current_node_idx and node != first_claim_id])\n",
        "\n",
        "\n",
        "            claim_text = graph.vs[next_node_idx][\"name\"][\"text\"]\n",
        "            \"\"\"\n",
        "            if any(d['Claim Text'] == claim_text for d in traversal_data):\n",
        "                duplicate_count += 1\n",
        "                #print(f\"Duplicate found: {claim_text}. Total duplicates so far: {duplicate_count}\")\n",
        "                break\"\"\"\n",
        "\n",
        "            # Fetch the relation of the edge between current_node and next_node\n",
        "            relations = node_info[graph_index].get(current_node_idx, {}).get('relations', [])\n",
        "            edge_relation = relations[outgoing_nodes.index(next_node_idx)]\n",
        "            current_stance *= edge_relation\n",
        "\n",
        "            # Update traversal data\n",
        "            claim_id = graph.vs[next_node_idx][\"name\"][\"id\"]\n",
        "            traversal_data.append({\n",
        "                \"Claim ID\": claim_id,\n",
        "                \"Claim Text\": claim_text,\n",
        "                \"Stance\": current_stance\n",
        "            })\n",
        "\n",
        "            # Update the first_claim_id if this is the first iteration\n",
        "            if i == 0:\n",
        "                first_claim_id = claim_id\n",
        "\n",
        "        # Add the traversal data for this graph to the all_traversal_data list\n",
        "        all_traversal_data.append(traversal_data)\n",
        "    print(\"number of graphs skipped \", skip_count)\n",
        "    return all_traversal_data, duplicate_count\n",
        "# Example usage\n",
        "#traversal_data, duplicate_count = random_traversal_debugged(cleaned_graphs_v4, all_node_info)\n",
        "#print(f\"Total number of duplicates found: {duplicate_count}\")\n"
      ],
      "metadata": {
        "id": "kPePGtn2HpFW"
      },
      "id": "kPePGtn2HpFW",
      "execution_count": 120,
      "outputs": []
    },
    {
      "cell_type": "code",
      "source": [
        "traversal_data_2, duplicate_count_2 = random_traversal_debugged(cleaned_graphs_v6, all_node_info)"
      ],
      "metadata": {
        "colab": {
          "base_uri": "https://localhost:8080/"
        },
        "id": "p_0TJn882d2I",
        "outputId": "e01dd886-91e7-4bb3-d972-766e3b2d3631"
      },
      "id": "p_0TJn882d2I",
      "execution_count": 121,
      "outputs": [
        {
          "output_type": "stream",
          "name": "stdout",
          "text": [
            "number of graphs skipped  3499\n"
          ]
        }
      ]
    },
    {
      "cell_type": "markdown",
      "source": [
        "## Reorganizing the data for probing"
      ],
      "metadata": {
        "id": "fCH9jn5AjlOS"
      },
      "id": "fCH9jn5AjlOS"
    },
    {
      "cell_type": "code",
      "source": [
        "def create_base_claim_dict(cleaned_graphs):\n",
        "    base_claim_dict = {}\n",
        "    for graph in cleaned_graphs:\n",
        "        graph_ids = [int(float(node[\"name\"][\"id\"])) for node in graph.vs]\n",
        "        if graph_ids:\n",
        "          base_claim_id = min(graph_ids)\n",
        "          base_claim_text = [node[\"name\"][\"text\"] for node in graph.vs if int(float(node[\"name\"][\"id\"])) == base_claim_id][0]\n",
        "          discussion_id = base_claim_id // 1  # get the integer part of the base claim ID\n",
        "          base_claim_dict[discussion_id] = (base_claim_text, base_claim_id)\n",
        "    return base_claim_dict\n",
        "\n",
        "base_claim_dict = create_base_claim_dict(cleaned_graphs_v6)\n"
      ],
      "metadata": {
        "id": "NxIAda9ekjiE"
      },
      "id": "NxIAda9ekjiE",
      "execution_count": 84,
      "outputs": []
    },
    {
      "cell_type": "code",
      "source": [
        "print_first_n_entries(base_claim_dict, n )"
      ],
      "metadata": {
        "id": "PVsDCq2nk2-w",
        "colab": {
          "base_uri": "https://localhost:8080/"
        },
        "outputId": "f2f6746b-a7a3-4c37-b8b8-54ba0138a3b2"
      },
      "id": "PVsDCq2nk2-w",
      "execution_count": 86,
      "outputs": [
        {
          "output_type": "stream",
          "name": "stdout",
          "text": [
            "Entry 1:\n",
            "Key: 333\n",
            "Value:\n",
            "  ('Anonymous currency discussions', 333)\n",
            "\n",
            "Entry 2:\n",
            "Key: 444\n",
            "Value:\n",
            "  ('There should be a 100% inheritance tax on all inherited wealth above 1 million Euros.', 444)\n",
            "\n",
            "Entry 3:\n",
            "Key: 486\n",
            "Value:\n",
            "  ('The West should build working autonomous killing machines \\\\(AKMs\\\\) as quickly as possible.', 486)\n",
            "\n",
            "Entry 4:\n",
            "Key: 801\n",
            "Value:\n",
            "  ('Capital punishment should be abolished in the United States.', 801)\n",
            "\n",
            "Entry 5:\n",
            "Key: 864\n",
            "Value:\n",
            "  ('The world would be better off without organized religion.', 864)\n",
            "\n",
            "Entry 6:\n",
            "Key: 921\n",
            "Value:\n",
            "  ('God is an invention of the elites and religious rules are made to ensure and enhance their power.', 921)\n",
            "\n",
            "Entry 7:\n",
            "Key: 939\n",
            "Value:\n",
            "  ('Polygamy should be legal.', 939)\n",
            "\n",
            "Entry 8:\n",
            "Key: 946\n",
            "Value:\n",
            "  (\"What is the EU's best strategy to deal with refugees coming from Africa and Near/Middle East?\", 946)\n",
            "\n",
            "Entry 9:\n",
            "Key: 963\n",
            "Value:\n",
            "  ('Parental consent should be required for pregnant minors to have abortions.', 963)\n",
            "\n",
            "Entry 10:\n",
            "Key: 969\n",
            "Value:\n",
            "  ('The right of political asylum...', 969)\n",
            "\n"
          ]
        }
      ]
    },
    {
      "cell_type": "code",
      "source": [
        "def get_base_claim(claim_id):\n",
        "    discussion_id = int(float(claim_id))\n",
        "    base_claim_text, _ = base_claim_dict.get(discussion_id, (None, None))\n",
        "    return base_claim_text"
      ],
      "metadata": {
        "id": "E-244wZylh8F"
      },
      "id": "E-244wZylh8F",
      "execution_count": 87,
      "outputs": []
    },
    {
      "cell_type": "code",
      "source": [
        "import pandas as pd\n",
        "from sklearn.model_selection import train_test_split\n",
        "from tqdm import tqdm\n",
        "\n",
        "def organize_and_create_dataframe_final(traversal_data, cleaned_graphs):\n",
        "    data = []\n",
        "\n",
        "    for idx, claim_group in tqdm(enumerate(traversal_data)):\n",
        "        # Safety checks\n",
        "        if len(claim_group) >= 2:\n",
        "            claim1 = claim_group[0]\n",
        "            claim2 = claim_group[1]\n",
        "\n",
        "            if 'Claim Text' in claim1 and 'Stance' in claim1 and 'Claim ID' in claim1 and \\\n",
        "               'Claim Text' in claim2 and 'Stance' in claim2:\n",
        "                claim1_text = claim1['Claim Text']\n",
        "                stance1 = claim1['Stance']\n",
        "                claim2_text = claim2['Claim Text']\n",
        "                stance2 = claim2['Stance']\n",
        "                label = 1 if stance1 == stance2 else 0\n",
        "                claim1_id = claim1[\"Claim ID\"]\n",
        "                base_claim = get_base_claim(claim1_id)\n",
        "\n",
        "\n",
        "            if base_claim and (claim1_text != claim2_text):  # Only add if a base claim exists and claims are not the same\n",
        "              data.append(((claim1_text, claim2_text), \"\", base_claim, \"Pro\" if label == 1 else \"Con\", idx, label, label))\n",
        "    # Create DataFrame\n",
        "    df = pd.DataFrame(data, columns=['inputs', 'context', 'topic', 'org_label', 'id', 'string_label', 'label'])\n",
        "\n",
        "    # Split Data\n",
        "    train, test = train_test_split(df, test_size=0.2, random_state=42)\n",
        "    train, dev = train_test_split(train, test_size=0.25, random_state=42)\n",
        "\n",
        "    # Assign set\n",
        "    train['set-0'] = 'train'\n",
        "    dev['set-0'] = 'dev'\n",
        "    test['set-0'] = 'test'\n",
        "\n",
        "    # Combine and Save\n",
        "    final_df = pd.concat([train, dev, test])\n",
        "\n",
        "    # Saving to Google Drive\n",
        "    final_df.to_csv('/content/drive/MyDrive/Can Language Models Follow Discussions?/1/folds_1_v4.csv', index=True)\n",
        "\n",
        "    return final_df\n",
        "\n",
        "# Call function\n",
        "#organize_and_create_dataframe_final(traversal_data,cleaned_graphs_v4)"
      ],
      "metadata": {
        "id": "ja-jFH21MmCh"
      },
      "id": "ja-jFH21MmCh",
      "execution_count": 122,
      "outputs": []
    },
    {
      "cell_type": "code",
      "source": [
        "probing_1_df = organize_and_create_dataframe_final(traversal_data_2,cleaned_graphs_v6)"
      ],
      "metadata": {
        "colab": {
          "base_uri": "https://localhost:8080/"
        },
        "id": "pVzG46TX2ydx",
        "outputId": "13b15403-99cc-4251-cd5c-18cad40cda5d"
      },
      "id": "pVzG46TX2ydx",
      "execution_count": 123,
      "outputs": [
        {
          "output_type": "stream",
          "name": "stderr",
          "text": [
            "7838it [00:00, 361426.08it/s]\n"
          ]
        }
      ]
    },
    {
      "cell_type": "code",
      "source": [
        "\"\"\"def get_base_claim_v0(claim_id, cleaned_graphs):\n",
        "    discussion_id = int(claim_id)  # Extract the integer part of the claim ID\n",
        "    #print(\"discussion id= \", discussion_id)\n",
        "    for graph in cleaned_graphs:\n",
        "        graph_discussion_id = int(graph.vs[0][\"name\"][\"id\"])\n",
        "        #print(graph_discussion_id)\n",
        "        if graph_discussion_id == discussion_id:\n",
        "            print(\"one after base claim : \\n\",graph.vs[1][\"name\"][\"id\"], graph.vs[1][\"name\"][\"text\"],\"\\nbase claim :\")\n",
        "            return graph.vs[0][\"name\"][\"text\"], graph.vs[0][\"name\"][\"id\"]\n",
        "    return None  # If the base claim wasn't found\n",
        "\n",
        "# Example usage\n",
        "claim_id = 1474.146\n",
        "base_claim = get_base_claim_v0(claim_id, cleaned_graphs_v4)\n",
        "print(base_claim)\"\"\""
      ],
      "metadata": {
        "colab": {
          "base_uri": "https://localhost:8080/"
        },
        "id": "GeKFGHQAPIp7",
        "outputId": "926294de-8420-42a1-afab-37868e0ec4f3"
      },
      "id": "GeKFGHQAPIp7",
      "execution_count": null,
      "outputs": [
        {
          "output_type": "stream",
          "name": "stdout",
          "text": [
            "one after base claim : \n",
            " 1474.144 Widespread public awareness of a sufficiently cruel punishment is likely to deter even those who struggle with self control. \n",
            "base claim :\n",
            "('This is particularly true for the kind of crimes that attract the death penalty.', 1474.143)\n"
          ]
        }
      ]
    },
    {
      "cell_type": "code",
      "source": [
        " #get_base_claim_v0(1715.444, cleaned_graphs_v4)"
      ],
      "metadata": {
        "colab": {
          "base_uri": "https://localhost:8080/"
        },
        "id": "qgsGAnYUbUd4",
        "outputId": "cb69f0b0-d674-46e7-bb8c-04696428f86a"
      },
      "id": "qgsGAnYUbUd4",
      "execution_count": null,
      "outputs": [
        {
          "output_type": "stream",
          "name": "stdout",
          "text": [
            "one after base claim : \n",
            " 1715.3 Affirmative action reinforces negative racial stigmas. \n",
            "base claim :\n"
          ]
        },
        {
          "output_type": "execute_result",
          "data": {
            "text/plain": [
              "('It is time to end [affirmative action](http://www.ncsl.org/research/education/affirmative-action-overview.aspx) in college admissions.',\n",
              " 1715.1)"
            ]
          },
          "metadata": {},
          "execution_count": 123
        }
      ]
    },
    {
      "cell_type": "markdown",
      "source": [
        "We can observe that the base claim isnt always at the 1st position therefore we access it by using min"
      ],
      "metadata": {
        "id": "fLgkt6MrcwVs"
      },
      "id": "fLgkt6MrcwVs"
    },
    {
      "cell_type": "code",
      "source": [
        "def get_base_claim_deprecated(claim_id, cleaned_graphs):\n",
        "    \"\"\"\n",
        "    finds base claim by taking the smallest node id per graph (min)\n",
        "    \"\"\"\n",
        "    discussion_id = int(float(claim_id))  # Handles claim IDs with multiple decimal points\n",
        "    for graph in cleaned_graphs:\n",
        "        graph_ids = [int(float(node[\"name\"][\"id\"])) for node in graph.vs]\n",
        "        if discussion_id in graph_ids:\n",
        "            base_claim_id = min([node[\"name\"][\"id\"] for node in graph.vs if int(float(node[\"name\"][\"id\"])) == discussion_id])\n",
        "            base_claim_text = [node[\"name\"][\"text\"] for node in graph.vs if node[\"name\"][\"id\"] == base_claim_id][0]\n",
        "            return base_claim_text, base_claim_id\n",
        "    return None  # If the base claim wasn't found\n",
        "\n",
        "# Example usage\n",
        "claim_id = 1715.444\n",
        "base_claim = get_base_claim(claim_id, cleaned_graphs_v4)\n",
        "print(base_claim)\n"
      ],
      "metadata": {
        "id": "LX2aNjYHa7Ye"
      },
      "id": "LX2aNjYHa7Ye",
      "execution_count": null,
      "outputs": []
    },
    {
      "cell_type": "code",
      "source": [
        " get_base_claim(1470.7, cleaned_graphs_v4)"
      ],
      "metadata": {
        "colab": {
          "base_uri": "https://localhost:8080/"
        },
        "id": "_iIHIuRAQtqz",
        "outputId": "17d7c8a6-e2be-460d-ec37-984ad157c034"
      },
      "id": "_iIHIuRAQtqz",
      "execution_count": null,
      "outputs": [
        {
          "output_type": "execute_result",
          "data": {
            "text/plain": [
              "('Convicted felons in the United States \\\\(that is: sentenced of a crime punishable with at least one year in prison or death\\\\) should permanently lose their voting rights.',\n",
              " 1470.1)"
            ]
          },
          "metadata": {},
          "execution_count": 49
        }
      ]
    },
    {
      "cell_type": "code",
      "source": [
        " get_base_claim(1715.444, cleaned_graphs_v4)"
      ],
      "metadata": {
        "colab": {
          "base_uri": "https://localhost:8080/"
        },
        "id": "YfOI0r_PQ6Lj",
        "outputId": "30b08ab9-ba7b-41af-9bfe-56b91d6ff520"
      },
      "id": "YfOI0r_PQ6Lj",
      "execution_count": null,
      "outputs": [
        {
          "output_type": "execute_result",
          "data": {
            "text/plain": [
              "('It is time to end [affirmative action](http://www.ncsl.org/research/education/affirmative-action-overview.aspx) in college admissions.',\n",
              " 1715.1)"
            ]
          },
          "metadata": {},
          "execution_count": 119
        }
      ]
    },
    {
      "cell_type": "code",
      "source": [
        "print(len(traversal_data), traversal_data)"
      ],
      "metadata": {
        "colab": {
          "base_uri": "https://localhost:8080/"
        },
        "id": "uHvJYsmLAOZr",
        "outputId": "7e9da76f-d8bc-44b9-aa77-c7a7b2538e88"
      },
      "id": "uHvJYsmLAOZr",
      "execution_count": null,
      "outputs": [
        {
          "output_type": "stream",
          "name": "stdout",
          "text": [
            "2 [{'Claim ID': 0, 'Claim Text': 'Deberían existir las redes de pesca?', 'Stance': 1}, {'Claim ID': 0, 'Claim Text': 'Deberían existir las redes de pesca?', 'Stance': 1}]\n"
          ]
        }
      ]
    },
    {
      "cell_type": "code",
      "execution_count": null,
      "outputs": [
        {
          "data": {
            "text/plain": "333.3"
          },
          "execution_count": 51,
          "metadata": {},
          "output_type": "execute_result"
        }
      ],
      "source": [
        "cleaned_graphs_v4[0].es[1].target_vertex[\"name\"][\"id\"]"
      ],
      "metadata": {
        "ExecuteTime": {
          "end_time": "2023-10-03T12:26:09.286494300Z",
          "start_time": "2023-10-03T12:26:08.987565300Z"
        },
        "id": "ddf2e098ae6ab95d",
        "outputId": "5eefb002-035b-4ebd-888a-348b7fa672e5"
      },
      "id": "ddf2e098ae6ab95d"
    },
    {
      "cell_type": "code",
      "execution_count": null,
      "outputs": [
        {
          "data": {
            "text/plain": "333.2"
          },
          "execution_count": 36,
          "metadata": {},
          "output_type": "execute_result"
        }
      ],
      "source": [
        "cleaned_graphs_v4[0].es[0].target_vertex[\"name\"][\"id\"]"
      ],
      "metadata": {
        "ExecuteTime": {
          "end_time": "2023-10-03T12:04:05.351604Z",
          "start_time": "2023-10-03T12:04:05.055108700Z"
        },
        "id": "daabb66a845df0e6",
        "outputId": "007cd6c4-7406-456e-edb5-dd6ec523d974"
      },
      "id": "daabb66a845df0e6"
    },
    {
      "cell_type": "code",
      "execution_count": null,
      "outputs": [],
      "source": [
        "import random\n",
        "import igraph as ig\n",
        "\n",
        "\n",
        "# Function to calculate max depth from the base claim\n",
        "def calculate_max_depth(graph, base_claim_index=0):\n",
        "    return max([len(path) for path in graph.get_all_shortest_paths(base_claim_index)])\n",
        "\n"
      ],
      "metadata": {
        "ExecuteTime": {
          "start_time": "2023-10-02T18:51:40.761339600Z"
        },
        "id": "25693abee2dd80e3"
      },
      "id": "25693abee2dd80e3"
    },
    {
      "cell_type": "code",
      "source": [
        "import pandas as pd\n",
        "df = pd.read_csv('/content/drive/MyDrive/Can Language Models Follow Discussions?/1/probing files v1/folds_1_v3 (1).csv')"
      ],
      "metadata": {
        "id": "ivVSfVLfEVzI"
      },
      "id": "ivVSfVLfEVzI",
      "execution_count": null,
      "outputs": []
    },
    {
      "cell_type": "code",
      "source": [
        "df"
      ],
      "metadata": {
        "colab": {
          "base_uri": "https://localhost:8080/",
          "height": 424
        },
        "id": "UsS07T9gEy_4",
        "outputId": "cfad9f85-c406-471b-eb06-8f0e6514f842"
      },
      "id": "UsS07T9gEy_4",
      "execution_count": null,
      "outputs": [
        {
          "output_type": "execute_result",
          "data": {
            "text/plain": [
              "      index                                             inputs  ...  label  set-0\n",
              "0         0  ('För mycket jobb att tänka på detta som stör ...  ...      0  train\n",
              "1         1  ('YES! When people do something so horrific, t...  ...      0  train\n",
              "2         2  ('We would get a better understanding of the c...  ...      1  train\n",
              "3         3  ('This would make it easier for fresh faces wi...  ...      0  train\n",
              "4         4  ('Friendships with ex-partners are likely to b...  ...      1  train\n",
              "...     ...                                                ...  ...    ...    ...\n",
              "7237   7237  ('Maus es una ficción porque a pesar de estar ...  ...      1   test\n",
              "7238   7238  ('Article 11\\\\(1\\\\) prohibits for-profit web s...  ...      1   test\n",
              "7239   7239  ('Modern industrial medicine has improved heal...  ...      1   test\n",
              "7240   7240  ('Emotions relate to ethical judgements.', 'Em...  ...      1   test\n",
              "7241   7241  ('Best remote trek of Nepal', 'Nice cultural e...  ...      1   test\n",
              "\n",
              "[7242 rows x 8 columns]"
            ],
            "text/html": [
              "\n",
              "  <div id=\"df-3109a7bc-c53d-4895-8fa3-64350fcb1704\" class=\"colab-df-container\">\n",
              "    <div>\n",
              "<style scoped>\n",
              "    .dataframe tbody tr th:only-of-type {\n",
              "        vertical-align: middle;\n",
              "    }\n",
              "\n",
              "    .dataframe tbody tr th {\n",
              "        vertical-align: top;\n",
              "    }\n",
              "\n",
              "    .dataframe thead th {\n",
              "        text-align: right;\n",
              "    }\n",
              "</style>\n",
              "<table border=\"1\" class=\"dataframe\">\n",
              "  <thead>\n",
              "    <tr style=\"text-align: right;\">\n",
              "      <th></th>\n",
              "      <th>index</th>\n",
              "      <th>inputs</th>\n",
              "      <th>context</th>\n",
              "      <th>topic</th>\n",
              "      <th>org_label</th>\n",
              "      <th>string_label</th>\n",
              "      <th>label</th>\n",
              "      <th>set-0</th>\n",
              "    </tr>\n",
              "  </thead>\n",
              "  <tbody>\n",
              "    <tr>\n",
              "      <th>0</th>\n",
              "      <td>0</td>\n",
              "      <td>('För mycket jobb att tänka på detta som stör ...</td>\n",
              "      <td>NaN</td>\n",
              "      <td>Ska Arcada gå inför en aktivitetsbaserad arbet...</td>\n",
              "      <td>Con</td>\n",
              "      <td>0</td>\n",
              "      <td>0</td>\n",
              "      <td>train</td>\n",
              "    </tr>\n",
              "    <tr>\n",
              "      <th>1</th>\n",
              "      <td>1</td>\n",
              "      <td>('YES! When people do something so horrific, t...</td>\n",
              "      <td>NaN</td>\n",
              "      <td>Should the death penalty be allowed?</td>\n",
              "      <td>Con</td>\n",
              "      <td>0</td>\n",
              "      <td>0</td>\n",
              "      <td>train</td>\n",
              "    </tr>\n",
              "    <tr>\n",
              "      <th>2</th>\n",
              "      <td>2</td>\n",
              "      <td>('We would get a better understanding of the c...</td>\n",
              "      <td>NaN</td>\n",
              "      <td>Should college cost be more regulated by the g...</td>\n",
              "      <td>Pro</td>\n",
              "      <td>1</td>\n",
              "      <td>1</td>\n",
              "      <td>train</td>\n",
              "    </tr>\n",
              "    <tr>\n",
              "      <th>3</th>\n",
              "      <td>3</td>\n",
              "      <td>('This would make it easier for fresh faces wi...</td>\n",
              "      <td>NaN</td>\n",
              "      <td>Congress should have limited terms.</td>\n",
              "      <td>Con</td>\n",
              "      <td>0</td>\n",
              "      <td>0</td>\n",
              "      <td>train</td>\n",
              "    </tr>\n",
              "    <tr>\n",
              "      <th>4</th>\n",
              "      <td>4</td>\n",
              "      <td>('Friendships with ex-partners are likely to b...</td>\n",
              "      <td>NaN</td>\n",
              "      <td>Should I stay friends with my ex-partner while...</td>\n",
              "      <td>Pro</td>\n",
              "      <td>1</td>\n",
              "      <td>1</td>\n",
              "      <td>train</td>\n",
              "    </tr>\n",
              "    <tr>\n",
              "      <th>...</th>\n",
              "      <td>...</td>\n",
              "      <td>...</td>\n",
              "      <td>...</td>\n",
              "      <td>...</td>\n",
              "      <td>...</td>\n",
              "      <td>...</td>\n",
              "      <td>...</td>\n",
              "      <td>...</td>\n",
              "    </tr>\n",
              "    <tr>\n",
              "      <th>7237</th>\n",
              "      <td>7237</td>\n",
              "      <td>('Maus es una ficción porque a pesar de estar ...</td>\n",
              "      <td>NaN</td>\n",
              "      <td>Maus es una no ficción porque trata acerca de ...</td>\n",
              "      <td>Pro</td>\n",
              "      <td>1</td>\n",
              "      <td>1</td>\n",
              "      <td>test</td>\n",
              "    </tr>\n",
              "    <tr>\n",
              "      <th>7238</th>\n",
              "      <td>7238</td>\n",
              "      <td>('Article 11\\\\(1\\\\) prohibits for-profit web s...</td>\n",
              "      <td>NaN</td>\n",
              "      <td>The EU was right to approve the [Directive on ...</td>\n",
              "      <td>Pro</td>\n",
              "      <td>1</td>\n",
              "      <td>1</td>\n",
              "      <td>test</td>\n",
              "    </tr>\n",
              "    <tr>\n",
              "      <th>7239</th>\n",
              "      <td>7239</td>\n",
              "      <td>('Modern industrial medicine has improved heal...</td>\n",
              "      <td>NaN</td>\n",
              "      <td>Has the Industrial Revolution and its conseque...</td>\n",
              "      <td>Pro</td>\n",
              "      <td>1</td>\n",
              "      <td>1</td>\n",
              "      <td>test</td>\n",
              "    </tr>\n",
              "    <tr>\n",
              "      <th>7240</th>\n",
              "      <td>7240</td>\n",
              "      <td>('Emotions relate to ethical judgements.', 'Em...</td>\n",
              "      <td>NaN</td>\n",
              "      <td>Are our emotions a useful potential source of ...</td>\n",
              "      <td>Pro</td>\n",
              "      <td>1</td>\n",
              "      <td>1</td>\n",
              "      <td>test</td>\n",
              "    </tr>\n",
              "    <tr>\n",
              "      <th>7241</th>\n",
              "      <td>7241</td>\n",
              "      <td>('Best remote trek of Nepal', 'Nice cultural e...</td>\n",
              "      <td>NaN</td>\n",
              "      <td>Manaslu Circuit Trek is one of the best Trek a...</td>\n",
              "      <td>Pro</td>\n",
              "      <td>1</td>\n",
              "      <td>1</td>\n",
              "      <td>test</td>\n",
              "    </tr>\n",
              "  </tbody>\n",
              "</table>\n",
              "<p>7242 rows × 8 columns</p>\n",
              "</div>\n",
              "    <div class=\"colab-df-buttons\">\n",
              "\n",
              "  <div class=\"colab-df-container\">\n",
              "    <button class=\"colab-df-convert\" onclick=\"convertToInteractive('df-3109a7bc-c53d-4895-8fa3-64350fcb1704')\"\n",
              "            title=\"Convert this dataframe to an interactive table.\"\n",
              "            style=\"display:none;\">\n",
              "\n",
              "  <svg xmlns=\"http://www.w3.org/2000/svg\" height=\"24px\" viewBox=\"0 -960 960 960\">\n",
              "    <path d=\"M120-120v-720h720v720H120Zm60-500h600v-160H180v160Zm220 220h160v-160H400v160Zm0 220h160v-160H400v160ZM180-400h160v-160H180v160Zm440 0h160v-160H620v160ZM180-180h160v-160H180v160Zm440 0h160v-160H620v160Z\"/>\n",
              "  </svg>\n",
              "    </button>\n",
              "\n",
              "  <style>\n",
              "    .colab-df-container {\n",
              "      display:flex;\n",
              "      gap: 12px;\n",
              "    }\n",
              "\n",
              "    .colab-df-convert {\n",
              "      background-color: #E8F0FE;\n",
              "      border: none;\n",
              "      border-radius: 50%;\n",
              "      cursor: pointer;\n",
              "      display: none;\n",
              "      fill: #1967D2;\n",
              "      height: 32px;\n",
              "      padding: 0 0 0 0;\n",
              "      width: 32px;\n",
              "    }\n",
              "\n",
              "    .colab-df-convert:hover {\n",
              "      background-color: #E2EBFA;\n",
              "      box-shadow: 0px 1px 2px rgba(60, 64, 67, 0.3), 0px 1px 3px 1px rgba(60, 64, 67, 0.15);\n",
              "      fill: #174EA6;\n",
              "    }\n",
              "\n",
              "    .colab-df-buttons div {\n",
              "      margin-bottom: 4px;\n",
              "    }\n",
              "\n",
              "    [theme=dark] .colab-df-convert {\n",
              "      background-color: #3B4455;\n",
              "      fill: #D2E3FC;\n",
              "    }\n",
              "\n",
              "    [theme=dark] .colab-df-convert:hover {\n",
              "      background-color: #434B5C;\n",
              "      box-shadow: 0px 1px 3px 1px rgba(0, 0, 0, 0.15);\n",
              "      filter: drop-shadow(0px 1px 2px rgba(0, 0, 0, 0.3));\n",
              "      fill: #FFFFFF;\n",
              "    }\n",
              "  </style>\n",
              "\n",
              "    <script>\n",
              "      const buttonEl =\n",
              "        document.querySelector('#df-3109a7bc-c53d-4895-8fa3-64350fcb1704 button.colab-df-convert');\n",
              "      buttonEl.style.display =\n",
              "        google.colab.kernel.accessAllowed ? 'block' : 'none';\n",
              "\n",
              "      async function convertToInteractive(key) {\n",
              "        const element = document.querySelector('#df-3109a7bc-c53d-4895-8fa3-64350fcb1704');\n",
              "        const dataTable =\n",
              "          await google.colab.kernel.invokeFunction('convertToInteractive',\n",
              "                                                    [key], {});\n",
              "        if (!dataTable) return;\n",
              "\n",
              "        const docLinkHtml = 'Like what you see? Visit the ' +\n",
              "          '<a target=\"_blank\" href=https://colab.research.google.com/notebooks/data_table.ipynb>data table notebook</a>'\n",
              "          + ' to learn more about interactive tables.';\n",
              "        element.innerHTML = '';\n",
              "        dataTable['output_type'] = 'display_data';\n",
              "        await google.colab.output.renderOutput(dataTable, element);\n",
              "        const docLink = document.createElement('div');\n",
              "        docLink.innerHTML = docLinkHtml;\n",
              "        element.appendChild(docLink);\n",
              "      }\n",
              "    </script>\n",
              "  </div>\n",
              "\n",
              "\n",
              "<div id=\"df-47d6a8a8-046f-4827-85f2-7db513abbe55\">\n",
              "  <button class=\"colab-df-quickchart\" onclick=\"quickchart('df-47d6a8a8-046f-4827-85f2-7db513abbe55')\"\n",
              "            title=\"Suggest charts.\"\n",
              "            style=\"display:none;\">\n",
              "\n",
              "<svg xmlns=\"http://www.w3.org/2000/svg\" height=\"24px\"viewBox=\"0 0 24 24\"\n",
              "     width=\"24px\">\n",
              "    <g>\n",
              "        <path d=\"M19 3H5c-1.1 0-2 .9-2 2v14c0 1.1.9 2 2 2h14c1.1 0 2-.9 2-2V5c0-1.1-.9-2-2-2zM9 17H7v-7h2v7zm4 0h-2V7h2v10zm4 0h-2v-4h2v4z\"/>\n",
              "    </g>\n",
              "</svg>\n",
              "  </button>\n",
              "\n",
              "<style>\n",
              "  .colab-df-quickchart {\n",
              "      --bg-color: #E8F0FE;\n",
              "      --fill-color: #1967D2;\n",
              "      --hover-bg-color: #E2EBFA;\n",
              "      --hover-fill-color: #174EA6;\n",
              "      --disabled-fill-color: #AAA;\n",
              "      --disabled-bg-color: #DDD;\n",
              "  }\n",
              "\n",
              "  [theme=dark] .colab-df-quickchart {\n",
              "      --bg-color: #3B4455;\n",
              "      --fill-color: #D2E3FC;\n",
              "      --hover-bg-color: #434B5C;\n",
              "      --hover-fill-color: #FFFFFF;\n",
              "      --disabled-bg-color: #3B4455;\n",
              "      --disabled-fill-color: #666;\n",
              "  }\n",
              "\n",
              "  .colab-df-quickchart {\n",
              "    background-color: var(--bg-color);\n",
              "    border: none;\n",
              "    border-radius: 50%;\n",
              "    cursor: pointer;\n",
              "    display: none;\n",
              "    fill: var(--fill-color);\n",
              "    height: 32px;\n",
              "    padding: 0;\n",
              "    width: 32px;\n",
              "  }\n",
              "\n",
              "  .colab-df-quickchart:hover {\n",
              "    background-color: var(--hover-bg-color);\n",
              "    box-shadow: 0 1px 2px rgba(60, 64, 67, 0.3), 0 1px 3px 1px rgba(60, 64, 67, 0.15);\n",
              "    fill: var(--button-hover-fill-color);\n",
              "  }\n",
              "\n",
              "  .colab-df-quickchart-complete:disabled,\n",
              "  .colab-df-quickchart-complete:disabled:hover {\n",
              "    background-color: var(--disabled-bg-color);\n",
              "    fill: var(--disabled-fill-color);\n",
              "    box-shadow: none;\n",
              "  }\n",
              "\n",
              "  .colab-df-spinner {\n",
              "    border: 2px solid var(--fill-color);\n",
              "    border-color: transparent;\n",
              "    border-bottom-color: var(--fill-color);\n",
              "    animation:\n",
              "      spin 1s steps(1) infinite;\n",
              "  }\n",
              "\n",
              "  @keyframes spin {\n",
              "    0% {\n",
              "      border-color: transparent;\n",
              "      border-bottom-color: var(--fill-color);\n",
              "      border-left-color: var(--fill-color);\n",
              "    }\n",
              "    20% {\n",
              "      border-color: transparent;\n",
              "      border-left-color: var(--fill-color);\n",
              "      border-top-color: var(--fill-color);\n",
              "    }\n",
              "    30% {\n",
              "      border-color: transparent;\n",
              "      border-left-color: var(--fill-color);\n",
              "      border-top-color: var(--fill-color);\n",
              "      border-right-color: var(--fill-color);\n",
              "    }\n",
              "    40% {\n",
              "      border-color: transparent;\n",
              "      border-right-color: var(--fill-color);\n",
              "      border-top-color: var(--fill-color);\n",
              "    }\n",
              "    60% {\n",
              "      border-color: transparent;\n",
              "      border-right-color: var(--fill-color);\n",
              "    }\n",
              "    80% {\n",
              "      border-color: transparent;\n",
              "      border-right-color: var(--fill-color);\n",
              "      border-bottom-color: var(--fill-color);\n",
              "    }\n",
              "    90% {\n",
              "      border-color: transparent;\n",
              "      border-bottom-color: var(--fill-color);\n",
              "    }\n",
              "  }\n",
              "</style>\n",
              "\n",
              "  <script>\n",
              "    async function quickchart(key) {\n",
              "      const quickchartButtonEl =\n",
              "        document.querySelector('#' + key + ' button');\n",
              "      quickchartButtonEl.disabled = true;  // To prevent multiple clicks.\n",
              "      quickchartButtonEl.classList.add('colab-df-spinner');\n",
              "      try {\n",
              "        const charts = await google.colab.kernel.invokeFunction(\n",
              "            'suggestCharts', [key], {});\n",
              "      } catch (error) {\n",
              "        console.error('Error during call to suggestCharts:', error);\n",
              "      }\n",
              "      quickchartButtonEl.classList.remove('colab-df-spinner');\n",
              "      quickchartButtonEl.classList.add('colab-df-quickchart-complete');\n",
              "    }\n",
              "    (() => {\n",
              "      let quickchartButtonEl =\n",
              "        document.querySelector('#df-47d6a8a8-046f-4827-85f2-7db513abbe55 button');\n",
              "      quickchartButtonEl.style.display =\n",
              "        google.colab.kernel.accessAllowed ? 'block' : 'none';\n",
              "    })();\n",
              "  </script>\n",
              "</div>\n",
              "    </div>\n",
              "  </div>\n"
            ]
          },
          "metadata": {},
          "execution_count": 14
        }
      ]
    },
    {
      "cell_type": "markdown",
      "source": [
        "## Probing 1 Example extended with topic added to claim 1"
      ],
      "metadata": {
        "id": "YBV8isfHrOJf"
      },
      "id": "YBV8isfHrOJf"
    },
    {
      "cell_type": "markdown",
      "source": [
        "Loading the cleaned data containing only English examples to avoid confunding variable \"language\" for probes"
      ],
      "metadata": {
        "id": "iQ8Bl9S9rZGf"
      },
      "id": "iQ8Bl9S9rZGf"
    },
    {
      "cell_type": "code",
      "source": [
        "import pandas as pd\n",
        "#df_only_english = pd.read_csv('/content/drive/MyDrive/Can Language Models Follow Discussions?/1/final probing files/folds_1_all_only_english.csv')\n",
        "#"
      ],
      "metadata": {
        "id": "R8XGrzUHrYCA"
      },
      "id": "R8XGrzUHrYCA",
      "execution_count": null,
      "outputs": []
    },
    {
      "cell_type": "code",
      "source": [
        "df_only_english = probing_1_df # for version 4"
      ],
      "metadata": {
        "id": "SgLfdI9Z3nZq"
      },
      "id": "SgLfdI9Z3nZq",
      "execution_count": 124,
      "outputs": []
    },
    {
      "cell_type": "code",
      "source": [
        "# Define a function to append the topic to the first claim\n",
        "def append_topic_to_first_claim(row):\n",
        "    # Extract the first and second claims\n",
        "    first_claim, second_claim = row['inputs']\n",
        "\n",
        "    # Append the topic to the first claim\n",
        "    new_first_claim = f\"{row['topic']}. {first_claim}\"\n",
        "\n",
        "    # Create a new tuple with the modified first claim\n",
        "    new_input = (new_first_claim, second_claim)\n",
        "\n",
        "    return new_input"
      ],
      "metadata": {
        "id": "6C_rK4x-rNjK"
      },
      "id": "6C_rK4x-rNjK",
      "execution_count": 132,
      "outputs": []
    },
    {
      "cell_type": "code",
      "source": [
        "df_only_english_with_context.columns"
      ],
      "metadata": {
        "colab": {
          "base_uri": "https://localhost:8080/"
        },
        "id": "rFy5mU4D5n-n",
        "outputId": "67c661e5-b632-420f-e1d2-b03f5818fbd0"
      },
      "id": "rFy5mU4D5n-n",
      "execution_count": 134,
      "outputs": [
        {
          "output_type": "execute_result",
          "data": {
            "text/plain": [
              "Index(['context', 'topic', 'org_label', 'id', 'string_label', 'label', 'set-0',\n",
              "       'inputs'],\n",
              "      dtype='object')"
            ]
          },
          "metadata": {},
          "execution_count": 134
        }
      ]
    },
    {
      "cell_type": "code",
      "source": [
        "df_only_english_with_context.id.head()"
      ],
      "metadata": {
        "colab": {
          "base_uri": "https://localhost:8080/"
        },
        "id": "1Ja0z0xz50QT",
        "outputId": "87d78559-14f2-4c69-88c3-a970c67785b0"
      },
      "id": "1Ja0z0xz50QT",
      "execution_count": 135,
      "outputs": [
        {
          "output_type": "execute_result",
          "data": {
            "text/plain": [
              "3346    4852\n",
              "4753    6879\n",
              "1012    1408\n",
              "4058    5905\n",
              "4823    6978\n",
              "Name: id, dtype: int64"
            ]
          },
          "metadata": {},
          "execution_count": 135
        }
      ]
    },
    {
      "cell_type": "code",
      "source": [
        "# Reset index\n",
        "df_only_english_with_context.reset_index(drop=True, inplace=True)\n",
        "\n",
        "# Rename the 'id' column\n",
        "df_only_english_with_context.rename(columns={'id': 'order_id'}, inplace=True)\n",
        "\n",
        "# Reorder columns\n",
        "column_order = ['order_id', 'inputs', 'context', 'topic', 'org_label', 'string_label', 'label', 'set-0']\n",
        "df_only_english_with_context = df_only_english_with_context[column_order]\n"
      ],
      "metadata": {
        "id": "AIlgfQ2L7IJg"
      },
      "id": "AIlgfQ2L7IJg",
      "execution_count": 136,
      "outputs": []
    },
    {
      "cell_type": "code",
      "source": [
        "df_only_english_with_context.head()"
      ],
      "metadata": {
        "colab": {
          "base_uri": "https://localhost:8080/",
          "height": 310
        },
        "id": "E3bu2bUp7Rrc",
        "outputId": "2497d6d0-58e4-4b7a-8045-802fdd58648a"
      },
      "id": "E3bu2bUp7Rrc",
      "execution_count": 138,
      "outputs": [
        {
          "output_type": "execute_result",
          "data": {
            "text/plain": [
              "   order_id                                             inputs context  \\\n",
              "0      4852  (Republican members of the US Congress are sig...           \n",
              "1      6879  (Laws against FGM and anti FGM campaigns breac...           \n",
              "2      1408  (Why not develop semi-automatic tranq guns and...           \n",
              "3      5905  (Children need a father.. Any stable two paren...           \n",
              "4      6978  (Peer Pressure is a good thing.. Peer pressure...           \n",
              "\n",
              "                                               topic org_label  string_label  \\\n",
              "0  Republican members of the US Congress are sign...       Pro             1   \n",
              "1  Laws against FGM and anti FGM campaigns breach...       Con             0   \n",
              "2  Why not develop semi-automatic tranq guns and ...       Con             0   \n",
              "3                            Children need a father.       Con             0   \n",
              "4                     Peer Pressure is a good thing.       Pro             1   \n",
              "\n",
              "   label  set-0  \n",
              "0      1  train  \n",
              "1      0  train  \n",
              "2      0  train  \n",
              "3      0  train  \n",
              "4      1  train  "
            ],
            "text/html": [
              "\n",
              "  <div id=\"df-e8054645-9f7f-4f0a-aee1-796074eec3ee\" class=\"colab-df-container\">\n",
              "    <div>\n",
              "<style scoped>\n",
              "    .dataframe tbody tr th:only-of-type {\n",
              "        vertical-align: middle;\n",
              "    }\n",
              "\n",
              "    .dataframe tbody tr th {\n",
              "        vertical-align: top;\n",
              "    }\n",
              "\n",
              "    .dataframe thead th {\n",
              "        text-align: right;\n",
              "    }\n",
              "</style>\n",
              "<table border=\"1\" class=\"dataframe\">\n",
              "  <thead>\n",
              "    <tr style=\"text-align: right;\">\n",
              "      <th></th>\n",
              "      <th>order_id</th>\n",
              "      <th>inputs</th>\n",
              "      <th>context</th>\n",
              "      <th>topic</th>\n",
              "      <th>org_label</th>\n",
              "      <th>string_label</th>\n",
              "      <th>label</th>\n",
              "      <th>set-0</th>\n",
              "    </tr>\n",
              "  </thead>\n",
              "  <tbody>\n",
              "    <tr>\n",
              "      <th>0</th>\n",
              "      <td>4852</td>\n",
              "      <td>(Republican members of the US Congress are sig...</td>\n",
              "      <td></td>\n",
              "      <td>Republican members of the US Congress are sign...</td>\n",
              "      <td>Pro</td>\n",
              "      <td>1</td>\n",
              "      <td>1</td>\n",
              "      <td>train</td>\n",
              "    </tr>\n",
              "    <tr>\n",
              "      <th>1</th>\n",
              "      <td>6879</td>\n",
              "      <td>(Laws against FGM and anti FGM campaigns breac...</td>\n",
              "      <td></td>\n",
              "      <td>Laws against FGM and anti FGM campaigns breach...</td>\n",
              "      <td>Con</td>\n",
              "      <td>0</td>\n",
              "      <td>0</td>\n",
              "      <td>train</td>\n",
              "    </tr>\n",
              "    <tr>\n",
              "      <th>2</th>\n",
              "      <td>1408</td>\n",
              "      <td>(Why not develop semi-automatic tranq guns and...</td>\n",
              "      <td></td>\n",
              "      <td>Why not develop semi-automatic tranq guns and ...</td>\n",
              "      <td>Con</td>\n",
              "      <td>0</td>\n",
              "      <td>0</td>\n",
              "      <td>train</td>\n",
              "    </tr>\n",
              "    <tr>\n",
              "      <th>3</th>\n",
              "      <td>5905</td>\n",
              "      <td>(Children need a father.. Any stable two paren...</td>\n",
              "      <td></td>\n",
              "      <td>Children need a father.</td>\n",
              "      <td>Con</td>\n",
              "      <td>0</td>\n",
              "      <td>0</td>\n",
              "      <td>train</td>\n",
              "    </tr>\n",
              "    <tr>\n",
              "      <th>4</th>\n",
              "      <td>6978</td>\n",
              "      <td>(Peer Pressure is a good thing.. Peer pressure...</td>\n",
              "      <td></td>\n",
              "      <td>Peer Pressure is a good thing.</td>\n",
              "      <td>Pro</td>\n",
              "      <td>1</td>\n",
              "      <td>1</td>\n",
              "      <td>train</td>\n",
              "    </tr>\n",
              "  </tbody>\n",
              "</table>\n",
              "</div>\n",
              "    <div class=\"colab-df-buttons\">\n",
              "\n",
              "  <div class=\"colab-df-container\">\n",
              "    <button class=\"colab-df-convert\" onclick=\"convertToInteractive('df-e8054645-9f7f-4f0a-aee1-796074eec3ee')\"\n",
              "            title=\"Convert this dataframe to an interactive table.\"\n",
              "            style=\"display:none;\">\n",
              "\n",
              "  <svg xmlns=\"http://www.w3.org/2000/svg\" height=\"24px\" viewBox=\"0 -960 960 960\">\n",
              "    <path d=\"M120-120v-720h720v720H120Zm60-500h600v-160H180v160Zm220 220h160v-160H400v160Zm0 220h160v-160H400v160ZM180-400h160v-160H180v160Zm440 0h160v-160H620v160ZM180-180h160v-160H180v160Zm440 0h160v-160H620v160Z\"/>\n",
              "  </svg>\n",
              "    </button>\n",
              "\n",
              "  <style>\n",
              "    .colab-df-container {\n",
              "      display:flex;\n",
              "      gap: 12px;\n",
              "    }\n",
              "\n",
              "    .colab-df-convert {\n",
              "      background-color: #E8F0FE;\n",
              "      border: none;\n",
              "      border-radius: 50%;\n",
              "      cursor: pointer;\n",
              "      display: none;\n",
              "      fill: #1967D2;\n",
              "      height: 32px;\n",
              "      padding: 0 0 0 0;\n",
              "      width: 32px;\n",
              "    }\n",
              "\n",
              "    .colab-df-convert:hover {\n",
              "      background-color: #E2EBFA;\n",
              "      box-shadow: 0px 1px 2px rgba(60, 64, 67, 0.3), 0px 1px 3px 1px rgba(60, 64, 67, 0.15);\n",
              "      fill: #174EA6;\n",
              "    }\n",
              "\n",
              "    .colab-df-buttons div {\n",
              "      margin-bottom: 4px;\n",
              "    }\n",
              "\n",
              "    [theme=dark] .colab-df-convert {\n",
              "      background-color: #3B4455;\n",
              "      fill: #D2E3FC;\n",
              "    }\n",
              "\n",
              "    [theme=dark] .colab-df-convert:hover {\n",
              "      background-color: #434B5C;\n",
              "      box-shadow: 0px 1px 3px 1px rgba(0, 0, 0, 0.15);\n",
              "      filter: drop-shadow(0px 1px 2px rgba(0, 0, 0, 0.3));\n",
              "      fill: #FFFFFF;\n",
              "    }\n",
              "  </style>\n",
              "\n",
              "    <script>\n",
              "      const buttonEl =\n",
              "        document.querySelector('#df-e8054645-9f7f-4f0a-aee1-796074eec3ee button.colab-df-convert');\n",
              "      buttonEl.style.display =\n",
              "        google.colab.kernel.accessAllowed ? 'block' : 'none';\n",
              "\n",
              "      async function convertToInteractive(key) {\n",
              "        const element = document.querySelector('#df-e8054645-9f7f-4f0a-aee1-796074eec3ee');\n",
              "        const dataTable =\n",
              "          await google.colab.kernel.invokeFunction('convertToInteractive',\n",
              "                                                    [key], {});\n",
              "        if (!dataTable) return;\n",
              "\n",
              "        const docLinkHtml = 'Like what you see? Visit the ' +\n",
              "          '<a target=\"_blank\" href=https://colab.research.google.com/notebooks/data_table.ipynb>data table notebook</a>'\n",
              "          + ' to learn more about interactive tables.';\n",
              "        element.innerHTML = '';\n",
              "        dataTable['output_type'] = 'display_data';\n",
              "        await google.colab.output.renderOutput(dataTable, element);\n",
              "        const docLink = document.createElement('div');\n",
              "        docLink.innerHTML = docLinkHtml;\n",
              "        element.appendChild(docLink);\n",
              "      }\n",
              "    </script>\n",
              "  </div>\n",
              "\n",
              "\n",
              "<div id=\"df-3af9d44f-40cf-4168-b26e-961c0d14fedc\">\n",
              "  <button class=\"colab-df-quickchart\" onclick=\"quickchart('df-3af9d44f-40cf-4168-b26e-961c0d14fedc')\"\n",
              "            title=\"Suggest charts.\"\n",
              "            style=\"display:none;\">\n",
              "\n",
              "<svg xmlns=\"http://www.w3.org/2000/svg\" height=\"24px\"viewBox=\"0 0 24 24\"\n",
              "     width=\"24px\">\n",
              "    <g>\n",
              "        <path d=\"M19 3H5c-1.1 0-2 .9-2 2v14c0 1.1.9 2 2 2h14c1.1 0 2-.9 2-2V5c0-1.1-.9-2-2-2zM9 17H7v-7h2v7zm4 0h-2V7h2v10zm4 0h-2v-4h2v4z\"/>\n",
              "    </g>\n",
              "</svg>\n",
              "  </button>\n",
              "\n",
              "<style>\n",
              "  .colab-df-quickchart {\n",
              "      --bg-color: #E8F0FE;\n",
              "      --fill-color: #1967D2;\n",
              "      --hover-bg-color: #E2EBFA;\n",
              "      --hover-fill-color: #174EA6;\n",
              "      --disabled-fill-color: #AAA;\n",
              "      --disabled-bg-color: #DDD;\n",
              "  }\n",
              "\n",
              "  [theme=dark] .colab-df-quickchart {\n",
              "      --bg-color: #3B4455;\n",
              "      --fill-color: #D2E3FC;\n",
              "      --hover-bg-color: #434B5C;\n",
              "      --hover-fill-color: #FFFFFF;\n",
              "      --disabled-bg-color: #3B4455;\n",
              "      --disabled-fill-color: #666;\n",
              "  }\n",
              "\n",
              "  .colab-df-quickchart {\n",
              "    background-color: var(--bg-color);\n",
              "    border: none;\n",
              "    border-radius: 50%;\n",
              "    cursor: pointer;\n",
              "    display: none;\n",
              "    fill: var(--fill-color);\n",
              "    height: 32px;\n",
              "    padding: 0;\n",
              "    width: 32px;\n",
              "  }\n",
              "\n",
              "  .colab-df-quickchart:hover {\n",
              "    background-color: var(--hover-bg-color);\n",
              "    box-shadow: 0 1px 2px rgba(60, 64, 67, 0.3), 0 1px 3px 1px rgba(60, 64, 67, 0.15);\n",
              "    fill: var(--button-hover-fill-color);\n",
              "  }\n",
              "\n",
              "  .colab-df-quickchart-complete:disabled,\n",
              "  .colab-df-quickchart-complete:disabled:hover {\n",
              "    background-color: var(--disabled-bg-color);\n",
              "    fill: var(--disabled-fill-color);\n",
              "    box-shadow: none;\n",
              "  }\n",
              "\n",
              "  .colab-df-spinner {\n",
              "    border: 2px solid var(--fill-color);\n",
              "    border-color: transparent;\n",
              "    border-bottom-color: var(--fill-color);\n",
              "    animation:\n",
              "      spin 1s steps(1) infinite;\n",
              "  }\n",
              "\n",
              "  @keyframes spin {\n",
              "    0% {\n",
              "      border-color: transparent;\n",
              "      border-bottom-color: var(--fill-color);\n",
              "      border-left-color: var(--fill-color);\n",
              "    }\n",
              "    20% {\n",
              "      border-color: transparent;\n",
              "      border-left-color: var(--fill-color);\n",
              "      border-top-color: var(--fill-color);\n",
              "    }\n",
              "    30% {\n",
              "      border-color: transparent;\n",
              "      border-left-color: var(--fill-color);\n",
              "      border-top-color: var(--fill-color);\n",
              "      border-right-color: var(--fill-color);\n",
              "    }\n",
              "    40% {\n",
              "      border-color: transparent;\n",
              "      border-right-color: var(--fill-color);\n",
              "      border-top-color: var(--fill-color);\n",
              "    }\n",
              "    60% {\n",
              "      border-color: transparent;\n",
              "      border-right-color: var(--fill-color);\n",
              "    }\n",
              "    80% {\n",
              "      border-color: transparent;\n",
              "      border-right-color: var(--fill-color);\n",
              "      border-bottom-color: var(--fill-color);\n",
              "    }\n",
              "    90% {\n",
              "      border-color: transparent;\n",
              "      border-bottom-color: var(--fill-color);\n",
              "    }\n",
              "  }\n",
              "</style>\n",
              "\n",
              "  <script>\n",
              "    async function quickchart(key) {\n",
              "      const quickchartButtonEl =\n",
              "        document.querySelector('#' + key + ' button');\n",
              "      quickchartButtonEl.disabled = true;  // To prevent multiple clicks.\n",
              "      quickchartButtonEl.classList.add('colab-df-spinner');\n",
              "      try {\n",
              "        const charts = await google.colab.kernel.invokeFunction(\n",
              "            'suggestCharts', [key], {});\n",
              "      } catch (error) {\n",
              "        console.error('Error during call to suggestCharts:', error);\n",
              "      }\n",
              "      quickchartButtonEl.classList.remove('colab-df-spinner');\n",
              "      quickchartButtonEl.classList.add('colab-df-quickchart-complete');\n",
              "    }\n",
              "    (() => {\n",
              "      let quickchartButtonEl =\n",
              "        document.querySelector('#df-3af9d44f-40cf-4168-b26e-961c0d14fedc button');\n",
              "      quickchartButtonEl.style.display =\n",
              "        google.colab.kernel.accessAllowed ? 'block' : 'none';\n",
              "    })();\n",
              "  </script>\n",
              "</div>\n",
              "    </div>\n",
              "  </div>\n"
            ]
          },
          "metadata": {},
          "execution_count": 138
        }
      ]
    },
    {
      "cell_type": "code",
      "source": [
        " # Saving to Google Drive\n",
        " df_only_english_with_context.to_csv('/content/drive/MyDrive/Can Language Models Follow Discussions?/1/folds_1_only_english_with_context_v2.csv', index=True)"
      ],
      "metadata": {
        "id": "ukvOkakjseLC"
      },
      "id": "ukvOkakjseLC",
      "execution_count": 137,
      "outputs": []
    },
    {
      "cell_type": "code",
      "source": [
        "\"\"\"# Apply the function to create a new column with modified inputs\n",
        "df_only_english['modified_inputs'] = df_only_english.apply(append_topic_to_first_claim, axis=1)\n",
        "# Create a new DataFrame with the modified inputs\n",
        "df_only_english_with_context = df_only_english.drop(columns=['inputs']).rename(columns={'modified_inputs': 'inputs'})\n",
        "# Reorder columns\n",
        "column_order = ['index', 'inputs', 'context', 'topic', 'org_label', 'string_label', 'label','set-0']\n",
        "df_only_english_with_context = df_only_english_with_context[column_order]\n",
        "df_only_english_with_context\"\"\""
      ],
      "metadata": {
        "colab": {
          "base_uri": "https://localhost:8080/",
          "height": 616
        },
        "id": "ir49JhI_sH_K",
        "outputId": "a54c315c-30e3-4a1a-c328-24f52d969a3d"
      },
      "id": "ir49JhI_sH_K",
      "execution_count": 133,
      "outputs": [
        {
          "output_type": "error",
          "ename": "KeyError",
          "evalue": "ignored",
          "traceback": [
            "\u001b[0;31m---------------------------------------------------------------------------\u001b[0m",
            "\u001b[0;31mKeyError\u001b[0m                                  Traceback (most recent call last)",
            "\u001b[0;32m<ipython-input-133-4b351bbfefba>\u001b[0m in \u001b[0;36m<cell line: 7>\u001b[0;34m()\u001b[0m\n\u001b[1;32m      5\u001b[0m \u001b[0;31m# Reorder columns\u001b[0m\u001b[0;34m\u001b[0m\u001b[0;34m\u001b[0m\u001b[0m\n\u001b[1;32m      6\u001b[0m \u001b[0mcolumn_order\u001b[0m \u001b[0;34m=\u001b[0m \u001b[0;34m[\u001b[0m\u001b[0;34m'index'\u001b[0m\u001b[0;34m,\u001b[0m \u001b[0;34m'inputs'\u001b[0m\u001b[0;34m,\u001b[0m \u001b[0;34m'context'\u001b[0m\u001b[0;34m,\u001b[0m \u001b[0;34m'topic'\u001b[0m\u001b[0;34m,\u001b[0m \u001b[0;34m'org_label'\u001b[0m\u001b[0;34m,\u001b[0m \u001b[0;34m'string_label'\u001b[0m\u001b[0;34m,\u001b[0m \u001b[0;34m'label'\u001b[0m\u001b[0;34m,\u001b[0m\u001b[0;34m'set-0'\u001b[0m\u001b[0;34m]\u001b[0m\u001b[0;34m\u001b[0m\u001b[0;34m\u001b[0m\u001b[0m\n\u001b[0;32m----> 7\u001b[0;31m \u001b[0mdf_only_english_with_context\u001b[0m \u001b[0;34m=\u001b[0m \u001b[0mdf_only_english_with_context\u001b[0m\u001b[0;34m[\u001b[0m\u001b[0mcolumn_order\u001b[0m\u001b[0;34m]\u001b[0m\u001b[0;34m\u001b[0m\u001b[0;34m\u001b[0m\u001b[0m\n\u001b[0m\u001b[1;32m      8\u001b[0m \u001b[0mdf_only_english_with_context\u001b[0m\u001b[0;34m\u001b[0m\u001b[0;34m\u001b[0m\u001b[0m\n",
            "\u001b[0;32m/usr/local/lib/python3.10/dist-packages/pandas/core/frame.py\u001b[0m in \u001b[0;36m__getitem__\u001b[0;34m(self, key)\u001b[0m\n\u001b[1;32m   3811\u001b[0m             \u001b[0;32mif\u001b[0m \u001b[0mis_iterator\u001b[0m\u001b[0;34m(\u001b[0m\u001b[0mkey\u001b[0m\u001b[0;34m)\u001b[0m\u001b[0;34m:\u001b[0m\u001b[0;34m\u001b[0m\u001b[0;34m\u001b[0m\u001b[0m\n\u001b[1;32m   3812\u001b[0m                 \u001b[0mkey\u001b[0m \u001b[0;34m=\u001b[0m \u001b[0mlist\u001b[0m\u001b[0;34m(\u001b[0m\u001b[0mkey\u001b[0m\u001b[0;34m)\u001b[0m\u001b[0;34m\u001b[0m\u001b[0;34m\u001b[0m\u001b[0m\n\u001b[0;32m-> 3813\u001b[0;31m             \u001b[0mindexer\u001b[0m \u001b[0;34m=\u001b[0m \u001b[0mself\u001b[0m\u001b[0;34m.\u001b[0m\u001b[0mcolumns\u001b[0m\u001b[0;34m.\u001b[0m\u001b[0m_get_indexer_strict\u001b[0m\u001b[0;34m(\u001b[0m\u001b[0mkey\u001b[0m\u001b[0;34m,\u001b[0m \u001b[0;34m\"columns\"\u001b[0m\u001b[0;34m)\u001b[0m\u001b[0;34m[\u001b[0m\u001b[0;36m1\u001b[0m\u001b[0;34m]\u001b[0m\u001b[0;34m\u001b[0m\u001b[0;34m\u001b[0m\u001b[0m\n\u001b[0m\u001b[1;32m   3814\u001b[0m \u001b[0;34m\u001b[0m\u001b[0m\n\u001b[1;32m   3815\u001b[0m         \u001b[0;31m# take() does not accept boolean indexers\u001b[0m\u001b[0;34m\u001b[0m\u001b[0;34m\u001b[0m\u001b[0m\n",
            "\u001b[0;32m/usr/local/lib/python3.10/dist-packages/pandas/core/indexes/base.py\u001b[0m in \u001b[0;36m_get_indexer_strict\u001b[0;34m(self, key, axis_name)\u001b[0m\n\u001b[1;32m   6068\u001b[0m             \u001b[0mkeyarr\u001b[0m\u001b[0;34m,\u001b[0m \u001b[0mindexer\u001b[0m\u001b[0;34m,\u001b[0m \u001b[0mnew_indexer\u001b[0m \u001b[0;34m=\u001b[0m \u001b[0mself\u001b[0m\u001b[0;34m.\u001b[0m\u001b[0m_reindex_non_unique\u001b[0m\u001b[0;34m(\u001b[0m\u001b[0mkeyarr\u001b[0m\u001b[0;34m)\u001b[0m\u001b[0;34m\u001b[0m\u001b[0;34m\u001b[0m\u001b[0m\n\u001b[1;32m   6069\u001b[0m \u001b[0;34m\u001b[0m\u001b[0m\n\u001b[0;32m-> 6070\u001b[0;31m         \u001b[0mself\u001b[0m\u001b[0;34m.\u001b[0m\u001b[0m_raise_if_missing\u001b[0m\u001b[0;34m(\u001b[0m\u001b[0mkeyarr\u001b[0m\u001b[0;34m,\u001b[0m \u001b[0mindexer\u001b[0m\u001b[0;34m,\u001b[0m \u001b[0maxis_name\u001b[0m\u001b[0;34m)\u001b[0m\u001b[0;34m\u001b[0m\u001b[0;34m\u001b[0m\u001b[0m\n\u001b[0m\u001b[1;32m   6071\u001b[0m \u001b[0;34m\u001b[0m\u001b[0m\n\u001b[1;32m   6072\u001b[0m         \u001b[0mkeyarr\u001b[0m \u001b[0;34m=\u001b[0m \u001b[0mself\u001b[0m\u001b[0;34m.\u001b[0m\u001b[0mtake\u001b[0m\u001b[0;34m(\u001b[0m\u001b[0mindexer\u001b[0m\u001b[0;34m)\u001b[0m\u001b[0;34m\u001b[0m\u001b[0;34m\u001b[0m\u001b[0m\n",
            "\u001b[0;32m/usr/local/lib/python3.10/dist-packages/pandas/core/indexes/base.py\u001b[0m in \u001b[0;36m_raise_if_missing\u001b[0;34m(self, key, indexer, axis_name)\u001b[0m\n\u001b[1;32m   6131\u001b[0m \u001b[0;34m\u001b[0m\u001b[0m\n\u001b[1;32m   6132\u001b[0m             \u001b[0mnot_found\u001b[0m \u001b[0;34m=\u001b[0m \u001b[0mlist\u001b[0m\u001b[0;34m(\u001b[0m\u001b[0mensure_index\u001b[0m\u001b[0;34m(\u001b[0m\u001b[0mkey\u001b[0m\u001b[0;34m)\u001b[0m\u001b[0;34m[\u001b[0m\u001b[0mmissing_mask\u001b[0m\u001b[0;34m.\u001b[0m\u001b[0mnonzero\u001b[0m\u001b[0;34m(\u001b[0m\u001b[0;34m)\u001b[0m\u001b[0;34m[\u001b[0m\u001b[0;36m0\u001b[0m\u001b[0;34m]\u001b[0m\u001b[0;34m]\u001b[0m\u001b[0;34m.\u001b[0m\u001b[0munique\u001b[0m\u001b[0;34m(\u001b[0m\u001b[0;34m)\u001b[0m\u001b[0;34m)\u001b[0m\u001b[0;34m\u001b[0m\u001b[0;34m\u001b[0m\u001b[0m\n\u001b[0;32m-> 6133\u001b[0;31m             \u001b[0;32mraise\u001b[0m \u001b[0mKeyError\u001b[0m\u001b[0;34m(\u001b[0m\u001b[0;34mf\"{not_found} not in index\"\u001b[0m\u001b[0;34m)\u001b[0m\u001b[0;34m\u001b[0m\u001b[0;34m\u001b[0m\u001b[0m\n\u001b[0m\u001b[1;32m   6134\u001b[0m \u001b[0;34m\u001b[0m\u001b[0m\n\u001b[1;32m   6135\u001b[0m     \u001b[0;34m@\u001b[0m\u001b[0moverload\u001b[0m\u001b[0;34m\u001b[0m\u001b[0;34m\u001b[0m\u001b[0m\n",
            "\u001b[0;31mKeyError\u001b[0m: \"['index'] not in index\""
          ]
        }
      ]
    },
    {
      "cell_type": "code",
      "source": [
        "# save_dataframe_to_drive(1, df, file_type='e', task_name='my_task')"
      ],
      "metadata": {
        "id": "mjjGqn-FvhAf"
      },
      "id": "mjjGqn-FvhAf",
      "execution_count": null,
      "outputs": []
    },
    {
      "cell_type": "code",
      "source": [
        "import pandas as pd\n",
        "import yaml\n",
        "import os\n",
        "\n",
        "def save_final_files_to_drive(probing_example_nr, df, num_inputs, subsample=False, additional_info=\"\", control_task_type=\"NONE\", num_labels=2, num_probe_folds=1, probe_task_type=\"\", probes_samples_path=\"sample_probes\"):\n",
        "    \"\"\"\n",
        "    Save the final probing files to Google Drive.\n",
        "\n",
        "    Parameters:\n",
        "    - probing_example_nr: The probing example number used in the folder path.\n",
        "    - df: The DataFrame to save.\n",
        "    - num_inputs: Number of input sentences (1 for single sentence, 2 for two sentences).\n",
        "    - subsample: Boolean flag to indicate if it's a subsample or full data (default: False).\n",
        "    - additional_info:  is added to the end of the probe name if specified\n",
        "    - control_task_type: The type of control task (default: \"NONE\").\n",
        "    - num_labels: Number of labels (default: 2).\n",
        "    - num_probe_folds: Number of probing folds (default: 1).\n",
        "    - probe_task_type: The task type of the probe (default: \"SENTENCE\").\n",
        "    - probes_samples_path: Relative path to the probe (default: \"sample_probes\").\n",
        "    \"\"\"\n",
        "\n",
        "    # Determine folder based on subsample or full\n",
        "    folder_type = \"subsample\" if subsample else \"full\"\n",
        "\n",
        "    # Set the base path\n",
        "    base_path = f\"/content/drive/MyDrive/Can Language Models Follow Discussions?/{probing_example_nr}/final probing files/{folder_type}/{(additional_info if additional_info != '' else '')}\"\n",
        "\n",
        "    # Create folder if not exists\n",
        "    if not os.path.exists(base_path):\n",
        "        os.makedirs(base_path)\n",
        "\n",
        "    # Determine the config file name\n",
        "    config_name = \"config\"\n",
        "    if num_inputs == 2:\n",
        "        config_name += \"-bi\"\n",
        "    if subsample:\n",
        "        config_name += \"-rand\"\n",
        "    config_name += \"-none.yaml\"\n",
        "\n",
        "    # Create YAML config content\n",
        "    config_content = {\n",
        "        'control_task_type': control_task_type,\n",
        "        'num_inputs': num_inputs,\n",
        "        'num_labels': num_labels,\n",
        "        'num_probe_folds': num_probe_folds,\n",
        "        'probe_name': f\"probe-{('single' if num_inputs == 1 else 'two')}_sentence_probing_task_{(additional_info if additional_info != '' else '')}_{probing_example_nr}\",\n",
        "        'probe_task_type': (\"SENTENCE\" if num_inputs == 1 else \"SENTENCE_PAIR_BI\") if probe_task_type ==\"\" else probe_task_type,\n",
        "        'probes_samples_path': f\"{probes_samples_path}/{('single' if num_inputs == 1 else 'two')}_sentence_probing_task\"\n",
        "    }\n",
        "\n",
        "    # Save YAML file\n",
        "    with open(base_path + config_name, 'w') as file:\n",
        "        yaml.safe_dump(config_content, file, default_flow_style=False)\n",
        "\n",
        "    # Save DataFrame as CSV\n",
        "    df.to_csv(base_path + \"folds.csv\", index=True)\n",
        "\n",
        "    print(f\"Files saved at {base_path}\")\n"
      ],
      "metadata": {
        "id": "32KCTNFW8pw2"
      },
      "id": "32KCTNFW8pw2",
      "execution_count": null,
      "outputs": []
    },
    {
      "cell_type": "code",
      "source": [
        "\n",
        "save_final_files_to_drive(1, df_only_english_with_context, num_inputs=2, additional_info=\"topic_claim_1\")"
      ],
      "metadata": {
        "colab": {
          "base_uri": "https://localhost:8080/"
        },
        "id": "sYSs8Ejo9JUs",
        "outputId": "3a86c8b5-bbe0-4739-d787-18526dc0e0a9"
      },
      "id": "sYSs8Ejo9JUs",
      "execution_count": null,
      "outputs": [
        {
          "output_type": "stream",
          "name": "stdout",
          "text": [
            "Files saved at /content/drive/MyDrive/Can Language Models Follow Discussions?/1/final probing files/full/topic_claim_1\n"
          ]
        }
      ]
    },
    {
      "cell_type": "markdown",
      "source": [
        "# Probing 2 Example"
      ],
      "metadata": {
        "id": "HGCKk2guvnOp"
      },
      "id": "HGCKk2guvnOp"
    },
    {
      "cell_type": "code",
      "source": [
        "!pip install tqdm"
      ],
      "metadata": {
        "colab": {
          "base_uri": "https://localhost:8080/"
        },
        "id": "USpQy3cVLgNa",
        "outputId": "04ed7ede-43a2-4bc6-e0f1-74a9fc1649a2"
      },
      "id": "USpQy3cVLgNa",
      "execution_count": 90,
      "outputs": [
        {
          "output_type": "stream",
          "name": "stdout",
          "text": [
            "Requirement already satisfied: tqdm in /usr/local/lib/python3.10/dist-packages (4.66.1)\n"
          ]
        }
      ]
    },
    {
      "cell_type": "code",
      "source": [
        "import pickle\n",
        "import pandas as pd\n",
        "from tqdm import tqdm  # for the progress bar\n",
        "\n",
        "def extract_node_attributes(cleaned_graphs, node_info, base_path_gdrive):\n",
        "    \"\"\"\n",
        "    Extracts attributes for each node in a list of graphs.\n",
        "\n",
        "    Parameters:\n",
        "    - cleaned_graphs: List of cleaned iGraph objects.\n",
        "    - node_info: Dictionary containing outgoing nodes and relations for each node.\n",
        "    - base_path_gdrive: Base path for saving the output file.\n",
        "\n",
        "    Returns:\n",
        "    - all_node_attributes: Dictionary containing attributes for each node in each graph.\n",
        "    \"\"\"\n",
        "\n",
        "    all_node_attributes = {}  # Dictionary to store attributes for each graph\n",
        "\n",
        "    # Progress bar for tracking\n",
        "    for graph_index, graph in enumerate(tqdm(cleaned_graphs, desc='Processing graphs')):\n",
        "\n",
        "        # Skip graphs with fewer than 3 nodes\n",
        "        if len(graph.vs) < 3:\n",
        "            continue\n",
        "\n",
        "        graph_attributes = {}  # Dictionary to store attributes for this graph\n",
        "        queue = [(0, 0, 0)]  # Initialize BFS queue with (node_index, depth, parent_node)\n",
        "\n",
        "        while queue:\n",
        "            current_node_idx, depth, parent_node = queue.pop(0)\n",
        "\n",
        "            # Error handling: Check if node exists\n",
        "            if current_node_idx >= len(graph.vs):\n",
        "                continue\n",
        "\n",
        "            # Get node ID for more meaningful indexing\n",
        "            node_id = graph.vs[\"name\"][current_node_idx][\"id\"]\n",
        "\n",
        "            # Initialize parent_node as None for the base claim\n",
        "            if current_node_idx == 0:\n",
        "                parent_node = None\n",
        "\n",
        "            # Calculate breadth (order in which nodes at the same depth are visited)\n",
        "            breadth = sum(1 for node in graph_attributes.values() if node['Depth'] == depth)\n",
        "\n",
        "            # Get outgoing nodes and relations\n",
        "            outgoing_nodes = node_info[graph_index].get(current_node_idx, {}).get('outgoing_nodes', [])\n",
        "            relations = node_info[graph_index].get(current_node_idx, {}).get('relations', [])\n",
        "\n",
        "            # Calculate overall stance score\n",
        "            stance_score = sum(relations)  # Sum of relations\n",
        "            normalized_stance_score = stance_score / len(relations) if relations else 0  # Handle division by zero\n",
        "\n",
        "            # Save attributes\n",
        "            graph_attributes[node_id] = {\n",
        "                \"Depth\": depth,\n",
        "                \"Breadth\": breadth,\n",
        "                \"Parent Node\": parent_node,\n",
        "                \"Normalized Stance Score\": normalized_stance_score,\n",
        "                \"Outgoing Nodes\": outgoing_nodes\n",
        "            }\n",
        "\n",
        "            # Add child nodes to queue\n",
        "            for child_node in outgoing_nodes:\n",
        "                queue.append((child_node, depth + 1, node_id))\n",
        "\n",
        "        all_node_attributes[graph_index] = graph_attributes\n",
        "\n",
        "    # Save to an external file as a pickle\n",
        "    with open(base_path_gdrive+'2/node_attributes.pkl', 'wb') as f:\n",
        "        pickle.dump(all_node_attributes, f)\n",
        "\n",
        "    # Or save as a DataFrame for easier manipulation\n",
        "    df = pd.DataFrame.from_dict({(i,j): all_node_attributes[i][j]\n",
        "                                for i in all_node_attributes.keys()\n",
        "                                for j in all_node_attributes[i].keys()},\n",
        "                               orient='index')\n",
        "    df.to_csv(base_path_gdrive+'2/node_attributes.csv')\n",
        "\n",
        "    return all_node_attributes\n"
      ],
      "metadata": {
        "id": "qP34J9fFvlYI"
      },
      "id": "qP34J9fFvlYI",
      "execution_count": 91,
      "outputs": []
    },
    {
      "cell_type": "code",
      "source": [
        "all_node_attributes = extract_node_attributes(cleaned_graphs_v6, all_node_info, base_path_gdrive)"
      ],
      "metadata": {
        "colab": {
          "base_uri": "https://localhost:8080/"
        },
        "id": "5C9OzdQcLYW3",
        "outputId": "9f3c6a16-8628-43c3-a87c-62921b3b7476"
      },
      "id": "5C9OzdQcLYW3",
      "execution_count": 93,
      "outputs": [
        {
          "output_type": "stream",
          "name": "stderr",
          "text": [
            "Processing graphs: 100%|██████████| 11337/11337 [00:08<00:00, 1350.82it/s]\n"
          ]
        }
      ]
    },
    {
      "cell_type": "code",
      "source": [
        "all_node_attributes_df = load_file(\"2/node_attributes.csv\",\"\")"
      ],
      "metadata": {
        "id": "aI_mu4dQOqDg"
      },
      "id": "aI_mu4dQOqDg",
      "execution_count": 105,
      "outputs": []
    },
    {
      "cell_type": "code",
      "source": [
        "all_node_attributes_df.head()"
      ],
      "metadata": {
        "colab": {
          "base_uri": "https://localhost:8080/",
          "height": 248
        },
        "id": "fFXv2JmOO0oQ",
        "outputId": "a4c1f25d-cf0e-433c-e6d4-18d7bbac26ac"
      },
      "id": "fFXv2JmOO0oQ",
      "execution_count": 106,
      "outputs": [
        {
          "output_type": "execute_result",
          "data": {
            "text/plain": [
              "   Unnamed: 0  Unnamed: 1  Depth  Breadth  Parent Node  \\\n",
              "0           0     333.000      0        0          NaN   \n",
              "1           0     333.167      1        0      333.000   \n",
              "2           0     333.338      2        0      333.167   \n",
              "3           0     333.168      2        1      333.167   \n",
              "4           0     333.644      2        2      333.167   \n",
              "\n",
              "   Normalized Stance Score                                     Outgoing Nodes  \n",
              "0                 0.000000                                              [151]  \n",
              "1                 0.454545  [225, 152, 368, 396, 454, 474, 478, 541, 564, ...  \n",
              "2                -0.142857                [226, 227, 237, 398, 468, 580, 585]  \n",
              "3                 1.000000                                         [494, 495]  \n",
              "4                 0.333333                                    [370, 476, 400]  "
            ],
            "text/html": [
              "\n",
              "  <div id=\"df-9698ccc2-53b1-4409-b3af-becdc4f5499a\" class=\"colab-df-container\">\n",
              "    <div>\n",
              "<style scoped>\n",
              "    .dataframe tbody tr th:only-of-type {\n",
              "        vertical-align: middle;\n",
              "    }\n",
              "\n",
              "    .dataframe tbody tr th {\n",
              "        vertical-align: top;\n",
              "    }\n",
              "\n",
              "    .dataframe thead th {\n",
              "        text-align: right;\n",
              "    }\n",
              "</style>\n",
              "<table border=\"1\" class=\"dataframe\">\n",
              "  <thead>\n",
              "    <tr style=\"text-align: right;\">\n",
              "      <th></th>\n",
              "      <th>Unnamed: 0</th>\n",
              "      <th>Unnamed: 1</th>\n",
              "      <th>Depth</th>\n",
              "      <th>Breadth</th>\n",
              "      <th>Parent Node</th>\n",
              "      <th>Normalized Stance Score</th>\n",
              "      <th>Outgoing Nodes</th>\n",
              "    </tr>\n",
              "  </thead>\n",
              "  <tbody>\n",
              "    <tr>\n",
              "      <th>0</th>\n",
              "      <td>0</td>\n",
              "      <td>333.000</td>\n",
              "      <td>0</td>\n",
              "      <td>0</td>\n",
              "      <td>NaN</td>\n",
              "      <td>0.000000</td>\n",
              "      <td>[151]</td>\n",
              "    </tr>\n",
              "    <tr>\n",
              "      <th>1</th>\n",
              "      <td>0</td>\n",
              "      <td>333.167</td>\n",
              "      <td>1</td>\n",
              "      <td>0</td>\n",
              "      <td>333.000</td>\n",
              "      <td>0.454545</td>\n",
              "      <td>[225, 152, 368, 396, 454, 474, 478, 541, 564, ...</td>\n",
              "    </tr>\n",
              "    <tr>\n",
              "      <th>2</th>\n",
              "      <td>0</td>\n",
              "      <td>333.338</td>\n",
              "      <td>2</td>\n",
              "      <td>0</td>\n",
              "      <td>333.167</td>\n",
              "      <td>-0.142857</td>\n",
              "      <td>[226, 227, 237, 398, 468, 580, 585]</td>\n",
              "    </tr>\n",
              "    <tr>\n",
              "      <th>3</th>\n",
              "      <td>0</td>\n",
              "      <td>333.168</td>\n",
              "      <td>2</td>\n",
              "      <td>1</td>\n",
              "      <td>333.167</td>\n",
              "      <td>1.000000</td>\n",
              "      <td>[494, 495]</td>\n",
              "    </tr>\n",
              "    <tr>\n",
              "      <th>4</th>\n",
              "      <td>0</td>\n",
              "      <td>333.644</td>\n",
              "      <td>2</td>\n",
              "      <td>2</td>\n",
              "      <td>333.167</td>\n",
              "      <td>0.333333</td>\n",
              "      <td>[370, 476, 400]</td>\n",
              "    </tr>\n",
              "  </tbody>\n",
              "</table>\n",
              "</div>\n",
              "    <div class=\"colab-df-buttons\">\n",
              "\n",
              "  <div class=\"colab-df-container\">\n",
              "    <button class=\"colab-df-convert\" onclick=\"convertToInteractive('df-9698ccc2-53b1-4409-b3af-becdc4f5499a')\"\n",
              "            title=\"Convert this dataframe to an interactive table.\"\n",
              "            style=\"display:none;\">\n",
              "\n",
              "  <svg xmlns=\"http://www.w3.org/2000/svg\" height=\"24px\" viewBox=\"0 -960 960 960\">\n",
              "    <path d=\"M120-120v-720h720v720H120Zm60-500h600v-160H180v160Zm220 220h160v-160H400v160Zm0 220h160v-160H400v160ZM180-400h160v-160H180v160Zm440 0h160v-160H620v160ZM180-180h160v-160H180v160Zm440 0h160v-160H620v160Z\"/>\n",
              "  </svg>\n",
              "    </button>\n",
              "\n",
              "  <style>\n",
              "    .colab-df-container {\n",
              "      display:flex;\n",
              "      gap: 12px;\n",
              "    }\n",
              "\n",
              "    .colab-df-convert {\n",
              "      background-color: #E8F0FE;\n",
              "      border: none;\n",
              "      border-radius: 50%;\n",
              "      cursor: pointer;\n",
              "      display: none;\n",
              "      fill: #1967D2;\n",
              "      height: 32px;\n",
              "      padding: 0 0 0 0;\n",
              "      width: 32px;\n",
              "    }\n",
              "\n",
              "    .colab-df-convert:hover {\n",
              "      background-color: #E2EBFA;\n",
              "      box-shadow: 0px 1px 2px rgba(60, 64, 67, 0.3), 0px 1px 3px 1px rgba(60, 64, 67, 0.15);\n",
              "      fill: #174EA6;\n",
              "    }\n",
              "\n",
              "    .colab-df-buttons div {\n",
              "      margin-bottom: 4px;\n",
              "    }\n",
              "\n",
              "    [theme=dark] .colab-df-convert {\n",
              "      background-color: #3B4455;\n",
              "      fill: #D2E3FC;\n",
              "    }\n",
              "\n",
              "    [theme=dark] .colab-df-convert:hover {\n",
              "      background-color: #434B5C;\n",
              "      box-shadow: 0px 1px 3px 1px rgba(0, 0, 0, 0.15);\n",
              "      filter: drop-shadow(0px 1px 2px rgba(0, 0, 0, 0.3));\n",
              "      fill: #FFFFFF;\n",
              "    }\n",
              "  </style>\n",
              "\n",
              "    <script>\n",
              "      const buttonEl =\n",
              "        document.querySelector('#df-9698ccc2-53b1-4409-b3af-becdc4f5499a button.colab-df-convert');\n",
              "      buttonEl.style.display =\n",
              "        google.colab.kernel.accessAllowed ? 'block' : 'none';\n",
              "\n",
              "      async function convertToInteractive(key) {\n",
              "        const element = document.querySelector('#df-9698ccc2-53b1-4409-b3af-becdc4f5499a');\n",
              "        const dataTable =\n",
              "          await google.colab.kernel.invokeFunction('convertToInteractive',\n",
              "                                                    [key], {});\n",
              "        if (!dataTable) return;\n",
              "\n",
              "        const docLinkHtml = 'Like what you see? Visit the ' +\n",
              "          '<a target=\"_blank\" href=https://colab.research.google.com/notebooks/data_table.ipynb>data table notebook</a>'\n",
              "          + ' to learn more about interactive tables.';\n",
              "        element.innerHTML = '';\n",
              "        dataTable['output_type'] = 'display_data';\n",
              "        await google.colab.output.renderOutput(dataTable, element);\n",
              "        const docLink = document.createElement('div');\n",
              "        docLink.innerHTML = docLinkHtml;\n",
              "        element.appendChild(docLink);\n",
              "      }\n",
              "    </script>\n",
              "  </div>\n",
              "\n",
              "\n",
              "<div id=\"df-269fa8ca-3205-4496-be90-b21468d80f85\">\n",
              "  <button class=\"colab-df-quickchart\" onclick=\"quickchart('df-269fa8ca-3205-4496-be90-b21468d80f85')\"\n",
              "            title=\"Suggest charts.\"\n",
              "            style=\"display:none;\">\n",
              "\n",
              "<svg xmlns=\"http://www.w3.org/2000/svg\" height=\"24px\"viewBox=\"0 0 24 24\"\n",
              "     width=\"24px\">\n",
              "    <g>\n",
              "        <path d=\"M19 3H5c-1.1 0-2 .9-2 2v14c0 1.1.9 2 2 2h14c1.1 0 2-.9 2-2V5c0-1.1-.9-2-2-2zM9 17H7v-7h2v7zm4 0h-2V7h2v10zm4 0h-2v-4h2v4z\"/>\n",
              "    </g>\n",
              "</svg>\n",
              "  </button>\n",
              "\n",
              "<style>\n",
              "  .colab-df-quickchart {\n",
              "      --bg-color: #E8F0FE;\n",
              "      --fill-color: #1967D2;\n",
              "      --hover-bg-color: #E2EBFA;\n",
              "      --hover-fill-color: #174EA6;\n",
              "      --disabled-fill-color: #AAA;\n",
              "      --disabled-bg-color: #DDD;\n",
              "  }\n",
              "\n",
              "  [theme=dark] .colab-df-quickchart {\n",
              "      --bg-color: #3B4455;\n",
              "      --fill-color: #D2E3FC;\n",
              "      --hover-bg-color: #434B5C;\n",
              "      --hover-fill-color: #FFFFFF;\n",
              "      --disabled-bg-color: #3B4455;\n",
              "      --disabled-fill-color: #666;\n",
              "  }\n",
              "\n",
              "  .colab-df-quickchart {\n",
              "    background-color: var(--bg-color);\n",
              "    border: none;\n",
              "    border-radius: 50%;\n",
              "    cursor: pointer;\n",
              "    display: none;\n",
              "    fill: var(--fill-color);\n",
              "    height: 32px;\n",
              "    padding: 0;\n",
              "    width: 32px;\n",
              "  }\n",
              "\n",
              "  .colab-df-quickchart:hover {\n",
              "    background-color: var(--hover-bg-color);\n",
              "    box-shadow: 0 1px 2px rgba(60, 64, 67, 0.3), 0 1px 3px 1px rgba(60, 64, 67, 0.15);\n",
              "    fill: var(--button-hover-fill-color);\n",
              "  }\n",
              "\n",
              "  .colab-df-quickchart-complete:disabled,\n",
              "  .colab-df-quickchart-complete:disabled:hover {\n",
              "    background-color: var(--disabled-bg-color);\n",
              "    fill: var(--disabled-fill-color);\n",
              "    box-shadow: none;\n",
              "  }\n",
              "\n",
              "  .colab-df-spinner {\n",
              "    border: 2px solid var(--fill-color);\n",
              "    border-color: transparent;\n",
              "    border-bottom-color: var(--fill-color);\n",
              "    animation:\n",
              "      spin 1s steps(1) infinite;\n",
              "  }\n",
              "\n",
              "  @keyframes spin {\n",
              "    0% {\n",
              "      border-color: transparent;\n",
              "      border-bottom-color: var(--fill-color);\n",
              "      border-left-color: var(--fill-color);\n",
              "    }\n",
              "    20% {\n",
              "      border-color: transparent;\n",
              "      border-left-color: var(--fill-color);\n",
              "      border-top-color: var(--fill-color);\n",
              "    }\n",
              "    30% {\n",
              "      border-color: transparent;\n",
              "      border-left-color: var(--fill-color);\n",
              "      border-top-color: var(--fill-color);\n",
              "      border-right-color: var(--fill-color);\n",
              "    }\n",
              "    40% {\n",
              "      border-color: transparent;\n",
              "      border-right-color: var(--fill-color);\n",
              "      border-top-color: var(--fill-color);\n",
              "    }\n",
              "    60% {\n",
              "      border-color: transparent;\n",
              "      border-right-color: var(--fill-color);\n",
              "    }\n",
              "    80% {\n",
              "      border-color: transparent;\n",
              "      border-right-color: var(--fill-color);\n",
              "      border-bottom-color: var(--fill-color);\n",
              "    }\n",
              "    90% {\n",
              "      border-color: transparent;\n",
              "      border-bottom-color: var(--fill-color);\n",
              "    }\n",
              "  }\n",
              "</style>\n",
              "\n",
              "  <script>\n",
              "    async function quickchart(key) {\n",
              "      const quickchartButtonEl =\n",
              "        document.querySelector('#' + key + ' button');\n",
              "      quickchartButtonEl.disabled = true;  // To prevent multiple clicks.\n",
              "      quickchartButtonEl.classList.add('colab-df-spinner');\n",
              "      try {\n",
              "        const charts = await google.colab.kernel.invokeFunction(\n",
              "            'suggestCharts', [key], {});\n",
              "      } catch (error) {\n",
              "        console.error('Error during call to suggestCharts:', error);\n",
              "      }\n",
              "      quickchartButtonEl.classList.remove('colab-df-spinner');\n",
              "      quickchartButtonEl.classList.add('colab-df-quickchart-complete');\n",
              "    }\n",
              "    (() => {\n",
              "      let quickchartButtonEl =\n",
              "        document.querySelector('#df-269fa8ca-3205-4496-be90-b21468d80f85 button');\n",
              "      quickchartButtonEl.style.display =\n",
              "        google.colab.kernel.accessAllowed ? 'block' : 'none';\n",
              "    })();\n",
              "  </script>\n",
              "</div>\n",
              "    </div>\n",
              "  </div>\n"
            ]
          },
          "metadata": {},
          "execution_count": 106
        }
      ]
    },
    {
      "cell_type": "code",
      "source": [
        "all_node_attributes_df"
      ],
      "metadata": {
        "colab": {
          "base_uri": "https://localhost:8080/",
          "height": 424
        },
        "id": "q9F6pDxQPKqc",
        "outputId": "286998b0-2886-4bec-e162-46b29d6b7399"
      },
      "id": "q9F6pDxQPKqc",
      "execution_count": 107,
      "outputs": [
        {
          "output_type": "execute_result",
          "data": {
            "text/plain": [
              "        Unnamed: 0  Unnamed: 1  Depth  Breadth  Parent Node  \\\n",
              "0                0     333.000      0        0          NaN   \n",
              "1                0     333.167      1        0      333.000   \n",
              "2                0     333.338      2        0      333.167   \n",
              "3                0     333.168      2        1      333.167   \n",
              "4                0     333.644      2        2      333.167   \n",
              "...            ...         ...    ...      ...          ...   \n",
              "241654       11336   46614.171      1       76    46614.300   \n",
              "241655       11336   46614.173      1       77    46614.300   \n",
              "241656       11336   46614.170      2        0    46614.500   \n",
              "241657       11336   46614.450      2        1    46614.230   \n",
              "241658       11336   46614.590      2        2    46614.550   \n",
              "\n",
              "        Normalized Stance Score  \\\n",
              "0                      0.000000   \n",
              "1                      0.454545   \n",
              "2                     -0.142857   \n",
              "3                      1.000000   \n",
              "4                      0.333333   \n",
              "...                         ...   \n",
              "241654                 0.000000   \n",
              "241655                 0.000000   \n",
              "241656                 0.000000   \n",
              "241657                 0.000000   \n",
              "241658                 0.000000   \n",
              "\n",
              "                                           Outgoing Nodes  \n",
              "0                                                   [151]  \n",
              "1       [225, 152, 368, 396, 454, 474, 478, 541, 564, ...  \n",
              "2                     [226, 227, 237, 398, 468, 580, 585]  \n",
              "3                                              [494, 495]  \n",
              "4                                         [370, 476, 400]  \n",
              "...                                                   ...  \n",
              "241654                                                 []  \n",
              "241655                                                 []  \n",
              "241656                                                 []  \n",
              "241657                                                 []  \n",
              "241658                                                 []  \n",
              "\n",
              "[241659 rows x 7 columns]"
            ],
            "text/html": [
              "\n",
              "  <div id=\"df-1e541b1f-7f42-4681-9172-f778179c05e1\" class=\"colab-df-container\">\n",
              "    <div>\n",
              "<style scoped>\n",
              "    .dataframe tbody tr th:only-of-type {\n",
              "        vertical-align: middle;\n",
              "    }\n",
              "\n",
              "    .dataframe tbody tr th {\n",
              "        vertical-align: top;\n",
              "    }\n",
              "\n",
              "    .dataframe thead th {\n",
              "        text-align: right;\n",
              "    }\n",
              "</style>\n",
              "<table border=\"1\" class=\"dataframe\">\n",
              "  <thead>\n",
              "    <tr style=\"text-align: right;\">\n",
              "      <th></th>\n",
              "      <th>Unnamed: 0</th>\n",
              "      <th>Unnamed: 1</th>\n",
              "      <th>Depth</th>\n",
              "      <th>Breadth</th>\n",
              "      <th>Parent Node</th>\n",
              "      <th>Normalized Stance Score</th>\n",
              "      <th>Outgoing Nodes</th>\n",
              "    </tr>\n",
              "  </thead>\n",
              "  <tbody>\n",
              "    <tr>\n",
              "      <th>0</th>\n",
              "      <td>0</td>\n",
              "      <td>333.000</td>\n",
              "      <td>0</td>\n",
              "      <td>0</td>\n",
              "      <td>NaN</td>\n",
              "      <td>0.000000</td>\n",
              "      <td>[151]</td>\n",
              "    </tr>\n",
              "    <tr>\n",
              "      <th>1</th>\n",
              "      <td>0</td>\n",
              "      <td>333.167</td>\n",
              "      <td>1</td>\n",
              "      <td>0</td>\n",
              "      <td>333.000</td>\n",
              "      <td>0.454545</td>\n",
              "      <td>[225, 152, 368, 396, 454, 474, 478, 541, 564, ...</td>\n",
              "    </tr>\n",
              "    <tr>\n",
              "      <th>2</th>\n",
              "      <td>0</td>\n",
              "      <td>333.338</td>\n",
              "      <td>2</td>\n",
              "      <td>0</td>\n",
              "      <td>333.167</td>\n",
              "      <td>-0.142857</td>\n",
              "      <td>[226, 227, 237, 398, 468, 580, 585]</td>\n",
              "    </tr>\n",
              "    <tr>\n",
              "      <th>3</th>\n",
              "      <td>0</td>\n",
              "      <td>333.168</td>\n",
              "      <td>2</td>\n",
              "      <td>1</td>\n",
              "      <td>333.167</td>\n",
              "      <td>1.000000</td>\n",
              "      <td>[494, 495]</td>\n",
              "    </tr>\n",
              "    <tr>\n",
              "      <th>4</th>\n",
              "      <td>0</td>\n",
              "      <td>333.644</td>\n",
              "      <td>2</td>\n",
              "      <td>2</td>\n",
              "      <td>333.167</td>\n",
              "      <td>0.333333</td>\n",
              "      <td>[370, 476, 400]</td>\n",
              "    </tr>\n",
              "    <tr>\n",
              "      <th>...</th>\n",
              "      <td>...</td>\n",
              "      <td>...</td>\n",
              "      <td>...</td>\n",
              "      <td>...</td>\n",
              "      <td>...</td>\n",
              "      <td>...</td>\n",
              "      <td>...</td>\n",
              "    </tr>\n",
              "    <tr>\n",
              "      <th>241654</th>\n",
              "      <td>11336</td>\n",
              "      <td>46614.171</td>\n",
              "      <td>1</td>\n",
              "      <td>76</td>\n",
              "      <td>46614.300</td>\n",
              "      <td>0.000000</td>\n",
              "      <td>[]</td>\n",
              "    </tr>\n",
              "    <tr>\n",
              "      <th>241655</th>\n",
              "      <td>11336</td>\n",
              "      <td>46614.173</td>\n",
              "      <td>1</td>\n",
              "      <td>77</td>\n",
              "      <td>46614.300</td>\n",
              "      <td>0.000000</td>\n",
              "      <td>[]</td>\n",
              "    </tr>\n",
              "    <tr>\n",
              "      <th>241656</th>\n",
              "      <td>11336</td>\n",
              "      <td>46614.170</td>\n",
              "      <td>2</td>\n",
              "      <td>0</td>\n",
              "      <td>46614.500</td>\n",
              "      <td>0.000000</td>\n",
              "      <td>[]</td>\n",
              "    </tr>\n",
              "    <tr>\n",
              "      <th>241657</th>\n",
              "      <td>11336</td>\n",
              "      <td>46614.450</td>\n",
              "      <td>2</td>\n",
              "      <td>1</td>\n",
              "      <td>46614.230</td>\n",
              "      <td>0.000000</td>\n",
              "      <td>[]</td>\n",
              "    </tr>\n",
              "    <tr>\n",
              "      <th>241658</th>\n",
              "      <td>11336</td>\n",
              "      <td>46614.590</td>\n",
              "      <td>2</td>\n",
              "      <td>2</td>\n",
              "      <td>46614.550</td>\n",
              "      <td>0.000000</td>\n",
              "      <td>[]</td>\n",
              "    </tr>\n",
              "  </tbody>\n",
              "</table>\n",
              "<p>241659 rows × 7 columns</p>\n",
              "</div>\n",
              "    <div class=\"colab-df-buttons\">\n",
              "\n",
              "  <div class=\"colab-df-container\">\n",
              "    <button class=\"colab-df-convert\" onclick=\"convertToInteractive('df-1e541b1f-7f42-4681-9172-f778179c05e1')\"\n",
              "            title=\"Convert this dataframe to an interactive table.\"\n",
              "            style=\"display:none;\">\n",
              "\n",
              "  <svg xmlns=\"http://www.w3.org/2000/svg\" height=\"24px\" viewBox=\"0 -960 960 960\">\n",
              "    <path d=\"M120-120v-720h720v720H120Zm60-500h600v-160H180v160Zm220 220h160v-160H400v160Zm0 220h160v-160H400v160ZM180-400h160v-160H180v160Zm440 0h160v-160H620v160ZM180-180h160v-160H180v160Zm440 0h160v-160H620v160Z\"/>\n",
              "  </svg>\n",
              "    </button>\n",
              "\n",
              "  <style>\n",
              "    .colab-df-container {\n",
              "      display:flex;\n",
              "      gap: 12px;\n",
              "    }\n",
              "\n",
              "    .colab-df-convert {\n",
              "      background-color: #E8F0FE;\n",
              "      border: none;\n",
              "      border-radius: 50%;\n",
              "      cursor: pointer;\n",
              "      display: none;\n",
              "      fill: #1967D2;\n",
              "      height: 32px;\n",
              "      padding: 0 0 0 0;\n",
              "      width: 32px;\n",
              "    }\n",
              "\n",
              "    .colab-df-convert:hover {\n",
              "      background-color: #E2EBFA;\n",
              "      box-shadow: 0px 1px 2px rgba(60, 64, 67, 0.3), 0px 1px 3px 1px rgba(60, 64, 67, 0.15);\n",
              "      fill: #174EA6;\n",
              "    }\n",
              "\n",
              "    .colab-df-buttons div {\n",
              "      margin-bottom: 4px;\n",
              "    }\n",
              "\n",
              "    [theme=dark] .colab-df-convert {\n",
              "      background-color: #3B4455;\n",
              "      fill: #D2E3FC;\n",
              "    }\n",
              "\n",
              "    [theme=dark] .colab-df-convert:hover {\n",
              "      background-color: #434B5C;\n",
              "      box-shadow: 0px 1px 3px 1px rgba(0, 0, 0, 0.15);\n",
              "      filter: drop-shadow(0px 1px 2px rgba(0, 0, 0, 0.3));\n",
              "      fill: #FFFFFF;\n",
              "    }\n",
              "  </style>\n",
              "\n",
              "    <script>\n",
              "      const buttonEl =\n",
              "        document.querySelector('#df-1e541b1f-7f42-4681-9172-f778179c05e1 button.colab-df-convert');\n",
              "      buttonEl.style.display =\n",
              "        google.colab.kernel.accessAllowed ? 'block' : 'none';\n",
              "\n",
              "      async function convertToInteractive(key) {\n",
              "        const element = document.querySelector('#df-1e541b1f-7f42-4681-9172-f778179c05e1');\n",
              "        const dataTable =\n",
              "          await google.colab.kernel.invokeFunction('convertToInteractive',\n",
              "                                                    [key], {});\n",
              "        if (!dataTable) return;\n",
              "\n",
              "        const docLinkHtml = 'Like what you see? Visit the ' +\n",
              "          '<a target=\"_blank\" href=https://colab.research.google.com/notebooks/data_table.ipynb>data table notebook</a>'\n",
              "          + ' to learn more about interactive tables.';\n",
              "        element.innerHTML = '';\n",
              "        dataTable['output_type'] = 'display_data';\n",
              "        await google.colab.output.renderOutput(dataTable, element);\n",
              "        const docLink = document.createElement('div');\n",
              "        docLink.innerHTML = docLinkHtml;\n",
              "        element.appendChild(docLink);\n",
              "      }\n",
              "    </script>\n",
              "  </div>\n",
              "\n",
              "\n",
              "<div id=\"df-7308a658-d18f-42dc-8680-910c9c108ad2\">\n",
              "  <button class=\"colab-df-quickchart\" onclick=\"quickchart('df-7308a658-d18f-42dc-8680-910c9c108ad2')\"\n",
              "            title=\"Suggest charts.\"\n",
              "            style=\"display:none;\">\n",
              "\n",
              "<svg xmlns=\"http://www.w3.org/2000/svg\" height=\"24px\"viewBox=\"0 0 24 24\"\n",
              "     width=\"24px\">\n",
              "    <g>\n",
              "        <path d=\"M19 3H5c-1.1 0-2 .9-2 2v14c0 1.1.9 2 2 2h14c1.1 0 2-.9 2-2V5c0-1.1-.9-2-2-2zM9 17H7v-7h2v7zm4 0h-2V7h2v10zm4 0h-2v-4h2v4z\"/>\n",
              "    </g>\n",
              "</svg>\n",
              "  </button>\n",
              "\n",
              "<style>\n",
              "  .colab-df-quickchart {\n",
              "      --bg-color: #E8F0FE;\n",
              "      --fill-color: #1967D2;\n",
              "      --hover-bg-color: #E2EBFA;\n",
              "      --hover-fill-color: #174EA6;\n",
              "      --disabled-fill-color: #AAA;\n",
              "      --disabled-bg-color: #DDD;\n",
              "  }\n",
              "\n",
              "  [theme=dark] .colab-df-quickchart {\n",
              "      --bg-color: #3B4455;\n",
              "      --fill-color: #D2E3FC;\n",
              "      --hover-bg-color: #434B5C;\n",
              "      --hover-fill-color: #FFFFFF;\n",
              "      --disabled-bg-color: #3B4455;\n",
              "      --disabled-fill-color: #666;\n",
              "  }\n",
              "\n",
              "  .colab-df-quickchart {\n",
              "    background-color: var(--bg-color);\n",
              "    border: none;\n",
              "    border-radius: 50%;\n",
              "    cursor: pointer;\n",
              "    display: none;\n",
              "    fill: var(--fill-color);\n",
              "    height: 32px;\n",
              "    padding: 0;\n",
              "    width: 32px;\n",
              "  }\n",
              "\n",
              "  .colab-df-quickchart:hover {\n",
              "    background-color: var(--hover-bg-color);\n",
              "    box-shadow: 0 1px 2px rgba(60, 64, 67, 0.3), 0 1px 3px 1px rgba(60, 64, 67, 0.15);\n",
              "    fill: var(--button-hover-fill-color);\n",
              "  }\n",
              "\n",
              "  .colab-df-quickchart-complete:disabled,\n",
              "  .colab-df-quickchart-complete:disabled:hover {\n",
              "    background-color: var(--disabled-bg-color);\n",
              "    fill: var(--disabled-fill-color);\n",
              "    box-shadow: none;\n",
              "  }\n",
              "\n",
              "  .colab-df-spinner {\n",
              "    border: 2px solid var(--fill-color);\n",
              "    border-color: transparent;\n",
              "    border-bottom-color: var(--fill-color);\n",
              "    animation:\n",
              "      spin 1s steps(1) infinite;\n",
              "  }\n",
              "\n",
              "  @keyframes spin {\n",
              "    0% {\n",
              "      border-color: transparent;\n",
              "      border-bottom-color: var(--fill-color);\n",
              "      border-left-color: var(--fill-color);\n",
              "    }\n",
              "    20% {\n",
              "      border-color: transparent;\n",
              "      border-left-color: var(--fill-color);\n",
              "      border-top-color: var(--fill-color);\n",
              "    }\n",
              "    30% {\n",
              "      border-color: transparent;\n",
              "      border-left-color: var(--fill-color);\n",
              "      border-top-color: var(--fill-color);\n",
              "      border-right-color: var(--fill-color);\n",
              "    }\n",
              "    40% {\n",
              "      border-color: transparent;\n",
              "      border-right-color: var(--fill-color);\n",
              "      border-top-color: var(--fill-color);\n",
              "    }\n",
              "    60% {\n",
              "      border-color: transparent;\n",
              "      border-right-color: var(--fill-color);\n",
              "    }\n",
              "    80% {\n",
              "      border-color: transparent;\n",
              "      border-right-color: var(--fill-color);\n",
              "      border-bottom-color: var(--fill-color);\n",
              "    }\n",
              "    90% {\n",
              "      border-color: transparent;\n",
              "      border-bottom-color: var(--fill-color);\n",
              "    }\n",
              "  }\n",
              "</style>\n",
              "\n",
              "  <script>\n",
              "    async function quickchart(key) {\n",
              "      const quickchartButtonEl =\n",
              "        document.querySelector('#' + key + ' button');\n",
              "      quickchartButtonEl.disabled = true;  // To prevent multiple clicks.\n",
              "      quickchartButtonEl.classList.add('colab-df-spinner');\n",
              "      try {\n",
              "        const charts = await google.colab.kernel.invokeFunction(\n",
              "            'suggestCharts', [key], {});\n",
              "      } catch (error) {\n",
              "        console.error('Error during call to suggestCharts:', error);\n",
              "      }\n",
              "      quickchartButtonEl.classList.remove('colab-df-spinner');\n",
              "      quickchartButtonEl.classList.add('colab-df-quickchart-complete');\n",
              "    }\n",
              "    (() => {\n",
              "      let quickchartButtonEl =\n",
              "        document.querySelector('#df-7308a658-d18f-42dc-8680-910c9c108ad2 button');\n",
              "      quickchartButtonEl.style.display =\n",
              "        google.colab.kernel.accessAllowed ? 'block' : 'none';\n",
              "    })();\n",
              "  </script>\n",
              "</div>\n",
              "    </div>\n",
              "  </div>\n"
            ]
          },
          "metadata": {},
          "execution_count": 107
        }
      ]
    },
    {
      "cell_type": "code",
      "source": [
        "def update_outgoing_ids(df, cleaned_graphs_v6):\n",
        "    \"\"\"\n",
        "    Update the DataFrame with original IDs for outgoing nodes.\n",
        "\n",
        "    Parameters:\n",
        "    - df: DataFrame containing node attributes\n",
        "    - cleaned_graphs_v6: List of igraph Graph objects\n",
        "\n",
        "    Returns:\n",
        "    Updated DataFrame with a new column 'Outgoing_Node_IDs' containing original IDs for outgoing nodes.\n",
        "\n",
        "    Note:\n",
        "    This function is designed to mitigate the dependency on the order of nodes.\n",
        "    It fetches the original IDs that are saved in the graph attributes, ensuring a consistent mapping.\n",
        "    \"\"\"\n",
        "    updated_outgoing_nodes = []\n",
        "\n",
        "    for index, row in df.iterrows():\n",
        "        graph_idx = int(row['Graph_Index'])  # Ensuring it's an integer\n",
        "        outgoing_indices = row['Outgoing Nodes']\n",
        "\n",
        "        # Convert to list of integers if it's not already\n",
        "        if isinstance(outgoing_indices, str):\n",
        "            outgoing_indices = eval(outgoing_indices)\n",
        "\n",
        "        graph = cleaned_graphs_v6[graph_idx]\n",
        "\n",
        "        try:\n",
        "            outgoing_ids = []\n",
        "            for edge in graph.es:\n",
        "                if edge.source in outgoing_indices:\n",
        "                    outgoing_ids.append(edge.target_vertex[\"name\"][\"id\"])\n",
        "\n",
        "            updated_outgoing_nodes.append(outgoing_ids)\n",
        "        except KeyError as e:\n",
        "            print(f\"Error at index {index}, graph index {graph_idx}, outgoing_indices {outgoing_indices}\")\n",
        "            print(f\"Available attributes for graph.vs[i]: {graph.vs[0]['name']}\")\n",
        "            raise e  # re-raise the exception to stop execution and debug\n",
        "\n",
        "    df['Outgoing_Node_IDs'] = updated_outgoing_nodes\n",
        "\n",
        "# Error handling and DataFrame update\n",
        "try:\n",
        "    update_outgoing_ids(all_node_attributes_df, cleaned_graphs_v6)\n",
        "    all_node_attributes_df.to_csv(base_path_gdrive+'2/node_attributes_v2.csv')\n",
        "except Exception as e:\n",
        "    print(f\"An error occurred: {e}\")\n"
      ],
      "metadata": {
        "id": "Ax-ObZ7kuaCz"
      },
      "id": "Ax-ObZ7kuaCz",
      "execution_count": 116,
      "outputs": []
    },
    {
      "cell_type": "code",
      "source": [
        "all_node_attributes_df"
      ],
      "metadata": {
        "colab": {
          "base_uri": "https://localhost:8080/",
          "height": 725
        },
        "id": "EXYvQB-lwk1Q",
        "outputId": "f7b6b7a0-919d-4015-a57c-dd7f20c4c42d"
      },
      "id": "EXYvQB-lwk1Q",
      "execution_count": 117,
      "outputs": [
        {
          "output_type": "execute_result",
          "data": {
            "text/plain": [
              "        Graph_Index    Node_ID  Depth  Breadth  Parent Node  \\\n",
              "0                 0    333.000      0        0          NaN   \n",
              "1                 0    333.167      1        0      333.000   \n",
              "2                 0    333.338      2        0      333.167   \n",
              "3                 0    333.168      2        1      333.167   \n",
              "4                 0    333.644      2        2      333.167   \n",
              "...             ...        ...    ...      ...          ...   \n",
              "241654        11336  46614.171      1       76    46614.300   \n",
              "241655        11336  46614.173      1       77    46614.300   \n",
              "241656        11336  46614.170      2        0    46614.500   \n",
              "241657        11336  46614.450      2        1    46614.230   \n",
              "241658        11336  46614.590      2        2    46614.550   \n",
              "\n",
              "        Normalized Stance Score  \\\n",
              "0                      0.000000   \n",
              "1                      0.454545   \n",
              "2                     -0.142857   \n",
              "3                      1.000000   \n",
              "4                      0.333333   \n",
              "...                         ...   \n",
              "241654                 0.000000   \n",
              "241655                 0.000000   \n",
              "241656                 0.000000   \n",
              "241657                 0.000000   \n",
              "241658                 0.000000   \n",
              "\n",
              "                                           Outgoing Nodes  \\\n",
              "0                                                   [151]   \n",
              "1       [225, 152, 368, 396, 454, 474, 478, 541, 564, ...   \n",
              "2                     [226, 227, 237, 398, 468, 580, 585]   \n",
              "3                                              [494, 495]   \n",
              "4                                         [370, 476, 400]   \n",
              "...                                                   ...   \n",
              "241654                                                 []   \n",
              "241655                                                 []   \n",
              "241656                                                 []   \n",
              "241657                                                 []   \n",
              "241658                                                 []   \n",
              "\n",
              "                                        Outgoing_Node_IDs  \n",
              "0       [333.338, 333.168, 333.644, 333.69, 333.794, 3...  \n",
              "1       [333.339, 333.34, 333.355, 333.646, 333.694, 3...  \n",
              "2       [333.341, 333.695, 333.707, 333.898, 333.899, ...  \n",
              "3                                                      []  \n",
              "4           [333.659, 333.856, 333.858, 333.857, 333.927]  \n",
              "...                                                   ...  \n",
              "241654                                                 []  \n",
              "241655                                                 []  \n",
              "241656                                                 []  \n",
              "241657                                                 []  \n",
              "241658                                                 []  \n",
              "\n",
              "[241659 rows x 8 columns]"
            ],
            "text/html": [
              "\n",
              "  <div id=\"df-0c63b4a1-dc29-4e4b-81ff-7b5eb61d99aa\" class=\"colab-df-container\">\n",
              "    <div>\n",
              "<style scoped>\n",
              "    .dataframe tbody tr th:only-of-type {\n",
              "        vertical-align: middle;\n",
              "    }\n",
              "\n",
              "    .dataframe tbody tr th {\n",
              "        vertical-align: top;\n",
              "    }\n",
              "\n",
              "    .dataframe thead th {\n",
              "        text-align: right;\n",
              "    }\n",
              "</style>\n",
              "<table border=\"1\" class=\"dataframe\">\n",
              "  <thead>\n",
              "    <tr style=\"text-align: right;\">\n",
              "      <th></th>\n",
              "      <th>Graph_Index</th>\n",
              "      <th>Node_ID</th>\n",
              "      <th>Depth</th>\n",
              "      <th>Breadth</th>\n",
              "      <th>Parent Node</th>\n",
              "      <th>Normalized Stance Score</th>\n",
              "      <th>Outgoing Nodes</th>\n",
              "      <th>Outgoing_Node_IDs</th>\n",
              "    </tr>\n",
              "  </thead>\n",
              "  <tbody>\n",
              "    <tr>\n",
              "      <th>0</th>\n",
              "      <td>0</td>\n",
              "      <td>333.000</td>\n",
              "      <td>0</td>\n",
              "      <td>0</td>\n",
              "      <td>NaN</td>\n",
              "      <td>0.000000</td>\n",
              "      <td>[151]</td>\n",
              "      <td>[333.338, 333.168, 333.644, 333.69, 333.794, 3...</td>\n",
              "    </tr>\n",
              "    <tr>\n",
              "      <th>1</th>\n",
              "      <td>0</td>\n",
              "      <td>333.167</td>\n",
              "      <td>1</td>\n",
              "      <td>0</td>\n",
              "      <td>333.000</td>\n",
              "      <td>0.454545</td>\n",
              "      <td>[225, 152, 368, 396, 454, 474, 478, 541, 564, ...</td>\n",
              "      <td>[333.339, 333.34, 333.355, 333.646, 333.694, 3...</td>\n",
              "    </tr>\n",
              "    <tr>\n",
              "      <th>2</th>\n",
              "      <td>0</td>\n",
              "      <td>333.338</td>\n",
              "      <td>2</td>\n",
              "      <td>0</td>\n",
              "      <td>333.167</td>\n",
              "      <td>-0.142857</td>\n",
              "      <td>[226, 227, 237, 398, 468, 580, 585]</td>\n",
              "      <td>[333.341, 333.695, 333.707, 333.898, 333.899, ...</td>\n",
              "    </tr>\n",
              "    <tr>\n",
              "      <th>3</th>\n",
              "      <td>0</td>\n",
              "      <td>333.168</td>\n",
              "      <td>2</td>\n",
              "      <td>1</td>\n",
              "      <td>333.167</td>\n",
              "      <td>1.000000</td>\n",
              "      <td>[494, 495]</td>\n",
              "      <td>[]</td>\n",
              "    </tr>\n",
              "    <tr>\n",
              "      <th>4</th>\n",
              "      <td>0</td>\n",
              "      <td>333.644</td>\n",
              "      <td>2</td>\n",
              "      <td>2</td>\n",
              "      <td>333.167</td>\n",
              "      <td>0.333333</td>\n",
              "      <td>[370, 476, 400]</td>\n",
              "      <td>[333.659, 333.856, 333.858, 333.857, 333.927]</td>\n",
              "    </tr>\n",
              "    <tr>\n",
              "      <th>...</th>\n",
              "      <td>...</td>\n",
              "      <td>...</td>\n",
              "      <td>...</td>\n",
              "      <td>...</td>\n",
              "      <td>...</td>\n",
              "      <td>...</td>\n",
              "      <td>...</td>\n",
              "      <td>...</td>\n",
              "    </tr>\n",
              "    <tr>\n",
              "      <th>241654</th>\n",
              "      <td>11336</td>\n",
              "      <td>46614.171</td>\n",
              "      <td>1</td>\n",
              "      <td>76</td>\n",
              "      <td>46614.300</td>\n",
              "      <td>0.000000</td>\n",
              "      <td>[]</td>\n",
              "      <td>[]</td>\n",
              "    </tr>\n",
              "    <tr>\n",
              "      <th>241655</th>\n",
              "      <td>11336</td>\n",
              "      <td>46614.173</td>\n",
              "      <td>1</td>\n",
              "      <td>77</td>\n",
              "      <td>46614.300</td>\n",
              "      <td>0.000000</td>\n",
              "      <td>[]</td>\n",
              "      <td>[]</td>\n",
              "    </tr>\n",
              "    <tr>\n",
              "      <th>241656</th>\n",
              "      <td>11336</td>\n",
              "      <td>46614.170</td>\n",
              "      <td>2</td>\n",
              "      <td>0</td>\n",
              "      <td>46614.500</td>\n",
              "      <td>0.000000</td>\n",
              "      <td>[]</td>\n",
              "      <td>[]</td>\n",
              "    </tr>\n",
              "    <tr>\n",
              "      <th>241657</th>\n",
              "      <td>11336</td>\n",
              "      <td>46614.450</td>\n",
              "      <td>2</td>\n",
              "      <td>1</td>\n",
              "      <td>46614.230</td>\n",
              "      <td>0.000000</td>\n",
              "      <td>[]</td>\n",
              "      <td>[]</td>\n",
              "    </tr>\n",
              "    <tr>\n",
              "      <th>241658</th>\n",
              "      <td>11336</td>\n",
              "      <td>46614.590</td>\n",
              "      <td>2</td>\n",
              "      <td>2</td>\n",
              "      <td>46614.550</td>\n",
              "      <td>0.000000</td>\n",
              "      <td>[]</td>\n",
              "      <td>[]</td>\n",
              "    </tr>\n",
              "  </tbody>\n",
              "</table>\n",
              "<p>241659 rows × 8 columns</p>\n",
              "</div>\n",
              "    <div class=\"colab-df-buttons\">\n",
              "\n",
              "  <div class=\"colab-df-container\">\n",
              "    <button class=\"colab-df-convert\" onclick=\"convertToInteractive('df-0c63b4a1-dc29-4e4b-81ff-7b5eb61d99aa')\"\n",
              "            title=\"Convert this dataframe to an interactive table.\"\n",
              "            style=\"display:none;\">\n",
              "\n",
              "  <svg xmlns=\"http://www.w3.org/2000/svg\" height=\"24px\" viewBox=\"0 -960 960 960\">\n",
              "    <path d=\"M120-120v-720h720v720H120Zm60-500h600v-160H180v160Zm220 220h160v-160H400v160Zm0 220h160v-160H400v160ZM180-400h160v-160H180v160Zm440 0h160v-160H620v160ZM180-180h160v-160H180v160Zm440 0h160v-160H620v160Z\"/>\n",
              "  </svg>\n",
              "    </button>\n",
              "\n",
              "  <style>\n",
              "    .colab-df-container {\n",
              "      display:flex;\n",
              "      gap: 12px;\n",
              "    }\n",
              "\n",
              "    .colab-df-convert {\n",
              "      background-color: #E8F0FE;\n",
              "      border: none;\n",
              "      border-radius: 50%;\n",
              "      cursor: pointer;\n",
              "      display: none;\n",
              "      fill: #1967D2;\n",
              "      height: 32px;\n",
              "      padding: 0 0 0 0;\n",
              "      width: 32px;\n",
              "    }\n",
              "\n",
              "    .colab-df-convert:hover {\n",
              "      background-color: #E2EBFA;\n",
              "      box-shadow: 0px 1px 2px rgba(60, 64, 67, 0.3), 0px 1px 3px 1px rgba(60, 64, 67, 0.15);\n",
              "      fill: #174EA6;\n",
              "    }\n",
              "\n",
              "    .colab-df-buttons div {\n",
              "      margin-bottom: 4px;\n",
              "    }\n",
              "\n",
              "    [theme=dark] .colab-df-convert {\n",
              "      background-color: #3B4455;\n",
              "      fill: #D2E3FC;\n",
              "    }\n",
              "\n",
              "    [theme=dark] .colab-df-convert:hover {\n",
              "      background-color: #434B5C;\n",
              "      box-shadow: 0px 1px 3px 1px rgba(0, 0, 0, 0.15);\n",
              "      filter: drop-shadow(0px 1px 2px rgba(0, 0, 0, 0.3));\n",
              "      fill: #FFFFFF;\n",
              "    }\n",
              "  </style>\n",
              "\n",
              "    <script>\n",
              "      const buttonEl =\n",
              "        document.querySelector('#df-0c63b4a1-dc29-4e4b-81ff-7b5eb61d99aa button.colab-df-convert');\n",
              "      buttonEl.style.display =\n",
              "        google.colab.kernel.accessAllowed ? 'block' : 'none';\n",
              "\n",
              "      async function convertToInteractive(key) {\n",
              "        const element = document.querySelector('#df-0c63b4a1-dc29-4e4b-81ff-7b5eb61d99aa');\n",
              "        const dataTable =\n",
              "          await google.colab.kernel.invokeFunction('convertToInteractive',\n",
              "                                                    [key], {});\n",
              "        if (!dataTable) return;\n",
              "\n",
              "        const docLinkHtml = 'Like what you see? Visit the ' +\n",
              "          '<a target=\"_blank\" href=https://colab.research.google.com/notebooks/data_table.ipynb>data table notebook</a>'\n",
              "          + ' to learn more about interactive tables.';\n",
              "        element.innerHTML = '';\n",
              "        dataTable['output_type'] = 'display_data';\n",
              "        await google.colab.output.renderOutput(dataTable, element);\n",
              "        const docLink = document.createElement('div');\n",
              "        docLink.innerHTML = docLinkHtml;\n",
              "        element.appendChild(docLink);\n",
              "      }\n",
              "    </script>\n",
              "  </div>\n",
              "\n",
              "\n",
              "<div id=\"df-4907dc71-bbdf-4716-a33c-0e45b0b77e5c\">\n",
              "  <button class=\"colab-df-quickchart\" onclick=\"quickchart('df-4907dc71-bbdf-4716-a33c-0e45b0b77e5c')\"\n",
              "            title=\"Suggest charts.\"\n",
              "            style=\"display:none;\">\n",
              "\n",
              "<svg xmlns=\"http://www.w3.org/2000/svg\" height=\"24px\"viewBox=\"0 0 24 24\"\n",
              "     width=\"24px\">\n",
              "    <g>\n",
              "        <path d=\"M19 3H5c-1.1 0-2 .9-2 2v14c0 1.1.9 2 2 2h14c1.1 0 2-.9 2-2V5c0-1.1-.9-2-2-2zM9 17H7v-7h2v7zm4 0h-2V7h2v10zm4 0h-2v-4h2v4z\"/>\n",
              "    </g>\n",
              "</svg>\n",
              "  </button>\n",
              "\n",
              "<style>\n",
              "  .colab-df-quickchart {\n",
              "      --bg-color: #E8F0FE;\n",
              "      --fill-color: #1967D2;\n",
              "      --hover-bg-color: #E2EBFA;\n",
              "      --hover-fill-color: #174EA6;\n",
              "      --disabled-fill-color: #AAA;\n",
              "      --disabled-bg-color: #DDD;\n",
              "  }\n",
              "\n",
              "  [theme=dark] .colab-df-quickchart {\n",
              "      --bg-color: #3B4455;\n",
              "      --fill-color: #D2E3FC;\n",
              "      --hover-bg-color: #434B5C;\n",
              "      --hover-fill-color: #FFFFFF;\n",
              "      --disabled-bg-color: #3B4455;\n",
              "      --disabled-fill-color: #666;\n",
              "  }\n",
              "\n",
              "  .colab-df-quickchart {\n",
              "    background-color: var(--bg-color);\n",
              "    border: none;\n",
              "    border-radius: 50%;\n",
              "    cursor: pointer;\n",
              "    display: none;\n",
              "    fill: var(--fill-color);\n",
              "    height: 32px;\n",
              "    padding: 0;\n",
              "    width: 32px;\n",
              "  }\n",
              "\n",
              "  .colab-df-quickchart:hover {\n",
              "    background-color: var(--hover-bg-color);\n",
              "    box-shadow: 0 1px 2px rgba(60, 64, 67, 0.3), 0 1px 3px 1px rgba(60, 64, 67, 0.15);\n",
              "    fill: var(--button-hover-fill-color);\n",
              "  }\n",
              "\n",
              "  .colab-df-quickchart-complete:disabled,\n",
              "  .colab-df-quickchart-complete:disabled:hover {\n",
              "    background-color: var(--disabled-bg-color);\n",
              "    fill: var(--disabled-fill-color);\n",
              "    box-shadow: none;\n",
              "  }\n",
              "\n",
              "  .colab-df-spinner {\n",
              "    border: 2px solid var(--fill-color);\n",
              "    border-color: transparent;\n",
              "    border-bottom-color: var(--fill-color);\n",
              "    animation:\n",
              "      spin 1s steps(1) infinite;\n",
              "  }\n",
              "\n",
              "  @keyframes spin {\n",
              "    0% {\n",
              "      border-color: transparent;\n",
              "      border-bottom-color: var(--fill-color);\n",
              "      border-left-color: var(--fill-color);\n",
              "    }\n",
              "    20% {\n",
              "      border-color: transparent;\n",
              "      border-left-color: var(--fill-color);\n",
              "      border-top-color: var(--fill-color);\n",
              "    }\n",
              "    30% {\n",
              "      border-color: transparent;\n",
              "      border-left-color: var(--fill-color);\n",
              "      border-top-color: var(--fill-color);\n",
              "      border-right-color: var(--fill-color);\n",
              "    }\n",
              "    40% {\n",
              "      border-color: transparent;\n",
              "      border-right-color: var(--fill-color);\n",
              "      border-top-color: var(--fill-color);\n",
              "    }\n",
              "    60% {\n",
              "      border-color: transparent;\n",
              "      border-right-color: var(--fill-color);\n",
              "    }\n",
              "    80% {\n",
              "      border-color: transparent;\n",
              "      border-right-color: var(--fill-color);\n",
              "      border-bottom-color: var(--fill-color);\n",
              "    }\n",
              "    90% {\n",
              "      border-color: transparent;\n",
              "      border-bottom-color: var(--fill-color);\n",
              "    }\n",
              "  }\n",
              "</style>\n",
              "\n",
              "  <script>\n",
              "    async function quickchart(key) {\n",
              "      const quickchartButtonEl =\n",
              "        document.querySelector('#' + key + ' button');\n",
              "      quickchartButtonEl.disabled = true;  // To prevent multiple clicks.\n",
              "      quickchartButtonEl.classList.add('colab-df-spinner');\n",
              "      try {\n",
              "        const charts = await google.colab.kernel.invokeFunction(\n",
              "            'suggestCharts', [key], {});\n",
              "      } catch (error) {\n",
              "        console.error('Error during call to suggestCharts:', error);\n",
              "      }\n",
              "      quickchartButtonEl.classList.remove('colab-df-spinner');\n",
              "      quickchartButtonEl.classList.add('colab-df-quickchart-complete');\n",
              "    }\n",
              "    (() => {\n",
              "      let quickchartButtonEl =\n",
              "        document.querySelector('#df-4907dc71-bbdf-4716-a33c-0e45b0b77e5c button');\n",
              "      quickchartButtonEl.style.display =\n",
              "        google.colab.kernel.accessAllowed ? 'block' : 'none';\n",
              "    })();\n",
              "  </script>\n",
              "</div>\n",
              "    </div>\n",
              "  </div>\n"
            ]
          },
          "metadata": {},
          "execution_count": 117
        },
        {
          "output_type": "stream",
          "name": "stdout",
          "text": [
            "Warning: total number of rows (241659) exceeds max_rows (20000). Limiting to first (20000) rows.\n",
            "Warning: total number of rows (241659) exceeds max_rows (20000). Limiting to first (20000) rows.\n"
          ]
        }
      ]
    },
    {
      "cell_type": "code",
      "source": [],
      "metadata": {
        "id": "P_2MHvzIwo9r"
      },
      "id": "P_2MHvzIwo9r",
      "execution_count": null,
      "outputs": []
    }
  ],
  "metadata": {
    "kernelspec": {
      "display_name": "Python 3",
      "name": "python3"
    },
    "language_info": {
      "codemirror_mode": {
        "name": "ipython",
        "version": 2
      },
      "file_extension": ".py",
      "mimetype": "text/x-python",
      "name": "python",
      "nbconvert_exporter": "python",
      "pygments_lexer": "ipython2",
      "version": "2.7.6"
    },
    "colab": {
      "provenance": [],
      "machine_shape": "hm",
      "gpuType": "V100",
      "toc_visible": true,
      "include_colab_link": true
    },
    "accelerator": "GPU"
  },
  "nbformat": 4,
  "nbformat_minor": 5
}