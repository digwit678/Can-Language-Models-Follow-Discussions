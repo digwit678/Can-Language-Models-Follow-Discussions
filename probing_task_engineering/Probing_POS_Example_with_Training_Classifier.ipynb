{
  "nbformat": 4,
  "nbformat_minor": 0,
  "metadata": {
    "colab": {
      "provenance": [],
      "authorship_tag": "ABX9TyN2LfqgpzX5H/pNDcZ6r0AD",
      "include_colab_link": true
    },
    "kernelspec": {
      "name": "python3",
      "display_name": "Python 3"
    },
    "language_info": {
      "name": "python"
    }
  },
  "cells": [
    {
      "cell_type": "markdown",
      "metadata": {
        "id": "view-in-github",
        "colab_type": "text"
      },
      "source": [
        "<a href=\"https://colab.research.google.com/github/digwit678/Can-Language-Models-Follow-Discussions/blob/main/Probing_POS_Example_with_Training_Classifier.ipynb\" target=\"_parent\"><img src=\"https://colab.research.google.com/assets/colab-badge.svg\" alt=\"Open In Colab\"/></a>"
      ]
    },
    {
      "cell_type": "code",
      "source": [
        "!pip install transformers"
      ],
      "metadata": {
        "colab": {
          "base_uri": "https://localhost:8080/"
        },
        "id": "AEO9m0yIrNB7",
        "outputId": "f757a5b7-c8e9-4098-ca9f-af1b84ff0429"
      },
      "execution_count": null,
      "outputs": [
        {
          "output_type": "stream",
          "name": "stdout",
          "text": [
            "Requirement already satisfied: transformers in /usr/local/lib/python3.10/dist-packages (4.33.1)\n",
            "Requirement already satisfied: filelock in /usr/local/lib/python3.10/dist-packages (from transformers) (3.12.2)\n",
            "Requirement already satisfied: huggingface-hub<1.0,>=0.15.1 in /usr/local/lib/python3.10/dist-packages (from transformers) (0.17.1)\n",
            "Requirement already satisfied: numpy>=1.17 in /usr/local/lib/python3.10/dist-packages (from transformers) (1.23.5)\n",
            "Requirement already satisfied: packaging>=20.0 in /usr/local/lib/python3.10/dist-packages (from transformers) (23.1)\n",
            "Requirement already satisfied: pyyaml>=5.1 in /usr/local/lib/python3.10/dist-packages (from transformers) (6.0.1)\n",
            "Requirement already satisfied: regex!=2019.12.17 in /usr/local/lib/python3.10/dist-packages (from transformers) (2023.6.3)\n",
            "Requirement already satisfied: requests in /usr/local/lib/python3.10/dist-packages (from transformers) (2.31.0)\n",
            "Requirement already satisfied: tokenizers!=0.11.3,<0.14,>=0.11.1 in /usr/local/lib/python3.10/dist-packages (from transformers) (0.13.3)\n",
            "Requirement already satisfied: safetensors>=0.3.1 in /usr/local/lib/python3.10/dist-packages (from transformers) (0.3.3)\n",
            "Requirement already satisfied: tqdm>=4.27 in /usr/local/lib/python3.10/dist-packages (from transformers) (4.66.1)\n",
            "Requirement already satisfied: fsspec in /usr/local/lib/python3.10/dist-packages (from huggingface-hub<1.0,>=0.15.1->transformers) (2023.6.0)\n",
            "Requirement already satisfied: typing-extensions>=3.7.4.3 in /usr/local/lib/python3.10/dist-packages (from huggingface-hub<1.0,>=0.15.1->transformers) (4.5.0)\n",
            "Requirement already satisfied: charset-normalizer<4,>=2 in /usr/local/lib/python3.10/dist-packages (from requests->transformers) (3.2.0)\n",
            "Requirement already satisfied: idna<4,>=2.5 in /usr/local/lib/python3.10/dist-packages (from requests->transformers) (3.4)\n",
            "Requirement already satisfied: urllib3<3,>=1.21.1 in /usr/local/lib/python3.10/dist-packages (from requests->transformers) (2.0.4)\n",
            "Requirement already satisfied: certifi>=2017.4.17 in /usr/local/lib/python3.10/dist-packages (from requests->transformers) (2023.7.22)\n"
          ]
        }
      ]
    },
    {
      "cell_type": "code",
      "source": [
        "import torch\n",
        "from torch.utils.data import DataLoader\n",
        "from transformers import BertTokenizer, BertModel\n",
        "import spacy"
      ],
      "metadata": {
        "id": "4Rf8bx0zplAO"
      },
      "execution_count": null,
      "outputs": []
    },
    {
      "cell_type": "code",
      "source": [
        "# Load pre-trained BERT tokenizer and model\n",
        "tokenizer = BertTokenizer.from_pretrained('bert-base-uncased')\n",
        "model = BertModel.from_pretrained('bert-base-uncased')"
      ],
      "metadata": {
        "id": "oS1PShDVptOZ"
      },
      "execution_count": null,
      "outputs": []
    },
    {
      "cell_type": "markdown",
      "source": [
        "# Training"
      ],
      "metadata": {
        "id": "P80kQOg3pljp"
      }
    },
    {
      "cell_type": "code",
      "source": [
        "# Load spaCy model\n",
        "nlp = spacy.load(\"en_core_web_sm\")\n",
        "\n",
        "# extract part-of-speech labels from text using spaCy\n",
        "def extract_pos_labels(text):\n",
        "    doc = nlp(text)\n",
        "    labels = []\n",
        "    for token in doc:\n",
        "        labels.append(token.pos_)\n",
        "    return labels\n",
        "\n",
        "# basic probing classifier, that will be trained or POS-Task\n",
        "class PosClassifier(torch.nn.Module):\n",
        "    def __init__(self, input_size, num_labels):\n",
        "        super().__init__()\n",
        "        self.fc = torch.nn.Linear(input_size, num_labels)\n",
        "\n",
        "    def forward(self, x):\n",
        "        return self.fc(x)\n",
        "\n",
        "# prepare data for training the probing classifier\n",
        "def prepare_data(sentences, labels, batch_size):\n",
        "\n",
        "    # Convert train sentences to BERT input format\n",
        "    inputs = tokenizer(sentences, return_tensors='pt', padding=True, truncation=True)\n",
        "\n",
        "    # Convert part-of-speech labels to tensor\n",
        "    label2id = {label: i for i, label in enumerate(set(label for labels_ in labels for label in labels_))}\n",
        "    labels = [torch.tensor([label2id[label] for label in labels_]) for labels_ in labels]\n",
        "    labels = torch.nn.utils.rnn.pad_sequence(labels, batch_first=True, padding_value=-1)\n",
        "\n",
        "    # Create data loader\n",
        "    data = list(zip(inputs['input_ids'], inputs['attention_mask'], labels))\n",
        "    data_loader = DataLoader(data, batch_size=batch_size, shuffle=True)\n",
        "\n",
        "    return data_loader, len(label2id)\n",
        "\n",
        "# training loop for the probing classifier\n",
        "def train_probing_classifier(probing_classifier, data_loader, optimizer, num_epochs):\n",
        "    for epoch in range(num_epochs):\n",
        "        for batch in data_loader:\n",
        "\n",
        "            # Get the input sentences and labels\n",
        "            input_ids, attention_mask, labels = batch\n",
        "\n",
        "            # Get the BERT output\n",
        "            with torch.no_grad():\n",
        "                bert_output = model(input_ids, attention_mask).last_hidden_state[:, 0]\n",
        "\n",
        "            # Get the probing classifier predictions\n",
        "            logits = probing_classifier(bert_output)\n",
        "            loss = torch.nn.functional.cross_entropy(logits, labels[:, 0], ignore_index=-1)\n",
        "\n",
        "            # Update POS-classifier\n",
        "            optimizer.zero_grad()\n",
        "            loss.backward()\n",
        "            optimizer.step()\n",
        "\n",
        "# Training Example\n",
        "sentences = [\"The quick brown fox jumps over the lazy dog.\", \"I love eating pizza.\"]\n",
        "pos_labels = [extract_pos_labels(sentence) for sentence in sentences]\n",
        "data_loader, num_labels = prepare_data(sentences, pos_labels, batch_size=2)\n",
        "probing_classifier = PosClassifier(model.config.hidden_size, num_labels)\n",
        "optimizer = torch.optim.Adam(probing_classifier.parameters())\n",
        "train_probing_classifier(probing_classifier, data_loader, optimizer, num_epochs=10)\n"
      ],
      "metadata": {
        "id": "4PFlinXD0SCg"
      },
      "execution_count": null,
      "outputs": []
    },
    {
      "cell_type": "code",
      "source": [
        "# Training Example\n",
        "\n",
        "sentences = [\"The quick brown fox jumps over the lazy dog.\", \"I love eating pizza.\"]\n",
        "pos_labels = [extract_pos_labels(sentence) for sentence in sentences]\n",
        "data_loader, num_labels = prepare_data(sentences, pos_labels, batch_size=2)\n",
        "probing_classifier = PosClassifier(model.config.hidden_size, num_labels)\n",
        "optimizer = torch.optim.Adam(probing_classifier.parameters())\n",
        "train_probing_classifier(probing_classifier, data_loader, optimizer, num_epochs=10)\n",
        "\n",
        "print(\"Starting Sentence: \\n\", sentences)\n",
        "print(\"Sentence embedded: \\n\", pos_labels)"
      ],
      "metadata": {
        "colab": {
          "base_uri": "https://localhost:8080/"
        },
        "id": "3uYWv4orTs9P",
        "outputId": "b9182e01-650d-4648-d2d4-4b5642fc4ca5"
      },
      "execution_count": null,
      "outputs": [
        {
          "output_type": "stream",
          "name": "stdout",
          "text": [
            "Starting Sentence: \n",
            " ['The quick brown fox jumps over the lazy dog.', 'I love eating pizza.']\n",
            "Sentence embedded: \n",
            " [['DET', 'ADJ', 'ADJ', 'NOUN', 'VERB', 'ADP', 'DET', 'ADJ', 'NOUN', 'PUNCT'], ['PRON', 'VERB', 'VERB', 'NOUN', 'PUNCT']]\n"
          ]
        }
      ]
    },
    {
      "cell_type": "code",
      "source": [],
      "metadata": {
        "id": "7A27smtvTnqB"
      },
      "execution_count": null,
      "outputs": []
    },
    {
      "cell_type": "code",
      "source": [
        "print(probing_classifier)"
      ],
      "metadata": {
        "colab": {
          "base_uri": "https://localhost:8080/"
        },
        "id": "xxsRLvjvUF5g",
        "outputId": "5f4547ee-f1ee-445a-ed92-f0c749e0f7ca"
      },
      "execution_count": null,
      "outputs": [
        {
          "output_type": "stream",
          "name": "stdout",
          "text": [
            "PosClassifier(\n",
            "  (fc): Linear(in_features=768, out_features=7, bias=True)\n",
            ")\n"
          ]
        }
      ]
    },
    {
      "cell_type": "code",
      "source": [
        "print(optimizer)"
      ],
      "metadata": {
        "colab": {
          "base_uri": "https://localhost:8080/"
        },
        "id": "kRbe19Q9ULEd",
        "outputId": "844709d7-c28d-4551-ee80-29fdc2e0f2d7"
      },
      "execution_count": null,
      "outputs": [
        {
          "output_type": "stream",
          "name": "stdout",
          "text": [
            "Adam (\n",
            "Parameter Group 0\n",
            "    amsgrad: False\n",
            "    betas: (0.9, 0.999)\n",
            "    capturable: False\n",
            "    differentiable: False\n",
            "    eps: 1e-08\n",
            "    foreach: None\n",
            "    fused: None\n",
            "    lr: 0.001\n",
            "    maximize: False\n",
            "    weight_decay: 0\n",
            ")\n"
          ]
        }
      ]
    },
    {
      "cell_type": "markdown",
      "source": [
        "# Testing"
      ],
      "metadata": {
        "id": "w1KEWam0pdBe"
      }
    },
    {
      "cell_type": "code",
      "source": [
        "# Define a test-loop for the probing classifier: can he predict the POS labels of this test data if he uses BERTs learned embeddings ?\n",
        "\n",
        "def test_probing_classifier(probing_classifier, test_data_loader):\n",
        "  # input is the classifier trained on bert and the True values in the test data loader\n",
        "    correct = 0\n",
        "    total = 0\n",
        "    with torch.no_grad(): # no learning for probing\n",
        "        for batch in test_data_loader:\n",
        "            input_ids, attention_mask, labels = batch\n",
        "            encoder_output = model(input_ids, attention_mask).last_hidden_state[:, 0] # convert data to BERTs encoders representation\n",
        "            logits = probing_classifier(encoder_output) # forward pass of the encoded data through the trained classifier\n",
        "            _, predicted = torch.max(logits.data, 1)\n",
        "            total += labels.size(0) # count of all labelled sentences\n",
        "            correct += (predicted == labels[:, 0]).sum().item() # POS labels the classifier correctly identified with BERTs encoder\n",
        "\n",
        "    accuracy = 100 * correct / total\n",
        "    return accuracy\n",
        "\n",
        "# Prepare the data to test if the probing classifier can recognize POS with BERTs embeddings\n",
        "test_sentences = [\"The cat sat on the mat.\", \"She enjoys reading books.\"]\n",
        "test_pos_labels = [extract_pos_labels(sentence) for sentence in test_sentences] # extracted with spacy (TRUE)\n",
        "print(\"labels extracted for testing\", test_pos_labels)\n",
        "test_data_loader, _ = prepare_data(test_sentences, test_pos_labels, batch_size=2) #\n",
        "\n",
        "# Test the probing classifier on BERTs encoder\n",
        "accuracy = test_probing_classifier(probing_classifier, test_data_loader)\n",
        "\n",
        "# Conclude if the model has learned POS or not\n",
        "if accuracy > 80:  # threshold according to task (benchmarks?)\n",
        "    print(\"The model has learned to recognize POS labels with an accuracy of {:.2f}%.\".format(accuracy))\n",
        "else:\n",
        "    print(\"The model has not learned to recognize POS labels effectively. Accuracy: {:.2f}%.\".format(accuracy))\n"
      ],
      "metadata": {
        "colab": {
          "base_uri": "https://localhost:8080/"
        },
        "id": "GcWGRjMqUPYD",
        "outputId": "15db8ae2-4822-466c-ba4a-8445366ea100"
      },
      "execution_count": null,
      "outputs": [
        {
          "output_type": "stream",
          "name": "stdout",
          "text": [
            "labels extracted for testing [['DET', 'NOUN', 'VERB', 'ADP', 'DET', 'NOUN', 'PUNCT'], ['PRON', 'VERB', 'VERB', 'NOUN', 'PUNCT']]\n",
            "The model has learned to recognize POS labels with an accuracy of 100.00%.\n"
          ]
        }
      ]
    },
    {
      "cell_type": "markdown",
      "source": [
        "# Whole Process"
      ],
      "metadata": {
        "id": "8j5km3EYyTK3"
      }
    },
    {
      "cell_type": "code",
      "source": [
        "# Load pre-trained BERT tokenizer and model\n",
        "tokenizer = BertTokenizer.from_pretrained('bert-base-uncased')\n",
        "model = BertModel.from_pretrained('bert-base-uncased')\n",
        "# Prepare sentences and their corresponding POS labels for training\n",
        "sentences = [\"The quick brown fox jumps over the lazy dog.\", \"I love eating pizza.\"]\n",
        "pos_labels = [extract_pos_labels(sentence) for sentence in sentences]\n",
        "# Initialize the POS Classifier and train it\n",
        "probing_classifier = PosClassifier(model.config.hidden_size, num_labels)\n",
        "optimizer = torch.optim.Adam(probing_classifier.parameters())\n",
        "train_probing_classifier(probing_classifier, data_loader, optimizer, num_epochs=10)\n",
        "# Prepare test sentences and their corresponding POS labels\n",
        "test_sentences = [\"The cat sat on the mat.\", \"She enjoys reading books.\"]\n",
        "test_pos_labels = [extract_pos_labels(sentence) for sentence in test_sentences]\n",
        "# Probe the classifier (of the model being probed on POS) and interpret the results\n",
        "accuracy = test_probing_classifier(probing_classifier, test_data_loader)\n"
      ],
      "metadata": {
        "id": "Ym5gbBk3foo_"
      },
      "execution_count": null,
      "outputs": []
    },
    {
      "cell_type": "code",
      "source": [],
      "metadata": {
        "id": "-RuCjBOYyYZR"
      },
      "execution_count": null,
      "outputs": []
    }
  ]
}