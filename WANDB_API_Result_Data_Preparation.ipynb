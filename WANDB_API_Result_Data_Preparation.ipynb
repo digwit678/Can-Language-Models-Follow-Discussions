{
  "nbformat": 4,
  "nbformat_minor": 0,
  "metadata": {
    "colab": {
      "provenance": [],
      "toc_visible": true,
      "authorship_tag": "ABX9TyPSqw1M7ZfZgTxwg5FyjPs8",
      "include_colab_link": true
    },
    "kernelspec": {
      "name": "python3",
      "display_name": "Python 3"
    },
    "language_info": {
      "name": "python"
    }
  },
  "cells": [
    {
      "cell_type": "markdown",
      "metadata": {
        "id": "view-in-github",
        "colab_type": "text"
      },
      "source": [
        "<a href=\"https://colab.research.google.com/github/digwit678/Can-Language-Models-Follow-Discussions/blob/main/WANDB_API_Result_Data_Preparation.ipynb\" target=\"_parent\"><img src=\"https://colab.research.google.com/assets/colab-badge.svg\" alt=\"Open In Colab\"/></a>"
      ]
    },
    {
      "cell_type": "code",
      "source": [
        "!pip install wandb"
      ],
      "metadata": {
        "id": "wqVli2Yt6Nvn"
      },
      "execution_count": null,
      "outputs": []
    },
    {
      "cell_type": "code",
      "source": [
        "import wandb\n",
        "import scipy.stats as stats\n",
        "import pandas as pd\n",
        "import numpy as np\n",
        "import matplotlib.pyplot as plt\n",
        "import seaborn as sns\n",
        "from tqdm import tqdm"
      ],
      "metadata": {
        "id": "gRxXbtSGBROd"
      },
      "execution_count": null,
      "outputs": []
    },
    {
      "cell_type": "code",
      "source": [
        "from google.colab import drive\n",
        "GDRIVE_BASE_PATH = \"/content/drive/MyDrive/Can Language Models Follow Discussions?/\"\n",
        "drive.mount('/content/drive')"
      ],
      "metadata": {
        "colab": {
          "base_uri": "https://localhost:8080/"
        },
        "id": "0hxnbvGwNJ4i",
        "outputId": "23538ff7-d533-41bb-aa56-6ce18f1dadda"
      },
      "execution_count": null,
      "outputs": [
        {
          "output_type": "stream",
          "name": "stdout",
          "text": [
            "Mounted at /content/drive\n"
          ]
        }
      ]
    },
    {
      "cell_type": "markdown",
      "source": [
        "# Authenticate with W&B"
      ],
      "metadata": {
        "id": "eKBmIiojtHkk"
      }
    },
    {
      "cell_type": "code",
      "source": [
        "WANDB_API_KEY = \"13fa8ba0883264fc7dfc29662e14d75902a76881\"\n",
        "!wandb login"
      ],
      "metadata": {
        "colab": {
          "base_uri": "https://localhost:8080/"
        },
        "id": "qE1oZQrgAwMb",
        "outputId": "efc94da9-ebb6-4360-9697-33a9cfe5cbec"
      },
      "execution_count": null,
      "outputs": [
        {
          "output_type": "stream",
          "name": "stdout",
          "text": [
            "\u001b[34m\u001b[1mwandb\u001b[0m: Logging into wandb.ai. (Learn how to deploy a W&B server locally: https://wandb.me/wandb-server)\n",
            "\u001b[34m\u001b[1mwandb\u001b[0m: You can find your API key in your browser here: https://wandb.ai/authorize\n",
            "\u001b[34m\u001b[1mwandb\u001b[0m: Paste an API key from your profile and hit enter, or press ctrl+c to quit: \n",
            "\u001b[34m\u001b[1mwandb\u001b[0m: \u001b[32m\u001b[41mERROR\u001b[0m API key must be 40 characters long, yours was 13\n",
            "\u001b[34m\u001b[1mwandb\u001b[0m: Logging into wandb.ai. (Learn how to deploy a W&B server locally: https://wandb.me/wandb-server)\n",
            "\u001b[34m\u001b[1mwandb\u001b[0m: You can find your API key in your browser here: https://wandb.ai/authorize\n",
            "\u001b[34m\u001b[1mwandb\u001b[0m: Paste an API key from your profile and hit enter, or press ctrl+c to quit: \n",
            "\u001b[34m\u001b[1mwandb\u001b[0m: Appending key for api.wandb.ai to your netrc file: /root/.netrc\n"
          ]
        }
      ]
    },
    {
      "cell_type": "code",
      "source": [
        "WANDB_USER_NAME = \"digwit\"\n",
        "TIMEOUT = 60  # Increase the API timeout to 60 seconds\n",
        "#wandb.login()\n",
        "api = wandb.Api(timeout=TIMEOUT)"
      ],
      "metadata": {
        "id": "MtnE1u3C7FQJ"
      },
      "execution_count": null,
      "outputs": []
    },
    {
      "cell_type": "markdown",
      "source": [
        "# CONSTANTS"
      ],
      "metadata": {
        "id": "rPKiMu59Zez4"
      }
    },
    {
      "cell_type": "code",
      "source": [
        "SAVING_PATH = 'probing_results/wandb_data_1.csv'"
      ],
      "metadata": {
        "id": "JlbEaqw9LDPn"
      },
      "execution_count": null,
      "outputs": []
    },
    {
      "cell_type": "code",
      "source": [
        "PROJECT_NAMES = [\"1_4_light_probes\", \"4_different_depths\", \"3_reactiveness\", \"5_claim_path_density\", \"1_opposing_affirming_claims\", \"2_Sequential-Claims-Hard\"]\n",
        "METRICS = [\"full test f1\", \"full test acc\"]\n",
        "CONTROL_TASKS = [\"RANDOMIZATION\", \"NONE\", \"PERMUTATION\"]\n",
        "MODELS = ['microsoft/deberta-v3-base', 'facebook/bart-base', 'gpt2', 'albert-base-v2', 'bert-base-uncased']\n",
        "SEEDS = [0, 1, 2, 3, 4]\n",
        "FOLDS = [0, 1, 2, 3]"
      ],
      "metadata": {
        "id": "hbTaZvRlartd"
      },
      "execution_count": null,
      "outputs": []
    },
    {
      "cell_type": "markdown",
      "source": [
        "# Create Analysis Dataframe"
      ],
      "metadata": {
        "id": "zVASQrzxHZdu"
      }
    },
    {
      "cell_type": "code",
      "source": [
        "def fetch_initial_data(api, user_name, project_names, metrics, control_tasks):\n",
        "    data = []\n",
        "    for project_name in project_names:\n",
        "        runs = api.runs(f\"{user_name}/{project_name}\")\n",
        "        for run in runs:\n",
        "            if run.state == \"finished\":\n",
        "                run_config = run.config\n",
        "                model_name = run_config.get(\"model_name\", \"Unknown\")\n",
        "                seed = run_config.get(\"seed\", -1)\n",
        "                fold = run_config.get(\"fold\", -1)\n",
        "                control_task_type = run_config.get(\"control_task_type\", \"Unknown\")\n",
        "\n",
        "                for metric in metrics:\n",
        "                    if metric in run.history().columns:\n",
        "                        metric_value = run.history()[metric].mean()  # Assuming mean for aggregation\n",
        "                        data.append({\n",
        "                            \"project\": project_name,\n",
        "                            \"model\": model_name,\n",
        "                            \"seed\": seed,\n",
        "                            \"fold\": fold,\n",
        "                            \"control_task\": control_task_type,\n",
        "                            \"metric\": metric,\n",
        "                            \"value\": metric_value\n",
        "                        })\n",
        "    return data\n",
        "\n",
        "# Fetch data\n",
        "initial_data = fetch_initial_data(api, WANDB_USER_NAME , PROJECT_NAMES, METRICS, CONTROL_TASKS)\n",
        "\n",
        "# Convert to DataFrame and save\n",
        "initial_df = pd.DataFrame(initial_data)\n",
        "initial_df.to_csv(f'{GDRIVE_BASE_PATH}/{SAVING_PATH}', index=False)\n",
        "\n",
        "print(\"Initial data saved.\")"
      ],
      "metadata": {
        "colab": {
          "base_uri": "https://localhost:8080/"
        },
        "id": "AdYQUiWPedpW",
        "outputId": "e91c665c-02fe-4023-fb99-48e4e5e6cd86"
      },
      "execution_count": null,
      "outputs": [
        {
          "output_type": "stream",
          "name": "stdout",
          "text": [
            "Initial data saved.\n"
          ]
        }
      ]
    },
    {
      "cell_type": "code",
      "source": [
        "initial_df.head()"
      ],
      "metadata": {
        "colab": {
          "base_uri": "https://localhost:8080/",
          "height": 206
        },
        "id": "N1_p2uUDLk88",
        "outputId": "e78333f0-6e08-4546-dc2c-6a38b1ed1c76"
      },
      "execution_count": null,
      "outputs": [
        {
          "output_type": "execute_result",
          "data": {
            "text/plain": [
              "            project                      model  seed  fold control_task  \\\n",
              "0  1_4_light_probes  microsoft/deberta-v3-base     2     2         NONE   \n",
              "1  1_4_light_probes  microsoft/deberta-v3-base     2     2         NONE   \n",
              "2  1_4_light_probes  microsoft/deberta-v3-base     4     3         NONE   \n",
              "3  1_4_light_probes  microsoft/deberta-v3-base     4     3         NONE   \n",
              "4  1_4_light_probes  microsoft/deberta-v3-base     2     3         NONE   \n",
              "\n",
              "          metric     value  \n",
              "0   full test f1  0.793477  \n",
              "1  full test acc  0.797944  \n",
              "2   full test f1  0.790188  \n",
              "3  full test acc  0.794550  \n",
              "4   full test f1  0.790557  "
            ],
            "text/html": [
              "\n",
              "  <div id=\"df-20442a27-84e2-4acb-9158-63bfa237e81c\" class=\"colab-df-container\">\n",
              "    <div>\n",
              "<style scoped>\n",
              "    .dataframe tbody tr th:only-of-type {\n",
              "        vertical-align: middle;\n",
              "    }\n",
              "\n",
              "    .dataframe tbody tr th {\n",
              "        vertical-align: top;\n",
              "    }\n",
              "\n",
              "    .dataframe thead th {\n",
              "        text-align: right;\n",
              "    }\n",
              "</style>\n",
              "<table border=\"1\" class=\"dataframe\">\n",
              "  <thead>\n",
              "    <tr style=\"text-align: right;\">\n",
              "      <th></th>\n",
              "      <th>project</th>\n",
              "      <th>model</th>\n",
              "      <th>seed</th>\n",
              "      <th>fold</th>\n",
              "      <th>control_task</th>\n",
              "      <th>metric</th>\n",
              "      <th>value</th>\n",
              "    </tr>\n",
              "  </thead>\n",
              "  <tbody>\n",
              "    <tr>\n",
              "      <th>0</th>\n",
              "      <td>1_4_light_probes</td>\n",
              "      <td>microsoft/deberta-v3-base</td>\n",
              "      <td>2</td>\n",
              "      <td>2</td>\n",
              "      <td>NONE</td>\n",
              "      <td>full test f1</td>\n",
              "      <td>0.793477</td>\n",
              "    </tr>\n",
              "    <tr>\n",
              "      <th>1</th>\n",
              "      <td>1_4_light_probes</td>\n",
              "      <td>microsoft/deberta-v3-base</td>\n",
              "      <td>2</td>\n",
              "      <td>2</td>\n",
              "      <td>NONE</td>\n",
              "      <td>full test acc</td>\n",
              "      <td>0.797944</td>\n",
              "    </tr>\n",
              "    <tr>\n",
              "      <th>2</th>\n",
              "      <td>1_4_light_probes</td>\n",
              "      <td>microsoft/deberta-v3-base</td>\n",
              "      <td>4</td>\n",
              "      <td>3</td>\n",
              "      <td>NONE</td>\n",
              "      <td>full test f1</td>\n",
              "      <td>0.790188</td>\n",
              "    </tr>\n",
              "    <tr>\n",
              "      <th>3</th>\n",
              "      <td>1_4_light_probes</td>\n",
              "      <td>microsoft/deberta-v3-base</td>\n",
              "      <td>4</td>\n",
              "      <td>3</td>\n",
              "      <td>NONE</td>\n",
              "      <td>full test acc</td>\n",
              "      <td>0.794550</td>\n",
              "    </tr>\n",
              "    <tr>\n",
              "      <th>4</th>\n",
              "      <td>1_4_light_probes</td>\n",
              "      <td>microsoft/deberta-v3-base</td>\n",
              "      <td>2</td>\n",
              "      <td>3</td>\n",
              "      <td>NONE</td>\n",
              "      <td>full test f1</td>\n",
              "      <td>0.790557</td>\n",
              "    </tr>\n",
              "  </tbody>\n",
              "</table>\n",
              "</div>\n",
              "    <div class=\"colab-df-buttons\">\n",
              "\n",
              "  <div class=\"colab-df-container\">\n",
              "    <button class=\"colab-df-convert\" onclick=\"convertToInteractive('df-20442a27-84e2-4acb-9158-63bfa237e81c')\"\n",
              "            title=\"Convert this dataframe to an interactive table.\"\n",
              "            style=\"display:none;\">\n",
              "\n",
              "  <svg xmlns=\"http://www.w3.org/2000/svg\" height=\"24px\" viewBox=\"0 -960 960 960\">\n",
              "    <path d=\"M120-120v-720h720v720H120Zm60-500h600v-160H180v160Zm220 220h160v-160H400v160Zm0 220h160v-160H400v160ZM180-400h160v-160H180v160Zm440 0h160v-160H620v160ZM180-180h160v-160H180v160Zm440 0h160v-160H620v160Z\"/>\n",
              "  </svg>\n",
              "    </button>\n",
              "\n",
              "  <style>\n",
              "    .colab-df-container {\n",
              "      display:flex;\n",
              "      gap: 12px;\n",
              "    }\n",
              "\n",
              "    .colab-df-convert {\n",
              "      background-color: #E8F0FE;\n",
              "      border: none;\n",
              "      border-radius: 50%;\n",
              "      cursor: pointer;\n",
              "      display: none;\n",
              "      fill: #1967D2;\n",
              "      height: 32px;\n",
              "      padding: 0 0 0 0;\n",
              "      width: 32px;\n",
              "    }\n",
              "\n",
              "    .colab-df-convert:hover {\n",
              "      background-color: #E2EBFA;\n",
              "      box-shadow: 0px 1px 2px rgba(60, 64, 67, 0.3), 0px 1px 3px 1px rgba(60, 64, 67, 0.15);\n",
              "      fill: #174EA6;\n",
              "    }\n",
              "\n",
              "    .colab-df-buttons div {\n",
              "      margin-bottom: 4px;\n",
              "    }\n",
              "\n",
              "    [theme=dark] .colab-df-convert {\n",
              "      background-color: #3B4455;\n",
              "      fill: #D2E3FC;\n",
              "    }\n",
              "\n",
              "    [theme=dark] .colab-df-convert:hover {\n",
              "      background-color: #434B5C;\n",
              "      box-shadow: 0px 1px 3px 1px rgba(0, 0, 0, 0.15);\n",
              "      filter: drop-shadow(0px 1px 2px rgba(0, 0, 0, 0.3));\n",
              "      fill: #FFFFFF;\n",
              "    }\n",
              "  </style>\n",
              "\n",
              "    <script>\n",
              "      const buttonEl =\n",
              "        document.querySelector('#df-20442a27-84e2-4acb-9158-63bfa237e81c button.colab-df-convert');\n",
              "      buttonEl.style.display =\n",
              "        google.colab.kernel.accessAllowed ? 'block' : 'none';\n",
              "\n",
              "      async function convertToInteractive(key) {\n",
              "        const element = document.querySelector('#df-20442a27-84e2-4acb-9158-63bfa237e81c');\n",
              "        const dataTable =\n",
              "          await google.colab.kernel.invokeFunction('convertToInteractive',\n",
              "                                                    [key], {});\n",
              "        if (!dataTable) return;\n",
              "\n",
              "        const docLinkHtml = 'Like what you see? Visit the ' +\n",
              "          '<a target=\"_blank\" href=https://colab.research.google.com/notebooks/data_table.ipynb>data table notebook</a>'\n",
              "          + ' to learn more about interactive tables.';\n",
              "        element.innerHTML = '';\n",
              "        dataTable['output_type'] = 'display_data';\n",
              "        await google.colab.output.renderOutput(dataTable, element);\n",
              "        const docLink = document.createElement('div');\n",
              "        docLink.innerHTML = docLinkHtml;\n",
              "        element.appendChild(docLink);\n",
              "      }\n",
              "    </script>\n",
              "  </div>\n",
              "\n",
              "\n",
              "<div id=\"df-97a1a3d1-5a4d-4cf5-b11a-5581b84db264\">\n",
              "  <button class=\"colab-df-quickchart\" onclick=\"quickchart('df-97a1a3d1-5a4d-4cf5-b11a-5581b84db264')\"\n",
              "            title=\"Suggest charts\"\n",
              "            style=\"display:none;\">\n",
              "\n",
              "<svg xmlns=\"http://www.w3.org/2000/svg\" height=\"24px\"viewBox=\"0 0 24 24\"\n",
              "     width=\"24px\">\n",
              "    <g>\n",
              "        <path d=\"M19 3H5c-1.1 0-2 .9-2 2v14c0 1.1.9 2 2 2h14c1.1 0 2-.9 2-2V5c0-1.1-.9-2-2-2zM9 17H7v-7h2v7zm4 0h-2V7h2v10zm4 0h-2v-4h2v4z\"/>\n",
              "    </g>\n",
              "</svg>\n",
              "  </button>\n",
              "\n",
              "<style>\n",
              "  .colab-df-quickchart {\n",
              "      --bg-color: #E8F0FE;\n",
              "      --fill-color: #1967D2;\n",
              "      --hover-bg-color: #E2EBFA;\n",
              "      --hover-fill-color: #174EA6;\n",
              "      --disabled-fill-color: #AAA;\n",
              "      --disabled-bg-color: #DDD;\n",
              "  }\n",
              "\n",
              "  [theme=dark] .colab-df-quickchart {\n",
              "      --bg-color: #3B4455;\n",
              "      --fill-color: #D2E3FC;\n",
              "      --hover-bg-color: #434B5C;\n",
              "      --hover-fill-color: #FFFFFF;\n",
              "      --disabled-bg-color: #3B4455;\n",
              "      --disabled-fill-color: #666;\n",
              "  }\n",
              "\n",
              "  .colab-df-quickchart {\n",
              "    background-color: var(--bg-color);\n",
              "    border: none;\n",
              "    border-radius: 50%;\n",
              "    cursor: pointer;\n",
              "    display: none;\n",
              "    fill: var(--fill-color);\n",
              "    height: 32px;\n",
              "    padding: 0;\n",
              "    width: 32px;\n",
              "  }\n",
              "\n",
              "  .colab-df-quickchart:hover {\n",
              "    background-color: var(--hover-bg-color);\n",
              "    box-shadow: 0 1px 2px rgba(60, 64, 67, 0.3), 0 1px 3px 1px rgba(60, 64, 67, 0.15);\n",
              "    fill: var(--button-hover-fill-color);\n",
              "  }\n",
              "\n",
              "  .colab-df-quickchart-complete:disabled,\n",
              "  .colab-df-quickchart-complete:disabled:hover {\n",
              "    background-color: var(--disabled-bg-color);\n",
              "    fill: var(--disabled-fill-color);\n",
              "    box-shadow: none;\n",
              "  }\n",
              "\n",
              "  .colab-df-spinner {\n",
              "    border: 2px solid var(--fill-color);\n",
              "    border-color: transparent;\n",
              "    border-bottom-color: var(--fill-color);\n",
              "    animation:\n",
              "      spin 1s steps(1) infinite;\n",
              "  }\n",
              "\n",
              "  @keyframes spin {\n",
              "    0% {\n",
              "      border-color: transparent;\n",
              "      border-bottom-color: var(--fill-color);\n",
              "      border-left-color: var(--fill-color);\n",
              "    }\n",
              "    20% {\n",
              "      border-color: transparent;\n",
              "      border-left-color: var(--fill-color);\n",
              "      border-top-color: var(--fill-color);\n",
              "    }\n",
              "    30% {\n",
              "      border-color: transparent;\n",
              "      border-left-color: var(--fill-color);\n",
              "      border-top-color: var(--fill-color);\n",
              "      border-right-color: var(--fill-color);\n",
              "    }\n",
              "    40% {\n",
              "      border-color: transparent;\n",
              "      border-right-color: var(--fill-color);\n",
              "      border-top-color: var(--fill-color);\n",
              "    }\n",
              "    60% {\n",
              "      border-color: transparent;\n",
              "      border-right-color: var(--fill-color);\n",
              "    }\n",
              "    80% {\n",
              "      border-color: transparent;\n",
              "      border-right-color: var(--fill-color);\n",
              "      border-bottom-color: var(--fill-color);\n",
              "    }\n",
              "    90% {\n",
              "      border-color: transparent;\n",
              "      border-bottom-color: var(--fill-color);\n",
              "    }\n",
              "  }\n",
              "</style>\n",
              "\n",
              "  <script>\n",
              "    async function quickchart(key) {\n",
              "      const quickchartButtonEl =\n",
              "        document.querySelector('#' + key + ' button');\n",
              "      quickchartButtonEl.disabled = true;  // To prevent multiple clicks.\n",
              "      quickchartButtonEl.classList.add('colab-df-spinner');\n",
              "      try {\n",
              "        const charts = await google.colab.kernel.invokeFunction(\n",
              "            'suggestCharts', [key], {});\n",
              "      } catch (error) {\n",
              "        console.error('Error during call to suggestCharts:', error);\n",
              "      }\n",
              "      quickchartButtonEl.classList.remove('colab-df-spinner');\n",
              "      quickchartButtonEl.classList.add('colab-df-quickchart-complete');\n",
              "    }\n",
              "    (() => {\n",
              "      let quickchartButtonEl =\n",
              "        document.querySelector('#df-97a1a3d1-5a4d-4cf5-b11a-5581b84db264 button');\n",
              "      quickchartButtonEl.style.display =\n",
              "        google.colab.kernel.accessAllowed ? 'block' : 'none';\n",
              "    })();\n",
              "  </script>\n",
              "</div>\n",
              "    </div>\n",
              "  </div>\n"
            ]
          },
          "metadata": {},
          "execution_count": 39
        }
      ]
    },
    {
      "cell_type": "markdown",
      "source": [
        " # Check for missing runs / parameter configurations"
      ],
      "metadata": {
        "id": "Grq4JcEUcKZS"
      }
    },
    {
      "cell_type": "code",
      "source": [
        "#todo refactor\n",
        "def check_missing_data(data):\n",
        "    missing_data = []\n",
        "    for project in PROJECT_NAMES:\n",
        "        for model in data['model'].unique():\n",
        "            for seed in range(5):  # Seeds 0 to 4\n",
        "                for fold in range(4):  # Folds 0 to 3\n",
        "                    for control_task in CONTROL_TASKS:\n",
        "                        condition = (data['project'] == project) & (data['model'] == model) & (data['seed'] == seed) & (data['fold'] == fold) & (data['control_task'] == control_task)\n",
        "                        if not data[condition].shape[0] == len(METRICS):\n",
        "                            missing_data.append((project, model, seed, fold, control_task))\n",
        "    return missing_data\n",
        "\n",
        "# Check for missing combinations in each project\n",
        "missing_combinations = {}\n",
        "total_missing_count = 0\n",
        "\n",
        "for project in PROJECT_NAMES:\n",
        "    missing = []\n",
        "    for model in MODELS:\n",
        "        for seed in SEEDS:\n",
        "            for fold in FOLDS:\n",
        "                for task in CONTROL_TASKS:\n",
        "                    if not ((initial_df['project'] == project) & (initial_df['model'] == model) &\n",
        "                            (initial_df['seed'] == seed) & (initial_df['fold'] == fold) &\n",
        "                            (initial_df['control_task'] == task)).any():\n",
        "                        missing.append((seed, model, fold, task.lower()))\n",
        "    missing_combinations[project] = missing\n",
        "    project_missing_count = len(missing)\n",
        "    total_missing_count += project_missing_count\n",
        "    print(f\"Project '{project}' is missing {project_missing_count} combinations.\")\n",
        "\n"
      ],
      "metadata": {
        "id": "l4BBYSRTZ2mg"
      },
      "execution_count": null,
      "outputs": []
    },
    {
      "cell_type": "code",
      "source": [
        "missing_combinations['4_different_depths']"
      ],
      "metadata": {
        "id": "VKXJ-x_fbGIK"
      },
      "execution_count": null,
      "outputs": []
    },
    {
      "cell_type": "code",
      "source": [
        "missing_combinations['5_claim_path_density']"
      ],
      "metadata": {
        "id": "-2L6v-zebLmT"
      },
      "execution_count": null,
      "outputs": []
    },
    {
      "cell_type": "code",
      "source": [
        "missing_combinations['3_reactiveness']"
      ],
      "metadata": {
        "id": "qXc7lNM8bNrr"
      },
      "execution_count": null,
      "outputs": []
    },
    {
      "cell_type": "markdown",
      "source": [
        "## Generate a single chained command to rerun missing runs in probing framework\n"
      ],
      "metadata": {
        "id": "VX64ei1scWxA"
      }
    },
    {
      "cell_type": "code",
      "source": [
        "all_commands = []\n",
        "for project, missing in missing_combinations.items():\n",
        "    for seed, model, fold, task in missing:\n",
        "        cmd = f\"python3 run_tasks.py --seeds {seed} --models {model} --control_tasks {task} --include_probes {project.split('_')[0]} --attach_topic True\"\n",
        "        all_commands.append(cmd)\n",
        "\n",
        "chained_command = \" && \".join(all_commands)\n",
        "print(f\"All projects combined are missing a total of {total_missing_count} combinations.\")\n",
        "print(f\"Chained command to rerun all missing combinations:\\n{chained_command}\")\n"
      ],
      "metadata": {
        "id": "WVKQqCYIcVuG",
        "colab": {
          "base_uri": "https://localhost:8080/"
        },
        "outputId": "30ddb591-61ca-41fb-ffd9-59aeebf4a6f7"
      },
      "execution_count": null,
      "outputs": [
        {
          "output_type": "stream",
          "name": "stdout",
          "text": [
            "All projects combined are missing a total of 167 combinations.\n",
            "Chained command to rerun all missing combinations:\n",
            "python3 run_tasks.py --seeds 1 --models facebook/bart-base --control_tasks RANDOMIZATION --include_probes 4 --attach_topic True && python3 run_tasks.py --seeds 3 --models facebook/bart-base --control_tasks RANDOMIZATION --include_probes 4 --attach_topic True && python3 run_tasks.py --seeds 4 --models facebook/bart-base --control_tasks RANDOMIZATION --include_probes 4 --attach_topic True && python3 run_tasks.py --seeds 4 --models facebook/bart-base --control_tasks RANDOMIZATION --include_probes 4 --attach_topic True && python3 run_tasks.py --seeds 3 --models bert-base-uncased --control_tasks RANDOMIZATION --include_probes 4 --attach_topic True && python3 run_tasks.py --seeds 0 --models microsoft/deberta-v3-base --control_tasks RANDOMIZATION --include_probes 3 --attach_topic True && python3 run_tasks.py --seeds 0 --models microsoft/deberta-v3-base --control_tasks NONE --include_probes 3 --attach_topic True && python3 run_tasks.py --seeds 0 --models microsoft/deberta-v3-base --control_tasks RANDOMIZATION --include_probes 3 --attach_topic True && python3 run_tasks.py --seeds 0 --models microsoft/deberta-v3-base --control_tasks NONE --include_probes 3 --attach_topic True && python3 run_tasks.py --seeds 0 --models microsoft/deberta-v3-base --control_tasks RANDOMIZATION --include_probes 3 --attach_topic True && python3 run_tasks.py --seeds 0 --models microsoft/deberta-v3-base --control_tasks NONE --include_probes 3 --attach_topic True && python3 run_tasks.py --seeds 0 --models microsoft/deberta-v3-base --control_tasks RANDOMIZATION --include_probes 3 --attach_topic True && python3 run_tasks.py --seeds 0 --models microsoft/deberta-v3-base --control_tasks NONE --include_probes 3 --attach_topic True && python3 run_tasks.py --seeds 1 --models microsoft/deberta-v3-base --control_tasks RANDOMIZATION --include_probes 3 --attach_topic True && python3 run_tasks.py --seeds 1 --models microsoft/deberta-v3-base --control_tasks NONE --include_probes 3 --attach_topic True && python3 run_tasks.py --seeds 1 --models microsoft/deberta-v3-base --control_tasks RANDOMIZATION --include_probes 3 --attach_topic True && python3 run_tasks.py --seeds 1 --models microsoft/deberta-v3-base --control_tasks NONE --include_probes 3 --attach_topic True && python3 run_tasks.py --seeds 1 --models microsoft/deberta-v3-base --control_tasks RANDOMIZATION --include_probes 3 --attach_topic True && python3 run_tasks.py --seeds 1 --models microsoft/deberta-v3-base --control_tasks NONE --include_probes 3 --attach_topic True && python3 run_tasks.py --seeds 1 --models microsoft/deberta-v3-base --control_tasks RANDOMIZATION --include_probes 3 --attach_topic True && python3 run_tasks.py --seeds 1 --models microsoft/deberta-v3-base --control_tasks NONE --include_probes 3 --attach_topic True && python3 run_tasks.py --seeds 2 --models microsoft/deberta-v3-base --control_tasks RANDOMIZATION --include_probes 3 --attach_topic True && python3 run_tasks.py --seeds 2 --models microsoft/deberta-v3-base --control_tasks NONE --include_probes 3 --attach_topic True && python3 run_tasks.py --seeds 2 --models microsoft/deberta-v3-base --control_tasks RANDOMIZATION --include_probes 3 --attach_topic True && python3 run_tasks.py --seeds 2 --models microsoft/deberta-v3-base --control_tasks NONE --include_probes 3 --attach_topic True && python3 run_tasks.py --seeds 2 --models microsoft/deberta-v3-base --control_tasks RANDOMIZATION --include_probes 3 --attach_topic True && python3 run_tasks.py --seeds 2 --models microsoft/deberta-v3-base --control_tasks NONE --include_probes 3 --attach_topic True && python3 run_tasks.py --seeds 2 --models microsoft/deberta-v3-base --control_tasks RANDOMIZATION --include_probes 3 --attach_topic True && python3 run_tasks.py --seeds 2 --models microsoft/deberta-v3-base --control_tasks NONE --include_probes 3 --attach_topic True && python3 run_tasks.py --seeds 3 --models microsoft/deberta-v3-base --control_tasks RANDOMIZATION --include_probes 3 --attach_topic True && python3 run_tasks.py --seeds 3 --models microsoft/deberta-v3-base --control_tasks NONE --include_probes 3 --attach_topic True && python3 run_tasks.py --seeds 3 --models microsoft/deberta-v3-base --control_tasks RANDOMIZATION --include_probes 3 --attach_topic True && python3 run_tasks.py --seeds 3 --models microsoft/deberta-v3-base --control_tasks NONE --include_probes 3 --attach_topic True && python3 run_tasks.py --seeds 3 --models microsoft/deberta-v3-base --control_tasks RANDOMIZATION --include_probes 3 --attach_topic True && python3 run_tasks.py --seeds 3 --models microsoft/deberta-v3-base --control_tasks NONE --include_probes 3 --attach_topic True && python3 run_tasks.py --seeds 3 --models microsoft/deberta-v3-base --control_tasks RANDOMIZATION --include_probes 3 --attach_topic True && python3 run_tasks.py --seeds 3 --models microsoft/deberta-v3-base --control_tasks NONE --include_probes 3 --attach_topic True && python3 run_tasks.py --seeds 4 --models microsoft/deberta-v3-base --control_tasks RANDOMIZATION --include_probes 3 --attach_topic True && python3 run_tasks.py --seeds 4 --models microsoft/deberta-v3-base --control_tasks NONE --include_probes 3 --attach_topic True && python3 run_tasks.py --seeds 4 --models microsoft/deberta-v3-base --control_tasks RANDOMIZATION --include_probes 3 --attach_topic True && python3 run_tasks.py --seeds 4 --models microsoft/deberta-v3-base --control_tasks NONE --include_probes 3 --attach_topic True && python3 run_tasks.py --seeds 4 --models microsoft/deberta-v3-base --control_tasks RANDOMIZATION --include_probes 3 --attach_topic True && python3 run_tasks.py --seeds 4 --models microsoft/deberta-v3-base --control_tasks NONE --include_probes 3 --attach_topic True && python3 run_tasks.py --seeds 4 --models microsoft/deberta-v3-base --control_tasks RANDOMIZATION --include_probes 3 --attach_topic True && python3 run_tasks.py --seeds 4 --models microsoft/deberta-v3-base --control_tasks NONE --include_probes 3 --attach_topic True && python3 run_tasks.py --seeds 0 --models facebook/bart-base --control_tasks RANDOMIZATION --include_probes 3 --attach_topic True && python3 run_tasks.py --seeds 0 --models facebook/bart-base --control_tasks NONE --include_probes 3 --attach_topic True && python3 run_tasks.py --seeds 0 --models facebook/bart-base --control_tasks RANDOMIZATION --include_probes 3 --attach_topic True && python3 run_tasks.py --seeds 0 --models facebook/bart-base --control_tasks NONE --include_probes 3 --attach_topic True && python3 run_tasks.py --seeds 0 --models facebook/bart-base --control_tasks RANDOMIZATION --include_probes 3 --attach_topic True && python3 run_tasks.py --seeds 0 --models facebook/bart-base --control_tasks NONE --include_probes 3 --attach_topic True && python3 run_tasks.py --seeds 0 --models facebook/bart-base --control_tasks RANDOMIZATION --include_probes 3 --attach_topic True && python3 run_tasks.py --seeds 0 --models facebook/bart-base --control_tasks NONE --include_probes 3 --attach_topic True && python3 run_tasks.py --seeds 1 --models facebook/bart-base --control_tasks RANDOMIZATION --include_probes 3 --attach_topic True && python3 run_tasks.py --seeds 1 --models facebook/bart-base --control_tasks NONE --include_probes 3 --attach_topic True && python3 run_tasks.py --seeds 1 --models facebook/bart-base --control_tasks RANDOMIZATION --include_probes 3 --attach_topic True && python3 run_tasks.py --seeds 1 --models facebook/bart-base --control_tasks NONE --include_probes 3 --attach_topic True && python3 run_tasks.py --seeds 1 --models facebook/bart-base --control_tasks RANDOMIZATION --include_probes 3 --attach_topic True && python3 run_tasks.py --seeds 1 --models facebook/bart-base --control_tasks NONE --include_probes 3 --attach_topic True && python3 run_tasks.py --seeds 1 --models facebook/bart-base --control_tasks RANDOMIZATION --include_probes 3 --attach_topic True && python3 run_tasks.py --seeds 1 --models facebook/bart-base --control_tasks NONE --include_probes 3 --attach_topic True && python3 run_tasks.py --seeds 2 --models facebook/bart-base --control_tasks RANDOMIZATION --include_probes 3 --attach_topic True && python3 run_tasks.py --seeds 2 --models facebook/bart-base --control_tasks NONE --include_probes 3 --attach_topic True && python3 run_tasks.py --seeds 2 --models facebook/bart-base --control_tasks RANDOMIZATION --include_probes 3 --attach_topic True && python3 run_tasks.py --seeds 2 --models facebook/bart-base --control_tasks NONE --include_probes 3 --attach_topic True && python3 run_tasks.py --seeds 2 --models facebook/bart-base --control_tasks RANDOMIZATION --include_probes 3 --attach_topic True && python3 run_tasks.py --seeds 2 --models facebook/bart-base --control_tasks NONE --include_probes 3 --attach_topic True && python3 run_tasks.py --seeds 2 --models facebook/bart-base --control_tasks RANDOMIZATION --include_probes 3 --attach_topic True && python3 run_tasks.py --seeds 2 --models facebook/bart-base --control_tasks NONE --include_probes 3 --attach_topic True && python3 run_tasks.py --seeds 3 --models facebook/bart-base --control_tasks RANDOMIZATION --include_probes 3 --attach_topic True && python3 run_tasks.py --seeds 3 --models facebook/bart-base --control_tasks NONE --include_probes 3 --attach_topic True && python3 run_tasks.py --seeds 3 --models facebook/bart-base --control_tasks RANDOMIZATION --include_probes 3 --attach_topic True && python3 run_tasks.py --seeds 3 --models facebook/bart-base --control_tasks NONE --include_probes 3 --attach_topic True && python3 run_tasks.py --seeds 3 --models facebook/bart-base --control_tasks RANDOMIZATION --include_probes 3 --attach_topic True && python3 run_tasks.py --seeds 3 --models facebook/bart-base --control_tasks NONE --include_probes 3 --attach_topic True && python3 run_tasks.py --seeds 3 --models facebook/bart-base --control_tasks RANDOMIZATION --include_probes 3 --attach_topic True && python3 run_tasks.py --seeds 3 --models facebook/bart-base --control_tasks NONE --include_probes 3 --attach_topic True && python3 run_tasks.py --seeds 4 --models facebook/bart-base --control_tasks RANDOMIZATION --include_probes 3 --attach_topic True && python3 run_tasks.py --seeds 4 --models facebook/bart-base --control_tasks NONE --include_probes 3 --attach_topic True && python3 run_tasks.py --seeds 4 --models facebook/bart-base --control_tasks RANDOMIZATION --include_probes 3 --attach_topic True && python3 run_tasks.py --seeds 4 --models facebook/bart-base --control_tasks NONE --include_probes 3 --attach_topic True && python3 run_tasks.py --seeds 4 --models facebook/bart-base --control_tasks RANDOMIZATION --include_probes 3 --attach_topic True && python3 run_tasks.py --seeds 4 --models facebook/bart-base --control_tasks NONE --include_probes 3 --attach_topic True && python3 run_tasks.py --seeds 4 --models facebook/bart-base --control_tasks RANDOMIZATION --include_probes 3 --attach_topic True && python3 run_tasks.py --seeds 4 --models facebook/bart-base --control_tasks NONE --include_probes 3 --attach_topic True && python3 run_tasks.py --seeds 0 --models gpt2 --control_tasks RANDOMIZATION --include_probes 3 --attach_topic True && python3 run_tasks.py --seeds 0 --models gpt2 --control_tasks NONE --include_probes 3 --attach_topic True && python3 run_tasks.py --seeds 0 --models gpt2 --control_tasks RANDOMIZATION --include_probes 3 --attach_topic True && python3 run_tasks.py --seeds 0 --models gpt2 --control_tasks NONE --include_probes 3 --attach_topic True && python3 run_tasks.py --seeds 0 --models gpt2 --control_tasks RANDOMIZATION --include_probes 3 --attach_topic True && python3 run_tasks.py --seeds 0 --models gpt2 --control_tasks NONE --include_probes 3 --attach_topic True && python3 run_tasks.py --seeds 0 --models gpt2 --control_tasks RANDOMIZATION --include_probes 3 --attach_topic True && python3 run_tasks.py --seeds 0 --models gpt2 --control_tasks NONE --include_probes 3 --attach_topic True && python3 run_tasks.py --seeds 1 --models gpt2 --control_tasks RANDOMIZATION --include_probes 3 --attach_topic True && python3 run_tasks.py --seeds 1 --models gpt2 --control_tasks NONE --include_probes 3 --attach_topic True && python3 run_tasks.py --seeds 1 --models gpt2 --control_tasks RANDOMIZATION --include_probes 3 --attach_topic True && python3 run_tasks.py --seeds 1 --models gpt2 --control_tasks NONE --include_probes 3 --attach_topic True && python3 run_tasks.py --seeds 1 --models gpt2 --control_tasks RANDOMIZATION --include_probes 3 --attach_topic True && python3 run_tasks.py --seeds 1 --models gpt2 --control_tasks NONE --include_probes 3 --attach_topic True && python3 run_tasks.py --seeds 1 --models gpt2 --control_tasks RANDOMIZATION --include_probes 3 --attach_topic True && python3 run_tasks.py --seeds 1 --models gpt2 --control_tasks NONE --include_probes 3 --attach_topic True && python3 run_tasks.py --seeds 2 --models gpt2 --control_tasks RANDOMIZATION --include_probes 3 --attach_topic True && python3 run_tasks.py --seeds 2 --models gpt2 --control_tasks NONE --include_probes 3 --attach_topic True && python3 run_tasks.py --seeds 2 --models gpt2 --control_tasks RANDOMIZATION --include_probes 3 --attach_topic True && python3 run_tasks.py --seeds 2 --models gpt2 --control_tasks NONE --include_probes 3 --attach_topic True && python3 run_tasks.py --seeds 2 --models gpt2 --control_tasks RANDOMIZATION --include_probes 3 --attach_topic True && python3 run_tasks.py --seeds 2 --models gpt2 --control_tasks NONE --include_probes 3 --attach_topic True && python3 run_tasks.py --seeds 2 --models gpt2 --control_tasks RANDOMIZATION --include_probes 3 --attach_topic True && python3 run_tasks.py --seeds 2 --models gpt2 --control_tasks NONE --include_probes 3 --attach_topic True && python3 run_tasks.py --seeds 3 --models gpt2 --control_tasks RANDOMIZATION --include_probes 3 --attach_topic True && python3 run_tasks.py --seeds 3 --models gpt2 --control_tasks NONE --include_probes 3 --attach_topic True && python3 run_tasks.py --seeds 3 --models gpt2 --control_tasks RANDOMIZATION --include_probes 3 --attach_topic True && python3 run_tasks.py --seeds 3 --models gpt2 --control_tasks NONE --include_probes 3 --attach_topic True && python3 run_tasks.py --seeds 3 --models gpt2 --control_tasks RANDOMIZATION --include_probes 3 --attach_topic True && python3 run_tasks.py --seeds 3 --models gpt2 --control_tasks NONE --include_probes 3 --attach_topic True && python3 run_tasks.py --seeds 3 --models gpt2 --control_tasks RANDOMIZATION --include_probes 3 --attach_topic True && python3 run_tasks.py --seeds 3 --models gpt2 --control_tasks NONE --include_probes 3 --attach_topic True && python3 run_tasks.py --seeds 4 --models gpt2 --control_tasks RANDOMIZATION --include_probes 3 --attach_topic True && python3 run_tasks.py --seeds 4 --models gpt2 --control_tasks NONE --include_probes 3 --attach_topic True && python3 run_tasks.py --seeds 4 --models gpt2 --control_tasks RANDOMIZATION --include_probes 3 --attach_topic True && python3 run_tasks.py --seeds 4 --models gpt2 --control_tasks NONE --include_probes 3 --attach_topic True && python3 run_tasks.py --seeds 4 --models gpt2 --control_tasks RANDOMIZATION --include_probes 3 --attach_topic True && python3 run_tasks.py --seeds 4 --models gpt2 --control_tasks NONE --include_probes 3 --attach_topic True && python3 run_tasks.py --seeds 4 --models gpt2 --control_tasks RANDOMIZATION --include_probes 3 --attach_topic True && python3 run_tasks.py --seeds 4 --models gpt2 --control_tasks NONE --include_probes 3 --attach_topic True && python3 run_tasks.py --seeds 0 --models albert-base-v2 --control_tasks RANDOMIZATION --include_probes 3 --attach_topic True && python3 run_tasks.py --seeds 0 --models albert-base-v2 --control_tasks NONE --include_probes 3 --attach_topic True && python3 run_tasks.py --seeds 0 --models albert-base-v2 --control_tasks RANDOMIZATION --include_probes 3 --attach_topic True && python3 run_tasks.py --seeds 0 --models albert-base-v2 --control_tasks NONE --include_probes 3 --attach_topic True && python3 run_tasks.py --seeds 0 --models albert-base-v2 --control_tasks RANDOMIZATION --include_probes 3 --attach_topic True && python3 run_tasks.py --seeds 0 --models albert-base-v2 --control_tasks NONE --include_probes 3 --attach_topic True && python3 run_tasks.py --seeds 0 --models albert-base-v2 --control_tasks RANDOMIZATION --include_probes 3 --attach_topic True && python3 run_tasks.py --seeds 0 --models albert-base-v2 --control_tasks NONE --include_probes 3 --attach_topic True && python3 run_tasks.py --seeds 1 --models albert-base-v2 --control_tasks RANDOMIZATION --include_probes 3 --attach_topic True && python3 run_tasks.py --seeds 1 --models albert-base-v2 --control_tasks NONE --include_probes 3 --attach_topic True && python3 run_tasks.py --seeds 1 --models albert-base-v2 --control_tasks RANDOMIZATION --include_probes 3 --attach_topic True && python3 run_tasks.py --seeds 1 --models albert-base-v2 --control_tasks NONE --include_probes 3 --attach_topic True && python3 run_tasks.py --seeds 1 --models albert-base-v2 --control_tasks RANDOMIZATION --include_probes 3 --attach_topic True && python3 run_tasks.py --seeds 1 --models albert-base-v2 --control_tasks NONE --include_probes 3 --attach_topic True && python3 run_tasks.py --seeds 1 --models albert-base-v2 --control_tasks RANDOMIZATION --include_probes 3 --attach_topic True && python3 run_tasks.py --seeds 1 --models albert-base-v2 --control_tasks NONE --include_probes 3 --attach_topic True && python3 run_tasks.py --seeds 2 --models albert-base-v2 --control_tasks RANDOMIZATION --include_probes 3 --attach_topic True && python3 run_tasks.py --seeds 2 --models albert-base-v2 --control_tasks NONE --include_probes 3 --attach_topic True && python3 run_tasks.py --seeds 2 --models albert-base-v2 --control_tasks RANDOMIZATION --include_probes 3 --attach_topic True && python3 run_tasks.py --seeds 2 --models albert-base-v2 --control_tasks NONE --include_probes 3 --attach_topic True && python3 run_tasks.py --seeds 2 --models albert-base-v2 --control_tasks RANDOMIZATION --include_probes 3 --attach_topic True && python3 run_tasks.py --seeds 2 --models albert-base-v2 --control_tasks NONE --include_probes 3 --attach_topic True && python3 run_tasks.py --seeds 2 --models albert-base-v2 --control_tasks RANDOMIZATION --include_probes 3 --attach_topic True && python3 run_tasks.py --seeds 2 --models albert-base-v2 --control_tasks NONE --include_probes 3 --attach_topic True && python3 run_tasks.py --seeds 3 --models albert-base-v2 --control_tasks RANDOMIZATION --include_probes 3 --attach_topic True && python3 run_tasks.py --seeds 3 --models albert-base-v2 --control_tasks NONE --include_probes 3 --attach_topic True && python3 run_tasks.py --seeds 3 --models albert-base-v2 --control_tasks RANDOMIZATION --include_probes 3 --attach_topic True && python3 run_tasks.py --seeds 3 --models albert-base-v2 --control_tasks NONE --include_probes 3 --attach_topic True && python3 run_tasks.py --seeds 3 --models albert-base-v2 --control_tasks RANDOMIZATION --include_probes 3 --attach_topic True && python3 run_tasks.py --seeds 3 --models albert-base-v2 --control_tasks NONE --include_probes 3 --attach_topic True && python3 run_tasks.py --seeds 3 --models albert-base-v2 --control_tasks RANDOMIZATION --include_probes 3 --attach_topic True && python3 run_tasks.py --seeds 3 --models albert-base-v2 --control_tasks NONE --include_probes 3 --attach_topic True && python3 run_tasks.py --seeds 4 --models albert-base-v2 --control_tasks RANDOMIZATION --include_probes 3 --attach_topic True && python3 run_tasks.py --seeds 4 --models albert-base-v2 --control_tasks NONE --include_probes 3 --attach_topic True && python3 run_tasks.py --seeds 4 --models albert-base-v2 --control_tasks RANDOMIZATION --include_probes 3 --attach_topic True && python3 run_tasks.py --seeds 4 --models albert-base-v2 --control_tasks NONE --include_probes 3 --attach_topic True && python3 run_tasks.py --seeds 4 --models albert-base-v2 --control_tasks RANDOMIZATION --include_probes 3 --attach_topic True && python3 run_tasks.py --seeds 4 --models albert-base-v2 --control_tasks NONE --include_probes 3 --attach_topic True && python3 run_tasks.py --seeds 4 --models albert-base-v2 --control_tasks RANDOMIZATION --include_probes 3 --attach_topic True && python3 run_tasks.py --seeds 4 --models albert-base-v2 --control_tasks NONE --include_probes 3 --attach_topic True && python3 run_tasks.py --seeds 1 --models gpt2 --control_tasks RANDOMIZATION --include_probes 5 --attach_topic True && python3 run_tasks.py --seeds 2 --models gpt2 --control_tasks RANDOMIZATION --include_probes 5 --attach_topic True\n"
          ]
        }
      ]
    },
    {
      "cell_type": "markdown",
      "source": [
        "# Append Data to Analysis Dataframe"
      ],
      "metadata": {
        "id": "xTysIeys0U_v"
      }
    },
    {
      "cell_type": "code",
      "source": [
        "saving_path_aggregated = \"probing_results/updated_aggregated_mann_whitney_u_test_results.csv\"\n",
        "saving_path_runs = \"probing_results/all_run_level_mann_whitney_u_test_results.csv\""
      ],
      "metadata": {
        "id": "YqUvsvDOyDU9"
      },
      "execution_count": null,
      "outputs": []
    },
    {
      "cell_type": "code",
      "source": [
        "def append_to_csv(file_path, new_data):\n",
        "    \"\"\"\n",
        "    Appends new data to an existing CSV file.\n",
        "\n",
        "    :param file_path: String, the path to the CSV file.\n",
        "    :param new_data: DataFrame, the new data to append.\n",
        "    \"\"\"\n",
        "    # Load existing data from CSV\n",
        "    try:\n",
        "        existing_data = pd.read_csv(file_path)\n",
        "    except FileNotFoundError:\n",
        "        print(f\"No existing file found at {file_path}. A new file will be created.\")\n",
        "        existing_data = pd.DataFrame()\n",
        "\n",
        "    # Append new data\n",
        "    updated_data = pd.concat([existing_data, new_data], ignore_index=True)\n",
        "\n",
        "    # Save updated data to CSV\n",
        "    updated_data.to_csv(file_path, index=False)\n",
        "    print(f\"Data successfully appended to {file_path}.\")\n",
        "\n",
        "# File paths for existing CSV files\n",
        "\n",
        "\n",
        "aggregated_csv_path = f'{GDRIVE_BASE_PATH}/{saving_path_aggregated}'\n",
        "run_level_csv_path = f'{GDRIVE_BASE_PATH}/{saving_path_runs}'\n",
        "\n",
        "# Example usage:\n",
        "# Assuming 'new_aggregated_data' and 'new_run_level_data' are the new DataFrames to append\n",
        "append_to_csv(aggregated_csv_path, new_aggregated_data)\n",
        "append_to_csv(run_level_csv_path, new_run_level_data)\n"
      ],
      "metadata": {
        "id": "e0HAJ4np7iAM"
      },
      "execution_count": null,
      "outputs": []
    },
    {
      "cell_type": "markdown",
      "source": [
        "# Save Dataframe"
      ],
      "metadata": {
        "id": "DGgTgjeeco30"
      }
    },
    {
      "cell_type": "code",
      "source": [
        "#initial_df = pd.read_csv(f'{GDRIVE_BASE_PATH}/{SAVING_PATH}')"
      ],
      "metadata": {
        "id": "DFLpffwPBXnQ"
      },
      "execution_count": null,
      "outputs": []
    },
    {
      "cell_type": "code",
      "source": [
        "initial_df.head()"
      ],
      "metadata": {
        "colab": {
          "base_uri": "https://localhost:8080/",
          "height": 206
        },
        "id": "gADAMOxjCaa-",
        "outputId": "511d6c30-5b2f-44b2-a783-db583de74cd8"
      },
      "execution_count": null,
      "outputs": [
        {
          "output_type": "execute_result",
          "data": {
            "text/plain": [
              "            project                      model  seed  fold control_task  \\\n",
              "0  1_4_light_probes  microsoft/deberta-v3-base     2     2         NONE   \n",
              "1  1_4_light_probes  microsoft/deberta-v3-base     2     2         NONE   \n",
              "2  1_4_light_probes  microsoft/deberta-v3-base     4     3         NONE   \n",
              "3  1_4_light_probes  microsoft/deberta-v3-base     4     3         NONE   \n",
              "4  1_4_light_probes  microsoft/deberta-v3-base     2     3         NONE   \n",
              "\n",
              "          metric     value  \n",
              "0   full test f1  0.793477  \n",
              "1  full test acc  0.797944  \n",
              "2   full test f1  0.790188  \n",
              "3  full test acc  0.794550  \n",
              "4   full test f1  0.790557  "
            ],
            "text/html": [
              "\n",
              "  <div id=\"df-e95778b2-667b-4854-9339-d12bc14d0363\" class=\"colab-df-container\">\n",
              "    <div>\n",
              "<style scoped>\n",
              "    .dataframe tbody tr th:only-of-type {\n",
              "        vertical-align: middle;\n",
              "    }\n",
              "\n",
              "    .dataframe tbody tr th {\n",
              "        vertical-align: top;\n",
              "    }\n",
              "\n",
              "    .dataframe thead th {\n",
              "        text-align: right;\n",
              "    }\n",
              "</style>\n",
              "<table border=\"1\" class=\"dataframe\">\n",
              "  <thead>\n",
              "    <tr style=\"text-align: right;\">\n",
              "      <th></th>\n",
              "      <th>project</th>\n",
              "      <th>model</th>\n",
              "      <th>seed</th>\n",
              "      <th>fold</th>\n",
              "      <th>control_task</th>\n",
              "      <th>metric</th>\n",
              "      <th>value</th>\n",
              "    </tr>\n",
              "  </thead>\n",
              "  <tbody>\n",
              "    <tr>\n",
              "      <th>0</th>\n",
              "      <td>1_4_light_probes</td>\n",
              "      <td>microsoft/deberta-v3-base</td>\n",
              "      <td>2</td>\n",
              "      <td>2</td>\n",
              "      <td>NONE</td>\n",
              "      <td>full test f1</td>\n",
              "      <td>0.793477</td>\n",
              "    </tr>\n",
              "    <tr>\n",
              "      <th>1</th>\n",
              "      <td>1_4_light_probes</td>\n",
              "      <td>microsoft/deberta-v3-base</td>\n",
              "      <td>2</td>\n",
              "      <td>2</td>\n",
              "      <td>NONE</td>\n",
              "      <td>full test acc</td>\n",
              "      <td>0.797944</td>\n",
              "    </tr>\n",
              "    <tr>\n",
              "      <th>2</th>\n",
              "      <td>1_4_light_probes</td>\n",
              "      <td>microsoft/deberta-v3-base</td>\n",
              "      <td>4</td>\n",
              "      <td>3</td>\n",
              "      <td>NONE</td>\n",
              "      <td>full test f1</td>\n",
              "      <td>0.790188</td>\n",
              "    </tr>\n",
              "    <tr>\n",
              "      <th>3</th>\n",
              "      <td>1_4_light_probes</td>\n",
              "      <td>microsoft/deberta-v3-base</td>\n",
              "      <td>4</td>\n",
              "      <td>3</td>\n",
              "      <td>NONE</td>\n",
              "      <td>full test acc</td>\n",
              "      <td>0.794550</td>\n",
              "    </tr>\n",
              "    <tr>\n",
              "      <th>4</th>\n",
              "      <td>1_4_light_probes</td>\n",
              "      <td>microsoft/deberta-v3-base</td>\n",
              "      <td>2</td>\n",
              "      <td>3</td>\n",
              "      <td>NONE</td>\n",
              "      <td>full test f1</td>\n",
              "      <td>0.790557</td>\n",
              "    </tr>\n",
              "  </tbody>\n",
              "</table>\n",
              "</div>\n",
              "    <div class=\"colab-df-buttons\">\n",
              "\n",
              "  <div class=\"colab-df-container\">\n",
              "    <button class=\"colab-df-convert\" onclick=\"convertToInteractive('df-e95778b2-667b-4854-9339-d12bc14d0363')\"\n",
              "            title=\"Convert this dataframe to an interactive table.\"\n",
              "            style=\"display:none;\">\n",
              "\n",
              "  <svg xmlns=\"http://www.w3.org/2000/svg\" height=\"24px\" viewBox=\"0 -960 960 960\">\n",
              "    <path d=\"M120-120v-720h720v720H120Zm60-500h600v-160H180v160Zm220 220h160v-160H400v160Zm0 220h160v-160H400v160ZM180-400h160v-160H180v160Zm440 0h160v-160H620v160ZM180-180h160v-160H180v160Zm440 0h160v-160H620v160Z\"/>\n",
              "  </svg>\n",
              "    </button>\n",
              "\n",
              "  <style>\n",
              "    .colab-df-container {\n",
              "      display:flex;\n",
              "      gap: 12px;\n",
              "    }\n",
              "\n",
              "    .colab-df-convert {\n",
              "      background-color: #E8F0FE;\n",
              "      border: none;\n",
              "      border-radius: 50%;\n",
              "      cursor: pointer;\n",
              "      display: none;\n",
              "      fill: #1967D2;\n",
              "      height: 32px;\n",
              "      padding: 0 0 0 0;\n",
              "      width: 32px;\n",
              "    }\n",
              "\n",
              "    .colab-df-convert:hover {\n",
              "      background-color: #E2EBFA;\n",
              "      box-shadow: 0px 1px 2px rgba(60, 64, 67, 0.3), 0px 1px 3px 1px rgba(60, 64, 67, 0.15);\n",
              "      fill: #174EA6;\n",
              "    }\n",
              "\n",
              "    .colab-df-buttons div {\n",
              "      margin-bottom: 4px;\n",
              "    }\n",
              "\n",
              "    [theme=dark] .colab-df-convert {\n",
              "      background-color: #3B4455;\n",
              "      fill: #D2E3FC;\n",
              "    }\n",
              "\n",
              "    [theme=dark] .colab-df-convert:hover {\n",
              "      background-color: #434B5C;\n",
              "      box-shadow: 0px 1px 3px 1px rgba(0, 0, 0, 0.15);\n",
              "      filter: drop-shadow(0px 1px 2px rgba(0, 0, 0, 0.3));\n",
              "      fill: #FFFFFF;\n",
              "    }\n",
              "  </style>\n",
              "\n",
              "    <script>\n",
              "      const buttonEl =\n",
              "        document.querySelector('#df-e95778b2-667b-4854-9339-d12bc14d0363 button.colab-df-convert');\n",
              "      buttonEl.style.display =\n",
              "        google.colab.kernel.accessAllowed ? 'block' : 'none';\n",
              "\n",
              "      async function convertToInteractive(key) {\n",
              "        const element = document.querySelector('#df-e95778b2-667b-4854-9339-d12bc14d0363');\n",
              "        const dataTable =\n",
              "          await google.colab.kernel.invokeFunction('convertToInteractive',\n",
              "                                                    [key], {});\n",
              "        if (!dataTable) return;\n",
              "\n",
              "        const docLinkHtml = 'Like what you see? Visit the ' +\n",
              "          '<a target=\"_blank\" href=https://colab.research.google.com/notebooks/data_table.ipynb>data table notebook</a>'\n",
              "          + ' to learn more about interactive tables.';\n",
              "        element.innerHTML = '';\n",
              "        dataTable['output_type'] = 'display_data';\n",
              "        await google.colab.output.renderOutput(dataTable, element);\n",
              "        const docLink = document.createElement('div');\n",
              "        docLink.innerHTML = docLinkHtml;\n",
              "        element.appendChild(docLink);\n",
              "      }\n",
              "    </script>\n",
              "  </div>\n",
              "\n",
              "\n",
              "<div id=\"df-31da38ac-6e79-4d99-8617-f3d300e1bbf6\">\n",
              "  <button class=\"colab-df-quickchart\" onclick=\"quickchart('df-31da38ac-6e79-4d99-8617-f3d300e1bbf6')\"\n",
              "            title=\"Suggest charts\"\n",
              "            style=\"display:none;\">\n",
              "\n",
              "<svg xmlns=\"http://www.w3.org/2000/svg\" height=\"24px\"viewBox=\"0 0 24 24\"\n",
              "     width=\"24px\">\n",
              "    <g>\n",
              "        <path d=\"M19 3H5c-1.1 0-2 .9-2 2v14c0 1.1.9 2 2 2h14c1.1 0 2-.9 2-2V5c0-1.1-.9-2-2-2zM9 17H7v-7h2v7zm4 0h-2V7h2v10zm4 0h-2v-4h2v4z\"/>\n",
              "    </g>\n",
              "</svg>\n",
              "  </button>\n",
              "\n",
              "<style>\n",
              "  .colab-df-quickchart {\n",
              "      --bg-color: #E8F0FE;\n",
              "      --fill-color: #1967D2;\n",
              "      --hover-bg-color: #E2EBFA;\n",
              "      --hover-fill-color: #174EA6;\n",
              "      --disabled-fill-color: #AAA;\n",
              "      --disabled-bg-color: #DDD;\n",
              "  }\n",
              "\n",
              "  [theme=dark] .colab-df-quickchart {\n",
              "      --bg-color: #3B4455;\n",
              "      --fill-color: #D2E3FC;\n",
              "      --hover-bg-color: #434B5C;\n",
              "      --hover-fill-color: #FFFFFF;\n",
              "      --disabled-bg-color: #3B4455;\n",
              "      --disabled-fill-color: #666;\n",
              "  }\n",
              "\n",
              "  .colab-df-quickchart {\n",
              "    background-color: var(--bg-color);\n",
              "    border: none;\n",
              "    border-radius: 50%;\n",
              "    cursor: pointer;\n",
              "    display: none;\n",
              "    fill: var(--fill-color);\n",
              "    height: 32px;\n",
              "    padding: 0;\n",
              "    width: 32px;\n",
              "  }\n",
              "\n",
              "  .colab-df-quickchart:hover {\n",
              "    background-color: var(--hover-bg-color);\n",
              "    box-shadow: 0 1px 2px rgba(60, 64, 67, 0.3), 0 1px 3px 1px rgba(60, 64, 67, 0.15);\n",
              "    fill: var(--button-hover-fill-color);\n",
              "  }\n",
              "\n",
              "  .colab-df-quickchart-complete:disabled,\n",
              "  .colab-df-quickchart-complete:disabled:hover {\n",
              "    background-color: var(--disabled-bg-color);\n",
              "    fill: var(--disabled-fill-color);\n",
              "    box-shadow: none;\n",
              "  }\n",
              "\n",
              "  .colab-df-spinner {\n",
              "    border: 2px solid var(--fill-color);\n",
              "    border-color: transparent;\n",
              "    border-bottom-color: var(--fill-color);\n",
              "    animation:\n",
              "      spin 1s steps(1) infinite;\n",
              "  }\n",
              "\n",
              "  @keyframes spin {\n",
              "    0% {\n",
              "      border-color: transparent;\n",
              "      border-bottom-color: var(--fill-color);\n",
              "      border-left-color: var(--fill-color);\n",
              "    }\n",
              "    20% {\n",
              "      border-color: transparent;\n",
              "      border-left-color: var(--fill-color);\n",
              "      border-top-color: var(--fill-color);\n",
              "    }\n",
              "    30% {\n",
              "      border-color: transparent;\n",
              "      border-left-color: var(--fill-color);\n",
              "      border-top-color: var(--fill-color);\n",
              "      border-right-color: var(--fill-color);\n",
              "    }\n",
              "    40% {\n",
              "      border-color: transparent;\n",
              "      border-right-color: var(--fill-color);\n",
              "      border-top-color: var(--fill-color);\n",
              "    }\n",
              "    60% {\n",
              "      border-color: transparent;\n",
              "      border-right-color: var(--fill-color);\n",
              "    }\n",
              "    80% {\n",
              "      border-color: transparent;\n",
              "      border-right-color: var(--fill-color);\n",
              "      border-bottom-color: var(--fill-color);\n",
              "    }\n",
              "    90% {\n",
              "      border-color: transparent;\n",
              "      border-bottom-color: var(--fill-color);\n",
              "    }\n",
              "  }\n",
              "</style>\n",
              "\n",
              "  <script>\n",
              "    async function quickchart(key) {\n",
              "      const quickchartButtonEl =\n",
              "        document.querySelector('#' + key + ' button');\n",
              "      quickchartButtonEl.disabled = true;  // To prevent multiple clicks.\n",
              "      quickchartButtonEl.classList.add('colab-df-spinner');\n",
              "      try {\n",
              "        const charts = await google.colab.kernel.invokeFunction(\n",
              "            'suggestCharts', [key], {});\n",
              "      } catch (error) {\n",
              "        console.error('Error during call to suggestCharts:', error);\n",
              "      }\n",
              "      quickchartButtonEl.classList.remove('colab-df-spinner');\n",
              "      quickchartButtonEl.classList.add('colab-df-quickchart-complete');\n",
              "    }\n",
              "    (() => {\n",
              "      let quickchartButtonEl =\n",
              "        document.querySelector('#df-31da38ac-6e79-4d99-8617-f3d300e1bbf6 button');\n",
              "      quickchartButtonEl.style.display =\n",
              "        google.colab.kernel.accessAllowed ? 'block' : 'none';\n",
              "    })();\n",
              "  </script>\n",
              "</div>\n",
              "    </div>\n",
              "  </div>\n"
            ]
          },
          "metadata": {},
          "execution_count": 12
        }
      ]
    },
    {
      "cell_type": "code",
      "source": [
        "SAVING_PATH_2 = 'probing_results/wandb_data_2.csv'"
      ],
      "metadata": {
        "id": "UA7-lVisF16-"
      },
      "execution_count": null,
      "outputs": []
    }
  ]
}