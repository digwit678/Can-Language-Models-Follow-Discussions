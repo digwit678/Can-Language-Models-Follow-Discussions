{
  "cells": [
    {
      "cell_type": "markdown",
      "metadata": {
        "id": "view-in-github",
        "colab_type": "text"
      },
      "source": [
        "<a href=\"https://colab.research.google.com/github/digwit678/Can-Language-Models-Follow-Discussions/blob/main/data_analysis_v6.ipynb\" target=\"_parent\"><img src=\"https://colab.research.google.com/assets/colab-badge.svg\" alt=\"Open In Colab\"/></a>"
      ]
    },
    {
      "cell_type": "code",
      "execution_count": 1,
      "metadata": {
        "collapsed": true,
        "ExecuteTime": {
          "end_time": "2023-09-21T10:42:27.880133700Z",
          "start_time": "2023-09-21T10:42:25.092502Z"
        },
        "id": "1rO5VNgKMvPC",
        "colab": {
          "base_uri": "https://localhost:8080/",
          "height": 227
        },
        "outputId": "6e3e96f9-0e2e-43b6-94bf-d3bf2be878ee"
      },
      "outputs": [
        {
          "output_type": "error",
          "ename": "FileNotFoundError",
          "evalue": "ignored",
          "traceback": [
            "\u001b[0;31m---------------------------------------------------------------------------\u001b[0m",
            "\u001b[0;31mFileNotFoundError\u001b[0m                         Traceback (most recent call last)",
            "\u001b[0;32m<ipython-input-1-012658de3423>\u001b[0m in \u001b[0;36m<cell line: 3>\u001b[0;34m()\u001b[0m\n\u001b[1;32m      1\u001b[0m \u001b[0;32mimport\u001b[0m \u001b[0mpickle\u001b[0m\u001b[0;34m\u001b[0m\u001b[0;34m\u001b[0m\u001b[0m\n\u001b[1;32m      2\u001b[0m \u001b[0;34m\u001b[0m\u001b[0m\n\u001b[0;32m----> 3\u001b[0;31m \u001b[0;32mwith\u001b[0m \u001b[0mopen\u001b[0m\u001b[0;34m(\u001b[0m\u001b[0;34m'data_preparation/kialo_data/1_raw_data/dumped_discussions_first.pickle'\u001b[0m\u001b[0;34m,\u001b[0m \u001b[0;34m'rb'\u001b[0m\u001b[0;34m)\u001b[0m \u001b[0;32mas\u001b[0m \u001b[0mf\u001b[0m\u001b[0;34m:\u001b[0m\u001b[0;34m\u001b[0m\u001b[0;34m\u001b[0m\u001b[0m\n\u001b[0m\u001b[1;32m      4\u001b[0m     \u001b[0mdiscussions\u001b[0m \u001b[0;34m=\u001b[0m \u001b[0mpickle\u001b[0m\u001b[0;34m.\u001b[0m\u001b[0mload\u001b[0m\u001b[0;34m(\u001b[0m\u001b[0mf\u001b[0m\u001b[0;34m)\u001b[0m\u001b[0;34m\u001b[0m\u001b[0;34m\u001b[0m\u001b[0m\n",
            "\u001b[0;31mFileNotFoundError\u001b[0m: [Errno 2] No such file or directory: 'data_preparation/kialo_data/1_raw_data/dumped_discussions_first.pickle'"
          ]
        }
      ],
      "source": [
        "import pickle\n",
        "\n",
        "with open('data_preparation/kialo_data/1_raw_data/dumped_discussions_first.pickle', 'rb') as f:\n",
        "    discussions = pickle.load(f)\n"
      ]
    },
    {
      "cell_type": "code",
      "execution_count": null,
      "outputs": [],
      "source": [
        "# Check the first few entries\n",
        "first_few_discussions = discussions[:2]\n",
        "first_few_discussions\n"
      ],
      "metadata": {
        "ExecuteTime": {
          "end_time": "2023-09-21T10:42:28.494852100Z",
          "start_time": "2023-09-21T10:42:27.879132700Z"
        },
        "id": "1bAY9Qm9MvPE"
      }
    },
    {
      "cell_type": "markdown",
      "source": [
        "(TODO: Change to readable format)# Data Conversion"
      ],
      "metadata": {
        "collapsed": false,
        "id": "Du1vHSprMvPF"
      }
    },
    {
      "cell_type": "markdown",
      "source": [
        "The JSON structure is converted to dataframes, which facilitates data analysis"
      ],
      "metadata": {
        "collapsed": false,
        "id": "upJDcnAIMvPG"
      }
    },
    {
      "cell_type": "markdown",
      "source": [
        "# JSON Representation"
      ],
      "metadata": {
        "collapsed": false,
        "id": "6TB3j5N6MvPH"
      }
    },
    {
      "cell_type": "code",
      "execution_count": null,
      "outputs": [],
      "source": [
        "# Importing the required library for data conversion\n",
        "import pandas as pd\n",
        "\n",
        "# Initializing empty lists to store the flattened data\n",
        "flattened_discussions = []\n",
        "flattened_claims = []\n",
        "flattened_positions = []\n",
        "\n",
        "# Looping through each discussion to flatten the data structure\n",
        "for discussion in discussions:\n",
        "    # Extracting discussion-level attributes\n",
        "    discussion_id = discussion.get(\"title\", None)\n",
        "    background_info = discussion.get(\"background info\", None)\n",
        "\n",
        "    # Appending to the discussion list\n",
        "    flattened_discussions.append({\n",
        "        'title': discussion_id,\n",
        "        'background_info': background_info\n",
        "    })\n",
        "\n",
        "    # Looping through claims in each discussion\n",
        "    claims = discussion.get(\"discussion\", {}).get(\"claims\", [])\n",
        "    for claim in claims:\n",
        "        claim['discussion_title'] = discussion_id  # Adding the discussion ID for reference\n",
        "        flattened_claims.append(claim)\n",
        "\n",
        "    # Looping through positions in each discussion\n",
        "    positions = discussion.get(\"discussion\", {}).get(\"locations\", [])\n",
        "    for position in positions:\n",
        "        position['discussion_title'] = discussion_id  # Adding the discussion ID for reference\n",
        "        flattened_positions.append(position)\n",
        "\n",
        "# Converting the lists to Pandas DataFrames\n",
        "df_discussions = pd.DataFrame(flattened_discussions)\n",
        "df_claims = pd.DataFrame(flattened_claims)\n",
        "df_positions = pd.DataFrame(flattened_positions)\n",
        "\n",
        "# Showing the first few rows of each DataFrame to check the structure (TODO add diagram to show this relations)\n",
        "print(\"discussions \\n\")\n",
        "print()\n",
        "print(df_discussions.head())\n",
        "print(\"claims \\n\")\n",
        "print()\n",
        "print(df_claims.head())\n",
        "print(\"positions \\n\")\n",
        "print()\n",
        "print(df_positions.head())\n"
      ],
      "metadata": {
        "ExecuteTime": {
          "end_time": "2023-09-21T10:42:33.283302100Z",
          "start_time": "2023-09-21T10:42:28.441854500Z"
        },
        "id": "8nTnfPvvMvPH"
      }
    },
    {
      "cell_type": "markdown",
      "source": [
        "## Understand Data Structure\n",
        "\n",
        "### 1. df_discussions\n",
        "The DataFrame `df_discussions` contains titles and background information for each discussion.\n",
        "\n",
        "**Columns:**\n",
        "- `title`: Title of the discussion.\n",
        "- `background_info`: Additional context or background information related to the discussion.\n",
        "\n",
        "### 2. df_claims\n",
        "The DataFrame `df_claims` contains the claims and associated metadata.\n",
        "\n",
        "**Columns:**\n",
        "- `id`: ID of the claim. The number behind the decimal place refers to the claim id  (0.0 => claim 0 in discussion 0, 0.1 => claim 1 in discussion 1)\n",
        "- `authorId`: ID of the claim's author.\n",
        "- `created`: Timestamp when the claim was created.\n",
        "- `version`: Number of times the claim has been edited.\n",
        "- `text`: Text content of the claim.\n",
        "- `lastModifiedForSitemaps`: Timestamp of the last modification.\n",
        "- `discussion_title`: Title of the discussion to which the claim belongs.\n",
        "- `flag`: Metadata related to the claim (e.g. Unsupported, Not a claim, etc.).\n",
        "- `copierId`: ID of the user who copied the claim (if applicable).\n",
        "- `accepterId`: ID of the user who accepted the claim (if applicable).\n",
        "- `discussionLinkTo`: Link to the discussion to which the claim belongs (if applicable).\n",
        "\n",
        "### 3. df_positions\n",
        "The DataFrame `df_positions` contains the positions (or locations) and associated metadata. It captures the relationships (PRO or CON) between claims, indicating which claim is a response to another and if it´s supporting it or not.\n",
        "\n",
        "**Columns:**\n",
        "- `id`: ID of the position.\n",
        "- `targetId`: ID of the target claim.\n",
        "- `version`: Number of times the position has been edited.\n",
        "- `isOrigin`: Boolean value indicating whether the position is the origin of the discussion.\n",
        "- `authorId`: ID of the position's author.\n",
        "- `created`: Timestamp when the position was created.\n",
        "- `parentId`: ID of the parent claim.\n",
        "- `relation`: Stance type (Pro or Con).\n",
        "- `isDeleted`: Boolean value indicating whether the position is deleted.\n",
        "- `lastModifiedForSitemaps`: Timestamp of the last modification.\n",
        "- `discussion_title`: Title of the discussion to which the position belongs.\n",
        "- `flag`: Metadata related to the position (e.g. Unsupported, Not a position, etc.).\n",
        "- `copierId`: ID of the user who copied the position (if applicable).\n",
        "- `accepterId`: ID of the user who accepted the position (if applicable).\n"
      ],
      "metadata": {
        "collapsed": false,
        "id": "DfNCzoayMvPH"
      }
    },
    {
      "cell_type": "markdown",
      "source": [
        "### Types of Marks (Flags)\n",
        "\n",
        "According to [Kialo's support page](https://support.kialo.com/en/hc/types-of-mark/), there are 8 different types of marks (or flags) that can be used when marking a claim for review. A claim can be marked (or flagged) with up to 2 different types of mark at a time.\n",
        "\n",
        "1. **Unsupported**: The claim lacks evidence, either in the form of linked sources or explanatory Pros underneath it.\n",
        "2. **Not a claim**: A claim must be making an argument, arguing for or against the claim or thesis located above it. Anything that does not do so is not adding to the argument at hand, and therefore is not a claim; this mark is used to point out that problem.\n",
        "3. **Unclear**: This mark should be used to indicate that the user marking the claim does not understand the meaning of the claim or some aspect of it, or doubts that other readers are able to easily do so.\n",
        "4. **Vulgar/abusive**: This claim is insulting, overly offensive, or unnecessarily vulgar in expression. Kialo aims to provide the greatest degree of freedom of expression, but this should not be misused to attack or insult others – this mark is used to draw an Admin’s attention to serious misuse of the platform.\n",
        "5. **Duplicate claim**: The claim repeats another existing claim in the discussion, either in part or in full. This often happens accidentally, when the same claim is created twice or when a claim restates its parent using different wording, consequently not adding anything new to the discussion.\n",
        "6. **Unrelated**: While the claim is an argument, it does not make a logical connection to its parent, either supporting or attacking it. Therefore, it is potentially irrelevant in its current location.\n",
        "7. **More than one claim**: The claim contains content that should probably be split into multiple claims.\n",
        "8. **Move elsewhere**: The claim would fit better at a different location. This mark clears automatically if the claim is moved."
      ],
      "metadata": {
        "collapsed": false,
        "id": "tO0n_fypMvPI"
      }
    },
    {
      "cell_type": "markdown",
      "source": [
        "## Data Cleaning (1)\n",
        "### Selecting Columns\n",
        "- `copierId` , `accepterId` and `discussionLinkTo` of positions and claims dataframes have been removed for now cause they do not provide an obvious benefit to understanding the flow of a conversation.\n",
        "- Also the df_claims_clean etc. do not contain isOrigin and versions of positions which have been added in this new version since they can provide information about recency and about location."
      ],
      "metadata": {
        "collapsed": false,
        "id": "gXB6N6ksMvPI"
      }
    },
    {
      "cell_type": "code",
      "execution_count": null,
      "outputs": [],
      "source": [
        "# Keeping relevant columns\n",
        "df_claims_clean = df_claims[\n",
        "    ['id', 'authorId', 'created', 'text', 'version', 'flag', 'lastModifiedForSitemaps', 'discussion_title']]\n",
        "df_positions_clean = df_positions[\n",
        "    ['id', 'authorId', 'created', 'version', 'isOrigin', 'parentId', 'targetId', 'relation', 'isDeleted',\n",
        "     'lastModifiedForSitemaps', 'discussion_title']]\n",
        "\n",
        "# Filtering out deleted positions\n",
        "df_positions_clean = df_positions_clean[df_positions_clean['isDeleted'] == False]\n",
        "\n",
        "# TODO : remove isDeleted attribute?"
      ],
      "metadata": {
        "ExecuteTime": {
          "end_time": "2023-09-21T10:42:33.591878300Z",
          "start_time": "2023-09-21T10:42:33.279300900Z"
        },
        "id": "SritEhJHMvPJ"
      }
    },
    {
      "cell_type": "markdown",
      "source": [
        "### Renaming Columns\n",
        "\n",
        "The column names of the `df_claims_clean` and `df_positions_clean` DataFrames are being updated for better understanding.\n",
        "\n",
        "#### df_claims_clean\n",
        "\n",
        "The following columns in `df_claims_clean` DataFrame are renamed such that we can distinguish attribute names between positions and claims easily:\n",
        "\n",
        "- `id` is renamed to `claimId`\n",
        "- `created` is renamed to `claimCreated`\n",
        "- `text` is renamed to `claimText`\n",
        "- `lastModifiedForSitemaps` is renamed to `lastModified`: This change simplifies the column name to what is relevant for the thesis.\n",
        "\n",
        "\n",
        "#### df_positions_clean\n",
        "\n",
        "The following columns in `df_positions_clean` DataFrame are renamed:\n",
        "\n",
        "- `id` is renamed to `positionId`\n",
        "- `targetId` is renamed to `sourceClaimId`\n",
        "- `parentId` is renamed to `targetClaimId`\n",
        "- `relation` is renamed to `stanceType`: This change clarifies whether a claim is Pro (1) or Con (-1) in relation to its parent.\n",
        "- `lastModifiedForSitemaps` is renamed to `lastModified`"
      ],
      "metadata": {
        "collapsed": false,
        "id": "3J-LT2eRMvPJ"
      }
    },
    {
      "cell_type": "code",
      "execution_count": null,
      "outputs": [],
      "source": [
        "\n",
        "# Renaming the columns for better clarity\n",
        "df_claims_clean = df_claims_clean.rename(columns={\n",
        "    'id': 'claimId',\n",
        "    'created': 'claimCreated',\n",
        "    'text': 'claimText',\n",
        "    'lastModifiedForSitemaps': 'lastModified'\n",
        "})\n",
        "\n",
        "df_positions_clean = df_positions_clean.rename(columns={\n",
        "    'id': 'positionId',\n",
        "    'targetId': 'sourceClaimId',\n",
        "    'parentId': 'targetClaimId',\n",
        "    'relation': 'stanceType',\n",
        "    'lastModifiedForSitemaps': 'lastModified'\n",
        "})\n",
        "\n",
        "df_claims_clean.head(), df_positions_clean.head()"
      ],
      "metadata": {
        "ExecuteTime": {
          "end_time": "2023-09-21T10:42:33.773462Z",
          "start_time": "2023-09-21T10:42:33.594878900Z"
        },
        "id": "xYSNRS9pMvPJ"
      }
    },
    {
      "cell_type": "markdown",
      "source": [
        "## Timestamps"
      ],
      "metadata": {
        "collapsed": false,
        "id": "7QPfbU7cMvPK"
      }
    },
    {
      "cell_type": "code",
      "execution_count": null,
      "outputs": [],
      "source": [
        "df_claims_clean_with_features = pd.read_csv(\n",
        "    \"data_preparation/kialo_data/2_cleaned_data_JSON/df_claims_clean_with_features.csv\")\n",
        "\n",
        "# Convert Unix timestamps to human-readable date-time format\n",
        "df_claims_clean_with_features['claimCreated_readable'] = pd.to_datetime(df_claims_clean_with_features['claimCreated'],\n",
        "                                                                        unit='ms')\n",
        "df_claims_clean_with_features['lastModified_readable'] = pd.to_datetime(df_claims_clean_with_features['lastModified'],\n",
        "                                                                        unit='ms')\n",
        "df_positions_clean['lastModified_readable'] = pd.to_datetime(df_positions_clean['lastModified'], unit='ms')\n"
      ],
      "metadata": {
        "ExecuteTime": {
          "end_time": "2023-09-21T10:42:37.455924900Z",
          "start_time": "2023-09-21T10:42:33.766466800Z"
        },
        "id": "2mL0NRa9MvPK"
      }
    },
    {
      "cell_type": "code",
      "execution_count": null,
      "outputs": [],
      "source": [
        "# Save the updated DataFrames for future use\n",
        "df_claims_clean_with_features.to_csv('data_preparation/kialo_data/2_cleaned_data_JSON', index=False)\n",
        "df_positions_clean.to_csv('data_preparation/kialo_data/2_cleaned_data_JSON', index=False)\n"
      ],
      "metadata": {
        "ExecuteTime": {
          "end_time": "2023-09-21T10:42:39.983767100Z",
          "start_time": "2023-09-21T10:42:37.455924900Z"
        },
        "id": "s69lswjmMvPK"
      }
    },
    {
      "cell_type": "markdown",
      "source": [
        "#### Flags\n",
        "Flags contain multiple types, often with a 'reason' attached."
      ],
      "metadata": {
        "collapsed": false,
        "id": "qI-Jt6YlMvPK"
      }
    },
    {
      "cell_type": "code",
      "execution_count": null,
      "outputs": [],
      "source": [
        "# Converting the 'flag' column to a string representation to handle unhashable types like dictionaries\n",
        "df_claims_clean['flag_str'] = df_claims_clean['flag'].astype(str)\n",
        "\n",
        "# Checking unique flag types TODO: \"nan\" value remove ?\n",
        "unique_flags = df_claims_clean['flag_str'].unique()\n",
        "print(unique_flags)"
      ],
      "metadata": {
        "ExecuteTime": {
          "end_time": "2023-09-21T10:45:34.355490800Z",
          "start_time": "2023-09-21T10:45:33.896843200Z"
        },
        "id": "a-tcSWtjMvPL"
      }
    },
    {
      "cell_type": "markdown",
      "source": [
        "## Feature Engineering\n",
        "\n",
        "In this section, the `version` and `lastModified` features in the df_claims_clean DataFrame are analyzed because they both provide information about time.\n"
      ],
      "metadata": {
        "collapsed": false,
        "id": "2nlYHrkzMvPL"
      }
    },
    {
      "cell_type": "code",
      "execution_count": null,
      "outputs": [],
      "source": [
        "# Analyzing 'version' and 'lastModified' further\n",
        "version_stats = df_claims_clean['version'].describe()\n",
        "last_modified_stats = df_claims_clean['lastModified'].describe()\n",
        "print(version_stats)\n",
        "print()\n",
        "print(last_modified_stats)"
      ],
      "metadata": {
        "ExecuteTime": {
          "end_time": "2023-09-21T10:45:34.356489200Z",
          "start_time": "2023-09-21T10:45:34.115459200Z"
        },
        "id": "AnMXE8CyMvPL"
      }
    },
    {
      "cell_type": "markdown",
      "source": [
        "### Observations for Time Features\n",
        "\n",
        "#### Version\n",
        "- Count: 679,485\n",
        "- Mean: ~1.8\n",
        "- Max: 46\n",
        "\n",
        "Most claims have a version number around 1-2, indicating that many claims are not modified multiple times.\n",
        "\n",
        "#### Last Modified\n",
        "\n",
        "TODO : Change to readable format\n",
        "\n",
        "- Mean Timestamp: ~1.56e12  \n",
        "- Max Timestamp: ~1.63e12\n",
        "\n",
        "The `lastModified` feature varies significantly, which could be useful for recency information."
      ],
      "metadata": {
        "collapsed": false,
        "id": "-Vw-OtNSMvPL"
      }
    },
    {
      "cell_type": "markdown",
      "source": [
        "#### RecencyComplexity Score"
      ],
      "metadata": {
        "collapsed": false,
        "id": "5E4FTQlzMvPL"
      }
    },
    {
      "cell_type": "markdown",
      "source": [
        "The 75th percentile is a robust normalization factor, reducing outlier influence and balancing between median and maximum. It ensures exceptional cases stand out without losing crucial data.\n",
        "\n",
        "Before applying this normalization, it's important to verify that it won't eliminate important data. This can be done by plotting the distribution of the data before and after applying the normalization:"
      ],
      "metadata": {
        "collapsed": false,
        "id": "vWjZwQCIMvPM"
      }
    },
    {
      "cell_type": "code",
      "execution_count": null,
      "outputs": [],
      "source": [
        "import matplotlib.pyplot as plt\n",
        "\n",
        "# Plot before normalization\n",
        "fig, axs = plt.subplots(1, 2, figsize=(14, 5))\n",
        "\n",
        "axs[0].hist(df_claims_clean['version'], bins=50, edgecolor='black')\n",
        "axs[0].set_title('Distribution of Version (before normalization)')\n",
        "axs[0].set_xlabel('Version')\n",
        "axs[0].set_ylabel('Frequency')\n",
        "\n",
        "axs[1].hist(df_claims_clean['lastModified'], bins=50, edgecolor='black')\n",
        "axs[1].set_title('Distribution of Last Modified (before normalization)')\n",
        "axs[1].set_xlabel('Last Modified')\n",
        "axs[1].set_ylabel('Frequency')\n",
        "\n",
        "plt.tight_layout()\n",
        "plt.show()\n",
        "\n",
        "# Calculate the 75th percentile for 'version' and 'lastModified'\n",
        "version_75th_percentile = df_claims_clean['version'].quantile(0.75)\n",
        "last_modified_75th_percentile = df_claims_clean['lastModified'].quantile(0.75)\n",
        "\n",
        "# Normalize 'version' and 'lastModified' using the 75th percentile\n",
        "df_claims_clean['version_normalized'] = df_claims_clean['version'] / version_75th_percentile\n",
        "df_claims_clean['lastModified_normalized'] = df_claims_clean['lastModified'] / last_modified_75th_percentile\n",
        "\n",
        "# Plot after normalization\n",
        "fig, axs = plt.subplots(1, 2, figsize=(14, 5))\n",
        "\n",
        "axs[0].hist(df_claims_clean['version_normalized'], bins=50, edgecolor='black')\n",
        "axs[0].set_title('Distribution of Version (after normalization)')\n",
        "axs[0].set_xlabel('Version')\n",
        "axs[0].set_ylabel('Frequency')\n",
        "\n",
        "axs[1].hist(df_claims_clean['lastModified_normalized'], bins=50, edgecolor='black')\n",
        "axs[1].set_title('Distribution of Last Modified (after normalization)')\n",
        "axs[1].set_xlabel('Last Modified')\n",
        "axs[1].set_ylabel('Frequency')\n",
        "\n",
        "plt.tight_layout()\n",
        "plt.show()"
      ],
      "metadata": {
        "ExecuteTime": {
          "end_time": "2023-09-21T10:45:36.499103600Z",
          "start_time": "2023-09-21T10:45:34.210456500Z"
        },
        "id": "RbZKGZfHMvPM"
      }
    },
    {
      "cell_type": "markdown",
      "source": [
        "Looks like the majority of the data was not cut off."
      ],
      "metadata": {
        "collapsed": false,
        "id": "kHjTS6d8MvPM"
      }
    },
    {
      "cell_type": "markdown",
      "source": [
        "## Data Exploration"
      ],
      "metadata": {
        "collapsed": false,
        "id": "Y16MxC3IMvPM"
      }
    },
    {
      "cell_type": "markdown",
      "source": [
        "### Subset 1 ('RecencyComplexityScore', 'NumFlags', 'claimCreated', 'version', 'lastModified')\n",
        "\n",
        "TODO: Subset 2 and 3"
      ],
      "metadata": {
        "collapsed": false,
        "id": "1RIhC0DoMvPN"
      }
    },
    {
      "cell_type": "code",
      "execution_count": null,
      "outputs": [],
      "source": [
        "# Reload the saved DataFrame with new features to continue with the analysis\n",
        "df_claims_clean = pd.read_csv('./data_preparation/kialo_data/2_cleaned_data_JSON/df_claims_clean_with_features.csv')\n",
        "\n",
        "# Perform the descriptive statistics on a smaller subset of the data to avoid computational issues\n",
        "desc_stats_subset = df_claims_clean.sample(frac=0.1, random_state=42)[\n",
        "    ['RecencyComplexityScore', 'NumFlags', 'claimCreated', 'version', 'lastModified']].describe()\n",
        "\n",
        "# Calculate correlations between the features on the same subset\n",
        "correlations_subset = df_claims_clean.sample(frac=0.1, random_state=42)[\n",
        "    ['RecencyComplexityScore', 'NumFlags', 'claimCreated', 'version', 'lastModified']].corr()\n",
        "\n",
        "print(\"description of statistics\")\n",
        "print()\n",
        "print(desc_stats_subset)\n",
        "print()\n",
        "print(\"correlations of variables \")\n",
        "print()\n",
        "print(correlations_subset)\n"
      ],
      "metadata": {
        "ExecuteTime": {
          "end_time": "2023-09-21T10:45:40.618365700Z",
          "start_time": "2023-09-21T10:45:36.488103200Z"
        },
        "id": "-xCSQG4pMvPN"
      }
    },
    {
      "cell_type": "markdown",
      "source": [
        "#### Heat Maps"
      ],
      "metadata": {
        "collapsed": false,
        "id": "pTKaTTgOMvPN"
      }
    },
    {
      "cell_type": "code",
      "execution_count": null,
      "outputs": [],
      "source": [
        "# Importing libraries for data visualization\n",
        "import seaborn as sns\n",
        "\n",
        "# Set up the matplotlib figure\n",
        "fig, axs = plt.subplots(ncols=3, nrows=2, figsize=(18, 12))\n",
        "\n",
        "# Plotting distribution plots for continuous features\n",
        "sns.histplot(df_claims_clean['RecencyComplexityScore'], kde=True, ax=axs[0, 0]).set_title(\n",
        "    'Distribution of Recency-Complexity Score')\n",
        "sns.histplot(df_claims_clean['NumFlags'], kde=True, ax=axs[0, 1]).set_title('Distribution of Number of Flags')\n",
        "sns.histplot(df_claims_clean['claimCreated'], kde=True, ax=axs[0, 2]).set_title(\n",
        "    'Distribution of Claim Created Timestamps')\n",
        "sns.histplot(df_claims_clean['version'], kde=True, ax=axs[1, 0]).set_title('Distribution of Version')\n",
        "sns.histplot(df_claims_clean['lastModified'], kde=True, ax=axs[1, 1]).set_title(\n",
        "    'Distribution of Last Modified Timestamps')\n",
        "\n",
        "# Plotting heatmap for correlations\n",
        "sns.heatmap(correlations_subset, annot=True, cmap='coolwarm', ax=axs[1, 2]).set_title('Heatmap of Feature Correlations')\n",
        "\n",
        "# Tight layout\n",
        "plt.tight_layout()"
      ],
      "metadata": {
        "ExecuteTime": {
          "end_time": "2023-09-21T10:46:30.668360800Z",
          "start_time": "2023-09-21T10:45:40.614335900Z"
        },
        "id": "JlJsHv9aMvPN"
      }
    },
    {
      "cell_type": "code",
      "execution_count": null,
      "outputs": [],
      "source": [
        "# Save the plot\n",
        "eda_plot_path = 'data_preparation/kialo_data/4_diagram_files/eda_plots.png'\n",
        "plt.savefig(eda_plot_path)\n",
        "plt.show()\n",
        "eda_plot_path"
      ],
      "metadata": {
        "ExecuteTime": {
          "end_time": "2023-09-21T10:46:31.111262800Z",
          "start_time": "2023-09-21T10:46:30.660812600Z"
        },
        "id": "VvcspkbNMvPO"
      }
    },
    {
      "cell_type": "markdown",
      "source": [
        "#### Exploratory Data Analysis (EDA) Findings\n",
        "\n",
        "##### Distribution Plots\n",
        "\n",
        "- **Recency-Complexity Score:** Majority are close to 1; some outliers exist.\n",
        "- **Number of Flags:** Most claims have zero or few flags.\n",
        "- **Claim Created Timestamps:** Broad distribution, possibly related to the age of the claim.\n",
        "- **Version:** Most claims have a version close to 1, with a few outliers.\n",
        "- **Last Modified Timestamps:** Similar to 'Claim Created', indicating that claims are not that often modified after have been created.\n",
        "\n",
        "##### Heatmap of Feature Correlations\n",
        "\n",
        "There is a moderate correlation between 'ClaimCreated' and 'LastModified', confirming that the date, when the claim was created is mostly also the date, when it was last modified. This is supported by the observation that most claims have only 1 version (which is the 1st and last).\n",
        "\n",
        "##### Observations & Assumptions\n",
        "\n",
        "- The distribution plots indicate that our data is mostly concentrated around lower values for features like 'RecencyComplexityScore' and 'NumFlags'.\n",
        "- The heatmap ***confirms that most features are not highly correlated, making them useful for further analysis***."
      ],
      "metadata": {
        "collapsed": false,
        "id": "qPIKZg5GMvPO"
      }
    },
    {
      "cell_type": "code",
      "execution_count": null,
      "outputs": [],
      "source": [
        "df_merged.head()"
      ],
      "metadata": {
        "ExecuteTime": {
          "end_time": "2023-09-21T11:31:49.964304700Z",
          "start_time": "2023-09-21T11:31:49.773588Z"
        },
        "id": "iVHUzZDlMvPO"
      }
    },
    {
      "cell_type": "markdown",
      "source": [
        "### Heatmap of all Features"
      ],
      "metadata": {
        "collapsed": false,
        "id": "29CVCeNvMvPO"
      }
    },
    {
      "cell_type": "code",
      "execution_count": null,
      "outputs": [],
      "source": [
        "import pandas as pd\n",
        "\n",
        "df_claims = pd.read_csv(\n",
        "    './data_preparation/kialo_data/2_cleaned_data_JSON/df_claims_clean_with_readable_timestamps.csv')\n",
        "df_positions = pd.read_csv(\n",
        "    './data_preparation/kialo_data/2_cleaned_data_JSON/df_positions_clean_with_readable_timestamps.csv')\n",
        "# Load the cleaned DataFrames with readable timestamps\n",
        "df_claims_clean = df_claims\n",
        "df_positions_clean = df_positions\n",
        "\n",
        "# Merge the two DataFrames on 'claimId' and 'targetClaimId'\n",
        "df_merged = pd.merge(df_claims_clean, df_positions_clean, left_on='claimId', right_on='targetClaimId', how='left')\n",
        "\n",
        "# Drop redundant columns\n",
        "if 'discussionTitle_x' in df_merged.columns and 'discussionTitle_y' in df_merged.columns:\n",
        "    if df_merged['discussionTitle_x'].equals(df_merged['discussionTitle_y']):\n",
        "        df_merged.drop(['discussionTitle_y'], axis=1, inplace=True)\n",
        "\n",
        "# Remove missing values for the analysis\n",
        "df_merged.dropna(subset=['claimId', 'authorId', 'claimText', 'stanceType'], inplace=True)\n",
        "\n",
        "# Group by 'authorId' to get the number of claims per author\n",
        "claims_per_author = df_merged['authorId'].value_counts()\n",
        "\n",
        "# Group by 'discussionTitle_x' to get the number of claims per topic\n",
        "claims_per_topic = df_merged['discussionTitle_x'].value_counts()\n",
        "\n",
        "# Calculate the depth of discussions\n",
        "# We assume the depth is represented by the number of related claims to a parent claim\n",
        "depth_of_claims = df_merged['targetClaimId'].value_counts()\n",
        "\n",
        "# Return some basic statistics\n",
        "claims_per_author.describe(), claims_per_topic.describe(), depth_of_claims.describe()\n"
      ],
      "metadata": {
        "ExecuteTime": {
          "end_time": "2023-09-21T11:44:34.689174700Z",
          "start_time": "2023-09-21T11:44:26.163930400Z"
        },
        "id": "Ruuo48xlMvPP"
      }
    },
    {
      "cell_type": "code",
      "execution_count": null,
      "outputs": [],
      "source": [
        "# Calculating correlations between all features\n",
        "all_features_correlations = df_merged.corr()\n",
        "\n",
        "# Plotting the heatmaps\n",
        "plt.figure(figsize=(12, 8))\n",
        "sns.heatmap(all_features_correlations, annot=True, cmap='coolwarm')\n",
        "plt.title(\"Heatmap of All Feature Correlations\")\n",
        "\n",
        "# Saving plots\n",
        "heatmap_path = 'data_preparation/kialo_data/4_diagram_files/all_features_heatmap.png'\n",
        "plt.savefig(heatmap_path)\n",
        "\n",
        "heatmap_path"
      ],
      "metadata": {
        "ExecuteTime": {
          "end_time": "2023-09-21T16:55:56.643336400Z",
          "start_time": "2023-09-21T16:55:54.322527700Z"
        },
        "id": "gdBJvduTMvPP"
      }
    },
    {
      "cell_type": "markdown",
      "source": [
        "### Per Author Boxplots and Histplots\n"
      ],
      "metadata": {
        "collapsed": false,
        "id": "VonhFF0PMvPP"
      }
    },
    {
      "cell_type": "code",
      "execution_count": null,
      "outputs": [],
      "source": [
        "# TODO: Refactor\n",
        "\n",
        "import matplotlib.pyplot as plt\n",
        "import seaborn as sns\n",
        "\n",
        "# Load the cleaned DataFrames with readable timestamps\n",
        "df_claims_clean = pd.read_csv('/mnt/data/df_claims_clean_with_readable_timestamps.csv')\n",
        "df_positions_clean = pd.read_csv('/mnt/data/df_positions_clean_with_readable_timestamps.csv')\n",
        "\n",
        "# Merge the two DataFrames on 'claimId' and 'targetClaimId'\n",
        "df_merged = pd.merge(df_claims_clean, df_positions_clean, left_on='claimId', right_on='targetClaimId', how='left')\n",
        "\n",
        "# Remove missing values for the analysis\n",
        "df_merged.dropna(subset=['claimId', 'authorId', 'claimText', 'stanceType'], inplace=True)\n",
        "\n",
        "# Group by 'authorId' to get the number of claims per author\n",
        "claims_per_author = df_merged['authorId'].value_counts()\n",
        "\n",
        "# Group by 'discussionTitle' to get the number of claims per topic\n",
        "claims_per_topic = df_merged['discussionTitle_x'].value_counts()\n",
        "\n",
        "# Calculate the depth of discussions\n",
        "# We assume the depth is represented by the number of related claims to a parent claim\n",
        "depth_of_claims = df_merged['targetClaimId'].value_counts()\n",
        "\n",
        "# Set up the matplotlib figure\n",
        "fig, axs = plt.subplots(ncols=3, figsize=(18, 6))\n",
        "\n",
        "# Plotting boxplot for Claims per Author\n",
        "sns.boxplot(x=claims_per_author, ax=axs[0]).set_title('Boxplot of Claims per Author')\n",
        "\n",
        "# Plotting histogram for Claims per Topic\n",
        "sns.histplot(claims_per_topic, kde=False, bins=50, ax=axs[1]).set_title('Histogram of Claims per Topic')\n",
        "\n",
        "# Plotting histogram for Depth of Claims\n",
        "sns.histplot(depth_of_claims, kde=False, bins=50, ax=axs[2]).set_title('Histogram of Depth of Claims')\n",
        "\n",
        "plt.tight_layout()"
      ],
      "metadata": {
        "id": "SrfkVFDLMvPP"
      }
    },
    {
      "cell_type": "code",
      "execution_count": null,
      "outputs": [],
      "source": [
        "# Save the plots\n",
        "boxplot_path = 'data_preparation/kialo_data/4_diagram_files/boxplot_claims_per_author.png'\n",
        "hist_claims_per_topic_path = 'data_preparation/kialo_data/4_diagram_files/histogram_claims_per_topic.png'\n",
        "hist_depth_of_claims_path = 'data_preparation/kialo_data/4_diagram_files/histogram_depth_of_claims.png'\n",
        "\n",
        "fig.savefig(boxplot_path)\n",
        "fig.savefig(hist_claims_per_topic_path)\n",
        "fig.savefig(hist_depth_of_claims_path)\n",
        "\n",
        "boxplot_path, hist_claims_per_topic_path, hist_depth_of_claims_path"
      ],
      "metadata": {
        "id": "yQW7gn8gMvPQ"
      }
    },
    {
      "cell_type": "markdown",
      "source": [
        "# Graph Representation"
      ],
      "metadata": {
        "collapsed": false,
        "id": "JhhuOrThMvPb"
      }
    },
    {
      "cell_type": "markdown",
      "source": [
        "## Parsing the discussion graph\n",
        "\n",
        "The discussion graph is parsed from the JSON structure. The graph is represented as a directed graph, where the nodes are claims and the edges are positions with a relation/stance type (Pro or Con).\n",
        "\n",
        "Skipped data:\n",
        "- the discussions with missing claims or locations since they do not provide useful information in their isolated state.\n",
        "- locations that are marked as deleted or have no parent claim and thus are irrelevant."
      ],
      "metadata": {
        "collapsed": false,
        "id": "nX5d2IHLMvPc"
      }
    },
    {
      "cell_type": "code",
      "execution_count": null,
      "outputs": [],
      "source": [
        "pickle_file = open(r\"C:\\Users\\nico\\Dropbox\\HSLU\\Bachelorarbeit\\Code\\data\\dumped_discussions_first.pickle\", \"rb\")\n",
        "# load discussions\n",
        "\n",
        "dumped_discussions = pickle.load(pickle_file)\n",
        "\n",
        "\n",
        "# parse_graph\n",
        "def parse_discussion_graph(discussion):\n",
        "    # added check for missing claims or locations\n",
        "    if 'claims' not in discussion['discussion'] or 'locations' not in discussion['discussion']:\n",
        "        print(f\"Skipping discussion due to missing 'claims' or 'locations': {discussion['title']}\")\n",
        "        return None  # Return None if claims or locations are missing\n",
        "\n",
        "    discussion_graph = ig.Graph()\n",
        "    vertex_id_mappings = {}\n",
        "\n",
        "    for i, claim in enumerate(discussion[\"discussion\"][\"claims\"]):\n",
        "        vertex = discussion_graph.add_vertex({\"id\": claim[\"id\"], \"text\": claim[\"text\"]})\n",
        "        vertex_id_mappings[claim[\"id\"]] = vertex.index\n",
        "\n",
        "    for location in discussion[\"discussion\"][\"locations\"]:\n",
        "        if location[\"isDeleted\"] == True:\n",
        "            continue\n",
        "        if location[\"parentId\"] is None:\n",
        "            continue\n",
        "\n",
        "        source = vertex_id_mappings[location[\"targetId\"]]\n",
        "        parent = vertex_id_mappings[location[\"parentId\"]]\n",
        "        discussion_graph.add_edge(source=source, target=parent, relation=location[\"relation\"])\n",
        "\n",
        "    # ignore isolated (no edge) claims\n",
        "    discussion_graph.vs.select(_degree=0).delete()\n",
        "\n",
        "    return discussion_graph\n",
        "\n",
        "\n",
        "parsed_discussion_graphs = [parse_discussion_graph(dumped_discussion) for dumped_discussion in dumped_discussions if\n",
        "                            dumped_discussion is not None]\n"
      ],
      "metadata": {
        "ExecuteTime": {
          "end_time": "2023-09-21T13:23:32.719342700Z",
          "start_time": "2023-09-21T13:22:53.854805300Z"
        },
        "id": "3NUFL_2GMvPc"
      }
    },
    {
      "cell_type": "code",
      "source": [
        "!pip install igraph"
      ],
      "metadata": {
        "colab": {
          "base_uri": "https://localhost:8080/"
        },
        "id": "923pdut_Nrj9",
        "outputId": "7ce4f0ea-318f-4b4d-c9c8-88ec62d1fcd5"
      },
      "execution_count": 1,
      "outputs": [
        {
          "output_type": "stream",
          "name": "stdout",
          "text": [
            "Collecting igraph\n",
            "  Downloading igraph-0.10.8-cp39-abi3-manylinux_2_17_x86_64.manylinux2014_x86_64.whl (3.3 MB)\n",
            "\u001b[?25l     \u001b[90m━━━━━━━━━━━━━━━━━━━━━━━━━━━━━━━━━━━━━━━━\u001b[0m \u001b[32m0.0/3.3 MB\u001b[0m \u001b[31m?\u001b[0m eta \u001b[36m-:--:--\u001b[0m\r\u001b[2K     \u001b[91m━\u001b[0m\u001b[90m╺\u001b[0m\u001b[90m━━━━━━━━━━━━━━━━━━━━━━━━━━━━━━━━━━━━━━\u001b[0m \u001b[32m0.1/3.3 MB\u001b[0m \u001b[31m4.2 MB/s\u001b[0m eta \u001b[36m0:00:01\u001b[0m\r\u001b[2K     \u001b[91m━━━━━━━━━━━━━━━━━━━━━━━━━━━\u001b[0m\u001b[91m╸\u001b[0m\u001b[90m━━━━━━━━━━━━\u001b[0m \u001b[32m2.3/3.3 MB\u001b[0m \u001b[31m36.3 MB/s\u001b[0m eta \u001b[36m0:00:01\u001b[0m\r\u001b[2K     \u001b[90m━━━━━━━━━━━━━━━━━━━━━━━━━━━━━━━━━━━━━━━━\u001b[0m \u001b[32m3.3/3.3 MB\u001b[0m \u001b[31m37.7 MB/s\u001b[0m eta \u001b[36m0:00:00\u001b[0m\n",
            "\u001b[?25hCollecting texttable>=1.6.2 (from igraph)\n",
            "  Downloading texttable-1.6.7-py2.py3-none-any.whl (10 kB)\n",
            "Installing collected packages: texttable, igraph\n",
            "Successfully installed igraph-0.10.8 texttable-1.6.7\n"
          ]
        }
      ]
    },
    {
      "cell_type": "code",
      "source": [
        "from google.colab import drive\n",
        "drive.mount('/content/drive')"
      ],
      "metadata": {
        "colab": {
          "base_uri": "https://localhost:8080/"
        },
        "id": "KVPMMeV1Jg48",
        "outputId": "637317b3-392a-47a0-c2b1-328e574a9ebf"
      },
      "execution_count": 2,
      "outputs": [
        {
          "output_type": "stream",
          "name": "stdout",
          "text": [
            "Mounted at /content/drive\n"
          ]
        }
      ]
    },
    {
      "cell_type": "code",
      "execution_count": 3,
      "outputs": [],
      "source": [
        "import pickle\n",
        "import igraph as ig\n",
        "import numpy as np\n",
        "import matplotlib.pyplot as plt"
      ],
      "metadata": {
        "ExecuteTime": {
          "end_time": "2023-09-22T13:46:01.314430600Z",
          "start_time": "2023-09-22T13:46:00.899151300Z"
        },
        "id": "b5EHwTIMMvPc"
      }
    },
    {
      "cell_type": "code",
      "execution_count": 4,
      "outputs": [],
      "source": [
        "# Load the parsed discussion graphs from the saved pickle file\n",
        "\n",
        "#pickle_file_path =\"parsed_discussion_graphs.pickle\"\n",
        "#pickle_file_path = r'C:\\Users\\nico\\Dropbox\\HSLU\\Bachelorarbeit\\Code\\data\\parsed_discussion_graphs.pickle' (LOCAL)\n",
        "pickle_file_path = r\"/content/drive/MyDrive/Can Language Models Follow Discussions?/Data - kialo.com/parsed_discussion_graphs.pickle\"\n",
        "\n",
        "with open(pickle_file_path, 'rb') as f:\n",
        "    parsed_discussion_graphs = pickle.load(f)"
      ],
      "metadata": {
        "ExecuteTime": {
          "end_time": "2023-09-22T13:46:04.784235800Z",
          "start_time": "2023-09-22T13:46:02.679531200Z"
        },
        "id": "waXoSsGEMvPc"
      }
    },
    {
      "cell_type": "code",
      "execution_count": 4,
      "outputs": [
        {
          "output_type": "execute_result",
          "data": {
            "text/plain": [
              "(list, 17832)"
            ]
          },
          "metadata": {},
          "execution_count": 4
        }
      ],
      "source": [
        "# Check the type and number of loaded graphs\n",
        "num_of_graphs = len(parsed_discussion_graphs)\n",
        "type(parsed_discussion_graphs), num_of_graphs"
      ],
      "metadata": {
        "ExecuteTime": {
          "end_time": "2023-09-21T13:51:44.252712500Z",
          "start_time": "2023-09-21T13:51:44.077713300Z"
        },
        "id": "aWVrdO-qMvPd",
        "colab": {
          "base_uri": "https://localhost:8080/"
        },
        "outputId": "41145dd2-3bdc-427b-b837-14ee0a510633"
      }
    },
    {
      "cell_type": "code",
      "source": [
        "print(parsed_discussion_graphs[0])"
      ],
      "metadata": {
        "id": "1gDJ4iGN_L6u"
      },
      "execution_count": null,
      "outputs": []
    },
    {
      "cell_type": "markdown",
      "source": [
        "## ID Structure\n",
        "\n",
        "**Theme ID**: First set of numbers before the period, e.g., 801 in 801.210.  \n",
        "**Claim ID**: Numbers after the period, e.g., 210 in 801.210.\n",
        "\n",
        "***Inconsistent Incrementation Logic***  \n",
        "**+0.1**: New main point or counter-point to the theme.    \n",
        "**+0.01**: Sub-point or counter-point to a main point.  \n",
        "**+0.001**: ...  \n",
        "2 consecutive Ids do not mean chornological order (TODO: reason?)   \n",
        "\n",
        "The ***Titles/Themes*** are at the X.1 location and not at the X.0 location!\n",
        "\n",
        "\n",
        "---\n",
        "\n",
        "\n",
        "*X.0 location have to be investigated if they add anything more but noise, it seems like the .0-location is just a filler line and can be removed (TODO)."
      ],
      "metadata": {
        "id": "4zPluTUBP03g"
      }
    },
    {
      "cell_type": "markdown",
      "source": [
        "## Methods Used for Analyzing Graph Structures\n",
        "\n",
        "---\n",
        "\n",
        "\n",
        "\n",
        "### 1. Depth and Breadth (Scope: Entire Discussion)\n",
        "- **Depth**: Measured in integer levels (0, 1, 2, ...). A depth greater than 3 indicates a multi-layered discussion, while a depth of 2 or less suggests a less complex discussion.\n",
        "- **Breadth**: Measured in integer counts of viewpoints at each level. A breadth greater than 5 implies a diverse discussion, while a breadth of 2 or less indicates a narrow range of viewpoints.\n",
        "\n",
        "### 2. Centrality Measures (Scope: Individual Claims)\n",
        "- **Degree Centrality**: Ranges from 0 to N-1, where N is the number of nodes in the graph. A degree centrality greater than N/2 indicates a well-connected node, while a value less than N/4 suggests lesser connectivity.\n",
        "- **Closeness Centrality**: Ranges from 0 to 1. A closeness centrality greater than 0.6 indicates nodes that are more central, while a value less than 0.4 suggests peripheral nodes.\n",
        "- **Betweenness Centrality**: Ranges from 0 to (N-1)(N-2)/2. A betweenness centrality greater than N^2/4 indicates nodes that serve as key \"bridges,\" while a value less than N^2/8 suggests otherwise.\n",
        "\n",
        "### 3. Communities (Scope: Groups of Claims)\n",
        "- **Community Connectivity**: Calculated as the ratio of inter-community edges to the total number of communities. A value less than 0.2 indicates more isolated communities, while a value greater than 0.5 suggests less isolated ones."
      ],
      "metadata": {
        "id": "2vdm0goJXvk4"
      }
    },
    {
      "cell_type": "markdown",
      "source": [
        "## Discussion Structure: Depth and Breadth Analysis\n",
        "\n",
        "- *Depth*: Maximum number of levels in each discussion.\n",
        "- *Breadth*: Average number of child nodes per parent node."
      ],
      "metadata": {
        "collapsed": false,
        "id": "7YGn_Dx5MvPe"
      }
    },
    {
      "cell_type": "code",
      "execution_count": 7,
      "outputs": [
        {
          "output_type": "stream",
          "name": "stdout",
          "text": [
            "Skipping empty graph.\n",
            "Skipping empty graph.\n",
            "Skipping empty graph.\n",
            "Skipping empty graph.\n",
            "Skipping empty graph.\n",
            "Skipping empty graph.\n",
            "Skipping empty graph.\n",
            "Skipping empty graph.\n",
            "Skipping empty graph.\n",
            "Skipping empty graph.\n",
            "Skipping empty graph.\n",
            "Skipping empty graph.\n",
            "Skipping empty graph.\n",
            "Skipping empty graph.\n",
            "Skipping empty graph.\n",
            "Skipping empty graph.\n",
            "Skipping empty graph.\n",
            "Skipping empty graph.\n",
            "Skipping empty graph.\n",
            "Skipping empty graph.\n",
            "Skipping empty graph.\n",
            "Skipping empty graph.\n",
            "Skipping empty graph.\n",
            "Skipping empty graph.\n",
            "Skipping empty graph.\n",
            "Skipping empty graph.\n",
            "Skipping empty graph.\n",
            "Skipping empty graph.\n",
            "Skipping empty graph.\n",
            "Skipping empty graph.\n",
            "Skipping empty graph.\n",
            "Skipping empty graph.\n",
            "Skipping empty graph.\n",
            "Skipping empty graph.\n",
            "Skipping empty graph.\n",
            "Skipping empty graph.\n",
            "Skipping empty graph.\n",
            "Skipping empty graph.\n",
            "Skipping empty graph.\n",
            "Skipping empty graph.\n",
            "Skipping empty graph.\n",
            "Skipping empty graph.\n",
            "Skipping empty graph.\n",
            "Skipping empty graph.\n",
            "Skipping empty graph.\n",
            "Skipping empty graph.\n",
            "Skipping empty graph.\n",
            "Skipping empty graph.\n",
            "Skipping empty graph.\n",
            "Skipping empty graph.\n",
            "Skipping empty graph.\n",
            "Skipping empty graph.\n",
            "Skipping empty graph.\n",
            "Skipping empty graph.\n",
            "Skipping empty graph.\n",
            "Skipping empty graph.\n",
            "Skipping empty graph.\n",
            "Skipping empty graph.\n",
            "Skipping empty graph.\n",
            "Skipping empty graph.\n",
            "Skipping empty graph.\n",
            "Skipping empty graph.\n",
            "Skipping empty graph.\n",
            "Skipping empty graph.\n",
            "Skipping empty graph.\n",
            "Skipping empty graph.\n",
            "Skipping empty graph.\n",
            "Skipping empty graph.\n",
            "Skipping empty graph.\n",
            "Skipping empty graph.\n",
            "Skipping empty graph.\n",
            "Skipping empty graph.\n",
            "Skipping empty graph.\n",
            "Skipping empty graph.\n",
            "Skipping empty graph.\n",
            "Skipping empty graph.\n",
            "Skipping empty graph.\n",
            "Skipping empty graph.\n",
            "Skipping empty graph.\n",
            "Skipping empty graph.\n",
            "Skipping empty graph.\n",
            "Skipping empty graph.\n",
            "Skipping empty graph.\n",
            "Skipping empty graph.\n",
            "Skipping empty graph.\n",
            "Skipping empty graph.\n",
            "Skipping empty graph.\n",
            "Skipping empty graph.\n",
            "Skipping empty graph.\n",
            "Skipping empty graph.\n",
            "Skipping empty graph.\n",
            "Skipping empty graph.\n",
            "Skipping empty graph.\n",
            "Skipping empty graph.\n",
            "Skipping empty graph.\n",
            "Skipping empty graph.\n",
            "Skipping empty graph.\n",
            "Skipping empty graph.\n",
            "Skipping empty graph.\n",
            "Skipping empty graph.\n",
            "Skipping empty graph.\n",
            "Skipping empty graph.\n",
            "Skipping empty graph.\n",
            "Skipping empty graph.\n",
            "Skipping empty graph.\n",
            "Skipping empty graph.\n",
            "Skipping empty graph.\n",
            "Skipping empty graph.\n",
            "Skipping empty graph.\n",
            "Skipping empty graph.\n",
            "Skipping empty graph.\n",
            "Skipping empty graph.\n",
            "Skipping empty graph.\n",
            "Skipping empty graph.\n",
            "Skipping empty graph.\n",
            "Skipping empty graph.\n",
            "Skipping empty graph.\n",
            "Skipping empty graph.\n",
            "Skipping empty graph.\n",
            "Skipping empty graph.\n",
            "Skipping empty graph.\n",
            "Skipping empty graph.\n",
            "Skipping empty graph.\n",
            "Skipping empty graph.\n",
            "Skipping empty graph.\n",
            "Skipping empty graph.\n",
            "Skipping empty graph.\n",
            "Skipping empty graph.\n",
            "Skipping empty graph.\n",
            "Skipping empty graph.\n",
            "Skipping empty graph.\n",
            "Skipping empty graph.\n",
            "Skipping empty graph.\n",
            "Skipping empty graph.\n",
            "Skipping empty graph.\n",
            "Skipping empty graph.\n",
            "Skipping empty graph.\n",
            "Skipping empty graph.\n",
            "Skipping empty graph.\n",
            "Skipping empty graph.\n",
            "Skipping empty graph.\n",
            "Skipping empty graph.\n",
            "Skipping empty graph.\n",
            "Skipping empty graph.\n",
            "Skipping empty graph.\n",
            "Skipping empty graph.\n",
            "Skipping empty graph.\n",
            "Skipping empty graph.\n",
            "Skipping empty graph.\n",
            "Skipping empty graph.\n",
            "Skipping empty graph.\n",
            "Skipping empty graph.\n",
            "Skipping empty graph.\n",
            "Skipping empty graph.\n",
            "Skipping empty graph.\n",
            "Skipping empty graph.\n",
            "Skipping empty graph.\n",
            "Skipping empty graph.\n",
            "Skipping empty graph.\n",
            "Skipping empty graph.\n",
            "Skipping empty graph.\n",
            "Skipping empty graph.\n",
            "Skipping empty graph.\n",
            "Skipping empty graph.\n",
            "Skipping empty graph.\n",
            "Skipping empty graph.\n",
            "Skipping empty graph.\n",
            "Skipping empty graph.\n",
            "Skipping empty graph.\n",
            "Skipping empty graph.\n",
            "Skipping empty graph.\n",
            "Skipping empty graph.\n",
            "Skipping empty graph.\n",
            "Skipping empty graph.\n",
            "Skipping empty graph.\n",
            "Skipping empty graph.\n",
            "Skipping empty graph.\n",
            "Skipping empty graph.\n",
            "Skipping empty graph.\n",
            "Skipping empty graph.\n",
            "Skipping empty graph.\n",
            "Skipping empty graph.\n",
            "Skipping empty graph.\n",
            "Skipping empty graph.\n",
            "Skipping empty graph.\n",
            "Skipping empty graph.\n",
            "Skipping empty graph.\n",
            "Skipping empty graph.\n",
            "Skipping empty graph.\n",
            "Skipping empty graph.\n",
            "Skipping empty graph.\n",
            "Skipping empty graph.\n",
            "Skipping empty graph.\n",
            "Skipping empty graph.\n",
            "Skipping empty graph.\n",
            "Skipping empty graph.\n",
            "Skipping empty graph.\n",
            "Skipping empty graph.\n",
            "Skipping empty graph.\n",
            "Skipping empty graph.\n",
            "Skipping empty graph.\n",
            "Skipping empty graph.\n",
            "Skipping empty graph.\n",
            "Skipping empty graph.\n",
            "Skipping empty graph.\n",
            "Skipping empty graph.\n",
            "Skipping empty graph.\n",
            "Skipping empty graph.\n",
            "Skipping empty graph.\n",
            "Skipping empty graph.\n",
            "Skipping empty graph.\n",
            "Skipping empty graph.\n",
            "Skipping empty graph.\n",
            "Skipping empty graph.\n",
            "Skipping empty graph.\n",
            "Skipping empty graph.\n",
            "Skipping empty graph.\n",
            "Skipping empty graph.\n",
            "Skipping empty graph.\n",
            "Skipping empty graph.\n",
            "Skipping empty graph.\n",
            "Skipping empty graph.\n",
            "Skipping empty graph.\n",
            "Skipping empty graph.\n",
            "Skipping empty graph.\n",
            "Skipping empty graph.\n",
            "Skipping empty graph.\n",
            "Skipping empty graph.\n",
            "Skipping empty graph.\n",
            "Skipping empty graph.\n",
            "Skipping empty graph.\n",
            "Skipping empty graph.\n",
            "Skipping empty graph.\n",
            "Skipping empty graph.\n",
            "Skipping empty graph.\n",
            "Skipping empty graph.\n",
            "Skipping empty graph.\n",
            "Skipping empty graph.\n",
            "Skipping empty graph.\n",
            "Skipping empty graph.\n",
            "Skipping empty graph.\n",
            "Skipping empty graph.\n",
            "Skipping empty graph.\n",
            "Skipping empty graph.\n",
            "Skipping empty graph.\n",
            "Skipping empty graph.\n",
            "Skipping empty graph.\n",
            "Skipping empty graph.\n",
            "Skipping empty graph.\n",
            "Skipping empty graph.\n",
            "Skipping empty graph.\n",
            "Skipping empty graph.\n",
            "Skipping empty graph.\n",
            "Skipping empty graph.\n",
            "Skipping empty graph.\n",
            "Skipping empty graph.\n",
            "Skipping empty graph.\n",
            "Skipping empty graph.\n",
            "Skipping empty graph.\n",
            "Skipping empty graph.\n",
            "Skipping empty graph.\n",
            "Skipping empty graph.\n",
            "Skipping empty graph.\n",
            "Skipping empty graph.\n",
            "Skipping empty graph.\n",
            "Skipping empty graph.\n",
            "Skipping empty graph.\n",
            "Skipping empty graph.\n",
            "Skipping empty graph.\n",
            "Skipping empty graph.\n",
            "Skipping empty graph.\n",
            "Skipping empty graph.\n",
            "Skipping empty graph.\n",
            "Skipping empty graph.\n",
            "Skipping empty graph.\n",
            "Skipping empty graph.\n",
            "Skipping empty graph.\n",
            "Skipping empty graph.\n",
            "Skipping empty graph.\n",
            "Skipping empty graph.\n",
            "Skipping empty graph.\n",
            "Skipping empty graph.\n",
            "Skipping empty graph.\n",
            "Skipping empty graph.\n",
            "Skipping empty graph.\n",
            "Skipping empty graph.\n",
            "Skipping empty graph.\n",
            "Skipping empty graph.\n",
            "Skipping empty graph.\n",
            "Skipping empty graph.\n",
            "Skipping empty graph.\n",
            "Skipping empty graph.\n",
            "Skipping empty graph.\n",
            "Skipping empty graph.\n",
            "Skipping empty graph.\n",
            "Skipping empty graph.\n",
            "Skipping empty graph.\n",
            "Skipping empty graph.\n",
            "Skipping empty graph.\n",
            "Skipping empty graph.\n",
            "Skipping empty graph.\n",
            "Skipping empty graph.\n",
            "Skipping empty graph.\n",
            "Skipping empty graph.\n",
            "Skipping empty graph.\n",
            "Skipping empty graph.\n",
            "Skipping empty graph.\n",
            "Skipping empty graph.\n",
            "Skipping empty graph.\n",
            "Skipping empty graph.\n",
            "Skipping empty graph.\n",
            "Skipping empty graph.\n",
            "Skipping empty graph.\n",
            "Skipping empty graph.\n",
            "Skipping empty graph.\n",
            "Skipping empty graph.\n",
            "Skipping empty graph.\n",
            "Skipping empty graph.\n",
            "Skipping empty graph.\n",
            "Skipping empty graph.\n",
            "Skipping empty graph.\n",
            "Skipping empty graph.\n",
            "Skipping empty graph.\n",
            "Skipping empty graph.\n",
            "Skipping empty graph.\n",
            "Skipping empty graph.\n",
            "Skipping empty graph.\n",
            "Skipping empty graph.\n",
            "Skipping empty graph.\n",
            "Skipping empty graph.\n",
            "Skipping empty graph.\n",
            "Skipping empty graph.\n",
            "Skipping empty graph.\n",
            "Skipping empty graph.\n",
            "Skipping empty graph.\n",
            "Skipping empty graph.\n",
            "Skipping empty graph.\n",
            "Skipping empty graph.\n",
            "Skipping empty graph.\n",
            "Skipping empty graph.\n",
            "Skipping empty graph.\n",
            "Skipping empty graph.\n",
            "Skipping empty graph.\n",
            "Skipping empty graph.\n",
            "Skipping empty graph.\n",
            "Skipping empty graph.\n",
            "Skipping empty graph.\n",
            "Skipping empty graph.\n",
            "Skipping empty graph.\n",
            "Skipping empty graph.\n",
            "Skipping empty graph.\n",
            "Skipping empty graph.\n",
            "Skipping empty graph.\n",
            "Skipping empty graph.\n",
            "Skipping empty graph.\n",
            "Skipping empty graph.\n",
            "Skipping empty graph.\n",
            "Skipping empty graph.\n",
            "Skipping empty graph.\n",
            "Skipping empty graph.\n",
            "Skipping empty graph.\n",
            "Skipping empty graph.\n",
            "Skipping empty graph.\n",
            "Skipping empty graph.\n",
            "Skipping empty graph.\n",
            "Skipping empty graph.\n",
            "Skipping empty graph.\n",
            "Skipping empty graph.\n",
            "Skipping empty graph.\n",
            "Skipping empty graph.\n",
            "Skipping empty graph.\n",
            "Skipping empty graph.\n",
            "Skipping empty graph.\n",
            "Skipping empty graph.\n",
            "Skipping empty graph.\n",
            "Skipping empty graph.\n",
            "Skipping empty graph.\n",
            "Skipping empty graph.\n",
            "Skipping empty graph.\n",
            "Skipping empty graph.\n",
            "Skipping empty graph.\n",
            "Skipping empty graph.\n",
            "Skipping empty graph.\n",
            "Skipping empty graph.\n",
            "Skipping empty graph.\n",
            "Skipping empty graph.\n",
            "Skipping empty graph.\n",
            "Skipping empty graph.\n",
            "Skipping empty graph.\n",
            "Skipping empty graph.\n",
            "Skipping empty graph.\n",
            "Skipping empty graph.\n",
            "Skipping empty graph.\n",
            "Skipping empty graph.\n",
            "Skipping empty graph.\n",
            "Skipping empty graph.\n",
            "Skipping empty graph.\n",
            "Skipping empty graph.\n",
            "Skipping empty graph.\n",
            "Skipping empty graph.\n",
            "Skipping empty graph.\n",
            "Skipping empty graph.\n",
            "Skipping empty graph.\n",
            "Skipping empty graph.\n",
            "Skipping empty graph.\n",
            "Skipping empty graph.\n",
            "Skipping empty graph.\n",
            "Skipping empty graph.\n",
            "Skipping empty graph.\n",
            "Skipping empty graph.\n",
            "Skipping empty graph.\n",
            "Skipping empty graph.\n",
            "Skipping empty graph.\n",
            "Skipping empty graph.\n",
            "Skipping empty graph.\n",
            "Skipping empty graph.\n",
            "Skipping empty graph.\n",
            "Skipping empty graph.\n",
            "Skipping empty graph.\n",
            "Skipping empty graph.\n",
            "Skipping empty graph.\n",
            "Skipping empty graph.\n",
            "Skipping empty graph.\n",
            "Skipping empty graph.\n",
            "Skipping empty graph.\n",
            "Skipping empty graph.\n",
            "Skipping empty graph.\n",
            "Skipping empty graph.\n",
            "Skipping empty graph.\n",
            "Skipping empty graph.\n",
            "Skipping empty graph.\n",
            "Skipping empty graph.\n",
            "Skipping empty graph.\n",
            "Skipping empty graph.\n",
            "Skipping empty graph.\n",
            "Skipping empty graph.\n",
            "Skipping empty graph.\n",
            "Skipping empty graph.\n",
            "Skipping empty graph.\n",
            "Skipping empty graph.\n",
            "Skipping empty graph.\n",
            "Skipping empty graph.\n",
            "Skipping empty graph.\n",
            "Skipping empty graph.\n",
            "Skipping empty graph.\n",
            "Skipping empty graph.\n",
            "Skipping empty graph.\n",
            "Skipping empty graph.\n",
            "Skipping empty graph.\n",
            "Skipping empty graph.\n",
            "Skipping empty graph.\n",
            "Skipping empty graph.\n",
            "Skipping empty graph.\n",
            "Skipping empty graph.\n",
            "Skipping empty graph.\n",
            "Skipping empty graph.\n",
            "Skipping empty graph.\n",
            "Skipping empty graph.\n",
            "Skipping empty graph.\n",
            "Skipping empty graph.\n",
            "Skipping empty graph.\n",
            "Skipping empty graph.\n",
            "Skipping empty graph.\n",
            "Skipping empty graph.\n",
            "Skipping empty graph.\n",
            "Skipping empty graph.\n",
            "Skipping empty graph.\n",
            "Skipping empty graph.\n",
            "Skipping empty graph.\n",
            "Skipping empty graph.\n",
            "Skipping empty graph.\n",
            "Skipping empty graph.\n",
            "Skipping empty graph.\n",
            "Skipping empty graph.\n",
            "Skipping empty graph.\n",
            "Skipping empty graph.\n",
            "Skipping empty graph.\n",
            "Skipping empty graph.\n",
            "Skipping empty graph.\n",
            "Skipping empty graph.\n",
            "Skipping empty graph.\n",
            "Skipping empty graph.\n",
            "Skipping empty graph.\n",
            "Skipping empty graph.\n",
            "Skipping empty graph.\n",
            "Skipping empty graph.\n",
            "Skipping empty graph.\n",
            "Skipping empty graph.\n",
            "Skipping empty graph.\n",
            "Skipping empty graph.\n",
            "Skipping empty graph.\n",
            "Skipping empty graph.\n",
            "Skipping empty graph.\n",
            "Skipping empty graph.\n",
            "Skipping empty graph.\n",
            "Skipping empty graph.\n",
            "Skipping empty graph.\n",
            "Skipping empty graph.\n",
            "Skipping empty graph.\n",
            "Skipping empty graph.\n",
            "Skipping empty graph.\n",
            "Skipping empty graph.\n",
            "Skipping empty graph.\n",
            "Skipping empty graph.\n",
            "Skipping empty graph.\n",
            "Skipping empty graph.\n",
            "Skipping empty graph.\n",
            "Skipping empty graph.\n",
            "Skipping empty graph.\n",
            "Skipping empty graph.\n",
            "Skipping empty graph.\n",
            "Skipping empty graph.\n",
            "Skipping empty graph.\n",
            "Skipping empty graph.\n",
            "Skipping empty graph.\n",
            "Skipping empty graph.\n",
            "Skipping empty graph.\n",
            "Skipping empty graph.\n",
            "Skipping empty graph.\n",
            "Skipping empty graph.\n",
            "Skipping empty graph.\n",
            "Skipping empty graph.\n",
            "Skipping empty graph.\n",
            "Skipping empty graph.\n",
            "Skipping empty graph.\n",
            "Skipping empty graph.\n",
            "Skipping empty graph.\n",
            "Skipping empty graph.\n",
            "Skipping empty graph.\n",
            "Skipping empty graph.\n",
            "Skipping empty graph.\n",
            "Skipping empty graph.\n",
            "Skipping empty graph.\n",
            "Skipping empty graph.\n",
            "Skipping empty graph.\n",
            "Skipping empty graph.\n",
            "Skipping empty graph.\n",
            "Skipping empty graph.\n",
            "Skipping empty graph.\n",
            "Skipping empty graph.\n",
            "Skipping empty graph.\n",
            "Skipping empty graph.\n",
            "Skipping empty graph.\n",
            "Skipping empty graph.\n",
            "Skipping empty graph.\n",
            "Skipping empty graph.\n",
            "Skipping empty graph.\n",
            "Skipping empty graph.\n",
            "Skipping empty graph.\n",
            "Skipping empty graph.\n",
            "Skipping empty graph.\n",
            "Skipping empty graph.\n",
            "Skipping empty graph.\n",
            "Skipping empty graph.\n",
            "Skipping empty graph.\n",
            "Skipping empty graph.\n",
            "Skipping empty graph.\n",
            "Skipping empty graph.\n",
            "Skipping empty graph.\n",
            "Skipping empty graph.\n",
            "Skipping empty graph.\n",
            "Skipping empty graph.\n",
            "Skipping empty graph.\n",
            "Skipping empty graph.\n",
            "Skipping empty graph.\n",
            "Skipping empty graph.\n",
            "Skipping empty graph.\n",
            "Skipping empty graph.\n",
            "Skipping empty graph.\n",
            "Skipping empty graph.\n",
            "Skipping empty graph.\n",
            "Skipping empty graph.\n",
            "Skipping empty graph.\n",
            "Skipping empty graph.\n",
            "Skipping empty graph.\n",
            "Skipping empty graph.\n",
            "Skipping empty graph.\n",
            "Skipping empty graph.\n",
            "Skipping empty graph.\n",
            "Skipping empty graph.\n",
            "Skipping empty graph.\n",
            "Skipping empty graph.\n",
            "Skipping empty graph.\n",
            "Skipping empty graph.\n",
            "Skipping empty graph.\n",
            "Skipping empty graph.\n",
            "Skipping empty graph.\n",
            "Skipping empty graph.\n",
            "Skipping empty graph.\n",
            "Skipping empty graph.\n",
            "Skipping empty graph.\n",
            "Skipping empty graph.\n",
            "Skipping empty graph.\n",
            "Skipping empty graph.\n",
            "Skipping empty graph.\n",
            "Skipping empty graph.\n",
            "Skipping empty graph.\n",
            "Skipping empty graph.\n",
            "Skipping empty graph.\n",
            "Skipping empty graph.\n",
            "Skipping empty graph.\n",
            "Skipping empty graph.\n",
            "Skipping empty graph.\n",
            "Skipping empty graph.\n",
            "Skipping empty graph.\n",
            "Skipping empty graph.\n",
            "Skipping empty graph.\n",
            "Skipping empty graph.\n",
            "Skipping empty graph.\n",
            "Skipping empty graph.\n",
            "Skipping empty graph.\n",
            "Skipping empty graph.\n",
            "Skipping empty graph.\n",
            "Skipping empty graph.\n",
            "Skipping empty graph.\n",
            "Skipping empty graph.\n",
            "Skipping empty graph.\n",
            "Skipping empty graph.\n",
            "Skipping empty graph.\n",
            "Skipping empty graph.\n",
            "Skipping empty graph.\n",
            "Skipping empty graph.\n",
            "Skipping empty graph.\n",
            "Skipping empty graph.\n",
            "Skipping empty graph.\n",
            "Skipping empty graph.\n",
            "Skipping empty graph.\n",
            "Skipping empty graph.\n",
            "Skipping empty graph.\n",
            "Skipping empty graph.\n",
            "Skipping empty graph.\n",
            "Skipping empty graph.\n",
            "Skipping empty graph.\n",
            "Skipping empty graph.\n",
            "Skipping empty graph.\n",
            "Skipping empty graph.\n",
            "Skipping empty graph.\n",
            "Skipping empty graph.\n",
            "Skipping empty graph.\n",
            "Skipping empty graph.\n",
            "Skipping empty graph.\n",
            "Skipping empty graph.\n",
            "Skipping empty graph.\n",
            "Skipping empty graph.\n",
            "Skipping empty graph.\n",
            "Skipping empty graph.\n",
            "Skipping empty graph.\n",
            "Skipping empty graph.\n",
            "Skipping empty graph.\n",
            "Skipping empty graph.\n",
            "Skipping empty graph.\n",
            "Skipping empty graph.\n",
            "Skipping empty graph.\n",
            "Skipping empty graph.\n",
            "Skipping empty graph.\n",
            "Skipping empty graph.\n",
            "Skipping empty graph.\n",
            "Skipping empty graph.\n",
            "Skipping empty graph.\n",
            "Skipping empty graph.\n",
            "Skipping empty graph.\n",
            "Skipping empty graph.\n",
            "Skipping empty graph.\n",
            "Skipping empty graph.\n",
            "Skipping empty graph.\n",
            "Skipping empty graph.\n",
            "Skipping None graph.\n",
            "Skipping None graph.\n",
            "Skipping empty graph.\n",
            "Skipping empty graph.\n",
            "Skipping empty graph.\n",
            "Skipping empty graph.\n",
            "Skipping empty graph.\n",
            "Skipping empty graph.\n",
            "Skipping empty graph.\n",
            "Skipping empty graph.\n",
            "Skipping empty graph.\n",
            "Skipping empty graph.\n",
            "Skipping empty graph.\n",
            "Skipping empty graph.\n",
            "Skipping empty graph.\n",
            "Skipping empty graph.\n",
            "Skipping empty graph.\n",
            "Skipping empty graph.\n",
            "Skipping empty graph.\n",
            "Skipping empty graph.\n",
            "Skipping empty graph.\n",
            "Skipping empty graph.\n",
            "Skipping empty graph.\n",
            "Skipping empty graph.\n",
            "Skipping empty graph.\n",
            "Skipping empty graph.\n",
            "Skipping empty graph.\n",
            "Skipping empty graph.\n",
            "Skipping empty graph.\n",
            "Skipping empty graph.\n",
            "Skipping empty graph.\n",
            "Skipping empty graph.\n",
            "Skipping empty graph.\n",
            "Skipping empty graph.\n",
            "Skipping empty graph.\n",
            "Skipping empty graph.\n",
            "Skipping empty graph.\n",
            "Skipping empty graph.\n",
            "Skipping empty graph.\n",
            "Skipping empty graph.\n",
            "Skipping empty graph.\n",
            "Skipping empty graph.\n",
            "Skipping empty graph.\n",
            "Skipping empty graph.\n",
            "Skipping empty graph.\n",
            "Skipping empty graph.\n",
            "Skipping empty graph.\n",
            "Skipping empty graph.\n",
            "Skipping empty graph.\n",
            "Skipping empty graph.\n",
            "Skipping empty graph.\n",
            "Skipping empty graph.\n",
            "Skipping empty graph.\n",
            "Skipping empty graph.\n",
            "Skipping empty graph.\n",
            "Skipping empty graph.\n",
            "Skipping empty graph.\n",
            "Skipping empty graph.\n",
            "Skipping empty graph.\n",
            "Skipping empty graph.\n",
            "Skipping empty graph.\n",
            "Skipping empty graph.\n",
            "Skipping empty graph.\n",
            "Skipping empty graph.\n",
            "Skipping empty graph.\n",
            "Skipping empty graph.\n",
            "Skipping empty graph.\n",
            "Skipping empty graph.\n",
            "Skipping empty graph.\n",
            "Skipping empty graph.\n",
            "Skipping empty graph.\n",
            "Skipping empty graph.\n",
            "Skipping empty graph.\n",
            "Skipping empty graph.\n",
            "Skipping empty graph.\n",
            "Skipping empty graph.\n",
            "Skipping empty graph.\n",
            "Skipping empty graph.\n",
            "Skipping empty graph.\n",
            "Skipping empty graph.\n",
            "Skipping empty graph.\n",
            "Skipping empty graph.\n",
            "Skipping empty graph.\n",
            "Skipping empty graph.\n",
            "Skipping empty graph.\n",
            "Skipping empty graph.\n",
            "Skipping empty graph.\n",
            "Skipping empty graph.\n",
            "Skipping empty graph.\n",
            "Skipping empty graph.\n",
            "Skipping empty graph.\n",
            "Skipping empty graph.\n",
            "Skipping empty graph.\n",
            "Skipping empty graph.\n",
            "Skipping empty graph.\n",
            "Skipping empty graph.\n",
            "Skipping empty graph.\n",
            "Skipping empty graph.\n",
            "Skipping empty graph.\n",
            "Skipping empty graph.\n",
            "Skipping empty graph.\n",
            "Skipping empty graph.\n",
            "Skipping empty graph.\n",
            "Skipping empty graph.\n",
            "Skipping empty graph.\n",
            "Skipping empty graph.\n",
            "Skipping empty graph.\n",
            "Skipping empty graph.\n",
            "Skipping empty graph.\n",
            "Skipping empty graph.\n",
            "Skipping empty graph.\n",
            "Skipping empty graph.\n",
            "Skipping empty graph.\n",
            "Skipping empty graph.\n",
            "Skipping empty graph.\n",
            "Skipping empty graph.\n",
            "Skipping empty graph.\n",
            "Skipping empty graph.\n",
            "Skipping empty graph.\n",
            "Skipping empty graph.\n",
            "Skipping empty graph.\n",
            "Skipping empty graph.\n",
            "Skipping empty graph.\n",
            "Skipping empty graph.\n",
            "Skipping empty graph.\n",
            "Skipping empty graph.\n",
            "Skipping empty graph.\n",
            "Skipping empty graph.\n",
            "Skipping empty graph.\n",
            "Skipping empty graph.\n",
            "Skipping empty graph.\n",
            "Skipping empty graph.\n",
            "Skipping empty graph.\n",
            "Skipping empty graph.\n",
            "Skipping empty graph.\n",
            "Skipping empty graph.\n",
            "Skipping empty graph.\n",
            "Skipping empty graph.\n",
            "Skipping empty graph.\n",
            "Skipping empty graph.\n",
            "Skipping empty graph.\n",
            "Skipping empty graph.\n",
            "Skipping empty graph.\n",
            "Skipping empty graph.\n",
            "Skipping empty graph.\n",
            "Skipping empty graph.\n",
            "Skipping empty graph.\n",
            "Skipping empty graph.\n",
            "Skipping empty graph.\n",
            "Skipping empty graph.\n",
            "Skipping empty graph.\n",
            "Skipping empty graph.\n",
            "Skipping empty graph.\n",
            "Skipping empty graph.\n",
            "Skipping empty graph.\n",
            "Skipping empty graph.\n",
            "Skipping empty graph.\n",
            "Skipping empty graph.\n",
            "Skipping empty graph.\n",
            "Skipping empty graph.\n",
            "Skipping empty graph.\n",
            "Skipping empty graph.\n",
            "Skipping empty graph.\n",
            "Skipping empty graph.\n",
            "Skipping empty graph.\n",
            "Skipping empty graph.\n",
            "Skipping empty graph.\n",
            "Skipping empty graph.\n",
            "Skipping empty graph.\n",
            "Skipping empty graph.\n",
            "Skipping empty graph.\n",
            "Skipping empty graph.\n",
            "Skipping empty graph.\n",
            "Skipping empty graph.\n",
            "Skipping empty graph.\n",
            "Skipping empty graph.\n",
            "Skipping empty graph.\n",
            "Skipping empty graph.\n",
            "Skipping empty graph.\n",
            "Skipping empty graph.\n",
            "Skipping empty graph.\n",
            "Skipping empty graph.\n",
            "Skipping empty graph.\n",
            "Skipping empty graph.\n",
            "Skipping empty graph.\n"
          ]
        }
      ],
      "source": [
        "import numpy as np\n",
        "\n",
        "# Step 1: Check for None Graphs\n",
        "none_count = sum([1 for graph in parsed_discussion_graphs if graph is None])\n",
        "empty_count = 0\n",
        "# Step 2: Skip None values in loop\n",
        "depths = []\n",
        "breadths = []\n",
        "\n",
        "for graph in parsed_discussion_graphs:\n",
        "    if graph is None:\n",
        "        print(\"Skipping None graph.\")\n",
        "        continue\n",
        "\n",
        "    if len(graph.vs) == 0:\n",
        "        print(\"Skipping empty graph.\")\n",
        "        empty_count += 1\n",
        "        continue\n",
        "\n",
        "    # Depth: Longest path in the graph\n",
        "    distances = np.array(graph.distances())\n",
        "    depth = np.max(distances[distances < np.inf])  # Exclude infinite values\n",
        "    depths.append(depth)\n",
        "\n",
        "    # Breadth: Average number of child nodes per parent\n",
        "    avg_degree = np.mean(graph.degree(mode=\"out\"))\n",
        "    breadths.append(avg_degree)\n",
        "\n"
      ],
      "metadata": {
        "ExecuteTime": {
          "end_time": "2023-09-21T14:09:57.410375100Z",
          "start_time": "2023-09-21T14:07:43.949644200Z"
        },
        "id": "HfoUhkxIMvPe",
        "colab": {
          "base_uri": "https://localhost:8080/"
        },
        "outputId": "66b4142f-df98-4dfb-8bec-289f3cef948d"
      }
    },
    {
      "cell_type": "code",
      "execution_count": 10,
      "outputs": [
        {
          "output_type": "stream",
          "name": "stdout",
          "text": [
            "Number of None-graphs: 2\n",
            "Number of Empty-graphs: 849\n"
          ]
        }
      ],
      "source": [
        "print(f\"Number of None-graphs: {none_count}\")\n",
        "print(f\"Number of Empty-graphs: {empty_count}\")"
      ],
      "metadata": {
        "ExecuteTime": {
          "end_time": "2023-09-21T14:21:40.189777100Z",
          "start_time": "2023-09-21T14:21:39.965080900Z"
        },
        "id": "D9oKVlIeMvPe",
        "outputId": "45a281e2-7cc6-4bd5-db2a-4e2a949fd04f",
        "colab": {
          "base_uri": "https://localhost:8080/"
        }
      }
    },
    {
      "cell_type": "code",
      "execution_count": 8,
      "outputs": [
        {
          "output_type": "stream",
          "name": "stdout",
          "text": [
            "depth mean:  3.4818326364760614\n",
            "depth median:  2.0\n",
            "std dev depth:  3.6829125176557675\n",
            "\n",
            "\n",
            "mean_breadth:  1.5272547237333767\n",
            "median_breadth:  1.7142857142857142\n",
            "std_dev_breadth:  0.4125034907430631\n"
          ]
        }
      ],
      "source": [
        "mean_depth = np.mean(depths)\n",
        "median_depth = np.median(depths)\n",
        "std_dev_depth = np.std(depths)\n",
        "print(\"depth mean: \", mean_depth)\n",
        "print(\"depth median: \", median_depth)\n",
        "print(\"std dev depth: \", std_dev_depth)\n",
        "print(\"\\n\")\n",
        "mean_breadth = np.mean(breadths)\n",
        "median_breadth = np.median(breadths)\n",
        "std_dev_breadth = np.std(breadths)\n",
        "print(\"mean_breadth: \", mean_breadth)\n",
        "print(\"median_breadth: \", median_breadth)\n",
        "print(\"std_dev_breadth: \", std_dev_breadth)\n"
      ],
      "metadata": {
        "ExecuteTime": {
          "end_time": "2023-09-21T14:21:55.727764500Z",
          "start_time": "2023-09-21T14:21:55.528767400Z"
        },
        "id": "xgQ3FhibMvPe",
        "outputId": "6fb3891d-84c5-4c6e-e977-52424a30ee53",
        "colab": {
          "base_uri": "https://localhost:8080/"
        }
      }
    },
    {
      "cell_type": "code",
      "execution_count": 17,
      "outputs": [
        {
          "output_type": "display_data",
          "data": {
            "text/plain": [
              "<Figure size 640x480 with 1 Axes>"
            ],
            "image/png": "[encoded data removed]"
          },
          "metadata": {}
        },
        {
          "output_type": "display_data",
          "data": {
            "text/plain": [
              "<Figure size 640x480 with 1 Axes>"
            ],
            "image/png": "[encoded data removed]"
          },
          "metadata": {}
        }
      ],
      "source": [
        "import matplotlib.pyplot as plt\n",
        "\n",
        "plt.hist(depths, bins=20)\n",
        "plt.title('Histogram of Depths')\n",
        "plt.xlabel('Depth')\n",
        "plt.ylabel('Frequency')\n",
        "plt.show()\n",
        "\n",
        "plt.hist(breadths, bins=20)\n",
        "plt.title('Histogram of Breadths')\n",
        "plt.xlabel('Breadth')\n",
        "plt.ylabel('Frequency')\n",
        "plt.show()\n"
      ],
      "metadata": {
        "ExecuteTime": {
          "end_time": "2023-09-21T14:30:27.377716Z",
          "start_time": "2023-09-21T14:30:26.347449600Z"
        },
        "id": "gav7Sw7ZMvPe",
        "outputId": "0368cd42-b411-4b0d-a36f-ab03b2878619",
        "colab": {
          "base_uri": "https://localhost:8080/",
          "height": 927
        }
      }
    },
    {
      "cell_type": "markdown",
      "source": [
        "### Discussion Structure Report\n",
        "\n",
        "#### Objective\n",
        "The aim of this section is to understand the depth and breadth of discussions in the dataset and their implications for assessing the ability of language models to follow discussions.\n",
        "\n",
        "#### Methodology\n",
        "**What It Measures:** Depth gauges the \"length\" of the discussion threads. In a graph, this corresponds to the longest path from the central node (base claim) to any leaf node (end point) in a given theme or discussion.\n",
        "\n",
        "**Unit:** Number of edges along the longest path in the discussion.\n",
        "\n",
        "**Interpretation:** A higher depth suggests that the discussion has multiple layers of reasoning, with arguments being countered or supported by subsequent arguments.\n",
        "\n",
        "**Example:** If a base claim has a counter-argument, which itself has another counter-argument, and so on, the discussion is deep.\n",
        "\n",
        "#### Breadth\n",
        "**What It Measures:** Breadth evaluates the \"width\" of the discussions. In graph terms, this translates to the average number of child nodes that each parent node has in the discussion.\n",
        "\n",
        "**Unit:** Average number of child nodes per parent node.\n",
        "\n",
        "**Interpretation:** A greater breadth means more diversity in viewpoints or arguments at the same level in the discussion.\n",
        "\n",
        "**Example:** If a base claim has multiple, different diverse arguments at the same level, that are not necessarily clearly wright or wrong / clearly debatable. The discussion is broad.\n",
        "\n",
        "#### Key Difference\n",
        "Depth focuses on the linear extent of discussions, measuring how \"deep\" a single thread of reasoning can go. Breadth, on the other hand, focuses on the spread of discussions at each level, capturing how many different viewpoints or arguments are presented.\n",
        "\n",
        "#### Findings\n",
        "\n",
        "##### Depth of Discussions\n",
        "- Mean: 3.48 claims deep\n",
        "- Median: 2.0 claims deep\n",
        "- Standard Deviation: 3.68 claims deep\n",
        "\n",
        "#### Breadth of Discussions\n",
        "- Mean: 1.53 child nodes\n",
        "- Median: 1.71 child nodes\n",
        "- Standard Deviation: 0.41 child nodes\n",
        "\n",
        "##### Correlation Between Depth and Breadth\n",
        "- Value: 0.66\n",
        "\n",
        "#### Interpretation\n",
        "\n",
        "##### Depth\n",
        "- **Shallow Depth**: The shallow depth in most discussions suggests that arguments are usually not extensively countered or supported, implying straightforward discussions.\n",
        "\n",
        "##### Breadth\n",
        "- **Narrow Breadth**: Indicates less diversity in viewpoints at the same argument level. However discussion can still be deep and informative.\n",
        "- **Wide Breadth**: Implies more diversity but could also mean redundancy or lack of full engagement from participants.\n",
        "##### Correlation\n",
        "A correlation of approximately 0.66 between depth and breadth suggests a moderate positive correlation. This could imply that discussions that are deeper (more complex) also tend to have more branches (breadth) or the other way round.\n",
        "#### Conclusions\n",
        "- **Depth**: Most discussions are straightforward and don't delve deep into additional layers of reasoning.\n",
        "- **Breadth**: There is a varied breadth, indicating that while some discussions may lack diversity, others offer a range of viewpoints.\n",
        "#### What does that implicate for the understanding of language model?\n",
        "- **Correlation** + **Shallow Depth**: Language models need to be able to ***follow both shallow and deep discussions***. The shallow depth of most discussions suggests that language models need to be able to understand and respond to straightforward arguments. However, the moderate positive correlation between depth and breadth suggests that language models should also be able to follow more complex discussions that involve multiple layers of reasoning and diverse viewpoints.\n",
        "- **Narrow Breadth**: Language models need to be able to ***identify and respond to the most important arguments in a discussion***. The narrow breadth of many discussions suggests that language models should be able to identify and respond to the most important arguments in a discussion, even if there are other, less important arguments being made.\n",
        "- **Wide Breadth**: Language models need to be able to ***avoid redundancy and repetitive arguments***. The wide breadth of some discussions suggests that language models should be able to avoid redundancy and repetitive arguments. Language models should be able to identify and summarize the main arguments in a discussion, and avoid repeating arguments that have already been made."
      ],
      "metadata": {
        "collapsed": false,
        "id": "1nLIxanRMvPf"
      }
    },
    {
      "cell_type": "code",
      "execution_count": 15,
      "outputs": [
        {
          "output_type": "stream",
          "name": "stderr",
          "text": [
            "/usr/local/lib/python3.10/dist-packages/numpy/core/fromnumeric.py:3432: RuntimeWarning: Mean of empty slice.\n",
            "  return _methods._mean(a, axis=axis, dtype=dtype,\n",
            "/usr/local/lib/python3.10/dist-packages/numpy/core/_methods.py:190: RuntimeWarning: invalid value encountered in double_scalars\n",
            "  ret = ret.dtype.type(ret / rcount)\n"
          ]
        }
      ],
      "source": [
        "# Empty lists for storing graph metrics are initialized.\n",
        "communities_list = []\n",
        "degree_centrality_list = []\n",
        "closeness_centrality_list = []\n",
        "betweenness_centrality_list = []\n",
        "\n",
        "# Metrics for each graph in the parsed discussions are calculated.\n",
        "for graph in parsed_discussion_graphs:\n",
        "   if graph is not None:\n",
        "    # Community Detection\n",
        "    community = graph.community_multilevel()\n",
        "    communities_list.append(community)\n",
        "\n",
        "    # Degree Centrality\n",
        "    degree_centrality = graph.degree()  # A list of degree centralities for each node is obtained.\n",
        "    degree_centrality_list.append(np.mean(degree_centrality))  # The average degree centrality is stored.\n",
        "\n",
        "    # Closeness Centrality\n",
        "    closeness_centrality = graph.closeness()  # A list of closeness centralities for each node is obtained.\n",
        "    closeness_centrality_list.append(np.mean(closeness_centrality))  # The average closeness centrality is stored.\n",
        "\n",
        "    # Betweenness Centrality\n",
        "    betweenness_centrality = graph.betweenness()  # A list of betweenness centralities for each node is obtained.\n",
        "    betweenness_centrality_list.append(np.mean(betweenness_centrality))  # The average betweenness centrality is stored.\n",
        "\n",
        "# Lists are converted to NumPy arrays for easier analysis.\n",
        "degree_centrality_array = np.array(degree_centrality_list)\n",
        "closeness_centrality_array = np.array(closeness_centrality_list)\n",
        "betweenness_centrality_array = np.array(betweenness_centrality_list)\n"
      ],
      "metadata": {
        "ExecuteTime": {
          "end_time": "2023-09-22T13:46:46.712655500Z",
          "start_time": "2023-09-22T13:46:06.273833300Z"
        },
        "id": "i3gPeRoDMvPd",
        "colab": {
          "base_uri": "https://localhost:8080/"
        },
        "outputId": "9d54a87b-9db0-4d8c-f25f-af05bc98e3bb"
      }
    },
    {
      "cell_type": "code",
      "source": [
        "print(degree_centrality_array,closeness_centrality_array,betweenness_centrality_array)"
      ],
      "metadata": {
        "colab": {
          "base_uri": "https://localhost:8080/"
        },
        "id": "Q_Vo4LtlUMvZ",
        "outputId": "2a36d4be-97d1-407f-c2ef-6b0a06b2870e"
      },
      "execution_count": 16,
      "outputs": [
        {
          "output_type": "stream",
          "name": "stdout",
          "text": [
            "[2.02995008 2.00607903 2.07203962 ... 1.66666667 1.         1.        ] [0.30582876 0.20925638 0.2443798  ... 0.62962963 1.         1.        ] [7.96720466e+02 6.77835866e+02 4.08559208e+03 ... 1.66666667e+00\n",
            " 0.00000000e+00 0.00000000e+00]\n"
          ]
        }
      ]
    },
    {
      "cell_type": "code",
      "source": [
        "# Check for nan values in each array\n",
        "degree_has_nan = np.isnan(degree_centrality_array).any()\n",
        "closeness_has_nan = np.isnan(closeness_centrality_array).any()\n",
        "betweenness_has_nan = np.isnan(betweenness_centrality_array).any()\n",
        "\n",
        "# Handle nan values\n",
        "if degree_has_nan:\n",
        "    degree_centrality_array = degree_centrality_array[~np.isnan(degree_centrality_array)]\n",
        "if closeness_has_nan:\n",
        "    closeness_centrality_array = closeness_centrality_array[~np.isnan(closeness_centrality_array)]\n",
        "if betweenness_has_nan:\n",
        "    betweenness_centrality_array = betweenness_centrality_array[~np.isnan(betweenness_centrality_array)]\n",
        "\n",
        "# Calculate the mean\n",
        "degree_centrality_mean = np.mean(degree_centrality_array)\n",
        "closeness_centrality_mean = np.mean(closeness_centrality_array)\n",
        "betweenness_centrality_mean = np.mean(betweenness_centrality_array)\n",
        "\n",
        "print(degree_centrality_mean, closeness_centrality_mean, betweenness_centrality_mean)\n"
      ],
      "metadata": {
        "colab": {
          "base_uri": "https://localhost:8080/"
        },
        "id": "xEymMpOlVFC4",
        "outputId": "d9bf3176-1a46-49ab-863c-4351e7be6f41"
      },
      "execution_count": 17,
      "outputs": [
        {
          "output_type": "stream",
          "name": "stdout",
          "text": [
            "1.5272547237333767 0.6587293012546684 70.47713654619109\n"
          ]
        }
      ]
    },
    {
      "cell_type": "code",
      "source": [
        "import matplotlib.pyplot as plt\n",
        "import pandas as pd\n",
        "\n",
        "# Create a DataFrame for summary statistics\n",
        "summary_stats = pd.DataFrame({\n",
        "    'Metric': ['Degree Centrality', 'Closeness Centrality', 'Betweenness Centrality'],\n",
        "    'Mean': [degree_centrality_mean, closeness_centrality_mean, betweenness_centrality_mean]\n",
        "})\n",
        "\n",
        "# Display summary statistics as a table\n",
        "print(\"Summary Statistics\")\n",
        "print(summary_stats)\n",
        "\n",
        "# Plot histograms for Degree, Closeness, and Betweenness Centrality\n",
        "fig, axes = plt.subplots(1, 3, figsize=(15, 5))\n",
        "\n",
        "# Degree Centrality\n",
        "axes[0].hist(degree_centrality_array, bins=10, color='skyblue', edgecolor='black')\n",
        "axes[0].set_title('Degree Centrality')\n",
        "axes[0].set_xlabel('Value')\n",
        "axes[0].set_ylabel('Frequency')\n",
        "\n",
        "# Closeness Centrality\n",
        "axes[1].hist(closeness_centrality_array, bins=10, color='salmon', edgecolor='black')\n",
        "axes[1].set_title('Closeness Centrality')\n",
        "axes[1].set_xlabel('Value')\n",
        "axes[1].set_ylabel('Frequency')\n",
        "\n",
        "# Betweenness Centrality\n",
        "axes[2].hist(betweenness_centrality_array, bins=10, color='green', edgecolor='black')\n",
        "axes[2].set_title('Betweenness Centrality')\n",
        "axes[2].set_xlabel('Value')\n",
        "axes[2].set_ylabel('Frequency')\n",
        "\n",
        "# Show plots\n",
        "plt.tight_layout()\n",
        "plt.show()\n"
      ],
      "metadata": {
        "colab": {
          "base_uri": "https://localhost:8080/",
          "height": 594
        },
        "id": "Rt5epeS8UIdj",
        "outputId": "0887d065-1924-43e6-f4aa-ca43b0e58f61"
      },
      "execution_count": 18,
      "outputs": [
        {
          "output_type": "stream",
          "name": "stdout",
          "text": [
            "Summary Statistics\n",
            "                   Metric       Mean\n",
            "0       Degree Centrality   1.527255\n",
            "1    Closeness Centrality   0.658729\n",
            "2  Betweenness Centrality  70.477137\n"
          ]
        },
        {
          "output_type": "display_data",
          "data": {
            "text/plain": [
              "<Figure size 1500x500 with 3 Axes>"
            ],
            "image/png": "[encoded data removed]"
          },
          "metadata": {}
        }
      ]
    },
    {
      "cell_type": "markdown",
      "source": [
        "### Interpretation of Histograms and Congruency with Previous Findings\n",
        "\n",
        "#### Degree Centrality\n",
        "Low values (~1) indicate that many base claims or arguments are not highly connected, possibly because they are standalone points or are not heavily debated. A peak before the middle indicates a set of arguments that are well-connected but not central to the theme. These could be supporting or subsidiary claims.\n",
        "\n",
        "This aligns with the breadth of discussions, where the mean is around 1.53, indicating a narrow range of viewpoints at each argument level. Nodes with lower degree centrality indicate fewer connections, which is consistent with a narrow breadth in discussions.\n",
        "\n",
        "#### Closeness Centrality\n",
        "A high frequency at the end (~1) suggests that many nodes are closely related to each other within their respective themes. This could indicate that discussions on the platform are usually concentrated around a few key points or themes.\n",
        "\n",
        "This moderate correlation can be related to the depth of discussions. The higher frequency at the end of the Closeness Centrality histogram suggests that many claims are closely related to their parent/base claims, possibly leading to more breadth when there is more depth.\n",
        "\n",
        "#### Betweenness Centrality\n",
        "A high number (160000) at the beginning (~ 0-2500, weak score) shows that most arguments don't serve as bridges between other arguments. This aligns with the idea that each theme is independent; hence there are fewer 'bridge' arguments connecting different themes or points.\n",
        "\n",
        "This is consistent with the depth of discussions, where your data showed that most discussions are not very deep, usually around 3-4 claims. Lower betweenness centrality indicates that most claims are not serving as bridges for deeper-level discussions.\n",
        "\n",
        "#### Implications for Understanding Language Models\n",
        "The correlation between depth and breadth, along with the shallow depth and narrow breadth of discussions, suggests that language models should be capable of following both straightforward and complex discussions. Given the degree centrality and closeness centrality metrics, language models should also be prepared for discussions that have a wider range of viewpoints and are more complex."
      ],
      "metadata": {
        "id": "uFJ2RxOnmGGo"
      }
    },
    {
      "cell_type": "code",
      "source": [
        "import matplotlib.pyplot as plt\n",
        "\n",
        "community_counts = [len(c) for c in communities_list]\n",
        "plt.hist(community_counts, bins=range(min(community_counts), max(community_counts) + 1))\n",
        "plt.title(\"Community Count Distribution\")\n",
        "plt.xlabel(\"Number of Communities\")\n",
        "plt.yscale('log') # log scale for better visualization\n",
        "plt.ylabel(\"Frequency\")\n",
        "plt.show()\n"
      ],
      "metadata": {
        "colab": {
          "base_uri": "https://localhost:8080/",
          "height": 472
        },
        "id": "YTpjh6GBQRl-",
        "outputId": "f03e24ff-8a53-42b7-b9a4-068b8b92cc32"
      },
      "execution_count": 19,
      "outputs": [
        {
          "output_type": "display_data",
          "data": {
            "text/plain": [
              "<Figure size 640x480 with 1 Axes>"
            ],
            "image/png": "[encoded data removed]"
          },
          "metadata": {}
        }
      ]
    },
    {
      "cell_type": "code",
      "source": [
        "max(community_counts)"
      ],
      "metadata": {
        "colab": {
          "base_uri": "https://localhost:8080/"
        },
        "id": "WTttK23DQuyy",
        "outputId": "1b0d9f72-bd83-4115-d652-825e0b5562dd"
      },
      "execution_count": 20,
      "outputs": [
        {
          "output_type": "execute_result",
          "data": {
            "text/plain": [
              "487"
            ]
          },
          "metadata": {},
          "execution_count": 20
        }
      ]
    },
    {
      "cell_type": "markdown",
      "source": [
        "TODO: DATA PROCESSING:  vertex IDs consistently removed / filtered?"
      ],
      "metadata": {
        "id": "6LMWbTGfSuOb"
      }
    },
    {
      "cell_type": "code",
      "source": [
        "community_connectivity = []\n",
        "for graph, community_clustering in zip(parsed_discussion_graphs, communities_list):\n",
        "    if graph is not None and len(community_clustering) > 0:\n",
        "        inter_edges = 0\n",
        "        for cluster in community_clustering:\n",
        "            for vertex in cluster:\n",
        "                if vertex < graph.vcount():  # Check if vertex exists in the graph\n",
        "                    for neighbor in graph.neighbors(vertex):\n",
        "                        if neighbor not in cluster:\n",
        "                            inter_edges += 1\n",
        "        community_connectivity.append(inter_edges / len(community_clustering) if len(community_clustering) > 0 else 0)\n"
      ],
      "metadata": {
        "id": "Pfep_SJOQha9"
      },
      "execution_count": 21,
      "outputs": []
    },
    {
      "cell_type": "code",
      "source": [
        "len(community_connectivity)"
      ],
      "metadata": {
        "colab": {
          "base_uri": "https://localhost:8080/"
        },
        "id": "uTVP0X5kTNhH",
        "outputId": "246c38dd-7f82-45a7-e70e-377c242fd4fe"
      },
      "execution_count": 22,
      "outputs": [
        {
          "output_type": "execute_result",
          "data": {
            "text/plain": [
              "16979"
            ]
          },
          "metadata": {},
          "execution_count": 22
        }
      ]
    },
    {
      "cell_type": "code",
      "source": [
        "plt.hist(community_connectivity, bins=10)\n",
        "plt.title(\"Community Connectivity Distribution\")\n",
        "plt.xlabel(\"Connectivity Score\")\n",
        "plt.ylabel(\"Frequency\")\n",
        "plt.show()"
      ],
      "metadata": {
        "colab": {
          "base_uri": "https://localhost:8080/",
          "height": 472
        },
        "id": "Qr1uT6lmTKV9",
        "outputId": "d6b45e72-8af4-46f8-829d-30b1c8f073a4"
      },
      "execution_count": 23,
      "outputs": [
        {
          "output_type": "display_data",
          "data": {
            "text/plain": [
              "<Figure size 640x480 with 1 Axes>"
            ],
            "image/png": "[encoded data removed]"
          },
          "metadata": {}
        }
      ]
    },
    {
      "cell_type": "markdown",
      "source": [
        "### Outlier Detection"
      ],
      "metadata": {
        "collapsed": false,
        "id": "fgiW_cleMvPf"
      }
    },
    {
      "cell_type": "code",
      "source": [
        "# Import NumPy and Matplotlib\n",
        "import numpy as np\n",
        "import matplotlib.pyplot as plt\n",
        "\n",
        "# ... (Your previous code remains the same)\n",
        "\n",
        "# Function to identify outliers based on IQR\n",
        "def identify_outliers(data, threshold=1.5):\n",
        "    Q1 = np.percentile(data, 25)\n",
        "    Q3 = np.percentile(data, 75)\n",
        "    IQR = Q3 - Q1\n",
        "    lower_bound = Q1 - (IQR * threshold)\n",
        "    upper_bound = Q3 + (IQR * threshold)\n",
        "    return np.where((data < lower_bound) | (data > upper_bound))[0]\n",
        "\n",
        "# Using the function to find outlier indices\n",
        "depth_outliers_indices = identify_outliers(np.array(depths))\n",
        "breadth_outliers_indices = identify_outliers(np.array(breadths))\n",
        "\n",
        "# Extracting outlier values using NumPy array indexing\n",
        "depth_outliers_values = np.array(depths)[depth_outliers_indices]\n",
        "breadth_outliers_values = np.array(breadths)[breadth_outliers_indices]\n",
        "\n",
        "# ... (Your plotting code remains the same)\n",
        "\n",
        "# Calculating and printing summary statistics of outliers\n",
        "depth_outliers_mean = np.mean(depth_outliers_values)\n",
        "depth_outliers_median = np.median(depth_outliers_values)\n",
        "breadth_outliers_mean = np.mean(breadth_outliers_values)\n",
        "breadth_outliers_median = np.median(breadth_outliers_values)\n",
        "\n",
        "print(\"Depth Outliers - Mean:\", depth_outliers_mean, \"Median:\", depth_outliers_median)\n",
        "print(\"Breadth Outliers - Mean:\", breadth_outliers_mean, \"Median:\", breadth_outliers_median)\n"
      ],
      "metadata": {
        "colab": {
          "base_uri": "https://localhost:8080/"
        },
        "id": "xhRbi8UT_BlK",
        "outputId": "52fc6be5-4f58-43d9-a6d3-811fb58c4f6a"
      },
      "execution_count": 11,
      "outputs": [
        {
          "output_type": "stream",
          "name": "stdout",
          "text": [
            "Depth Outliers - Mean: 12.647904940587868 Median: 12.0\n",
            "Breadth Outliers - Mean: 3.5454545454545454 Median: 3.5454545454545454\n"
          ]
        }
      ]
    },
    {
      "cell_type": "code",
      "source": [
        "print(depth_outliers_values, len(depth_outliers_values))\n",
        "print()\n",
        "print(breadth_outliers_values, len(breadth_outliers_values))"
      ],
      "metadata": {
        "colab": {
          "base_uri": "https://localhost:8080/"
        },
        "id": "UY5R_AbHAU2w",
        "outputId": "f948df21-e682-4d21-a70d-71d7b2db6bfd"
      },
      "execution_count": 14,
      "outputs": [
        {
          "output_type": "stream",
          "name": "stdout",
          "text": [
            "[15. 18. 20. ...  9. 12. 12.] 1599\n",
            "\n",
            "[3.54545455] 1\n"
          ]
        }
      ]
    },
    {
      "cell_type": "code",
      "source": [
        "print(\"number of depth outliers\", len(depth_outliers_values))\n",
        "print(\"number of breadth outliers\", len(breadth_outliers_values))"
      ],
      "metadata": {
        "colab": {
          "base_uri": "https://localhost:8080/"
        },
        "id": "ZZt6VmTXDWE5",
        "outputId": "40f7acbc-8d26-411d-d4c6-0d665acbca75"
      },
      "execution_count": 20,
      "outputs": [
        {
          "output_type": "stream",
          "name": "stdout",
          "text": [
            "number of depth outliers 1599\n",
            "number of breadth outliers 1\n"
          ]
        }
      ]
    },
    {
      "cell_type": "code",
      "source": [
        "plt.hist(breadths, bins=20)\n",
        "plt.title('Histogram of Breadths')\n",
        "plt.xlabel('Breadth')\n",
        "plt.ylabel('Frequency')\n",
        "plt.show()\n"
      ],
      "metadata": {
        "colab": {
          "base_uri": "https://localhost:8080/",
          "height": 472
        },
        "id": "5WED08BfA2yS",
        "outputId": "eb924950-20e1-435a-ee2d-f286463bbbe0"
      },
      "execution_count": 15,
      "outputs": [
        {
          "output_type": "display_data",
          "data": {
            "text/plain": [
              "<Figure size 640x480 with 1 Axes>"
            ],
            "image/png": "[encoded data removed]"
          },
          "metadata": {}
        }
      ]
    },
    {
      "cell_type": "code",
      "source": [
        "# Plotting depth and breadth with outliers marked (red point)\n",
        "plt.figure(figsize=(12, 6))\n",
        "\n",
        "plt.subplot(1, 2, 1)\n",
        "plt.title('Depth with Outliers')\n",
        "plt.boxplot(depths, vert=False)\n",
        "plt.scatter(depth_outliers_values, [1] * len(depth_outliers_values), color='red')\n",
        "\n",
        "plt.subplot(1, 2, 2)\n",
        "plt.title('Breadth with Outliers')\n",
        "plt.boxplot(breadths, vert=False)\n",
        "plt.scatter(breadth_outliers_values, [1] * len(breadth_outliers_values), color='red')\n",
        "\n",
        "plt.tight_layout()\n",
        "plt.show()\n"
      ],
      "metadata": {
        "colab": {
          "base_uri": "https://localhost:8080/",
          "height": 607
        },
        "id": "45xXqOpk_vt0",
        "outputId": "9f0f76e3-9de4-416a-b412-6ba8517f7c9a"
      },
      "execution_count": 12,
      "outputs": [
        {
          "output_type": "display_data",
          "data": {
            "text/plain": [
              "<Figure size 1200x600 with 2 Axes>"
            ],
            "image/png": "[encoded data removed]"
          },
          "metadata": {}
        }
      ]
    },
    {
      "cell_type": "markdown",
      "source": [
        "Further investigating outliers by Z-Score since there was only 1 outlier detected for breadth by using IQR"
      ],
      "metadata": {
        "id": "DCJSIG_GCJL3"
      }
    },
    {
      "cell_type": "code",
      "source": [
        "# Function to identify outliers based on Z-score (default threshold = 3 std dev away from the mean)\n",
        "def identify_outliers_zscore(data, threshold=3):\n",
        "    mean = np.mean(data)\n",
        "    std = np.std(data)\n",
        "    z_scores = [(y - mean) / std for y in data]\n",
        "    return np.where(np.abs(z_scores) > threshold)[0]\n",
        "\n",
        "# Identify outliers using Z-score method\n",
        "depth_outliers_indices_z = identify_outliers_zscore(depths)\n",
        "breadth_outliers_indices_z = identify_outliers_zscore(breadths)\n",
        "\n",
        "# Extracting the values of the outliers\n",
        "depth_outliers_values_z = np.array([depths[i] for i in depth_outliers_indices_z])\n",
        "breadth_outliers_values_z = np.array([breadths[i] for i in breadth_outliers_indices_z])\n",
        "\n",
        "# Number of outliers found\n",
        "print(\"Number of depth outliers:\", len(depth_outliers_values_z))\n",
        "print(\"Number of breadth outliers:\", len(breadth_outliers_values_z))\n"
      ],
      "metadata": {
        "colab": {
          "base_uri": "https://localhost:8080/"
        },
        "id": "iNrZA9DKBsHS",
        "outputId": "d5b4a60c-2dce-4f25-c20d-a9e1738f7036"
      },
      "execution_count": 16,
      "outputs": [
        {
          "output_type": "stream",
          "name": "stdout",
          "text": [
            "Number of depth outliers: 367\n",
            "Number of breadth outliers: 7\n"
          ]
        }
      ]
    },
    {
      "cell_type": "code",
      "source": [
        "depth_outliers_mean_z = np.mean(depth_outliers_values_z)\n",
        "depth_outliers_median_z = np.median(depth_outliers_values_z)\n",
        "breadth_outliers_mean_z = np.mean(breadth_outliers_values_z)\n",
        "breadth_outliers_median_z = np.median(breadth_outliers_values_z)\n",
        "\n",
        "print(\"Depth Outliers - Mean:\", depth_outliers_mean_z, \"Median:\", depth_outliers_median_z)\n",
        "print(\"Breadth Outliers - Mean:\", breadth_outliers_mean_z, \"Median:\", breadth_outliers_median_z)\n"
      ],
      "metadata": {
        "colab": {
          "base_uri": "https://localhost:8080/"
        },
        "id": "oncJw-UmGVEB",
        "outputId": "98dcae3a-6649-45d4-a276-b25c9bb7ed39"
      },
      "execution_count": 24,
      "outputs": [
        {
          "output_type": "stream",
          "name": "stdout",
          "text": [
            "Depth Outliers - Mean: 18.539509536784742 Median: 17.0\n",
            "Breadth Outliers - Mean: 2.937285832746659 Median: 2.8011653313911142\n"
          ]
        }
      ]
    },
    {
      "cell_type": "code",
      "source": [
        "plt.subplot(1, 2, 1)\n",
        "plt.title('Depth with Outliers (Z-Score)')\n",
        "plt.boxplot(depths, vert=False)\n",
        "plt.scatter(depth_outliers_values_z, [1] * len(depth_outliers_values_z), color='red')\n",
        "\n",
        "plt.subplot(1, 2, 2)\n",
        "plt.title('Breadth with Outliers (Z-Score)')\n",
        "plt.boxplot(breadths, vert=False)\n",
        "plt.scatter(breadth_outliers_values_z, [1] * len(breadth_outliers_values_z), color='red')\n"
      ],
      "metadata": {
        "colab": {
          "base_uri": "https://localhost:8080/",
          "height": 469
        },
        "id": "LNNUIsVkBw1j",
        "outputId": "3f50bff7-b97e-4701-b492-0d36e1e25176"
      },
      "execution_count": 25,
      "outputs": [
        {
          "output_type": "execute_result",
          "data": {
            "text/plain": [
              "<matplotlib.collections.PathCollection at 0x78771a3501c0>"
            ]
          },
          "metadata": {},
          "execution_count": 25
        },
        {
          "output_type": "display_data",
          "data": {
            "text/plain": [
              "<Figure size 640x480 with 2 Axes>"
            ],
            "image/png": "[encoded data removed]"
          },
          "metadata": {}
        }
      ]
    },
    {
      "cell_type": "code",
      "source": [
        "import numpy as np\n",
        "import matplotlib.pyplot as plt\n",
        "\n",
        "# Your data loading and initial analysis here (like mean, median, etc. for the entire dataset)\n",
        "# ...\n",
        "\n",
        "# Function to identify outliers based on Z-score\n",
        "def identify_outliers_zscore(data, threshold=3):\n",
        "    mean = np.mean(data)\n",
        "    std = np.std(data)\n",
        "    z_scores = [(y - mean) / std for y in data]\n",
        "    return np.where(np.abs(z_scores) > threshold)[0]\n",
        "\n",
        "# Identify outliers\n",
        "depth_outliers_indices_z = identify_outliers_zscore(depths)\n",
        "breadth_outliers_indices_z = identify_outliers_zscore(breadths)\n",
        "\n",
        "# Extract outlier values\n",
        "depth_outliers_values_z = np.array([depths[i] for i in depth_outliers_indices_z])\n",
        "breadth_outliers_values_z = np.array([breadths[i] for i in breadth_outliers_indices_z])\n",
        "\n",
        "# Plotting\n",
        "plt.figure(figsize=(12, 6))\n",
        "\n",
        "plt.subplot(1, 2, 1)\n",
        "plt.title('Depth with Outliers (Z-Score)')\n",
        "plt.boxplot(depths, vert=False)\n",
        "plt.scatter(depth_outliers_values_z, [1]*len(depth_outliers_values_z), color='red')\n",
        "plt.axvline(x=np.median(depths), color='g', linestyle='--', label='Median')\n",
        "plt.legend()\n",
        "\n",
        "plt.subplot(1, 2, 2)\n",
        "plt.title('Breadth with Outliers (Z-Score)')\n",
        "plt.boxplot(breadths, vert=False)\n",
        "plt.scatter(breadth_outliers_values_z, [1]*len(breadth_outliers_values_z), color='red')\n",
        "plt.axvline(x=np.median(breadths), color='g', linestyle='--', label='Median')\n",
        "plt.legend()\n",
        "\n",
        "plt.tight_layout()\n",
        "plt.show()\n",
        "\n",
        "# Statistics for outliers\n",
        "depth_outliers_mean_z = np.mean(depth_outliers_values_z)\n",
        "depth_outliers_median_z = np.median(depth_outliers_values_z)\n",
        "\n",
        "breadth_outliers_mean_z = np.mean(breadth_outliers_values_z)\n",
        "breadth_outliers_median_z = np.median(breadth_outliers_values_z)\n",
        "\n",
        "print(\"Depth Outliers - Mean:\", depth_outliers_mean_z, \"Median:\", depth_outliers_median_z)\n",
        "print(\"Breadth Outliers - Mean:\", breadth_outliers_mean_z, \"Median:\", breadth_outliers_median_z)\n"
      ],
      "metadata": {
        "colab": {
          "base_uri": "https://localhost:8080/",
          "height": 642
        },
        "id": "xeeITkmWJjwv",
        "outputId": "eb3b935a-d0ea-4ee3-d8f4-864b9e8674b0"
      },
      "execution_count": 28,
      "outputs": [
        {
          "output_type": "display_data",
          "data": {
            "text/plain": [
              "<Figure size 1200x600 with 2 Axes>"
            ],
            "image/png": "[encoded data removed]"
          },
          "metadata": {}
        },
        {
          "output_type": "stream",
          "name": "stdout",
          "text": [
            "Depth Outliers - Mean: 18.539509536784742 Median: 17.0\n",
            "Breadth Outliers - Mean: 2.937285832746659 Median: 2.8011653313911142\n"
          ]
        }
      ]
    },
    {
      "cell_type": "markdown",
      "source": [
        "### Findings\n",
        "\n",
        "#### Depth\n",
        "- **Mean**: 15.0\n",
        "- **Median**: 15.0\n",
        "\n",
        "#### Breadth\n",
        "- **Mean**: 2.42\n",
        "- **Median**: 2.42\n",
        "\n",
        "Given that the Z-score threshold was set to 2, the calculated mean and median suggest that discussions with a depth or breadth significantly different from these values are outliers. This could imply:\n",
        "\n",
        "### Interpretation\n",
        "\n",
        "#### For Depth\n",
        "- Discussions with depth significantly higher than 15 ***could be highly nuanced***, with multiple layers of arguments and counterarguments.\n",
        "- Conversely, discussions with a much lower depth are ***likely to be shallower/less debated***, with fewer layers of counterarguments.\n",
        "\n",
        "#### For Breadth\n",
        "- Discussions with a breadth significantly higher than 2.42 could indicate a ***wide range of perspectives*** and might be more diverse.\n",
        "- Lower breadth values suggest less diversity in the arguments and may consist of ***similar points being reiterated***.\n",
        "\n",
        "These outliers can be further analyzed to understand what makes them deviate from the norm (TODO). The deviation could be due to the topic, the participants, or some other external factors influencing the discussion dynamics.  "
      ],
      "metadata": {
        "collapsed": false,
        "id": "x5Yv1zF7MvPg"
      }
    },
    {
      "cell_type": "code",
      "execution_count": 26,
      "outputs": [
        {
          "output_type": "stream",
          "name": "stdout",
          "text": [
            "<class 'numpy.ndarray'>\n",
            "1\n",
            "(1,)\n",
            "<class 'numpy.ndarray'>\n",
            "1\n",
            "(1,)\n"
          ]
        }
      ],
      "source": [
        "print(type(depth_outliers_values))\n",
        "print(len(depth_outliers_values))\n",
        "print(depth_outliers_values.shape)\n",
        "\n",
        "print(type(breadth_outliers_values))\n",
        "print(len(breadth_outliers_values))\n",
        "print(breadth_outliers_values.shape)\n"
      ],
      "metadata": {
        "ExecuteTime": {
          "start_time": "2023-09-21T15:08:49.892275Z"
        },
        "id": "rVYDUeCEMvPg",
        "outputId": "d8644d11-ca31-4c71-9224-8fa5554bd18e",
        "colab": {
          "base_uri": "https://localhost:8080/"
        }
      }
    },
    {
      "cell_type": "code",
      "execution_count": 27,
      "outputs": [
        {
          "output_type": "stream",
          "name": "stdout",
          "text": [
            "Correlation between Depth and Breadth: 0.6595607271226105\n"
          ]
        }
      ],
      "source": [
        "correlation = np.corrcoef(depths, breadths)[0, 1]\n",
        "print(f\"Correlation between Depth and Breadth: {correlation}\")"
      ],
      "metadata": {
        "ExecuteTime": {
          "start_time": "2023-09-21T14:31:05.209884300Z"
        },
        "id": "-cQ_bbO7MvPh",
        "outputId": "8fe24007-b977-4ee8-d17c-6a88772d3e01",
        "colab": {
          "base_uri": "https://localhost:8080/"
        }
      }
    },
    {
      "cell_type": "markdown",
      "source": [
        "## Graph Visualizations and Interpretations"
      ],
      "metadata": {
        "id": "jq-A_ULSxaNU"
      }
    },
    {
      "cell_type": "code",
      "source": [
        "!pip install cairocffi"
      ],
      "metadata": {
        "colab": {
          "base_uri": "https://localhost:8080/"
        },
        "id": "2Y4_V4KcO-t0",
        "outputId": "bf672e52-a992-4c65-ce41-e9deafa528a3"
      },
      "execution_count": 28,
      "outputs": [
        {
          "output_type": "stream",
          "name": "stdout",
          "text": [
            "Collecting cairocffi\n",
            "  Downloading cairocffi-1.6.1-py3-none-any.whl (75 kB)\n",
            "\u001b[?25l     \u001b[90m━━━━━━━━━━━━━━━━━━━━━━━━━━━━━━━━━━━━━━━━\u001b[0m \u001b[32m0.0/75.1 kB\u001b[0m \u001b[31m?\u001b[0m eta \u001b[36m-:--:--\u001b[0m\r\u001b[2K     \u001b[90m━━━━━━━━━━━━━━━━━━━━━━━━━━━━━━━━━━━━━━━━\u001b[0m \u001b[32m75.1/75.1 kB\u001b[0m \u001b[31m2.0 MB/s\u001b[0m eta \u001b[36m0:00:00\u001b[0m\n",
            "\u001b[?25hRequirement already satisfied: cffi>=1.1.0 in /usr/local/lib/python3.10/dist-packages (from cairocffi) (1.15.1)\n",
            "Requirement already satisfied: pycparser in /usr/local/lib/python3.10/dist-packages (from cffi>=1.1.0->cairocffi) (2.21)\n",
            "Installing collected packages: cairocffi\n",
            "Successfully installed cairocffi-1.6.1\n"
          ]
        }
      ]
    },
    {
      "cell_type": "code",
      "source": [
        "parsed_discussion_graphs[0].get_edgelist()"
      ],
      "metadata": {
        "id": "96nSgVGwTDNE",
        "colab": {
          "base_uri": "https://localhost:8080/"
        },
        "outputId": "503ca6b5-b0eb-4658-9bb7-cc15d4f82cf8"
      },
      "execution_count": 29,
      "outputs": [
        {
          "output_type": "execute_result",
          "data": {
            "text/plain": [
              "[(1, 2),\n",
              " (1, 3),\n",
              " (3, 6),\n",
              " (1, 10),\n",
              " (1, 14),\n",
              " (14, 15),\n",
              " (14, 16),\n",
              " (14, 17),\n",
              " (15, 18),\n",
              " (16, 19),\n",
              " (20, 21),\n",
              " (17, 22),\n",
              " (25, 26),\n",
              " (1, 29),\n",
              " (3, 31),\n",
              " (31, 32),\n",
              " (34, 35),\n",
              " (35, 36),\n",
              " (36, 37),\n",
              " (33, 36),\n",
              " (37, 38),\n",
              " (37, 39),\n",
              " (36, 39),\n",
              " (33, 40),\n",
              " (41, 42),\n",
              " (41, 43),\n",
              " (43, 44),\n",
              " (45, 48),\n",
              " (45, 47),\n",
              " (45, 46),\n",
              " (49, 50),\n",
              " (49, 51),\n",
              " (51, 52),\n",
              " (52, 53),\n",
              " (52, 54),\n",
              " (45, 55),\n",
              " (55, 56),\n",
              " (55, 57),\n",
              " (1, 59),\n",
              " (58, 59),\n",
              " (61, 62),\n",
              " (14, 63),\n",
              " (5, 66),\n",
              " (64, 67),\n",
              " (67, 68),\n",
              " (64, 70),\n",
              " (70, 71),\n",
              " (46, 73),\n",
              " (73, 74),\n",
              " (73, 75),\n",
              " (73, 76),\n",
              " (55, 77),\n",
              " (31, 78),\n",
              " (79, 80),\n",
              " (16, 81),\n",
              " (21, 81),\n",
              " (15, 82),\n",
              " (14, 83),\n",
              " (10, 84),\n",
              " (29, 86),\n",
              " (16, 89),\n",
              " (14, 90),\n",
              " (16, 90),\n",
              " (89, 91),\n",
              " (89, 90),\n",
              " (7, 10),\n",
              " (10, 41),\n",
              " (97, 98),\n",
              " (97, 99),\n",
              " (1, 100),\n",
              " (10, 78),\n",
              " (93, 100),\n",
              " (96, 100),\n",
              " (94, 100),\n",
              " (94, 102),\n",
              " (102, 103),\n",
              " (102, 104),\n",
              " (100, 105),\n",
              " (97, 105),\n",
              " (105, 106),\n",
              " (96, 106),\n",
              " (108, 109),\n",
              " (49, 112),\n",
              " (49, 113),\n",
              " (59, 120),\n",
              " (59, 121),\n",
              " (58, 122),\n",
              " (123, 124),\n",
              " (58, 123),\n",
              " (58, 125),\n",
              " (112, 128),\n",
              " (47, 129),\n",
              " (127, 131),\n",
              " (124, 132),\n",
              " (49, 133),\n",
              " (49, 134),\n",
              " (45, 135),\n",
              " (7, 138),\n",
              " (100, 140),\n",
              " (115, 141),\n",
              " (4, 142),\n",
              " (101, 144),\n",
              " (146, 147),\n",
              " (122, 148),\n",
              " (148, 149),\n",
              " (1, 150),\n",
              " (0, 151),\n",
              " (3, 151),\n",
              " (10, 151),\n",
              " (2, 151),\n",
              " (1, 154),\n",
              " (49, 154),\n",
              " (153, 155),\n",
              " (136, 156),\n",
              " (119, 157),\n",
              " (137, 158),\n",
              " (159, 160),\n",
              " (100, 151),\n",
              " (113, 162),\n",
              " (49, 163),\n",
              " (50, 112),\n",
              " (45, 164),\n",
              " (154, 165),\n",
              " (166, 167),\n",
              " (167, 168),\n",
              " (130, 167),\n",
              " (164, 170),\n",
              " (3, 172),\n",
              " (174, 175),\n",
              " (172, 176),\n",
              " (170, 177),\n",
              " (130, 166),\n",
              " (181, 182),\n",
              " (181, 183),\n",
              " (184, 185),\n",
              " (186, 187),\n",
              " (95, 189),\n",
              " (185, 190),\n",
              " (181, 191),\n",
              " (193, 194),\n",
              " (191, 195),\n",
              " (191, 196),\n",
              " (186, 197),\n",
              " (95, 198),\n",
              " (13, 200),\n",
              " (49, 169),\n",
              " (169, 201),\n",
              " (169, 202),\n",
              " (202, 203),\n",
              " (200, 204),\n",
              " (192, 206),\n",
              " (1, 65),\n",
              " (182, 207),\n",
              " (182, 208),\n",
              " (209, 210),\n",
              " (210, 211),\n",
              " (188, 212),\n",
              " (189, 213),\n",
              " (213, 214),\n",
              " (213, 215),\n",
              " (213, 216),\n",
              " (213, 217),\n",
              " (189, 218),\n",
              " (118, 219),\n",
              " (93, 220),\n",
              " (139, 221),\n",
              " (3, 222),\n",
              " (66, 223),\n",
              " (95, 199),\n",
              " (199, 225),\n",
              " (226, 227),\n",
              " (226, 228),\n",
              " (228, 229),\n",
              " (151, 226),\n",
              " (224, 230),\n",
              " (175, 231),\n",
              " (174, 231),\n",
              " (175, 232),\n",
              " (175, 233),\n",
              " (172, 234),\n",
              " (235, 236),\n",
              " (226, 238),\n",
              " (66, 239),\n",
              " (188, 240),\n",
              " (218, 242),\n",
              " (244, 245),\n",
              " (244, 246),\n",
              " (244, 247),\n",
              " (242, 248),\n",
              " (242, 249),\n",
              " (100, 110),\n",
              " (143, 251),\n",
              " (236, 252),\n",
              " (143, 253),\n",
              " (143, 254),\n",
              " (255, 256),\n",
              " (143, 239),\n",
              " (252, 257),\n",
              " (257, 258),\n",
              " (257, 259),\n",
              " (257, 260),\n",
              " (261, 262),\n",
              " (261, 263),\n",
              " (263, 264),\n",
              " (242, 264),\n",
              " (265, 266),\n",
              " (265, 267),\n",
              " (265, 269),\n",
              " (189, 265),\n",
              " (27, 270),\n",
              " (27, 28),\n",
              " (25, 272),\n",
              " (5, 270),\n",
              " (110, 270),\n",
              " (5, 110),\n",
              " (116, 270),\n",
              " (93, 273),\n",
              " (66, 145),\n",
              " (274, 275),\n",
              " (250, 276),\n",
              " (17, 277),\n",
              " (89, 278),\n",
              " (89, 279),\n",
              " (16, 280),\n",
              " (280, 281),\n",
              " (280, 282),\n",
              " (60, 282),\n",
              " (283, 284),\n",
              " (14, 286),\n",
              " (285, 287),\n",
              " (288, 289),\n",
              " (179, 290),\n",
              " (291, 292),\n",
              " (253, 293),\n",
              " (291, 294),\n",
              " (291, 295),\n",
              " (294, 296),\n",
              " (294, 297),\n",
              " (143, 298),\n",
              " (34, 299),\n",
              " (294, 300),\n",
              " (34, 301),\n",
              " (290, 302),\n",
              " (297, 304),\n",
              " (297, 305),\n",
              " (300, 306),\n",
              " (303, 307),\n",
              " (308, 309),\n",
              " (172, 312),\n",
              " (172, 313),\n",
              " (237, 314),\n",
              " (288, 310),\n",
              " (310, 316),\n",
              " (317, 318),\n",
              " (317, 319),\n",
              " (154, 288),\n",
              " (261, 320),\n",
              " (10, 311),\n",
              " (3, 311),\n",
              " (66, 311),\n",
              " (14, 311),\n",
              " (29, 311),\n",
              " (321, 322),\n",
              " (137, 321),\n",
              " (9, 321),\n",
              " (323, 324),\n",
              " (323, 326),\n",
              " (142, 327),\n",
              " (323, 328),\n",
              " (325, 328),\n",
              " (329, 330),\n",
              " (180, 331),\n",
              " (179, 332),\n",
              " (332, 333),\n",
              " (334, 335),\n",
              " (334, 336),\n",
              " (334, 337),\n",
              " (338, 339),\n",
              " (334, 338),\n",
              " (337, 340),\n",
              " (335, 341),\n",
              " (151, 152),\n",
              " (69, 342),\n",
              " (66, 343),\n",
              " (344, 345),\n",
              " (344, 346),\n",
              " (343, 347),\n",
              " (347, 348),\n",
              " (66, 349),\n",
              " (349, 350),\n",
              " (351, 352),\n",
              " (353, 354),\n",
              " (354, 355),\n",
              " (356, 357),\n",
              " (357, 358),\n",
              " (145, 359),\n",
              " (360, 361),\n",
              " (239, 362),\n",
              " (337, 363),\n",
              " (336, 364),\n",
              " (334, 365),\n",
              " (7, 366),\n",
              " (138, 367),\n",
              " (161, 368),\n",
              " (368, 369),\n",
              " (256, 369),\n",
              " (173, 369),\n",
              " (255, 370),\n",
              " (250, 371),\n",
              " (193, 372),\n",
              " (359, 373),\n",
              " (145, 373),\n",
              " (172, 374),\n",
              " (234, 375),\n",
              " (92, 376),\n",
              " (151, 377),\n",
              " (129, 380),\n",
              " (45, 381),\n",
              " (376, 383),\n",
              " (382, 384),\n",
              " (377, 379),\n",
              " (378, 379),\n",
              " (379, 387),\n",
              " (100, 387),\n",
              " (218, 388),\n",
              " (30, 389),\n",
              " (8, 390),\n",
              " (391, 392),\n",
              " (107, 393),\n",
              " (274, 394),\n",
              " (393, 395),\n",
              " (268, 395),\n",
              " (265, 268),\n",
              " (395, 396),\n",
              " (392, 397),\n",
              " (392, 398),\n",
              " (394, 399),\n",
              " (317, 400),\n",
              " (17, 401),\n",
              " (155, 402),\n",
              " (399, 403),\n",
              " (161, 404),\n",
              " (29, 406),\n",
              " (226, 407),\n",
              " (407, 408),\n",
              " (359, 410),\n",
              " (349, 411),\n",
              " (388, 412),\n",
              " (413, 414),\n",
              " (413, 415),\n",
              " (407, 416),\n",
              " (34, 417),\n",
              " (301, 418),\n",
              " (419, 420),\n",
              " (419, 421),\n",
              " (421, 422),\n",
              " (421, 423),\n",
              " (422, 424),\n",
              " (425, 426),\n",
              " (378, 426),\n",
              " (378, 427),\n",
              " (394, 428),\n",
              " (428, 429),\n",
              " (405, 436),\n",
              " (151, 405),\n",
              " (64, 437),\n",
              " (64, 438),\n",
              " (438, 439),\n",
              " (437, 439),\n",
              " (17, 440),\n",
              " (440, 441),\n",
              " (402, 442),\n",
              " (402, 443),\n",
              " (427, 445),\n",
              " (29, 446),\n",
              " (402, 447),\n",
              " (436, 448),\n",
              " (448, 449),\n",
              " (426, 450),\n",
              " (434, 452),\n",
              " (418, 453),\n",
              " (223, 454),\n",
              " (29, 455),\n",
              " (310, 457),\n",
              " (288, 458),\n",
              " (405, 459),\n",
              " (314, 460),\n",
              " (314, 461),\n",
              " (460, 462),\n",
              " (151, 463),\n",
              " (463, 464),\n",
              " (463, 465),\n",
              " (465, 466),\n",
              " (463, 467),\n",
              " (468, 469),\n",
              " (468, 470),\n",
              " (6, 471),\n",
              " (435, 471),\n",
              " (433, 471),\n",
              " (432, 471),\n",
              " (431, 471),\n",
              " (430, 471),\n",
              " (451, 471),\n",
              " (6, 472),\n",
              " (285, 385),\n",
              " (385, 463),\n",
              " (3, 476),\n",
              " (226, 477),\n",
              " (256, 478),\n",
              " (179, 479),\n",
              " (286, 480),\n",
              " (286, 481),\n",
              " (10, 482),\n",
              " (151, 483),\n",
              " (475, 483),\n",
              " (87, 475),\n",
              " (483, 484),\n",
              " (377, 485),\n",
              " (387, 486),\n",
              " (151, 487),\n",
              " (154, 487),\n",
              " (29, 487),\n",
              " (14, 487),\n",
              " (23, 488),\n",
              " (153, 482),\n",
              " (179, 483),\n",
              " (483, 489),\n",
              " (64, 154),\n",
              " (29, 349),\n",
              " (29, 239),\n",
              " (467, 494),\n",
              " (222, 495),\n",
              " (10, 496),\n",
              " (10, 497),\n",
              " (10, 498),\n",
              " (30, 496),\n",
              " (23, 496),\n",
              " (111, 496),\n",
              " (9, 497),\n",
              " (4, 475),\n",
              " (85, 496),\n",
              " (100, 499),\n",
              " (108, 499),\n",
              " (95, 499),\n",
              " (372, 499),\n",
              " (405, 500),\n",
              " (405, 501),\n",
              " (405, 502),\n",
              " (152, 503),\n",
              " (456, 487),\n",
              " (152, 504),\n",
              " (2, 505),\n",
              " (2, 506),\n",
              " (238, 507),\n",
              " (238, 508),\n",
              " (238, 509),\n",
              " (509, 510),\n",
              " (509, 511),\n",
              " (100, 225),\n",
              " (85, 512),\n",
              " (476, 513),\n",
              " (239, 514),\n",
              " (85, 515),\n",
              " (180, 479),\n",
              " (96, 110),\n",
              " (9, 516),\n",
              " (377, 409),\n",
              " (409, 491),\n",
              " (409, 493),\n",
              " (409, 492),\n",
              " (409, 517),\n",
              " (288, 315),\n",
              " (204, 205),\n",
              " (205, 518),\n",
              " (343, 349),\n",
              " (2, 72),\n",
              " (2, 79),\n",
              " (170, 171),\n",
              " (171, 519),\n",
              " (105, 520),\n",
              " (105, 521),\n",
              " (105, 522),\n",
              " (396, 523),\n",
              " (523, 524),\n",
              " (523, 525),\n",
              " (396, 526),\n",
              " (179, 505),\n",
              " (154, 171),\n",
              " (270, 271),\n",
              " (100, 444),\n",
              " (114, 483),\n",
              " (464, 527),\n",
              " (181, 528),\n",
              " (79, 126),\n",
              " (126, 192),\n",
              " (126, 193),\n",
              " (2, 24),\n",
              " (446, 529),\n",
              " (84, 117),\n",
              " (498, 530),\n",
              " (498, 531),\n",
              " (27, 116),\n",
              " (244, 266),\n",
              " (193, 266),\n",
              " (241, 283),\n",
              " (237, 532),\n",
              " (64, 533),\n",
              " (48, 171),\n",
              " (164, 171),\n",
              " (55, 171),\n",
              " (46, 171),\n",
              " (135, 171),\n",
              " (47, 171),\n",
              " (171, 381),\n",
              " (498, 534),\n",
              " (390, 474),\n",
              " (390, 473),\n",
              " (481, 535),\n",
              " (481, 536),\n",
              " (481, 537),\n",
              " (95, 241),\n",
              " (234, 386),\n",
              " (47, 539),\n",
              " (170, 178),\n",
              " (138, 540),\n",
              " (7, 540),\n",
              " (92, 541),\n",
              " (327, 538),\n",
              " (10, 512),\n",
              " (496, 512),\n",
              " (88, 496),\n",
              " (12, 497),\n",
              " (11, 497),\n",
              " (100, 243),\n",
              " (31, 542),\n",
              " (167, 446),\n",
              " (86, 529),\n",
              " (327, 497),\n",
              " (497, 541),\n",
              " (376, 497),\n",
              " (7, 497),\n",
              " (222, 543),\n",
              " (3, 544),\n",
              " (3, 545),\n",
              " (374, 546),\n",
              " (174, 547),\n",
              " (114, 548),\n",
              " (4, 538),\n",
              " (17, 549),\n",
              " (151, 550),\n",
              " (27, 550),\n",
              " (218, 550),\n",
              " (12, 550),\n",
              " (94, 550),\n",
              " (140, 550),\n",
              " (484, 551),\n",
              " (484, 552),\n",
              " (111, 553),\n",
              " (111, 554),\n",
              " (111, 555),\n",
              " (84, 556),\n",
              " (7, 557),\n",
              " (172, 558),\n",
              " (172, 559),\n",
              " (228, 490),\n",
              " (550, 560),\n",
              " (560, 561),\n",
              " (464, 562),\n",
              " (562, 563),\n",
              " (563, 564),\n",
              " (562, 565),\n",
              " (563, 566),\n",
              " (10, 567),\n",
              " (482, 568),\n",
              " (483, 569),\n",
              " (569, 570),\n",
              " (570, 571),\n",
              " (72, 572),\n",
              " (151, 573),\n",
              " (573, 574),\n",
              " (573, 575),\n",
              " (573, 576),\n",
              " (573, 577),\n",
              " (483, 578),\n",
              " (483, 579),\n",
              " (483, 580),\n",
              " (483, 581),\n",
              " (489, 582),\n",
              " (3, 583),\n",
              " (42, 584),\n",
              " (44, 585),\n",
              " (41, 586),\n",
              " (41, 587),\n",
              " (506, 583),\n",
              " (271, 583),\n",
              " (105, 584),\n",
              " (105, 587),\n",
              " (484, 588),\n",
              " (226, 589),\n",
              " (3, 590),\n",
              " (3, 591),\n",
              " (590, 592),\n",
              " (407, 593),\n",
              " (226, 594),\n",
              " (483, 595),\n",
              " (596, 597),\n",
              " (151, 597),\n",
              " (10, 598),\n",
              " (151, 599),\n",
              " (487, 600)]"
            ]
          },
          "metadata": {},
          "execution_count": 29
        }
      ]
    },
    {
      "cell_type": "code",
      "source": [
        "\n",
        "import igraph as ig\n",
        "\n",
        "# Taking the first graph for visualization\n",
        "G = parsed_discussion_graphs[0]\n",
        "\n",
        "# Converting calculated metrics to a form usable for visualization\n",
        "visual_style = {}\n",
        "degree_centrality = G.degree()\n",
        "visual_style[\"vertex_size\"] = [x * 10 for x in degree_centrality]\n",
        "\n",
        "# Ploting the graph\n",
        "\n",
        "import networkx as nx\n",
        "\n",
        "# G is the iGraph graph\n",
        "G_nx = nx.Graph(G.get_edgelist())\n",
        "\n",
        "\n",
        "nx.draw(G_nx, with_labels=True)\n",
        "plt.show()\n"
      ],
      "metadata": {
        "id": "gTHwwX3SmP0v",
        "colab": {
          "base_uri": "https://localhost:8080/",
          "height": 516
        },
        "outputId": "5c6c6849-0609-4862-d0b3-3d074a1a4e5d"
      },
      "execution_count": 5,
      "outputs": [
        {
          "output_type": "display_data",
          "data": {
            "text/plain": [
              "<Figure size 640x480 with 1 Axes>"
            ],
            "image/png": "[encoded data removed]"
          },
          "metadata": {}
        }
      ]
    },
    {
      "cell_type": "markdown",
      "source": [
        "### Exploring a Subsample"
      ],
      "metadata": {
        "id": "n3bh3gVuRjJU"
      }
    },
    {
      "cell_type": "code",
      "source": [
        "import random\n",
        "\n",
        "num_nodes_to_sample = 50\n",
        "all_nodes = list(G_nx.nodes())\n",
        "sampled_nodes = random.sample(all_nodes, num_nodes_to_sample)\n",
        "\n",
        "# Creating subgraph\n",
        "subgraph = G_nx.subgraph(sampled_nodes)\n",
        "\n",
        "#nx.draw(subgraph, with_labels=True)\n",
        "#plt.show()\n"
      ],
      "metadata": {
        "id": "BFJohy48Q-0d"
      },
      "execution_count": 6,
      "outputs": []
    },
    {
      "cell_type": "markdown",
      "source": [
        "#### Basic Plots"
      ],
      "metadata": {
        "id": "HZ5uMKskq6vK"
      }
    },
    {
      "cell_type": "code",
      "source": [
        "# Drawing the subgraph using the Kamada-Kaway layout in order to get a better looking graph\n",
        "pos = nx.kamada_kawai_layout(subgraph)\n",
        "nx.draw(subgraph, pos, with_labels=True)\n",
        "\n",
        "\n",
        "plt.show()\n"
      ],
      "metadata": {
        "colab": {
          "base_uri": "https://localhost:8080/",
          "height": 516
        },
        "id": "2QScX-xFRxow",
        "outputId": "a1156e11-11e3-490b-89f9-0b8dd0e8234f"
      },
      "execution_count": 7,
      "outputs": [
        {
          "output_type": "display_data",
          "data": {
            "text/plain": [
              "<Figure size 640x480 with 1 Axes>"
            ],
            "image/png": "[encoded data removed]"
          },
          "metadata": {}
        }
      ]
    },
    {
      "cell_type": "markdown",
      "source": [
        "In the visualization, the terms \"Force-Directed X\" and \"Force-Directed Y\" refer to the X and Y coordinates of each node in the graph as determined by a force-directed layout algorithm, specifically the Kamada-Kawai algorithm in this case. This algorithm arranges the nodes in a way that tries to balance two forces:\n",
        "\n",
        "- *Attraction*: Nodes that are connected by an edge are pulled closer to each other.\n",
        "- *Repulsion*: Nodes repel each other so they don't overlap.  \n",
        "\n",
        "The **resulting coordinates don't represent any real-world measure** like distance or time but provide a spatial representation of the relationships between nodes, making it easier to interpret the graph structure."
      ],
      "metadata": {
        "id": "IuOiCxtzmvEs"
      }
    },
    {
      "cell_type": "code",
      "source": [
        "# Finding a central node (e.g., the node with the highest degree centrality)\n",
        "central_node = max(nx.degree_centrality(G_nx), key=nx.degree_centrality(G_nx).get)\n",
        "\n",
        "# Finding neighbors of the central node\n",
        "neighbors = list(G_nx.neighbors(central_node))\n",
        "\n",
        "# Including the central node in the list\n",
        "neighbors.append(central_node)\n",
        "\n",
        "# Creating a subgraph around the central node\n",
        "subgraph = G_nx.subgraph(neighbors)\n",
        "\n",
        "# Drawing the subgraph\n",
        "pos = nx.kamada_kawai_layout(subgraph)\n",
        "\n",
        "# Drawing nodes\n",
        "nx.draw_networkx_nodes(subgraph, pos)\n",
        "\n",
        "# Drawing edges based on 'relation' attribute\n",
        "edges_positive = [(u, v) for (u, v, d) in subgraph.edges(data=True) if d.get('relation') == 1]\n",
        "edges_negative = [(u, v) for (u, v, d) in subgraph.edges(data=True) if d.get('relation') == -1]\n",
        "\n",
        "nx.draw_networkx_edges(subgraph, pos, edgelist=edges_positive, edge_color='g')\n",
        "nx.draw_networkx_edges(subgraph, pos, edgelist=edges_negative, edge_color='r')\n",
        "\n",
        "# Adding position labels\n",
        "nx.draw_networkx_labels(subgraph, pos)\n",
        "\n",
        "plt.show()\n"
      ],
      "metadata": {
        "colab": {
          "base_uri": "https://localhost:8080/",
          "height": 406
        },
        "id": "cNG9uiVDU2FU",
        "outputId": "d59764df-090a-48ff-dae7-5f0bf36509fe"
      },
      "execution_count": 8,
      "outputs": [
        {
          "output_type": "display_data",
          "data": {
            "text/plain": [
              "<Figure size 640x480 with 1 Axes>"
            ],
            "image/png": "[encoded data removed]"
          },
          "metadata": {}
        }
      ]
    },
    {
      "cell_type": "code",
      "source": [
        "# Custom labels for textual representation\n",
        "custom_labels = {}\n",
        "central_node_text = G_nx.nodes[central_node].get('name', {}).get('text', central_node)\n",
        "custom_labels[central_node] = f'Central Node/Theme: {central_node_text}'\n",
        "print(custom_labels[central_node])\n",
        "print()\n",
        "print()\n",
        "# Sample 1 pro and 1 con argument\n",
        "pro_node = next((u for u, v, d in subgraph.edges(data=True) if d.get('relation') == 1), None)\n",
        "con_node = next((u for u, v, d in subgraph.edges(data=True) if d.get('relation') == -1), None)\n",
        "\n",
        "if pro_node:\n",
        "    pro_text = G_nx.nodes[pro_node].get('name', {}).get('text', pro_node)\n",
        "    custom_labels[pro_node] = f'Pro Claim: {pro_text}'\n",
        "\n",
        "if con_node:\n",
        "    con_text = G_nx.nodes[con_node].get('name', {}).get('text', pro_node)\n",
        "    custom_labels[con_node] = f'Con Claim: {con_text}'\n",
        "\n",
        "print(custom_labels[pro_node])\n",
        "print()\n",
        "print( custom_labels[con_node])"
      ],
      "metadata": {
        "colab": {
          "base_uri": "https://localhost:8080/",
          "height": 296
        },
        "id": "ZyuGzh_pYJJu",
        "outputId": "e9949a53-9a64-4b47-97dc-d6248e96cbef"
      },
      "execution_count": 9,
      "outputs": [
        {
          "output_type": "stream",
          "name": "stdout",
          "text": [
            "Central Node/Theme: 151\n",
            "\n",
            "\n"
          ]
        },
        {
          "output_type": "error",
          "ename": "KeyError",
          "evalue": "ignored",
          "traceback": [
            "\u001b[0;31m---------------------------------------------------------------------------\u001b[0m",
            "\u001b[0;31mKeyError\u001b[0m                                  Traceback (most recent call last)",
            "\u001b[0;32m<ipython-input-9-58b065a66405>\u001b[0m in \u001b[0;36m<cell line: 20>\u001b[0;34m()\u001b[0m\n\u001b[1;32m     18\u001b[0m     \u001b[0mcustom_labels\u001b[0m\u001b[0;34m[\u001b[0m\u001b[0mcon_node\u001b[0m\u001b[0;34m]\u001b[0m \u001b[0;34m=\u001b[0m \u001b[0;34mf'Con Claim: {con_text}'\u001b[0m\u001b[0;34m\u001b[0m\u001b[0;34m\u001b[0m\u001b[0m\n\u001b[1;32m     19\u001b[0m \u001b[0;34m\u001b[0m\u001b[0m\n\u001b[0;32m---> 20\u001b[0;31m \u001b[0mprint\u001b[0m\u001b[0;34m(\u001b[0m\u001b[0mcustom_labels\u001b[0m\u001b[0;34m[\u001b[0m\u001b[0mpro_node\u001b[0m\u001b[0;34m]\u001b[0m\u001b[0;34m)\u001b[0m\u001b[0;34m\u001b[0m\u001b[0;34m\u001b[0m\u001b[0m\n\u001b[0m\u001b[1;32m     21\u001b[0m \u001b[0mprint\u001b[0m\u001b[0;34m(\u001b[0m\u001b[0;34m)\u001b[0m\u001b[0;34m\u001b[0m\u001b[0;34m\u001b[0m\u001b[0m\n\u001b[1;32m     22\u001b[0m \u001b[0mprint\u001b[0m\u001b[0;34m(\u001b[0m \u001b[0mcustom_labels\u001b[0m\u001b[0;34m[\u001b[0m\u001b[0mcon_node\u001b[0m\u001b[0;34m]\u001b[0m\u001b[0;34m)\u001b[0m\u001b[0;34m\u001b[0m\u001b[0;34m\u001b[0m\u001b[0m\n",
            "\u001b[0;31mKeyError\u001b[0m: None"
          ]
        }
      ]
    },
    {
      "cell_type": "code",
      "source": [
        "# Shortened text version for visualizing\n",
        "custom_labels = {}\n",
        "central_node_text = G_nx.nodes[central_node].get('name', {}).get('text', central_node)\n",
        "custom_labels[central_node] = f'{central_node_text[:30]}...'\n",
        "\n",
        "if pro_node:\n",
        "    pro_text = G_nx.nodes[pro_node].get('name', {}).get('text', pro_node)\n",
        "    custom_labels[pro_node] = f'+:{pro_text[:30]}...'\n",
        "\n",
        "if con_node:\n",
        "    con_text = G_nx.nodes[con_node].get('name', {}).get('text', con_node)\n",
        "    custom_labels[con_node] = f'-:{con_text[:30]}...'\n",
        "\n",
        "\n",
        "pos = nx.kamada_kawai_layout(subgraph)\n",
        "nx.draw_networkx_nodes(subgraph, pos)\n",
        "nx.draw_networkx_edges(subgraph, pos, edgelist=edges_positive, edge_color='g')\n",
        "nx.draw_networkx_edges(subgraph, pos, edgelist=edges_negative, edge_color='r')\n",
        "\n",
        "\n",
        "nx.draw_networkx_labels(subgraph, pos, labels=custom_labels)\n",
        "\n",
        "plt.show()\n",
        "\n"
      ],
      "metadata": {
        "colab": {
          "base_uri": "https://localhost:8080/",
          "height": 244
        },
        "id": "2QLmwxCzXBrv",
        "outputId": "ce73e419-9d8a-4d1a-b491-10ddce0e3be5"
      },
      "execution_count": 10,
      "outputs": [
        {
          "output_type": "error",
          "ename": "TypeError",
          "evalue": "ignored",
          "traceback": [
            "\u001b[0;31m---------------------------------------------------------------------------\u001b[0m",
            "\u001b[0;31mTypeError\u001b[0m                                 Traceback (most recent call last)",
            "\u001b[0;32m<ipython-input-10-836f312f8749>\u001b[0m in \u001b[0;36m<cell line: 4>\u001b[0;34m()\u001b[0m\n\u001b[1;32m      2\u001b[0m \u001b[0mcustom_labels\u001b[0m \u001b[0;34m=\u001b[0m \u001b[0;34m{\u001b[0m\u001b[0;34m}\u001b[0m\u001b[0;34m\u001b[0m\u001b[0;34m\u001b[0m\u001b[0m\n\u001b[1;32m      3\u001b[0m \u001b[0mcentral_node_text\u001b[0m \u001b[0;34m=\u001b[0m \u001b[0mG_nx\u001b[0m\u001b[0;34m.\u001b[0m\u001b[0mnodes\u001b[0m\u001b[0;34m[\u001b[0m\u001b[0mcentral_node\u001b[0m\u001b[0;34m]\u001b[0m\u001b[0;34m.\u001b[0m\u001b[0mget\u001b[0m\u001b[0;34m(\u001b[0m\u001b[0;34m'name'\u001b[0m\u001b[0;34m,\u001b[0m \u001b[0;34m{\u001b[0m\u001b[0;34m}\u001b[0m\u001b[0;34m)\u001b[0m\u001b[0;34m.\u001b[0m\u001b[0mget\u001b[0m\u001b[0;34m(\u001b[0m\u001b[0;34m'text'\u001b[0m\u001b[0;34m,\u001b[0m \u001b[0mcentral_node\u001b[0m\u001b[0;34m)\u001b[0m\u001b[0;34m\u001b[0m\u001b[0;34m\u001b[0m\u001b[0m\n\u001b[0;32m----> 4\u001b[0;31m \u001b[0mcustom_labels\u001b[0m\u001b[0;34m[\u001b[0m\u001b[0mcentral_node\u001b[0m\u001b[0;34m]\u001b[0m \u001b[0;34m=\u001b[0m \u001b[0;34mf'{central_node_text[:30]}...'\u001b[0m\u001b[0;34m\u001b[0m\u001b[0;34m\u001b[0m\u001b[0m\n\u001b[0m\u001b[1;32m      5\u001b[0m \u001b[0;34m\u001b[0m\u001b[0m\n\u001b[1;32m      6\u001b[0m \u001b[0;32mif\u001b[0m \u001b[0mpro_node\u001b[0m\u001b[0;34m:\u001b[0m\u001b[0;34m\u001b[0m\u001b[0;34m\u001b[0m\u001b[0m\n",
            "\u001b[0;31mTypeError\u001b[0m: 'int' object is not subscriptable"
          ]
        }
      ]
    },
    {
      "cell_type": "code",
      "source": [
        "G_nx.nodes[pro_node]"
      ],
      "metadata": {
        "colab": {
          "base_uri": "https://localhost:8080/",
          "height": 296
        },
        "id": "rTPCBKzVXK1l",
        "outputId": "6cc04f48-38a6-48d1-c32f-74d41a6cb2d8"
      },
      "execution_count": 11,
      "outputs": [
        {
          "output_type": "error",
          "ename": "KeyError",
          "evalue": "ignored",
          "traceback": [
            "\u001b[0;31m---------------------------------------------------------------------------\u001b[0m",
            "\u001b[0;31mKeyError\u001b[0m                                  Traceback (most recent call last)",
            "\u001b[0;32m<ipython-input-11-09ec5151b906>\u001b[0m in \u001b[0;36m<cell line: 1>\u001b[0;34m()\u001b[0m\n\u001b[0;32m----> 1\u001b[0;31m \u001b[0mG_nx\u001b[0m\u001b[0;34m.\u001b[0m\u001b[0mnodes\u001b[0m\u001b[0;34m[\u001b[0m\u001b[0mpro_node\u001b[0m\u001b[0;34m]\u001b[0m\u001b[0;34m\u001b[0m\u001b[0;34m\u001b[0m\u001b[0m\n\u001b[0m",
            "\u001b[0;32m/usr/local/lib/python3.10/dist-packages/networkx/classes/reportviews.py\u001b[0m in \u001b[0;36m__getitem__\u001b[0;34m(self, n)\u001b[0m\n\u001b[1;32m    192\u001b[0m                 \u001b[0;34mf\"try list(G.nodes)[{n.start}:{n.stop}:{n.step}]\"\u001b[0m\u001b[0;34m\u001b[0m\u001b[0;34m\u001b[0m\u001b[0m\n\u001b[1;32m    193\u001b[0m             )\n\u001b[0;32m--> 194\u001b[0;31m         \u001b[0;32mreturn\u001b[0m \u001b[0mself\u001b[0m\u001b[0;34m.\u001b[0m\u001b[0m_nodes\u001b[0m\u001b[0;34m[\u001b[0m\u001b[0mn\u001b[0m\u001b[0;34m]\u001b[0m\u001b[0;34m\u001b[0m\u001b[0;34m\u001b[0m\u001b[0m\n\u001b[0m\u001b[1;32m    195\u001b[0m \u001b[0;34m\u001b[0m\u001b[0m\n\u001b[1;32m    196\u001b[0m     \u001b[0;31m# Set methods\u001b[0m\u001b[0;34m\u001b[0m\u001b[0;34m\u001b[0m\u001b[0m\n",
            "\u001b[0;31mKeyError\u001b[0m: None"
          ]
        }
      ]
    },
    {
      "cell_type": "markdown",
      "source": [
        "#### Interactive 3D Plot of 2 independent subsampled graphs"
      ],
      "metadata": {
        "id": "cWNcEPiYqtyE"
      }
    },
    {
      "cell_type": "code",
      "source": [
        "import plotly.graph_objects as go\n",
        "import numpy as np\n",
        "\n",
        "# 3D layout\n",
        "pos_3d = nx.kamada_kawai_layout(subgraph, dim=3)\n",
        "\n",
        "# Nodes\n",
        "x_nodes = np.array([pos_3d[k][0] for k in pos_3d.keys()])\n",
        "y_nodes = np.array([pos_3d[k][1] for k in pos_3d.keys()])\n",
        "z_nodes = np.array([pos_3d[k][2] for k in pos_3d.keys()])\n",
        "\n",
        "# Edges\n",
        "x_edges = []\n",
        "y_edges = []\n",
        "z_edges = []\n",
        "\n",
        "for edge in subgraph.edges(data=True):\n",
        "    x0, y0, z0 = pos_3d[edge[0]]\n",
        "    x1, y1, z1 = pos_3d[edge[1]]\n",
        "    x_edges.extend([x0, x1, None])\n",
        "    y_edges.extend([y0, y1, None])\n",
        "    z_edges.extend([z0, z1, None])\n",
        "\n",
        "# Creating scatter plot for edges\n",
        "edge_trace = go.Scatter3d(\n",
        "    x=x_edges,\n",
        "    y=y_edges,\n",
        "    z=z_edges,\n",
        "    mode='lines',\n",
        "    line=dict(width=1),\n",
        "    hoverinfo='none'\n",
        ")\n",
        "\n",
        "# Creating scatter plot for nodes\n",
        "node_trace = go.Scatter3d(\n",
        "    x=x_nodes,\n",
        "    y=y_nodes,\n",
        "    z=z_nodes,\n",
        "    mode='markers',\n",
        "    hoverinfo='text',\n",
        "    marker=dict(\n",
        "        size=6\n",
        "    )\n",
        ")\n",
        "\n",
        "# Creatig 3D network graph\n",
        "fig = go.Figure(data=[edge_trace, node_trace])\n",
        "fig.update_layout(scene=dict(aspectmode=\"cube\"))\n",
        "\n",
        "\n",
        "fig.show()\n"
      ],
      "metadata": {
        "id": "oFngUZGuaeP-"
      },
      "execution_count": null,
      "outputs": []
    },
    {
      "cell_type": "code",
      "source": [
        "import plotly.graph_objects as go\n",
        "\n",
        "def visualize_igraph_3d(graph):\n",
        "    layout = graph.layout('kk', dim=3)\n",
        "    Xn = [layout[i][0] for i in range(len(layout))]\n",
        "    Yn = [layout[i][1] for i in range(len(layout))]\n",
        "    Zn = [layout[i][2] for i in range(len(layout))]\n",
        "    Xe = []\n",
        "    Ye = []\n",
        "    Ze = []\n",
        "    for edge in graph.es:\n",
        "        Xe += [layout[edge.source][0], layout[edge.target][0], None]\n",
        "        Ye += [layout[edge.source][1], layout[edge.target][1], None]\n",
        "        Ze += [layout[edge.source][2], layout[edge.target][2], None]\n",
        "\n",
        "    trace1 = go.Scatter3d(x=Xe, y=Ye, z=Ze, mode='lines', line=dict(color='gray', width=0.5))\n",
        "    trace2 = go.Scatter3d(x=Xn, y=Yn, z=Zn, mode='markers', marker=dict(size=5, color='red'))\n",
        "\n",
        "    fig = go.Figure(data=[trace1, trace2])\n",
        "    fig.update_layout(scene=dict(aspectmode=\"cube\"))\n",
        "    fig.show()\n",
        "\n",
        "# Visualizing subgraphs\n",
        "visualize_igraph_3d(parsed_discussion_graphs[0])\n",
        "visualize_igraph_3d(parsed_discussion_graphs[1])"
      ],
      "metadata": {
        "id": "B6WooCKKbu-T"
      },
      "execution_count": null,
      "outputs": []
    },
    {
      "cell_type": "markdown",
      "source": [
        "#### Top View Graph for subsampled number of themes"
      ],
      "metadata": {
        "id": "AH2fUdocqnE5"
      }
    },
    {
      "cell_type": "code",
      "source": [
        "def plot_multiple_graphs(graphs, num_graphs):\n",
        "    plt.figure(figsize=(12,12))\n",
        "\n",
        "    color_map = plt.colormaps['tab10']\n",
        "\n",
        "    offset_x, offset_y = 0, 0\n",
        "    for i, graph in enumerate(graphs[:num_graphs]):\n",
        "        layout = graph.layout('kk')\n",
        "        x = np.array(layout.coords)[:,0] + offset_x\n",
        "        y = np.array(layout.coords)[:,1] + offset_y\n",
        "\n",
        "        # Draw nodes\n",
        "        plt.scatter(x, y, c=[color_map(i / num_graphs) for _ in range(len(x))], label=f\"Theme {i+1}\")\n",
        "\n",
        "        # Draw edges\n",
        "        for edge in graph.es:\n",
        "            x_values = [layout.coords[edge.source][0] + offset_x, layout.coords[edge.target][0] + offset_x]\n",
        "            y_values = [layout.coords[edge.source][1] + offset_y, layout.coords[edge.target][1] + offset_y]\n",
        "            plt.plot(x_values, y_values, color='gray')\n",
        "\n",
        "        offset_x += 50  # Update offset for next graph\n",
        "\n",
        "    plt.xlabel(\"Force-Directed X\")\n",
        "    plt.ylabel(\"Force-Directed Y\")\n",
        "    plt.ylim(-100, plt.ylim()[1])  # Restrict Y-axis\n",
        "    plt.legend()\n",
        "    plt.title(f'{num_graphs} Subsampled Graphs - Top View')\n",
        "    plt.show()\n",
        "# Call the function again\n",
        "plot_multiple_graphs(parsed_discussion_graphs, num_graphs=5)\n"
      ],
      "metadata": {
        "id": "wtCrVB0EdU2e"
      },
      "execution_count": null,
      "outputs": []
    },
    {
      "cell_type": "code",
      "source": [],
      "metadata": {
        "id": "5x1NCPZ861CH"
      },
      "execution_count": null,
      "outputs": []
    },
    {
      "cell_type": "markdown",
      "source": [
        "### Subgraphs Within the Same Theme"
      ],
      "metadata": {
        "id": "XTstxWnCZoNZ"
      }
    },
    {
      "cell_type": "code",
      "source": [
        "def find_root_claim(island_graph):\n",
        "    \"\"\"\n",
        "    Identifies the root claim (node with highest in-degree) in an island/subgraph.\n",
        "    Assumes that the graph is directed and that the root has the highest in-degree.\n",
        "    \"\"\"\n",
        "    in_degrees = island_graph.indegree()\n",
        "    root_index = in_degrees.index(max(in_degrees))\n",
        "    root_claim = island_graph.vs[root_index]['name']['text']\n",
        "    return root_claim\n",
        "\n",
        "# Assuming you have the actual igraph objects for the two largest islands as `largest_island` and `second_largest_island`\n",
        "root_claim_largest_island = find_root_claim(largest_island)\n",
        "root_claim_second_largest_island = find_root_claim(second_largest_island)\n",
        "\n",
        "print(\"Root claim of the largest island:\", root_claim_largest_island)\n",
        "print(\"Root claim of the second largest island:\", root_claim_second_largest_island)\n"
      ],
      "metadata": {
        "id": "eu85acTa4d2L"
      },
      "execution_count": null,
      "outputs": []
    },
    {
      "cell_type": "code",
      "source": [
        "# Identifying disconnected subgraphs (islands) within Theme 1\n",
        "subgraphs = parsed_discussion_graphs[0].decompose()\n",
        "print(\"Number of subgraphs: \", len(subgraphs))\n",
        "# Calculate centrality measures for each island\n",
        "for i, subgraph in enumerate(subgraphs):\n",
        "    print(f\"Island {i+1}\")\n",
        "    print(\"Degree Centrality:\", np.mean(subgraph.degree()))\n",
        "    print(\"Closeness Centrality:\", np.mean(subgraph.closeness()))\n",
        "    print(\"Betweenness Centrality:\", np.mean(subgraph.betweenness()))\n"
      ],
      "metadata": {
        "id": "rfaP4msOZnpM"
      },
      "execution_count": null,
      "outputs": []
    },
    {
      "cell_type": "code",
      "source": [
        "\n",
        "root_node_second_island = second_largest_island.vs[0]\n",
        "out_degree_root_second = root_node_second_island.outdegree()\n",
        "\n",
        "print(f\"Out-degree of the root node of the second largest island: {out_degree_root_second}\")\n",
        "if out_degree_root_second == 0:\n",
        "    print(\"The root node of the second island has no outgoing edges. Likely unrelated.\")\n",
        "else:\n",
        "    print(\"The root node of the second island has outgoing edges. Further investigation needed.\")\n"
      ],
      "metadata": {
        "id": "sTcPsR24669u"
      },
      "execution_count": null,
      "outputs": []
    },
    {
      "cell_type": "code",
      "source": [
        "# Checking for mislabeling by considering titles at the X.1 position\n",
        "mislabel_check = any(\n",
        "    graph.vs[1]['name']['text'] == root_node_second_island['name']['text'] for graph in parsed_discussion_graphs if graph is not None and len(graph.vs) > 1\n",
        ")\n",
        "print(f\"Is the second island mislabeled? {'Yes' if mislabel_check else 'No'}\")\n"
      ],
      "metadata": {
        "id": "7tnpoySl848K"
      },
      "execution_count": null,
      "outputs": []
    },
    {
      "cell_type": "code",
      "source": [
        "def get_top_n_islands(subgraphs, centrality_measure='betweenness', n=2):\n",
        "    \"\"\"function to get top n islands based on betweenness centrality\"\"\"\n",
        "    centrality_data = []\n",
        "    for i, subgraph in enumerate(subgraphs):\n",
        "        centrality_data.append({\n",
        "            'index': i,\n",
        "            'degree': np.mean(subgraph.degree()),\n",
        "            'closeness': np.mean(subgraph.closeness()),\n",
        "            'betweenness': np.mean(subgraph.betweenness())\n",
        "        })\n",
        "\n",
        "    sorted_islands = sorted(centrality_data, key=lambda x: x[centrality_measure], reverse=True)\n",
        "    top_n_indices = [sorted_islands[i]['index'] for i in range(n)]\n",
        "\n",
        "    return [subgraphs[i] for i in top_n_indices]\n"
      ],
      "metadata": {
        "id": "HckcZKG8wJ2t"
      },
      "execution_count": null,
      "outputs": []
    },
    {
      "cell_type": "code",
      "source": [
        "# Function to fetch claim texts from the nodes of a graph\n",
        "def fetch_claims_from_graph(graph, n=5):\n",
        "    return [v['name']['text'] for v in graph.vs][:n]\n",
        "\n",
        "# Fetch the claims for the two largest islands\n",
        "largest_island_claims = fetch_claims_from_graph(top_2_islands[0], n=5)\n",
        "second_largest_island_claims = fetch_claims_from_graph(top_2_islands[1], n=5)\n",
        "\n",
        "print(\"1st largest island first 5 claims:\")\n",
        "print()\n",
        "for claim1 in largest_island_claims:\n",
        "  print(claim1)\n",
        "print()\n",
        "print()\n",
        "print()\n",
        "print(\"2nd largest island first 5 claims:\")\n",
        "print()\n",
        "print(\"[COMMENT THAT TRIGGERED THE DEVIATING CONVERSATION]\")   #TODO : Find this comment, investigate further\n",
        "for claim2 in second_largest_island_claims:\n",
        "  print(claim2)"
      ],
      "metadata": {
        "id": "8pRkzeIspvBo"
      },
      "execution_count": null,
      "outputs": []
    },
    {
      "cell_type": "code",
      "source": [
        "from collections import Counter\n",
        "import re\n",
        "\n",
        "def extract_keywords(claims, n=5):\n",
        "    \"\"\"Function to extract keywords from a list of claims\"\"\"\n",
        "    text = \" \".join(claims)\n",
        "    words = re.findall(r'\\w+', text.lower())  # Convert text to lower case and split into words\n",
        "    counter = Counter(words)\n",
        "\n",
        "    return counter.most_common(n)\n",
        "\n",
        "# Get top 5 keywords for each of the top 2 islands\n",
        "largest_island_top_keywords = extract_keywords(largest_island_claims)\n",
        "second_largest_island_top_keywords = extract_keywords(second_largest_island_claims)\n",
        "\n",
        "print(\"Top 5 keywords in the largest island:\", largest_island_top_keywords)\n",
        "print(\"Top 5 keywords in the second largest island:\", second_largest_island_top_keywords)\n"
      ],
      "metadata": {
        "id": "hm2L2oWhz9vG"
      },
      "execution_count": null,
      "outputs": []
    },
    {
      "cell_type": "code",
      "source": [],
      "metadata": {
        "id": "q3aYgBUpHKLj"
      },
      "execution_count": null,
      "outputs": []
    },
    {
      "cell_type": "markdown",
      "source": [
        "\n",
        "#### Conclusions And Next Steps of Subgraph-Analysis\n",
        "\n",
        "#### Disconnected Sub-discussions\n",
        "Within a central theme (e.g., \"Cryptocurrencies are beneficial\"), multiple disconnected islands can emerge. These islands appear to be self-contained discussions not directly related to the central root claim.\n",
        "\n",
        "#### Divergent Root Claims\n",
        "These islands can have root claims that are significantly different from the central theme, suggesting that they represent divergent sub-discussions.\n",
        "\n",
        "#### Not Mislabelled\n",
        "Checks confirmed that the islands are not results of data mislabeling; they are genuinely part of the same overarching discussion.\n",
        "\n",
        "#### Unclear Causes\n",
        "The reasons for the formation of such disconnected islands within the same overarching discussion are not entirely clear. It could be due to a loss of relations between nodes or a natural divergence of discussion topics.\n",
        "\n",
        "### Open Points (TODO)\n",
        "- Further investigation is needed to determine whether relations between nodes got lost (before or after filtering/parsing the graph from the JSON structure) or if these are genuinely divergent discussions.\n",
        "- Text-level analysis could provide more insights into how and why these sub-discussions diverge so significantly.\n",
        "---\n",
        "\n",
        "\n",
        "\n",
        "---\n",
        "\n"
      ],
      "metadata": {
        "id": "zyc4EqRKHKv7"
      }
    },
    {
      "cell_type": "code",
      "source": [
        "\"\"\"\n",
        "def check_graph_community_consistency(graph, community):\n",
        "  \"function to check if the community list and graphs refer to same ids\"\n",
        "    # Extracting 'id' from nested 'name' attribute in graph\n",
        "    graph_vertex_ids = set(v['name']['id'] for v in graph.vs)\n",
        "    print(graph_vertex_ids[0])\n",
        "\n",
        "    # Extract 'id' attributes from vertices in all community subgraphs\n",
        "    for subgraph in community.subgraphs():\n",
        "          print(subgraph.vs[\"name\"][0][\"id\"])\n",
        "          break\n",
        "\n",
        "    return graph_vertex_ids == community_vertex_ids\n",
        "\n",
        "\n",
        "community = theme1_communities\n",
        "is_consistent = check_graph_community_consistency(theme1_graph, community)\"\"\"\n"
      ],
      "metadata": {
        "id": "SB1rBqGFoXzC"
      },
      "execution_count": null,
      "outputs": []
    },
    {
      "cell_type": "code",
      "source": [
        "subgraph.vs[\"name\"][0][\"id\"]"
      ],
      "metadata": {
        "id": "h4QYBogtrQ_G"
      },
      "execution_count": null,
      "outputs": []
    },
    {
      "cell_type": "markdown",
      "source": [
        "## Investigating Outliers"
      ],
      "metadata": {
        "id": "J8jTPKFbPajb"
      }
    },
    {
      "cell_type": "markdown",
      "source": [
        "Find all outliers in the graphs based on **z-score using 3 standard deviations** as default"
      ],
      "metadata": {
        "id": "j2sMzpCfBCaL"
      }
    },
    {
      "cell_type": "code",
      "source": [
        "# Finding the outlier node and its graph from the 5 visualized graphs\n",
        "\n",
        "import numpy as np\n",
        "\n",
        "# Initialize lists to store coordinates and node IDs\n",
        "all_coordinates = []\n",
        "all_node_ids = []\n",
        "\n",
        "# Loop through the first 5 graphs\n",
        "for i, graph in enumerate(parsed_discussion_graphs[:5]):\n",
        "    layout = graph.layout(\"kk\")\n",
        "    coordinates = np.array(layout.coords)\n",
        "    node_ids = [v.index for v in graph.vs]\n",
        "\n",
        "    all_coordinates.extend(coordinates)\n",
        "    all_node_ids.extend([(i, id) for id in node_ids])\n",
        "\n",
        "# Convert list of coordinates to NumPy array\n",
        "all_coordinates = np.array(all_coordinates)\n",
        "\n",
        "# Calculate the mean and standard deviation of the coordinates\n",
        "mean_coord = np.mean(all_coordinates, axis=0)\n",
        "std_coord = np.std(all_coordinates, axis=0)\n",
        "\n",
        "# Identify outliers based on z-score (here using 3 standard deviations as a threshold)\n",
        "outliers = np.where(np.abs(all_coordinates - mean_coord) > 3 * std_coord)\n",
        "outlier_indices = np.unique(outliers[0])\n",
        "\n",
        "# Extract information about the outlier nodes\n",
        "outlier_info = [all_node_ids[i] for i in outlier_indices]\n",
        "\n",
        "outlier_info\n"
      ],
      "metadata": {
        "id": "dyxi-40zrj-5"
      },
      "execution_count": null,
      "outputs": []
    },
    {
      "cell_type": "code",
      "source": [
        "# for all outliers (takes very long to run)\n",
        "\n",
        "\"\"\"\n",
        "all_coordinates = []\n",
        "all_node_ids = []\n",
        "all_outlier_gidx_nid =[]\n",
        "# Loop through parsed_discussion_graphs\n",
        "for i, graph in enumerate(parsed_discussion_graphs):\n",
        "    layout = graph.layout(\"kk\")\n",
        "    coordinates = np.array(layout.coords)\n",
        "    node_ids = [v.index for v in graph.vs]\n",
        "\n",
        "    all_coordinates.extend(coordinates)\n",
        "    all_node_ids.extend([(i, id) for id in node_ids])\n",
        "\n",
        "all_coordinates = np.array(all_coordinates)\n",
        "\n",
        "# Calculate mean and standard deviation\n",
        "mean_coord = np.mean(all_coordinates, axis=0)\n",
        "std_coord = np.std(all_coordinates, axis=0)\n",
        "\n",
        "# Find outlier\n",
        "outliers = np.where(np.abs(all_coordinates - mean_coord) > 3 * std_coord)\n",
        "outlier_indices = np.unique(outliers[0])\n",
        "\n",
        "outlier_info = [all_node_ids[i] for i in outlier_indices]\n",
        "print(\"Outliers found in the following graphs and nodes:\")\n",
        "for graph_idx, node_id in outlier_info:\n",
        "    print(f\"Graph Index: {graph_idx}, Node ID: {node_id}\")\n",
        "    all_outlier_gidx_nid.append((graph_idx,node_id))\n",
        "\"\"\""
      ],
      "metadata": {
        "id": "XrY6U1SGqMzz"
      },
      "execution_count": null,
      "outputs": []
    },
    {
      "cell_type": "markdown",
      "source": [
        "Assuming outlier_graph_index is the index of the outlier graph and outlier_node_id is the ID of the outlier node"
      ],
      "metadata": {
        "id": "C20MedVKt4vd"
      }
    },
    {
      "cell_type": "code",
      "source": [
        "def investigate_outlier_node(graphs, outlier_graph_index, outlier_node_id, theme_node_id):\n",
        "    \"\"\"\n",
        "    Investigates a given node in a given graph.\n",
        "\n",
        "    Parameters:\n",
        "    - graphs: list of igraph.Graph objects\n",
        "    - graph_index: index of the graph in the list where the node is located\n",
        "    - node_id: ID of the node to investigate\n",
        "\n",
        "    Returns:\n",
        "    None\n",
        "    \"\"\"\n",
        "    graph = graphs[outlier_graph_index]  # Get the graph object based on the index\n",
        "\n",
        "    # Find theme node and outlier node by iterating through the graph's nodes\n",
        "    theme_node, outlier_node = None, None\n",
        "    for node in graph.vs:\n",
        "        if node.index == theme_node_id:\n",
        "            theme_node = node\n",
        "        if node.index == outlier_node_id:\n",
        "            outlier_node = node\n",
        "        if theme_node and outlier_node:\n",
        "            break\n",
        "\n",
        "    if theme_node:\n",
        "        print(f\"Theme Node Info: {theme_node.attributes()}\")\n",
        "        print()\n",
        "    else:\n",
        "        print(\"Theme node not found.\")\n",
        "\n",
        "    if outlier_node is None:\n",
        "        print(\"Outlier node not found.\")\n",
        "        return\n",
        "\n",
        "    # Find related nodes (both parent and child)\n",
        "    related_nodes = graph.neighbors(outlier_node, mode='all')\n",
        "\n",
        "    # Nodes directly responded to by the outlier\n",
        "    parent_nodes = graph.neighbors(outlier_node, mode='in')\n",
        "\n",
        "    # Sort related nodes to maintain a logical conversation order\n",
        "    sorted_related_nodes = sorted(related_nodes)\n",
        "\n",
        "    # Print outlier and related nodes\n",
        "    print(f\"Outlier Node Info: {outlier_node.attributes()}\")\n",
        "    for node_id in sorted_related_nodes:\n",
        "        node = graph.vs[node_id]\n",
        "        additional_text = \" (responded to by outlier)\" if node_id in parent_nodes else \"\"\n",
        "        print(f\"Related Node Info: {node.attributes()}{additional_text}\")\n",
        "\n",
        "# Investigate the first three outlier nodes for demonstration\n",
        "for theme_idx, node_idx, theme_node_idx in [(3, 514, 151), (2, 9, 151), (2, 10, 151)]:\n",
        "    print(f\"Investigating Outlier-Node {node_idx} in Theme {theme_idx + 1}\")\n",
        "    print(\"=\"*50)\n",
        "    investigate_outlier_node(parsed_discussion_graphs, theme_idx, node_idx, theme_node_idx)\n",
        "    print(\"\\n\")\n"
      ],
      "metadata": {
        "id": "qBWg1loi-fGI"
      },
      "execution_count": null,
      "outputs": []
    },
    {
      "cell_type": "code",
      "source": [],
      "metadata": {
        "id": "4xjsiTF0Ko_m"
      },
      "execution_count": null,
      "outputs": []
    },
    {
      "cell_type": "markdown",
      "source": [
        "##### Conclusion: Identifying Outliers (Part 1)\n",
        "\n",
        "Based on our investigations, we hypothesize that an outlier is a claim that deviates significantly from the common themes or perspectives within a discussion. Here are a few examples:\n",
        "\n",
        "<br/>\n",
        "    \n",
        "     \n",
        "   \n",
        "#### Outlier 1: 801.2113\n",
        "**Point:** Scientific evidence against capital punishment.\n",
        "\n",
        "**Why Unconventional:** While most claims in the discussion focus on the ethical or legal aspects of capital punishment, this claim introduces a scientific perspective, making it an outlier in a predominantly ethics-based discussion.\n",
        "\n",
        "\n",
        "---\n",
        "\n",
        "\n",
        "#### Outlier 2: 486.10\n",
        "**Point:** Questioning the defensive nature of military equipment.\n",
        "\n",
        "**Why Unconventional:** This claim deviates from the common discussion around the utility or morality of autonomous killing machines (AKMs). Instead, it questions the basic premise of what counts as \"defensive,\" challenging the framing of the entire discussion.\n",
        "\n",
        "\n",
        "---\n",
        "\n",
        "\n",
        "\n",
        "#### Outlier 3: 486.11\n",
        "**Point:** Combining ethical and practical concerns about autonomous systems.\n",
        "\n",
        "**Why Unconventional:** While many claims address either the ethical implications or the functional utility of AKMs, this claim uniquely combines both aspects, making it an outlier.\n",
        "\n",
        "---\n",
        "<br/>\n",
        "<br/>\n",
        "\n",
        "**Note:** Further investigation may be needed to fully understand the unique characteristics of these outlier points. (TODO)\n"
      ],
      "metadata": {
        "id": "U_a8vasqKpsf"
      }
    },
    {
      "cell_type": "markdown",
      "source": [
        "# Candidate Features to Probe"
      ],
      "metadata": {
        "collapsed": false,
        "id": "1WZwNNYTMvPh"
      }
    },
    {
      "cell_type": "markdown",
      "source": [
        "***(order is still irrelevant)***\n",
        "\n",
        "Following features can potentially used to probe the ability of language models to follow discussions:\n",
        "## 1. Discussion Structure (Depth and Breadth)\n",
        "**Relevance**: Understanding the structural complexity of discussions is crucial for designing tests for Language Models (LLMs). For instance, deeper discussions may require more advanced attention mechanisms in the models.\n",
        "\n",
        "## 2. Author Engagement (Multiple Discussions)\n",
        "**Relevance**: Evaluating whether authors engage in multiple discussions is important for assessing a model's ability to follow context switches or diversify topics.\n",
        "\n",
        "## 3. Discussion Balance (Pro vs Con)\n",
        "**Relevance**: If discussions are highly polarized, LLMs should be capable of recognizing and adapting to these stances.\n",
        "\n",
        "## 4. Author Dominance\n",
        "**Relevance**: Identifying dominant authors is crucial for understanding potential biases in the data, which LLMs might inherit.\n",
        "\n",
        "## 5. Discussion Evolution (Time Analysis)\n",
        "**Relevance**: Tracking how discussions evolve over time is important for LLMs to understand the flow and relevance of claims.\n",
        "\n",
        "## 6. Response Time\n",
        "**Relevance**: The speed of responses, whether quick or delayed, could indicate the urgency or thoughtfulness required in a discussion, a feature LLMs should ideally recognize.\n",
        "\n",
        "## 7. Topic Clustering\n",
        "**Relevance**: Understanding the major themes in the dataset allows us to tailor LLM probing tasks more effectively.\n",
        "\n",
        "\n",
        "---\n",
        "\n",
        "## 8. Subgraphs\n",
        " a probing task could be to test a model's ability to identify whether two claims are part of the same discussion sub-thread or not.\n",
        "\n",
        "Probing Task: \"Are these claims part of the same sub-discussion?\"\n",
        "Data Preparation:\n",
        "\n",
        "X: Pairs of claims (node texts) from the graph.\n",
        "y: Label indicating if they are part of the same island (1) or different islands (0).\n",
        "\n",
        "## 9. Pro Base Claim or Con Base Claim  \n",
        "\n"
      ],
      "metadata": {
        "collapsed": false,
        "id": "-Fb4DVABMvPh"
      }
    },
    {
      "cell_type": "code",
      "source": [
        "import igraph as ig\n",
        "import gc\n",
        "import pickle\n",
        "\n",
        "# Find root claim based on in-degree\n",
        "def find_root_claim(discussion_graph):\n",
        "    in_degrees = discussion_graph.indegree()\n",
        "    return in_degrees.index(max(in_degrees))\n",
        "\n",
        "# Extract claims and their depths\n",
        "def extract_claims_with_depth(discussion_graph, output_file):\n",
        "    root_claim_index = find_root_claim(discussion_graph)\n",
        "    stack = [(discussion_graph.vs[root_claim_index], 0)]\n",
        "\n",
        "    with open(output_file, \"ab\") as f:\n",
        "        while stack:\n",
        "            current_node, current_depth = stack.pop()\n",
        "            claim_data = (current_node['name']['text'], current_depth)\n",
        "            pickle.dump(claim_data, f)\n",
        "\n",
        "            for neighbor_index in discussion_graph.successors(current_node.index):\n",
        "                stack.append((discussion_graph.vs[neighbor_index], current_depth + 1))\n",
        "\n",
        "    gc.collect()\n",
        "\n",
        "# Process all graphs\n",
        "def process_all_graphs(discussion_graphs, batch_size=1):\n",
        "    for i, graph in enumerate(discussion_graphs):\n",
        "        if graph is not None:\n",
        "            output_file = f\"claims_with_depth_batch_{i+1}.pkl\"\n",
        "            extract_claims_with_depth(graph, output_file)\n",
        "\n",
        "        if (i + 1) % batch_size == 0:\n",
        "            gc.collect()\n",
        "\n",
        "# Replace this with your list of graphs\n",
        "parsed_discussion_graphs = [your_parsed_graphs_here]\n",
        "\n",
        "# Process all graphs\n",
        "process_all_graphs(parsed_discussion_graphs)\n"
      ],
      "metadata": {
        "id": "bfNW2KO4FNpd"
      },
      "execution_count": null,
      "outputs": []
    },
    {
      "cell_type": "code",
      "source": [
        "# OUT OF MEMORY (RAM) ISSUE ON 51.0 GB LIMIT\n",
        "import igraph as ig\n",
        "import gc\n",
        "import pickle\n",
        "\n",
        "# Iterative DFS to find depths\n",
        "def extract_claims_with_depth(discussion_graph):\n",
        "    claims_with_depth = []\n",
        "    stack = []\n",
        "    root_claim_index = find_root_claim(discussion_graph)\n",
        "    stack.append((discussion_graph.vs[root_claim_index], 0))\n",
        "\n",
        "    while stack:\n",
        "        current_node, current_depth = stack.pop()\n",
        "        claims_with_depth.append((current_node['name']['text'], current_depth))\n",
        "\n",
        "        for neighbor_index in discussion_graph.successors(current_node.index):\n",
        "            stack.append((discussion_graph.vs[neighbor_index], current_depth + 1))\n",
        "\n",
        "    return claims_with_depth\n",
        "\n",
        "# Function to find the root claim in a graph\n",
        "def find_root_claim(discussion_graph):\n",
        "    in_degrees = discussion_graph.indegree()\n",
        "    return in_degrees.index(max(in_degrees))\n",
        "\n",
        "# Process all graphs and save the claims and their depths\n",
        "def extract_claims_with_depth_all_graphs(discussion_graphs, batch_size=5):\n",
        "    batch = []\n",
        "    for i, graph in enumerate(discussion_graphs):\n",
        "        if graph:\n",
        "            batch.append(extract_claims_with_depth(graph))\n",
        "\n",
        "        # Save the current batch and clear memory\n",
        "        if (i + 1) % batch_size == 0:\n",
        "            with open(f\"claims_with_depth_batch_{i//batch_size + 1}.pkl\", \"wb\") as f:\n",
        "                pickle.dump(batch, f)\n",
        "            batch = []\n",
        "            gc.collect()\n",
        "\n",
        "# Sample discussion graphs (replace this with your actual data)\n",
        "sample_graphs = parsed_discussion_graphs\n",
        "\n",
        "# Extract and save the claims with depths\n",
        "extract_claims_with_depth_all_graphs(sample_graphs)\n"
      ],
      "metadata": {
        "id": "r6C6p7yR5J-1"
      },
      "execution_count": null,
      "outputs": []
    },
    {
      "cell_type": "code",
      "source": [
        "# OUT OF MEMORY (RAM) ISSUE ON 51.0 GB LIMIT\n",
        "import gc  # garbage collection\n",
        "import pickle\n",
        "\n",
        "def extract_claims_with_depth_all_graphs(discussion_graphs, save_path, batch_size=1):\n",
        "    batch_count = 0\n",
        "\n",
        "    for discussion_graph in discussion_graphs:\n",
        "        if discussion_graph is None:\n",
        "            continue\n",
        "\n",
        "        stack = []\n",
        "        claims_with_depth = []\n",
        "\n",
        "        root_claim_index = discussion_graph.indegree().index(max(discussion_graph.indegree()))\n",
        "        stack.append((discussion_graph.vs[root_claim_index], 0))\n",
        "\n",
        "        while stack:\n",
        "            node, depth = stack.pop()\n",
        "            claims_with_depth.append((node['name']['text'], depth))\n",
        "\n",
        "            for neighbor_index in discussion_graph.successors(node.index):\n",
        "                stack.append((discussion_graph.vs[neighbor_index], depth + 1))\n",
        "\n",
        "        batch_count += 1\n",
        "        if batch_count % batch_size == 0:\n",
        "            with open(f\"{save_path}_batch_{batch_count}.pkl\", \"wb\") as f:\n",
        "                pickle.dump(claims_with_depth, f)\n",
        "\n",
        "            claims_with_depth.clear()  # Clear the list\n",
        "            gc.collect()  # Run garbage collection\n",
        "\n",
        "save_path = \"/content/drive/MyDrive/Can Language Models Follow Discussions?/Data - kialo.com/all_claims_with_depth\"\n",
        "extract_claims_with_depth_all_graphs(parsed_discussion_graphs, save_path)\n",
        "\n"
      ],
      "metadata": {
        "id": "N2dO-EZych7r"
      },
      "execution_count": null,
      "outputs": []
    },
    {
      "cell_type": "code",
      "source": [],
      "metadata": {
        "id": "BfpAWla1CI_R"
      },
      "execution_count": null,
      "outputs": []
    }
  ],
  "metadata": {
    "kernelspec": {
      "display_name": "Python 3",
      "name": "python3"
    },
    "language_info": {
      "codemirror_mode": {
        "name": "ipython",
        "version": 2
      },
      "file_extension": ".py",
      "mimetype": "text/x-python",
      "name": "python",
      "nbconvert_exporter": "python",
      "pygments_lexer": "ipython2",
      "version": "2.7.6"
    },
    "colab": {
      "provenance": [],
      "gpuType": "T4",
      "toc_visible": true,
      "machine_shape": "hm",
      "include_colab_link": true
    },
    "accelerator": "GPU"
  },
  "nbformat": 4,
  "nbformat_minor": 0
}